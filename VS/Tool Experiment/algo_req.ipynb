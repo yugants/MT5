{
 "cells": [
  {
   "cell_type": "code",
   "execution_count": 4,
   "metadata": {},
   "outputs": [],
   "source": [
    "import MetaTrader5 as mt5"
   ]
  },
  {
   "cell_type": "code",
   "execution_count": 67,
   "metadata": {},
   "outputs": [
    {
     "name": "stdout",
     "output_type": "stream",
     "text": [
      "True\n"
     ]
    }
   ],
   "source": [
    "if not mt5.initialize(\n",
    "            login=114999529, server=\"Exness-MT5Trial6\", password=\"Mypassword$1234\"\n",
    "        ):\n",
    "            print(\"initialize() failed, error code =\", mt5.last_error())\n",
    "            quit()\n",
    "\n",
    "login = 114999529\n",
    "password = \"Mypassword$1234\"\n",
    "server = \"Exness-MT5Trial6\"\n",
    "print(mt5.login(login, password, server))"
   ]
  },
  {
   "cell_type": "code",
   "execution_count": 8,
   "metadata": {},
   "outputs": [
    {
     "name": "stdout",
     "output_type": "stream",
     "text": [
      "AccountInfo(login=114999529, trade_mode=0, leverage=1000, limit_orders=1024, margin_so_mode=0, trade_allowed=True, trade_expert=True, margin_mode=2, currency_digits=2, fifo_close=False, balance=9999.95, credit=0.0, profit=-0.05, equity=9999.9, margin=1.05, margin_free=9998.85, margin_level=952371.4285714284, margin_so_call=30.0, margin_so_so=0.0, margin_initial=0.0, margin_maintenance=0.0, assets=0.0, liabilities=0.0, commission_blocked=0.0, name='Pro', server='Exness-MT5Trial6', currency='USD', company='Exness Technologies Ltd')\n",
      "\n",
      "login:  114999529\n",
      "balance:  9999.95\n",
      "equity:  9999.9\n"
     ]
    }
   ],
   "source": [
    "# get account info\n",
    "account_info = mt5.account_info()\n",
    "print(account_info)\n",
    "\n",
    "# getting specific account data\n",
    "login_number = account_info.login\n",
    "balance = account_info.balance\n",
    "equity = account_info.equity\n",
    "\n",
    "print()\n",
    "print('login: ', login_number)\n",
    "print('balance: ', balance)\n",
    "print('equity: ', equity)"
   ]
  },
  {
   "cell_type": "code",
   "execution_count": 6,
   "metadata": {},
   "outputs": [
    {
     "name": "stdout",
     "output_type": "stream",
     "text": [
      "OrderSendResult(retcode=10009, deal=249317841, order=439349892, volume=0.01, price=1.05418, bid=1.0541200000000002, ask=1.0541800000000001, comment='python script op', request_id=1109323563, retcode_external=0, request=TradeRequest(action=1, magic=234000, order=0, symbol='EURUSD', volume=0.01, price=1.05418, stoplimit=0.0, sl=0.0, tp=0.0, deviation=20, type=0, type_filling=0, type_time=0, expiration=0, comment='python script open', position=0, position_by=0))\n"
     ]
    }
   ],
   "source": [
    "# Execute order\n",
    "request = {\n",
    "    \"action\": mt5.TRADE_ACTION_DEAL,\n",
    "    \"symbol\": \"EURUSD\",\n",
    "    \"volume\": 0.01, \n",
    "    \"type\": mt5.ORDER_TYPE_BUY,\n",
    "    \"price\": mt5.symbol_info_tick(\"EURUSD\").ask,\n",
    "    \"sl\": 0.0, \n",
    "    \"tp\": 0.0, \n",
    "    \"deviation\": 20, \n",
    "    \"magic\": 234000, \n",
    "    \"comment\": \"python script open\",\n",
    "    \"type_time\": mt5.ORDER_TIME_GTC,\n",
    "    \"type_filling\": mt5.ORDER_FILLING_FOK,  # Change the filling mode here\n",
    "}\n",
    "\n",
    "order = mt5.order_send(request)\n",
    "print(order)"
   ]
  },
  {
   "cell_type": "code",
   "execution_count": 11,
   "metadata": {},
   "outputs": [
    {
     "data": {
      "text/plain": [
       "1"
      ]
     },
     "execution_count": 11,
     "metadata": {},
     "output_type": "execute_result"
    }
   ],
   "source": [
    "# total number of open positions\n",
    "\n",
    "num_positions = mt5.positions_total()\n",
    "num_positions"
   ]
  },
  {
   "cell_type": "code",
   "execution_count": 65,
   "metadata": {},
   "outputs": [
    {
     "name": "stdout",
     "output_type": "stream",
     "text": [
      "{'ticket': 439349892, 'time': 1697163919, 'time_msc': 1697163919888, 'time_update': 1697163919, 'time_update_msc': 1697163919888, 'type': 0, 'magic': 234000, 'identifier': 439349892, 'reason': 3, 'volume': 0.01, 'price_open': 1.05418, 'sl': 1.054, 'tp': 1.057, 'price_current': 1.05479, 'swap': 0.0, 'profit': 0.61, 'symbol': 'EURUSD', 'comment': 'python script op', 'external_id': ''}\n"
     ]
    }
   ],
   "source": [
    "# list of positions\n",
    "\n",
    "positions = mt5.positions_get()\n",
    "# positions\n",
    "\n",
    "# Given tuple\n",
    "data_tuple = positions\n",
    "# Convert the tuple into a dictionary\n",
    "data_dict = {}\n",
    "for item in data_tuple[0]._asdict().items():\n",
    "    data_dict[item[0]] = item[1]\n",
    "\n",
    "# Print the resulting dictionary\n",
    "print(data_dict)"
   ]
  },
  {
   "cell_type": "code",
   "execution_count": 29,
   "metadata": {},
   "outputs": [
    {
     "name": "stdout",
     "output_type": "stream",
     "text": [
      "retcode=10009  deal=0  order=0\n"
     ]
    }
   ],
   "source": [
    "# Modify the order\n",
    "\n",
    "request = {\n",
    "'action' : mt5.TRADE_ACTION_SLTP,  # Type of trade operation\n",
    "'position' : 439349892, # Ticket of the position\n",
    "'symbol' : 'EURUSD',  # Symbol\n",
    "'sl' : 1.05400,  # Stop Loss of the position\n",
    "'tp' : 1.05700,  # Take Profit of the position\n",
    "'magic' : 234000  # MagicNumber of the position\n",
    "}\n",
    "\n",
    "# Send the request\n",
    "try:\n",
    "    result = mt5.order_send(request)\n",
    "    if result.retcode != mt5.TRADE_RETCODE_DONE:\n",
    "        print(\"OrderSend error %d\" % result.retcode)\n",
    "\n",
    "\n",
    "except Exception as e:\n",
    "    print(f\"MetaTrader5Error: {e}\")\n",
    "\n",
    "# Information about the operation\n",
    "print(\"retcode=%d  deal=%d  order=%d\" % (result.retcode, result.deal, result.order))\n",
    "\n"
   ]
  },
  {
   "cell_type": "code",
   "execution_count": 69,
   "metadata": {},
   "outputs": [
    {
     "data": {
      "text/plain": [
       "True"
      ]
     },
     "execution_count": 69,
     "metadata": {},
     "output_type": "execute_result"
    }
   ],
   "source": [
    "# Close Position\n",
    "\n",
    "mt5.Close('EURUSD',ticket=439349892)"
   ]
  },
  {
   "cell_type": "code",
   "execution_count": null,
   "metadata": {},
   "outputs": [],
   "source": []
  }
 ],
 "metadata": {
  "kernelspec": {
   "display_name": "Python 3",
   "language": "python",
   "name": "python3"
  },
  "language_info": {
   "codemirror_mode": {
    "name": "ipython",
    "version": 3
   },
   "file_extension": ".py",
   "mimetype": "text/x-python",
   "name": "python",
   "nbconvert_exporter": "python",
   "pygments_lexer": "ipython3",
   "version": "3.8.1"
  }
 },
 "nbformat": 4,
 "nbformat_minor": 2
}
