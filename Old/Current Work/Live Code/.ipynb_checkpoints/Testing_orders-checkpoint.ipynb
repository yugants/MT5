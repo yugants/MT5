{
 "cells": [
  {
   "cell_type": "code",
   "execution_count": 1,
   "metadata": {},
   "outputs": [],
   "source": [
    "import MetaTrader5 as mt5"
   ]
  },
  {
   "cell_type": "code",
   "execution_count": 2,
   "metadata": {},
   "outputs": [
    {
     "data": {
      "text/plain": [
       "True"
      ]
     },
     "execution_count": 2,
     "metadata": {},
     "output_type": "execute_result"
    }
   ],
   "source": [
    "if not mt5.initialize(\n",
    "                login=115188898, server=\"Exness-MT5Trial6\", password=\"Exness$1234\"\n",
    "            ):\n",
    "                print(\"initialize() failed, error code =\", mt5.last_error())\n",
    "                quit()\n",
    "\n",
    "login = 115188898\n",
    "password = \"Exness$1234\"\n",
    "server = \"Exness-MT5Trial6\"\n",
    "mt5.login(login, password, server)"
   ]
  },
  {
   "cell_type": "code",
   "execution_count": 3,
   "metadata": {},
   "outputs": [
    {
     "ename": "AttributeError",
     "evalue": "module 'MetaTrader5' has no attribute 'Client'",
     "output_type": "error",
     "traceback": [
      "\u001b[1;31m---------------------------------------------------------------------------\u001b[0m",
      "\u001b[1;31mAttributeError\u001b[0m                            Traceback (most recent call last)",
      "Cell \u001b[1;32mIn [3], line 2\u001b[0m\n\u001b[0;32m      1\u001b[0m \u001b[38;5;66;03m# create a client instance\u001b[39;00m\n\u001b[1;32m----> 2\u001b[0m client \u001b[38;5;241m=\u001b[39m \u001b[43mmt5\u001b[49m\u001b[38;5;241;43m.\u001b[39;49m\u001b[43mClient\u001b[49m()\n\u001b[0;32m      4\u001b[0m \u001b[38;5;66;03m# get account information\u001b[39;00m\n\u001b[0;32m      5\u001b[0m account_info \u001b[38;5;241m=\u001b[39m client\u001b[38;5;241m.\u001b[39mGetAccountInfo()\n",
      "\u001b[1;31mAttributeError\u001b[0m: module 'MetaTrader5' has no attribute 'Client'"
     ]
    }
   ],
   "source": [
    "# create a client instance\n",
    "client = mt5.Client()\n",
    "\n",
    "# get account information\n",
    "account_info = client.GetAccountInfo()\n",
    "\n",
    "# print account information\n",
    "print(account_info.AccountName)\n",
    "print(account_info.Balance)\n",
    "print(account_info.MarginLevel)"
   ]
  },
  {
   "cell_type": "code",
   "execution_count": 4,
   "metadata": {},
   "outputs": [
    {
     "name": "stdout",
     "output_type": "stream",
     "text": [
      "None\n"
     ]
    }
   ],
   "source": [
    "# open position\n",
    "\n",
    "request = {\n",
    "    \"action\": mt5.TRADE_ACTION_DEAL,\n",
    "    \"symbol\": 'EURUSD',\n",
    "    \"volume\": 0.01, \n",
    "    \"type\": mt5.ORDER_TYPE_BUY,\n",
    "    \"price\": mt5.symbol_info_tick('EURUSD').ask,\n",
    "    \"sl\": 0, \n",
    "    \"tp\": 0,\n",
    "    \"deviation\": 10, \n",
    "    \"magic\": 234001,\n",
    "    \"comment\": \"python script buy\",\n",
    "    \"type_time\": mt5.ORDER_TIME_GTC,\n",
    "    \"type_filling\": mt5.ORDER_FILLING_IOC,  # Change the filling mode here\n",
    "    }\n",
    "\n",
    "order = mt5.order_send(request)\n",
    "print(order)"
   ]
  },
  {
   "cell_type": "code",
   "execution_count": null,
   "metadata": {},
   "outputs": [],
   "source": []
  }
 ],
 "metadata": {
  "kernelspec": {
   "display_name": "Python 3 (ipykernel)",
   "language": "python",
   "name": "python3"
  },
  "language_info": {
   "codemirror_mode": {
    "name": "ipython",
    "version": 3
   },
   "file_extension": ".py",
   "mimetype": "text/x-python",
   "name": "python",
   "nbconvert_exporter": "python",
   "pygments_lexer": "ipython3",
   "version": "3.8.1"
  }
 },
 "nbformat": 4,
 "nbformat_minor": 2
}
