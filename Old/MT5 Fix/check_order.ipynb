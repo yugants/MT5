{
 "cells": [
  {
   "cell_type": "code",
   "execution_count": 1,
   "metadata": {},
   "outputs": [
    {
     "data": {
      "text/plain": [
       "True"
      ]
     },
     "execution_count": 1,
     "metadata": {},
     "output_type": "execute_result"
    }
   ],
   "source": [
    "import pandas as pd\n",
    "import MetaTrader5 as mt5\n",
    "from datetime import datetime, timedelta\n",
    "import pytz\n",
    "\n",
    "\n",
    "if not mt5.initialize(\n",
    "                    login=114999529, server=\"Exness-MT5Trial6\", password=\"Mypassword$1234\"\n",
    "                ):\n",
    "                    print(\"initialize() failed, error code =\", mt5.last_error())\n",
    "                    quit()\n",
    "\n",
    "login = 114999529\n",
    "password = \"Mypassword$1234\"\n",
    "server = \"Exness-MT5Trial6\"\n",
    "mt5.login(login, password, server)"
   ]
  },
  {
   "cell_type": "code",
   "execution_count": 105,
   "metadata": {},
   "outputs": [
    {
     "data": {
      "text/plain": [
       "1.08697"
      ]
     },
     "execution_count": 105,
     "metadata": {},
     "output_type": "execute_result"
    }
   ],
   "source": [
    "mt5.symbol_info_tick('EURUSD').ask"
   ]
  },
  {
   "cell_type": "code",
   "execution_count": 110,
   "metadata": {},
   "outputs": [],
   "source": [
    "# # TRADE_ACTION_PENDING, ORDER_TYPE_SELL_LIMIT\n",
    "# request = {\n",
    "# \"action\": mt5.TRADE_ACTION_DEAL,\n",
    "# \"symbol\": 'EURUSD',\n",
    "# \"volume\": float(0.01), \n",
    "# \"type\": mt5.ORDER_TYPE_SELL,\n",
    "# \"price\": float(mt5.symbol_info_tick('EURUSD').ask),\n",
    "# \"sl\": float(1.09000), \n",
    "# \"tp\": float(1.08000), \n",
    "# \"deviation\": int(20), \n",
    "# \"magic\": int(113456), \n",
    "# \"comment\": \"python sell\",\n",
    "# \"type_time\": mt5.ORDER_TIME_GTC,\n",
    "# \"type_filling\": mt5.ORDER_FILLING_FOK,  # Change the filling mode here\n",
    "# }"
   ]
  },
  {
   "cell_type": "code",
   "execution_count": 3,
   "metadata": {},
   "outputs": [
    {
     "name": "stdout",
     "output_type": "stream",
     "text": [
      "OrderSendResult(retcode=10009, deal=302984292, order=527996611, volume=0.02, price=1.08381, bid=1.08383, ask=1.0839, comment='python script op', request_id=1385564708, retcode_external=0, request=TradeRequest(action=1, magic=234000, order=0, symbol='EURUSD', volume=0.02, price=1.08381, stoplimit=0.0, sl=0.0, tp=0.0, deviation=20, type=1, type_filling=2, type_time=0, expiration=0, comment='python script open', position=0, position_by=0))\n"
     ]
    }
   ],
   "source": [
    "symbol = 'EURUSD'\n",
    "# SELL\n",
    "lot = 0.02\n",
    "point = mt5.symbol_info(symbol).point\n",
    "price = mt5.symbol_info_tick(symbol).bid\n",
    "deviation = 20\n",
    "request = {\n",
    "    \"action\": mt5.TRADE_ACTION_DEAL,\n",
    "    \"symbol\": symbol,\n",
    "    \"volume\": lot,\n",
    "    \"type\": mt5.ORDER_TYPE_SELL,\n",
    "    \"price\": price,\n",
    "    # \"sl\": price - 100 * point,\n",
    "    # \"tp\": price + 100 * point,\n",
    "    \"deviation\": deviation,\n",
    "    \"magic\": 234000,\n",
    "    \"comment\": \"python script open\",\n",
    "    \"type_time\": mt5.ORDER_TIME_GTC,\n",
    "    \"type_filling\": mt5.ORDER_FILLING_RETURN,\n",
    "}\n",
    " \n",
    "# send a trading request\n",
    "result = mt5.order_send(request)\n",
    "print(result)"
   ]
  },
  {
   "cell_type": "code",
   "execution_count": 122,
   "metadata": {},
   "outputs": [
    {
     "name": "stdout",
     "output_type": "stream",
     "text": [
      "OrderSendResult(retcode=10009, deal=302890354, order=527889410, volume=0.2, price=1.08502, bid=1.0849600000000001, ask=1.08502, comment='python script op', request_id=1385564702, retcode_external=0, request=TradeRequest(action=1, magic=234000, order=0, symbol='EURUSD', volume=0.2, price=1.08502, stoplimit=0.0, sl=0.0, tp=0.0, deviation=20, type=0, type_filling=2, type_time=0, expiration=0, comment='python script open', position=0, position_by=0))\n"
     ]
    }
   ],
   "source": [
    "# BUY\n",
    "lot = 0.2\n",
    "point = mt5.symbol_info(symbol).point\n",
    "price = mt5.symbol_info_tick(symbol).ask\n",
    "deviation = 20\n",
    "request = {\n",
    "    \"action\": mt5.TRADE_ACTION_DEAL,\n",
    "    \"symbol\": symbol,\n",
    "    \"volume\": lot,\n",
    "    \"type\": mt5.ORDER_TYPE_BUY,\n",
    "    \"price\": price,\n",
    "    # \"sl\": price - 100 * point,\n",
    "    # \"tp\": price + 100 * point,\n",
    "    \"deviation\": deviation,\n",
    "    \"magic\": 234000,\n",
    "    \"comment\": \"python script open\",\n",
    "    \"type_time\": mt5.ORDER_TIME_GTC,\n",
    "    \"type_filling\": mt5.ORDER_FILLING_RETURN,\n",
    "}\n",
    " \n",
    "# send a trading request\n",
    "result = mt5.order_send(request)\n",
    "print(result)"
   ]
  },
  {
   "cell_type": "code",
   "execution_count": 111,
   "metadata": {},
   "outputs": [
    {
     "name": "stdout",
     "output_type": "stream",
     "text": [
      "Order Placed:  OrderSendResult(retcode=10021, deal=0, order=0, volume=0.0, price=0.0, bid=0.0, ask=0.0, comment='No prices', request_id=0, retcode_external=0, request=TradeRequest(action=1, magic=113456, order=0, symbol='EURUSD', volume=0.01, price=1.0866500000000001, stoplimit=0.0, sl=1.09, tp=1.08, deviation=20, type=1, type_filling=0, type_time=0, expiration=0, comment='python sell', position=0, position_by=0))\n"
     ]
    }
   ],
   "source": [
    "order = mt5.order_send(request)\n",
    "\n",
    "print('Order Placed: ', order)"
   ]
  },
  {
   "cell_type": "code",
   "execution_count": null,
   "metadata": {},
   "outputs": [],
   "source": []
  },
  {
   "cell_type": "code",
   "execution_count": null,
   "metadata": {},
   "outputs": [],
   "source": []
  }
 ],
 "metadata": {
  "kernelspec": {
   "display_name": "Python 3",
   "language": "python",
   "name": "python3"
  },
  "language_info": {
   "codemirror_mode": {
    "name": "ipython",
    "version": 3
   },
   "file_extension": ".py",
   "mimetype": "text/x-python",
   "name": "python",
   "nbconvert_exporter": "python",
   "pygments_lexer": "ipython3",
   "version": "3.8.1"
  }
 },
 "nbformat": 4,
 "nbformat_minor": 2
}
