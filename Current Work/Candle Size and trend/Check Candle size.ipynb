{
 "cells": [
  {
   "cell_type": "code",
   "execution_count": 14,
   "id": "0286ee7e",
   "metadata": {},
   "outputs": [],
   "source": [
    "import talib\n",
    "import pandas as pd\n",
    "import numpy as np\n",
    "from datetime import datetime, timedelta\n",
    "import datetime\n",
    "import MetaTrader5 as mt5\n",
    "import pandas_ta as ta\n",
    "from scipy.signal import savgol_filter, find_peaks\n",
    "\n",
    "\n",
    "class LiveTrade:\n",
    "    def __init__(self, instrument):\n",
    "        #         self.df = pd.DataFrame(yf.download(tickers=instrument, start = '2022-10-01', end = '2023-06-01', interval='1h'))\n",
    "        if not mt5.initialize(\n",
    "            login=114999529, server=\"Exness-MT5Trial6\", password=\"Mypassword$1234\"\n",
    "        ):\n",
    "            print(\"initialize() failed, error code =\", mt5.last_error())\n",
    "            quit()\n",
    "\n",
    "        login = 114999529\n",
    "        password = \"Mypassword$1234\"\n",
    "        server = \"Exness-MT5Trial6\"\n",
    "        mt5.login(login, password, server)\n",
    "\n",
    "        rate = mt5.copy_rates_from(\n",
    "            instrument[0], mt5.TIMEFRAME_M15, datetime.datetime.now(), instrument[2]\n",
    "        )\n",
    "        nf = pd.DataFrame(rate)\n",
    "\n",
    "        nf[\"date\"] = pd.to_datetime(nf[\"time\"], unit=\"s\")\n",
    "\n",
    "        nf.set_index(np.arange(len(nf)), inplace=True)\n",
    "        nf = nf.drop([\"spread\", \"real_volume\", \"tick_volume\", \"time\"], axis=\"columns\")\n",
    "\n",
    "        self.df =nf.copy()\n",
    "        \n",
    "        \n",
    "    def calc_size(self):\n",
    "        \n",
    "        \n",
    "        # Calculate candle sizes\n",
    "        self.df['Candle_Size'] = abs(self.df['close'] - self.df['open'])\n",
    "\n",
    "        # Calculate the average candle size\n",
    "        average_candle_size = self.df['Candle_Size'].mean() \n",
    "\n",
    "        print(average_candle_size/ self.df.iloc[-1]['open'] * 100)\n",
    "        \n"
   ]
  },
  {
   "cell_type": "code",
   "execution_count": 15,
   "id": "c96f68de",
   "metadata": {},
   "outputs": [
    {
     "name": "stdout",
     "output_type": "stream",
     "text": [
      "0.028635026031842252\n"
     ]
    }
   ],
   "source": [
    "eurusd = LiveTrade(['EURUSD', 10, 500])\n",
    "\n",
    "eurusd.calc_size()"
   ]
  },
  {
   "cell_type": "code",
   "execution_count": null,
   "id": "5f827bb6",
   "metadata": {},
   "outputs": [],
   "source": []
  }
 ],
 "metadata": {
  "kernelspec": {
   "display_name": "Python 3 (ipykernel)",
   "language": "python",
   "name": "python3"
  },
  "language_info": {
   "codemirror_mode": {
    "name": "ipython",
    "version": 3
   },
   "file_extension": ".py",
   "mimetype": "text/x-python",
   "name": "python",
   "nbconvert_exporter": "python",
   "pygments_lexer": "ipython3",
   "version": "3.8.1"
  }
 },
 "nbformat": 4,
 "nbformat_minor": 5
}
