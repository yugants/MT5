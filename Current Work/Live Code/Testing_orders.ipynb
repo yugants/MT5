{
 "cells": [
  {
   "cell_type": "code",
   "execution_count": 1,
   "metadata": {},
   "outputs": [],
   "source": [
    "import MetaTrader5 as mt5"
   ]
  },
  {
   "cell_type": "code",
   "execution_count": 2,
   "metadata": {},
   "outputs": [
    {
     "data": {
      "text/plain": [
       "True"
      ]
     },
     "execution_count": 2,
     "metadata": {},
     "output_type": "execute_result"
    }
   ],
   "source": [
    "if not mt5.initialize(\n",
    "                login=115188898, server=\"Exness-MT5Trial6\", password=\"Exness$1234\"\n",
    "            ):\n",
    "                print(\"initialize() failed, error code =\", mt5.last_error())\n",
    "                quit()\n",
    "\n",
    "login = 115188898\n",
    "password = \"Exness$1234\"\n",
    "server = \"Exness-MT5Trial6\"\n",
    "mt5.login(login, password, server)"
   ]
  },
  {
   "cell_type": "code",
   "execution_count": 5,
   "metadata": {},
   "outputs": [
    {
     "name": "stdout",
     "output_type": "stream",
     "text": [
      "AccountInfo(login=115188898, trade_mode=0, leverage=1000, limit_orders=1024, margin_so_mode=0, trade_allowed=True, trade_expert=True, margin_mode=2, currency_digits=2, fifo_close=False, balance=10000.0, credit=0.0, profit=0.0, equity=10000.0, margin=0.0, margin_free=10000.0, margin_level=0.0, margin_so_call=30.0, margin_so_so=0.0, margin_initial=0.0, margin_maintenance=0.0, assets=0.0, liabilities=0.0, commission_blocked=0.0, name='Pro', server='Exness-MT5Trial6', currency='USD', company='Exness Technologies Ltd')\n"
     ]
    }
   ],
   "source": [
    "account_info=mt5.account_info()\n",
    "# display trading account data 'as is'\n",
    "print(account_info)\n",
    "# display trading account data in the form of a dictionary\n",
    "# print(\"Show account_info()._asdict():\")"
   ]
  },
  {
   "cell_type": "code",
   "execution_count": 10,
   "metadata": {},
   "outputs": [
    {
     "name": "stdout",
     "output_type": "stream",
     "text": [
      "OrderSendResult(retcode=10009, deal=279722002, order=494806369, volume=0.1, price=1.06702, bid=1.0669600000000001, ask=1.06702, comment='python script bu', request_id=2425516964, retcode_external=0, request=TradeRequest(action=1, magic=234001, order=0, symbol='EURUSD', volume=0.1, price=1.06702, stoplimit=0.0, sl=0.0, tp=0.0, deviation=20, type=0, type_filling=1, type_time=0, expiration=0, comment='python script buy', position=0, position_by=0))\n"
     ]
    }
   ],
   "source": [
    "# open position\n",
    "\n",
    "request = {\n",
    "    \"action\": mt5.TRADE_ACTION_DEAL,\n",
    "    \"symbol\": 'EURUSD',\n",
    "    \"volume\": float(0.1), \n",
    "    \"type\": mt5.ORDER_TYPE_BUY,\n",
    "    \"price\": mt5.symbol_info_tick('EURUSD').ask,\n",
    "    \"sl\": float(0), \n",
    "    \"tp\": float(0),\n",
    "    \"deviation\": 20, \n",
    "    \"magic\": 234001,\n",
    "    \"comment\": \"python script buy\",\n",
    "    \"type_time\": mt5.ORDER_TIME_GTC,\n",
    "    \"type_filling\": mt5.ORDER_FILLING_IOC,  # Change the filling mode here\n",
    "    }\n",
    "\n",
    "order = mt5.order_send(request)\n",
    "print(order)"
   ]
  },
  {
   "cell_type": "code",
   "execution_count": 7,
   "metadata": {},
   "outputs": [
    {
     "data": {
      "text/plain": [
       "1.06714"
      ]
     },
     "execution_count": 7,
     "metadata": {},
     "output_type": "execute_result"
    }
   ],
   "source": [
    "mt5.symbol_info_tick('EURUSD').ask"
   ]
  },
  {
   "cell_type": "code",
   "execution_count": null,
   "metadata": {},
   "outputs": [],
   "source": []
  }
 ],
 "metadata": {
  "kernelspec": {
   "display_name": "Python 3 (ipykernel)",
   "language": "python",
   "name": "python3"
  },
  "language_info": {
   "codemirror_mode": {
    "name": "ipython",
    "version": 3
   },
   "file_extension": ".py",
   "mimetype": "text/x-python",
   "name": "python",
   "nbconvert_exporter": "python",
   "pygments_lexer": "ipython3",
   "version": "3.8.1"
  }
 },
 "nbformat": 4,
 "nbformat_minor": 2
}
