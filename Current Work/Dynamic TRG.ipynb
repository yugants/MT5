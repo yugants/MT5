{
 "cells": [
  {
   "cell_type": "code",
   "execution_count": 1,
   "id": "3459ba12",
   "metadata": {},
   "outputs": [],
   "source": [
    "import pandas as pd\n",
    "import pandas_ta as ta\n",
    "import pandas as pd\n",
    "import numpy as np\n",
    "import plotly.graph_objects as go\n",
    "from scipy import stats\n",
    "import datetime\n",
    "import MetaTrader5 as mt5"
   ]
  },
  {
   "cell_type": "code",
   "execution_count": 2,
   "id": "3485fb9e",
   "metadata": {},
   "outputs": [],
   "source": [
    "if not mt5.initialize(login=40987, server=\"CabanaCapitals-Demo\",password=\"Mypassword$1234\"):\n",
    "    print(\"initialize() failed, error code =\",mt5.last_error())\n",
    "    quit()\n",
    "\n",
    "login = 40987\n",
    "password = 'Mypassword$1234'\n",
    "server = 'CabanaCapitals-Demo'\n",
    "\n",
    "mt5.login(login, password, server)\n",
    "\n",
    "rate = mt5.copy_rates_from('EURUSD', mt5.TIMEFRAME_M15, datetime.datetime.now(), 24000)\n",
    "df = pd.DataFrame(rate)\n",
    "\n",
    "df['date']=pd.to_datetime(df['time'], unit='s')\n",
    "\n",
    "df.set_index(np.arange(len(df)), inplace = True)\n",
    "df = df.drop(['spread', 'real_volume', 'tick_volume', 'time'], axis='columns')\n",
    "\n",
    "# df['RSI'] = ta.rsi(df.close, length=12)\n",
    "# df['EMA'] = ta.ema(df.close, length=150)\n",
    "\n",
    "\n",
    "# df=df[-5000:]\n",
    "\n",
    "df.set_index(np.arange(len(df)), inplace = True)\n",
    "\n"
   ]
  },
  {
   "cell_type": "code",
   "execution_count": null,
   "id": "6d96cd8a",
   "metadata": {},
   "outputs": [],
   "source": [
    "# Troughs and Peaks\n",
    "\n",
    "# Assuming you have already defined df\n",
    "df = df[-500:]\n",
    "\n",
    "\n",
    "# Apply Savitzky-Golay filter to smooth the 'close' data\n",
    "df['close_smooth'] = savgol_filter(df.close, 11, 10)\n",
    "\n",
    "# Find peaks and troughs\n",
    "atr = df.atr.iloc[-1]\n",
    "peaks_idx, _ = find_peaks(df.close_smooth, distance=10, width=1, prominence=0.2 * atr)\n",
    "troughs_idx, _ = find_peaks(-1 * df.close_smooth, distance=10, width=1, prominence=0.2 * atr)\n",
    "\n",
    "\n",
    "\n",
    "\n",
    "# Find 1:2.5 and 1:1.5 price\n",
    "# If any peaks or trougs between that return that as TRG\n",
    "# For Breakeven check any Pivot between 1 and 1.5 if any return Breakeven"
   ]
  }
 ],
 "metadata": {
  "kernelspec": {
   "display_name": "Python 3 (ipykernel)",
   "language": "python",
   "name": "python3"
  },
  "language_info": {
   "codemirror_mode": {
    "name": "ipython",
    "version": 3
   },
   "file_extension": ".py",
   "mimetype": "text/x-python",
   "name": "python",
   "nbconvert_exporter": "python",
   "pygments_lexer": "ipython3",
   "version": "3.8.1"
  }
 },
 "nbformat": 4,
 "nbformat_minor": 5
}
