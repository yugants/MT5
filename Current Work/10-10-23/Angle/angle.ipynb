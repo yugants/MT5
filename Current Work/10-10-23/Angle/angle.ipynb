{
 "cells": [
  {
   "cell_type": "code",
   "execution_count": 9,
   "metadata": {},
   "outputs": [],
   "source": [
    "import talib\n",
    "import pandas as pd\n",
    "import numpy as np\n",
    "from datetime import datetime, timedelta\n",
    "import datetime\n",
    "import MetaTrader5 as mt5\n",
    "import pandas_ta as ta\n",
    "from scipy.signal import savgol_filter, find_peaks"
   ]
  },
  {
   "cell_type": "code",
   "execution_count": 16,
   "metadata": {},
   "outputs": [],
   "source": [
    "if not mt5.initialize(\n",
    "            login=114999529, server=\"Exness-MT5Trial6\", password=\"Mypassword$1234\"\n",
    "        ):\n",
    "            print(\"initialize() failed, error code =\", mt5.last_error())\n",
    "            quit()\n",
    "\n",
    "login = 114999529\n",
    "password = \"Mypassword$1234\"\n",
    "server = \"Exness-MT5Trial6\"\n",
    "mt5.login(login, password, server)\n",
    "\n",
    "rate = mt5.copy_rates_from(\n",
    "'EURUSD', mt5.TIMEFRAME_M15, datetime.datetime.now(), 5000\n",
    ")\n",
    "nf = pd.DataFrame(rate)\n",
    "\n",
    "nf[\"date\"] = pd.to_datetime(nf[\"time\"], unit=\"s\")\n",
    "\n",
    "nf.set_index(np.arange(len(nf)), inplace=True)\n",
    "nf = nf.drop([\"spread\", \"real_volume\", \"tick_volume\", \"time\"], axis=\"columns\")\n",
    "\n",
    "df = nf.copy() # First half"
   ]
  },
  {
   "cell_type": "code",
   "execution_count": 17,
   "metadata": {},
   "outputs": [],
   "source": [
    "df[\"EMA_20\"] = talib.EMA(df[\"close\"], timeperiod=20)\n",
    "\n",
    "# Calculate the angle of the EMA\n",
    "df['EMA_Diff'] = df['EMA_20'].diff()\n",
    "df['Angle'] = np.degrees(np.arctan(df['EMA_Diff'] / 20)) * 100000"
   ]
  },
  {
   "cell_type": "code",
   "execution_count": 24,
   "metadata": {},
   "outputs": [
    {
     "data": {
      "text/plain": [
       "open                    1.05742\n",
       "high                    1.05762\n",
       "low                     1.05738\n",
       "close                   1.05748\n",
       "date        2023-10-23 04:30:00\n",
       "EMA_20                  1.05799\n",
       "EMA_Diff              -0.000054\n",
       "Angle                -15.369528\n",
       "Name: 4940, dtype: object"
      ]
     },
     "execution_count": 24,
     "metadata": {},
     "output_type": "execute_result"
    }
   ],
   "source": [
    "df.iloc[-60]"
   ]
  },
  {
   "cell_type": "code",
   "execution_count": null,
   "metadata": {},
   "outputs": [],
   "source": []
  }
 ],
 "metadata": {
  "kernelspec": {
   "display_name": "Python 3",
   "language": "python",
   "name": "python3"
  },
  "language_info": {
   "codemirror_mode": {
    "name": "ipython",
    "version": 3
   },
   "file_extension": ".py",
   "mimetype": "text/x-python",
   "name": "python",
   "nbconvert_exporter": "python",
   "pygments_lexer": "ipython3",
   "version": "3.8.1"
  }
 },
 "nbformat": 4,
 "nbformat_minor": 2
}
