{
 "cells": [
  {
   "cell_type": "code",
   "execution_count": 1,
   "id": "18858772",
   "metadata": {},
   "outputs": [],
   "source": [
    "import talib\n",
    "import pandas as pd\n",
    "import numpy as np\n",
    "from datetime import datetime, timedelta\n",
    "import datetime\n",
    "import MetaTrader5 as mt5"
   ]
  },
  {
   "cell_type": "code",
   "execution_count": null,
   "id": "7bd8c79f",
   "metadata": {},
   "outputs": [],
   "source": [
    "if not mt5.initialize(login=40987, server=\"CabanaCapitals-Demo\",password=\"Mypassword$1234\"):\n",
    "    print(\"initialize() failed, error code =\",mt5.last_error())\n",
    "    quit()\n",
    "\n",
    "login = 40987\n",
    "password = 'Mypassword$1234'\n",
    "server = 'CabanaCapitals-Demo'\n",
    "\n",
    "mt5.login(login, password, server)\n",
    "\n",
    "rate = mt5.copy_rates_from('AUDCHF', mt5.TIMEFRAME_M15, datetime.datetime.now(), 24000)\n",
    "nf = pd.DataFrame(rate)\n",
    "\n",
    "nf['date']=pd.to_datetime(nf['time'], unit='s')\n",
    "\n",
    "nf.set_index(np.arange(len(nf)), inplace = True)\n",
    "nf = nf.drop(['spread', 'real_volume', 'tick_volume', 'time'], axis='columns')\n",
    "\n",
    "\n",
    "\n",
    "\n",
    "# self.df = nf.iloc[:500]  # First half\n",
    "df = nf.iloc[-500:]  # Second half\n",
    "df.loc[:, 'squeeze_on'] = False"
   ]
  }
 ],
 "metadata": {
  "kernelspec": {
   "display_name": "Python 3 (ipykernel)",
   "language": "python",
   "name": "python3"
  },
  "language_info": {
   "codemirror_mode": {
    "name": "ipython",
    "version": 3
   },
   "file_extension": ".py",
   "mimetype": "text/x-python",
   "name": "python",
   "nbconvert_exporter": "python",
   "pygments_lexer": "ipython3",
   "version": "3.8.1"
  }
 },
 "nbformat": 4,
 "nbformat_minor": 5
}
