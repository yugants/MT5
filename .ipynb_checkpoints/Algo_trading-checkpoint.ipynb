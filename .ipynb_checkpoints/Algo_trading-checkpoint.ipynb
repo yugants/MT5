{
 "cells": [
  {
   "cell_type": "code",
   "execution_count": 3,
   "metadata": {},
   "outputs": [],
   "source": [
    "# Login: 40987\n",
    "# Server: CabanaCapitals-MT5 Demo\n",
    "# Password: Vtcef978\n",
    "# Investor Password: 8r9cfe2S"
   ]
  },
  {
   "cell_type": "code",
   "execution_count": 1,
   "metadata": {},
   "outputs": [],
   "source": [
    "import MetaTrader5 as mt  # pip install MetaTrader5\n",
    "import pandas as pd  # pip install pandas"
   ]
  },
  {
   "cell_type": "code",
   "execution_count": 2,
   "metadata": {},
   "outputs": [
    {
     "data": {
      "text/plain": [
       "False"
      ]
     },
     "execution_count": 2,
     "metadata": {},
     "output_type": "execute_result"
    }
   ],
   "source": [
    "# start the platform with initialize()\n",
    "mt.initialize()"
   ]
  },
  {
   "cell_type": "code",
   "execution_count": 9,
   "metadata": {},
   "outputs": [
    {
     "data": {
      "text/plain": [
       "False"
      ]
     },
     "execution_count": 9,
     "metadata": {},
     "output_type": "execute_result"
    }
   ],
   "source": [
    "# login to Trade Account with login()\n",
    "# make sure that trade server is enabled in MT5 client terminal\n",
    "\n",
    "login = 40987\n",
    "password = 'Vtcef978'\n",
    "server = 'CabanaCapitals-MT5 Demo'\n",
    "\n",
    "mt.login(login, password, server)"
   ]
  },
  {
   "cell_type": "code",
   "execution_count": 7,
   "metadata": {},
   "outputs": [
    {
     "name": "stdout",
     "output_type": "stream",
     "text": [
      "AccountInfo(login=40987, trade_mode=2, leverage=0, limit_orders=0, margin_so_mode=0, trade_allowed=False, trade_expert=False, margin_mode=0, currency_digits=0, fifo_close=False, balance=0.0, credit=0.0, profit=0.0, equity=0.0, margin=0.0, margin_free=0.0, margin_level=0.0, margin_so_call=0.0, margin_so_so=0.0, margin_initial=0.0, margin_maintenance=0.0, assets=0.0, liabilities=0.0, commission_blocked=0.0, name='', server='CabanaCapitals-MT5 Demo', currency='', company='')\n",
      "\n",
      "login:  40987\n",
      "balance:  0.0\n",
      "equity:  0.0\n"
     ]
    }
   ],
   "source": [
    "# get account info\n",
    "account_info = mt.account_info()\n",
    "print(account_info)\n",
    "\n",
    "# getting specific account data\n",
    "login_number = account_info.login\n",
    "balance = account_info.balance\n",
    "equity = account_info.equity\n",
    "\n",
    "print()\n",
    "print('login: ', login_number)\n",
    "print('balance: ', balance)\n",
    "print('equity: ', equity)"
   ]
  },
  {
   "cell_type": "code",
   "execution_count": 9,
   "metadata": {},
   "outputs": [
    {
     "data": {
      "text/plain": [
       "0"
      ]
     },
     "execution_count": 9,
     "metadata": {},
     "output_type": "execute_result"
    }
   ],
   "source": [
    "# get number of symbols with symbols_total()\n",
    "num_symbols = mt.symbols_total()\n",
    "\n",
    "num_symbols"
   ]
  },
  {
   "cell_type": "code",
   "execution_count": 8,
   "metadata": {},
   "outputs": [
    {
     "ename": "AttributeError",
     "evalue": "'NoneType' object has no attribute '_asdict'",
     "output_type": "error",
     "traceback": [
      "\u001b[1;31m---------------------------------------------------------------------------\u001b[0m",
      "\u001b[1;31mAttributeError\u001b[0m                            Traceback (most recent call last)",
      "\u001b[1;32me:\\Techincal Analysis Program\\MT5\\Algo_trading.ipynb Cell 6\u001b[0m in \u001b[0;36m2\n\u001b[0;32m      <a href='vscode-notebook-cell:/e%3A/Techincal%20Analysis%20Program/MT5/Algo_trading.ipynb#W5sZmlsZQ%3D%3D?line=0'>1</a>\u001b[0m \u001b[39m# get symbol specifications\u001b[39;00m\n\u001b[1;32m----> <a href='vscode-notebook-cell:/e%3A/Techincal%20Analysis%20Program/MT5/Algo_trading.ipynb#W5sZmlsZQ%3D%3D?line=1'>2</a>\u001b[0m symbol_info \u001b[39m=\u001b[39m mt\u001b[39m.\u001b[39;49msymbol_info(\u001b[39m\"\u001b[39;49m\u001b[39mEURUSD\u001b[39;49m\u001b[39m\"\u001b[39;49m)\u001b[39m.\u001b[39;49m_asdict()\n\u001b[0;32m      <a href='vscode-notebook-cell:/e%3A/Techincal%20Analysis%20Program/MT5/Algo_trading.ipynb#W5sZmlsZQ%3D%3D?line=2'>3</a>\u001b[0m symbol_info\n",
      "\u001b[1;31mAttributeError\u001b[0m: 'NoneType' object has no attribute '_asdict'"
     ]
    }
   ],
   "source": [
    "# get symbol specifications\n",
    "symbol_info = mt.symbol_info(\"EURUSD\")._asdict()\n",
    "symbol_info"
   ]
  },
  {
   "cell_type": "code",
   "execution_count": null,
   "metadata": {},
   "outputs": [],
   "source": []
  }
 ],
 "metadata": {
  "kernelspec": {
   "display_name": "Python 3 (ipykernel)",
   "language": "python",
   "name": "python3"
  },
  "language_info": {
   "codemirror_mode": {
    "name": "ipython",
    "version": 3
   },
   "file_extension": ".py",
   "mimetype": "text/x-python",
   "name": "python",
   "nbconvert_exporter": "python",
   "pygments_lexer": "ipython3",
   "version": "3.8.1"
  }
 },
 "nbformat": 4,
 "nbformat_minor": 2
}
