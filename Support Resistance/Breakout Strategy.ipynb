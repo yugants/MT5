{
 "cells": [
  {
   "cell_type": "code",
   "execution_count": 10,
   "metadata": {},
   "outputs": [],
   "source": [
    "import pandas as pd\n",
    "import pandas_ta as ta\n",
    "import pandas as pd\n",
    "import numpy as np\n",
    "\n",
    "import datetime\n",
    "import MetaTrader5 as mt5\n",
    "%matplotlib inline\n",
    "import talib\n",
    "\n",
    "from scipy.signal import savgol_filter\n",
    "from scipy.signal import find_peaks\n",
    "\n",
    "pd.set_option('mode.chained_assignment', None)"
   ]
  },
  {
   "cell_type": "code",
   "execution_count": 17,
   "metadata": {},
   "outputs": [],
   "source": [
    "if not mt5.initialize(\n",
    "    login=114999529, server=\"Exness-MT5Trial6\", password=\"Mypassword$1234\"\n",
    "):\n",
    "    print(\"initialize() failed, error code =\", mt5.last_error())\n",
    "    quit()\n",
    "\n",
    "login = 114999529\n",
    "password = \"Mypassword$1234\"\n",
    "server = \"Exness-MT5Trial6\"\n",
    "mt5.login(login, password, server)\n",
    "rate = mt5.copy_rates_from('EURUSD', mt5.TIMEFRAME_M15, datetime.datetime.now(), 1000)\n",
    "df = pd.DataFrame(rate)\n",
    "\n",
    "df['date']=pd.to_datetime(df['time'], unit='s')\n",
    "\n",
    "df.set_index(np.arange(len(df)), inplace = True)\n",
    "df = df.drop(['spread', 'real_volume', 'tick_volume', 'time'], axis='columns')\n",
    "\n",
    "# df['RSI'] = ta.rsi(df.close, length=12)\n",
    "# df['EMA'] = ta.ema(df.close, length=150)\n",
    "\n",
    "\n",
    "# df=df[-5000:]\n",
    "\n",
    "df.set_index(np.arange(len(df)), inplace = True)\n",
    "\n",
    "df['atr'] = ta.atr(high=df.high, low=df.low, close=df.close)\n",
    "\n",
    "df['atr'] = df.atr.rolling(window=30).mean()"
   ]
  },
  {
   "cell_type": "code",
   "execution_count": 18,
   "metadata": {},
   "outputs": [
    {
     "name": "stdout",
     "output_type": "stream",
     "text": [
      "1.0882161071234722\n"
     ]
    }
   ],
   "source": [
    "df[\"close_smooth\"] = savgol_filter(df.close, 30, 10)\n",
    "\n",
    "atr = df.atr.iloc[-1]\n",
    "\n",
    "peaks_idx, _ = find_peaks(df.close_smooth, distance=5, width=1, prominence=atr/10)\n",
    "\n",
    "print(df.close_smooth.iloc[peaks_idx[-1]])\n",
    "\n",
    "# print(peaks_idx[-1])\n",
    "\n",
    "troughs_idx, _ = find_peaks(-1 * df.close_smooth, distance=5, width=1, prominence=atr/10)"
   ]
  },
  {
   "cell_type": "code",
   "execution_count": 19,
   "metadata": {},
   "outputs": [],
   "source": [
    "# Find index\n",
    "\n",
    "def find_index(arr, input_value):\n",
    "    low, high = 0, len(arr) - 1\n",
    "    index = None\n",
    "\n",
    "    while low <= high:\n",
    "        mid = (low + high) // 2\n",
    "\n",
    "        if arr[mid] < input_value:\n",
    "            index = mid\n",
    "            low = mid + 1\n",
    "        else:\n",
    "            high = mid - 1\n",
    "\n",
    "    return index"
   ]
  },
  {
   "cell_type": "code",
   "execution_count": 20,
   "metadata": {},
   "outputs": [],
   "source": [
    "# EMA\n",
    "\n",
    "df[\"EMA_200\"] = talib.EMA(df[\"close\"], timeperiod=200)"
   ]
  },
  {
   "cell_type": "code",
   "execution_count": 21,
   "metadata": {},
   "outputs": [],
   "source": [
    "# print(peaks_idx)\n",
    "\n",
    "def trend(row):\n",
    "    # Identify the Trend\n",
    "    global df, peaks_idx, troughs_idx\n",
    "    \n",
    "    # Index of candle in DF \n",
    "    df_index = df[df[\"date\"] == row[\"date\"]].index[0]\n",
    "    peak_index = find_index(peaks_idx, df_index)\n",
    "    trough_index= find_index(troughs_idx, df_index)\n",
    "    # print('df index: ', df_index)\n",
    "    # print('Peak index: ',peak_index)\n",
    "    # print('Peak Value: ', peaks_idx[peak_index])\n",
    "    # print('Trough index: ',trough_index)\n",
    "    # print('Peak Value: ', troughs_idx[trough_index])\n",
    "\n",
    "    if len(peaks_idx) > 2 and len(troughs_idx) > 2:\n",
    "        \n",
    "        if (\n",
    "            # Current Price > EMA \n",
    "            row['close'] > row['EMA_200'] and \n",
    "            # Current price > Current Low\n",
    "            df.loc[troughs_idx[trough_index], 'close'] <= row['close'] and\n",
    "            # Current Low > Prev Low\n",
    "            df.loc[troughs_idx[trough_index-1], 'close'] <= df.loc[troughs_idx[trough_index], 'close'] and\n",
    "            # Current High > Prev High\n",
    "            df.loc[peaks_idx[peak_index], 'close'] > df.loc[peaks_idx[peak_index-1], 'close']\n",
    "        ):\n",
    "            df.loc[df_index, 'trend'] = 'up'\n",
    "\n",
    "        elif (\n",
    "            # Current Price < EMA\n",
    "            row['close'] < row['EMA_200'] and\n",
    "            # Current price < Current High\n",
    "            row['close'] <= df.loc[peaks_idx[peak_index], 'close'] and\n",
    "            # Current High < Prev High\n",
    "            df.loc[peaks_idx[peak_index], 'close'] < df.loc[peaks_idx[peak_index-1], 'close'] and\n",
    "            # Current Low < Prev Low\n",
    "            df.loc[troughs_idx[trough_index], 'close'] < df.loc[troughs_idx[trough_index-1], 'close']\n",
    "        ):\n",
    "            df.loc[df_index, 'trend'] = 'down'\n",
    "\n",
    "        \n",
    "        else:\n",
    "\n",
    "            df.loc[df_index, 'trend'] = 'no trend'\n",
    "\n",
    "\n",
    "    "
   ]
  },
  {
   "cell_type": "code",
   "execution_count": 22,
   "metadata": {},
   "outputs": [
    {
     "data": {
      "text/plain": [
       "0      None\n",
       "1      None\n",
       "2      None\n",
       "3      None\n",
       "4      None\n",
       "       ... \n",
       "995    None\n",
       "996    None\n",
       "997    None\n",
       "998    None\n",
       "999    None\n",
       "Length: 1000, dtype: object"
      ]
     },
     "execution_count": 22,
     "metadata": {},
     "output_type": "execute_result"
    }
   ],
   "source": [
    "df.apply(trend, axis=1)"
   ]
  },
  {
   "cell_type": "code",
   "execution_count": null,
   "metadata": {},
   "outputs": [],
   "source": [
    "# Small Savgol\n",
    "\n",
    "small_peaks_idx,_ = find_peaks(df.close_smooth, distance = 10, width = 2, prominence= atr/10)\n",
    "\n",
    "small_troughs_idx,_ = find_peaks(-1*df.close_smooth, distance = 10, width = 2, prominence=atr/10)"
   ]
  },
  {
   "cell_type": "code",
   "execution_count": 9,
   "metadata": {},
   "outputs": [],
   "source": [
    "df.to_excel('EURUSD.xlsx')"
   ]
  },
  {
   "cell_type": "code",
   "execution_count": null,
   "metadata": {},
   "outputs": [],
   "source": []
  }
 ],
 "metadata": {
  "kernelspec": {
   "display_name": "Python 3",
   "language": "python",
   "name": "python3"
  },
  "language_info": {
   "codemirror_mode": {
    "name": "ipython",
    "version": 3
   },
   "file_extension": ".py",
   "mimetype": "text/x-python",
   "name": "python",
   "nbconvert_exporter": "python",
   "pygments_lexer": "ipython3",
   "version": "3.8.1"
  }
 },
 "nbformat": 4,
 "nbformat_minor": 2
}
