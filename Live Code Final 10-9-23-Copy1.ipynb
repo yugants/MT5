{
 "cells": [
  {
   "cell_type": "code",
   "execution_count": 39,
   "id": "3cb1bd3e",
   "metadata": {},
   "outputs": [],
   "source": [
    "import talib\n",
    "import pandas as pd\n",
    "import numpy as np\n",
    "from datetime import datetime, timedelta\n",
    "import datetime\n",
    "import MetaTrader5 as mt5"
   ]
  },
  {
   "cell_type": "code",
   "execution_count": 44,
   "id": "3692ebb4",
   "metadata": {},
   "outputs": [],
   "source": [
    "class LiveTrade:\n",
    "    \n",
    "    def __init__(self):\n",
    "        \n",
    "#         self.df = pd.DataFrame(yf.download(tickers=instrument, start = '2022-10-01', end = '2023-06-01', interval='1h'))\n",
    "        if not mt5.initialize(login=114781990, server=\"Exness-MT5Trial6\",password=\"Mypassword$1234\"):\n",
    "            print(\"initialize() failed, error code =\",mt5.last_error())\n",
    "            quit()\n",
    "        \n",
    "        login = 114781990\n",
    "        password = 'Mypassword$1234'\n",
    "        server = 'Exness-MT5Trial6'\n",
    "\n",
    "        mt5.login(login, password, server)\n",
    "        \n",
    "        rate = mt5.copy_rates_from('EURUSDm', mt5.TIMEFRAME_M15, datetime.datetime.now(), 24000)\n",
    "        nf = pd.DataFrame(rate)\n",
    "#         print('getting data')\n",
    "\n",
    "        nf['date']=pd.to_datetime(nf['time'], unit='s')\n",
    "\n",
    "        nf.set_index(np.arange(len(nf)), inplace = True)\n",
    "        nf = nf.drop(['spread', 'real_volume', 'tick_volume', 'time'], axis='columns')\n",
    "\n",
    "\n",
    "        self.df = nf.iloc[:500]  # First half\n",
    "        self.df2 = nf.iloc[500:]  # Second half\n",
    "        self.df.loc[:, 'squeeze_on'] = False\n",
    "        \n",
    "#         self.account = 10000\n",
    "        \n",
    "        self.prev_high, self.prev_low, self.current_high, self.current_low = float(), float(), float(), float()\n",
    "        \n",
    "#         For EURUSD\n",
    "        self.one_pip_value = 10\n",
    "        self.trend_date  = None\n",
    "        self.prev_trend = None\n",
    "        \n",
    "        self.bull_no_trend = False\n",
    "        self.bear_no_trend = False\n",
    "\n",
    "        self.no_trend_up = False\n",
    "        self.no_trend_down = False\n",
    "\n",
    "#     For Doji Condition\n",
    "\n",
    "        self.doji_counter = 0\n",
    "        self.doji_flag = False\n",
    "        \n",
    "        \n",
    "#     For counting 20 candles after climax\n",
    "\n",
    "        self.buy_flag = True\n",
    "        self.sell_flag = True\n",
    "        self.green_count = 0\n",
    "        self.red_count = 0\n",
    "        \n",
    "        self.df['tradable'] = 0\n",
    "#         self.df.at[length, 'tradable'] = 0\n",
    "        \n",
    "        self.result = pd.DataFrame(columns=['ENTRY DATE', 'ENTRY', 'QUANTITY', 'TRADE', 'EXIT', 'EXIT DATE', 'P/L', 'REAL P/L', 'S/L' ])\n",
    "        \n",
    "        self.trade_on = None\n",
    "        \n",
    "        self.buy_on = False\n",
    "        self.sell_on = False\n",
    "        \n",
    "#         self.past_trend()\n",
    "        \n",
    "    \n",
    "#     def past_trend(self):\n",
    "        \n",
    "# #         print('past data')\n",
    "#         length = len(self.df)\n",
    "\n",
    "#         # Calculate max and min high values\n",
    "#         self.prev_high = self.df.iloc[length - 42 : length - 21]['high'].max()\n",
    "#         self.prev_low = self.df.iloc[length - 42 : length - 21]['low'].min()\n",
    "\n",
    "#         self.current_high = self.df.iloc[length - 21 : length]['high'].max()\n",
    "#         self.current_low = self.df.iloc[length - 21 : length]['low'].min()\n",
    "\n",
    "#         # Up condition\n",
    "#         if self.current_high > self.prev_high and self.current_low > self.prev_low:\n",
    "#             self.df.loc[length - 21 : length, 'trend'] = 'up'\n",
    "#         # Down condition\n",
    "#         elif self.current_high < self.prev_high and self.current_low < self.prev_low:\n",
    "#             self.df.loc[length - 21 : length, 'trend'] = 'down'\n",
    "#         else:\n",
    "#             self.df.loc[length - 21 : length, 'trend'] = 'no trend'\n",
    "\n",
    "#         self.prev_high = self.current_high\n",
    "#         self.prev_low = self.current_low\n",
    "#         self.trend_date = self.df['date'].iloc[-1]\n",
    "#         print('Date in past check: ', self.trend_date)\n",
    "#         self.prev_trend = self.df['trend'].iloc[-1]\n",
    "    \n",
    "    \n",
    "#     def test_current_trend(self, high, low, l):\n",
    "        \n",
    "# #         print('test_current_trend')\n",
    "        \n",
    "#         if self.prev_trend == 'up' and self.bull_no_trend is False:\n",
    "            \n",
    "#             if low > self.prev_low:\n",
    "#                 self.df.loc[l, 'trend'] = 'up'\n",
    "                \n",
    "#             else:\n",
    "#                 self.df.loc[l, 'trend'] = 'no trend bull'\n",
    "#                 self.bull_no_trend = True\n",
    "        \n",
    "#         elif self.prev_trend == 'up' and self.bull_no_trend is True:\n",
    "#             self.df.loc[l, 'trend'] = 'no trend bull 1'\n",
    "        \n",
    "#         elif self.prev_trend == 'down' and self.bear_no_trend is False:\n",
    "            \n",
    "#             if high < self.prev_high:\n",
    "#                 self.df.loc[l, 'trend'] = 'down'\n",
    "            \n",
    "#             else:\n",
    "#                 self.df.loc[l, 'trend'] = 'no trend bear'\n",
    "#                 self.bear_no_trend = True\n",
    "        \n",
    "#         elif self.prev_trend == 'down' and self.bear_no_trend is True:\n",
    "#             self.df.loc[l, 'trend'] = 'no trend bear1'\n",
    "        \n",
    "#         elif self.prev_trend == 'no trend' and self.no_trend_up is False and self.no_trend_down is False:\n",
    "            \n",
    "#             if high > self.prev_high:\n",
    "#                 self.df.loc[l, 'trend'] = 'up'\n",
    "#                 self.no_trend_up = True\n",
    "            \n",
    "#             elif low < self.prev_low:\n",
    "#                 self.df.loc[l, 'trend'] = 'down'\n",
    "#                 self.no_trend_down = True\n",
    "            \n",
    "#             else:\n",
    "#                 self.df.loc[l, 'trend'] = 'no trend'\n",
    "        \n",
    "#         elif self.prev_trend == 'no trend' and self.no_trend_up is True:\n",
    "            \n",
    "#             if low > self.prev_low:\n",
    "#                 self.df.loc[l, 'trend'] = 'up'\n",
    "            \n",
    "#             else:\n",
    "#                 self.df.loc[l, 'trend'] = 'no trend'\n",
    "#                 self.no_trend_up = False\n",
    "        \n",
    "#         elif self.prev_trend == 'no trend' and self.no_trend_down is True:\n",
    "            \n",
    "#             if high < self.prev_high:\n",
    "#                 self.df.loc[l, 'trend'] = 'down'\n",
    "            \n",
    "#             else:\n",
    "#                 self.df.loc[l, 'trend'] = 'no trend'\n",
    "#                 self.no_trend_down = False\n",
    "\n",
    "#     def calculate_current_trend(self, position_index, days=21):\n",
    "#         l = len(self.df) - 1\n",
    "        \n",
    "# #         print('calculate current trend')\n",
    "\n",
    "#         if position_index + days > l:\n",
    "# #             print('big slot')\n",
    "# #             print('position_index: ', position_index)\n",
    "# #             print('Len: ', l)\n",
    "#             self.test_current_trend(self.df.iloc[l]['high'], self.df.iloc[l]['low'], l)\n",
    "        \n",
    "#         elif position_index + days == l:\n",
    "# #             print('correct slot')\n",
    "#             current_high = self.df.loc[self.df.index[position_index: l + 1], 'high'].max()\n",
    "#             current_low = self.df.loc[self.df.index[position_index: l + 1], 'low'].min()\n",
    "            \n",
    "#             if current_high > self.prev_high and current_low > self.prev_low:\n",
    "#                 self.df.loc[l, 'trend'] = 'up'\n",
    "            \n",
    "#             elif current_high < self.prev_high and current_low < self.prev_low:\n",
    "#                 self.df.loc[l, 'trend'] = 'down'\n",
    "            \n",
    "#             else:\n",
    "#                 self.df.loc[l, 'trend'] = 'no trend'\n",
    "\n",
    "#             self.trend_date = self.df['date'].iloc[-1]\n",
    "# #             print('changing date: ', self.trend_date)\n",
    "#             self.prev_high = current_high\n",
    "#             self.prev_low = current_low\n",
    "#             self.prev_trend = self.df['trend'].iloc[-1]\n",
    "#             self.bull_no_trend, self.bear_no_trend, self.no_trend_up, self.no_trend_down = [False] * 4\n",
    "            \n",
    "            \n",
    "            \n",
    "    \n",
    "    def candle(self, df):\n",
    "        '''Return candle colour'''\n",
    "\n",
    "        if df['close'] - df['open'] > 0:\n",
    "            return 'G'\n",
    "\n",
    "        else:\n",
    "            return 'R'\n",
    "    \n",
    "    def get_kc(self, high, low, close, kc_lookback, multiplier, atr_lookback):\n",
    "        tr1 = pd.DataFrame(high - low)\n",
    "        tr2 = pd.DataFrame(abs(high - close.shift()))\n",
    "        tr3 = pd.DataFrame(abs(low - close.shift()))\n",
    "\n",
    "        # Calculate True Range as the element-wise maximum of the three components\n",
    "        tr = pd.concat([tr1, tr2, tr3], axis=1).max(axis=1)\n",
    "        atr = tr.ewm(alpha=1/atr_lookback).mean()\n",
    "\n",
    "        kc_middle = close.ewm(span=kc_lookback).mean()\n",
    "        kc_upper = kc_middle + multiplier * atr\n",
    "        kc_lower = kc_middle - multiplier * atr\n",
    "\n",
    "        return kc_middle.iloc[-1], kc_upper.iloc[-1], kc_lower.iloc[-1]\n",
    "\n",
    "    def calculate_indicators(self):\n",
    "        \n",
    "#         print('calc_indicator')\n",
    "        length = len(self.df) - 1\n",
    "\n",
    "        self.df.loc[length, 'EMA_8'] = talib.EMA(self.df['close'], timeperiod=8).iloc[-1]\n",
    "        self.df.loc[length, 'EMA_50'] = talib.EMA(self.df['close'], timeperiod=50).iloc[-1]\n",
    "        self.df.loc[length, 'EMA_200'] = talib.EMA(self.df['close'], timeperiod=200).iloc[-1]\n",
    "        self.df.loc[length, 'RSI'] = talib.RSI(self.df['close'], timeperiod=21).iloc[-1]\n",
    "\n",
    "        sma = self.df['close'].rolling(window=20).mean()\n",
    "        stddev = self.df['close'].rolling(window=20).std()\n",
    "        lower_band = sma - (2 * stddev)\n",
    "        upper_band = sma + (2 * stddev)\n",
    "\n",
    "        self.df.loc[length, 'candle'] = self.candle(self.df.iloc[-1])\n",
    "        \n",
    "        kc_middle, kc_upper, kc_lower = self.get_kc(self.df['high'], self.df['low'], self.df['close'], kc_lookback=20, multiplier=1.2, atr_lookback=10)\n",
    "\n",
    "        if (lower_band.iloc[-1] > kc_lower) and (upper_band.iloc[-1] < kc_upper):\n",
    "            self.df.loc[length, 'squeeze_on'] = True\n",
    "        else:\n",
    "            self.df.loc[length, 'squeeze_on'] = False\n",
    "\n",
    "        self.df.loc[length, 'EMA_20'], self.df.loc[length, 'upper_keltner'], self.df.loc[length, 'lower_keltner'] = self.get_kc(self.df['high'], self.df['low'], self.df['close'], kc_lookback=20, multiplier=2.25, atr_lookback=10)\n",
    "\n",
    "    \n",
    " \n",
    "    \n",
    "\n",
    "    def check_body(self, df):\n",
    "        #     Calculate 0.7 % of entry price\n",
    "    #     fOR 1H FOREX\n",
    "            one_percent = df['open']/100 \n",
    "            percent = one_percent * 0.06\n",
    "            hammer_per = one_percent * 0.06\n",
    "\n",
    "\n",
    "        #     Calculate candle size close-open\n",
    "            if df['candle'] == 'G':\n",
    "                candle_size = df['close'] - df['open']\n",
    "                upper_wick = df['high'] - df['close']\n",
    "                lower_wick = df['open'] - df['low']\n",
    "\n",
    "            else:\n",
    "                candle_size = abs(df['close'] - df['open'])\n",
    "                upper_wick = df['high'] - df['open']\n",
    "                lower_wick = df['close'] - df['low']\n",
    "\n",
    "            upper_wick_per = (upper_wick/one_percent) \n",
    "            lower_wick_per = (lower_wick/one_percent) \n",
    "\n",
    "\n",
    "\n",
    "        #     check for entry candle size and Max candle size 0.12 %\n",
    "            if ((candle_size >= percent) and candle_size <= (0.12 * one_percent) and\n",
    "             (candle_size > upper_wick) and (candle_size > lower_wick) and\n",
    "            (upper_wick_per < 0.06) and (lower_wick_per < 0.06)):\n",
    "                \n",
    "                if df['candle'] == 'G' and df['high'] < df['upper_keltner'] :\n",
    "\n",
    "                    return 1\n",
    "                \n",
    "                elif df['candle'] == 'R' and df['low'] > df['lower_keltner'] :\n",
    "\n",
    "                    return 1\n",
    "                \n",
    "                else:\n",
    "                    \n",
    "                    return 0\n",
    "\n",
    "        #     condition for hammmer\n",
    "        #     lower wick is atleast 50 % of total size \n",
    "        #     Green Hammer \n",
    "        # need to add max wick of opposite dir\n",
    "            elif ( (df['candle'] == 'G') and (df['open'] - df['low']) >= ((df['high'] - df['low']) * 0.5) and\n",
    "                  (candle_size >= hammer_per) and (candle_size > upper_wick)and\n",
    "                  candle_size <= (0.12 * one_percent) and ((upper_wick_per < 0.06))  \n",
    "                 and df['high'] < df['upper_keltner']):\n",
    "\n",
    "                return 1\n",
    "\n",
    "\n",
    "    #     For Red Hammer\n",
    "    # need to add max wick of opposite dir\n",
    "            elif ( (df['candle'] == 'R') and (df['high'] - df['open']) >= (abs(df['high'] - df['low']) * 0.5) and \n",
    "                  (candle_size >= hammer_per) and (candle_size > lower_wick)and candle_size <= (0.12 * one_percent) and \n",
    "                  ((lower_wick_per < 0.06)) and df['low'] > df['lower_keltner'] ):\n",
    "\n",
    "                return 1\n",
    "\n",
    "\n",
    "            else:\n",
    "                return 0\n",
    "\n",
    "        \n",
    "    \n",
    "    def check_prev_candle(self, element):\n",
    "\n",
    "        current_index = self.df.loc[self.df.date ==  element.date].index[0]\n",
    "        current_close = element.close\n",
    "        current_candle = element.candle\n",
    "\n",
    "\n",
    "\n",
    "        if current_index > 0:\n",
    "            prev_index = current_index - 1 \n",
    "#           prev candle colour\n",
    "            prev_candle = self.df.iloc[prev_index]['candle']\n",
    "\n",
    "#           current candle colour\n",
    "            current_candle = self.df.iloc[current_index]['candle']\n",
    "            \n",
    "            if current_candle == 'G':\n",
    "#                 Both green current close must be higher\n",
    "                if prev_candle == 'G' and self.df.iloc[current_index]['close'] > self.df.iloc[prev_index][ 'close']:\n",
    "                    return 1\n",
    "                \n",
    "#                If last candle Red then entry candle must close above last candle open\n",
    "                elif prev_candle == 'R' and self.df.iloc[current_index]['close'] > self.df.iloc[prev_index][ 'open']:\n",
    "                    return 1\n",
    "\n",
    "                else:\n",
    "                    return 0\n",
    "                \n",
    "            elif current_candle == 'R':\n",
    "#                 Both red current close must be lower\n",
    "                if prev_candle == 'R' and self.df.iloc[current_index]['close'] < self.df.iloc[prev_index][ 'close']:\n",
    "                    return 1\n",
    "                \n",
    "#                If last candle green then entry candle must close below last candle open\n",
    "                elif prev_candle == 'G' and self.df.iloc[current_index]['close'] < self.df.iloc[prev_index][ 'open']:\n",
    "                    return 1\n",
    "\n",
    "                else:\n",
    "                    return 0\n",
    "                \n",
    "    #     How to check for the 1st candle?\n",
    "        return 0\n",
    "    \n",
    "    \n",
    "#   SL Method\n",
    "\n",
    "    def set_sl(self, df):\n",
    "        '''Set SL 1% above/below to entry candle'''\n",
    "            \n",
    "        candle_size = df['high'] - df['low']\n",
    "\n",
    "        if df['candle'] == 'G':\n",
    "\n",
    "            sl = df['low'] - (candle_size/100)\n",
    "\n",
    "        elif df['candle'] == 'R':\n",
    "\n",
    "            sl = df['high'] + (candle_size/100)\n",
    "        \n",
    "#         print('SL: ', sl)\n",
    "\n",
    "        return sl\n",
    "        \n",
    "\n",
    "        \n",
    "    \n",
    "    def check_rsi(self, df):\n",
    "        '''To check RSI and EMAs'''\n",
    "        \n",
    "#         ONLY TRADE WHEN 20 EMA IN FAVOUR\n",
    "\n",
    "        if (df['candle'] == 'G' and df['RSI'] <= 68 and df['close'] > df['EMA_20'] and \n",
    "             df['EMA_50'] > df['EMA_200'] ):\n",
    "            \n",
    "                return 1\n",
    "            \n",
    "            \n",
    "        elif (df['candle'] == 'R' and df['RSI'] >= 32 and df['close'] < df['EMA_20'] and \n",
    "               df['EMA_50'] < df['EMA_200'] ):\n",
    "        \n",
    "                return 1\n",
    "        \n",
    " \n",
    "        else:\n",
    "            \n",
    "            return 0\n",
    "            \n",
    "            \n",
    "# To mark trades as Buy/ Sell\n",
    "\n",
    "    def check_trade(self, df):\n",
    "        \n",
    "        if df['candle'] == 'G':\n",
    "            \n",
    "            return 'B'\n",
    "        \n",
    "        else:\n",
    "            \n",
    "            return 'S'\n",
    "    \n",
    "    \n",
    "#     Check candle for climax condition\n",
    "    def check_tradable(self, row):\n",
    "        one_percent = row['open'] / 100\n",
    "        \n",
    "        length = len(self.df) -1\n",
    "\n",
    "        # When green candle goes outside channel\n",
    "        if (((row['candle'] == 'G' and row['open'] > row['upper_keltner']) or\n",
    "             (row['candle'] == 'R' and row['close'] > row['upper_keltner'])) and\n",
    "                self.sell_flag == True and\n",
    "                (abs(row['close'] - row['upper_keltner']) / one_percent) >= 0.07):\n",
    "            self.buy_flag = False\n",
    "            self.green_count = 0\n",
    "            self.df.at[length, 'tradable'] = 'First G Break'\n",
    "\n",
    "        # When price remains outside after green breakout\n",
    "        elif (row['close'] > row['upper_keltner'] and self.sell_flag == True and\n",
    "              self.buy_flag == False and self.green_count == 0):\n",
    "            self.df.at[length, 'tradable'] = 'Outside after G Break'\n",
    "\n",
    "        # Any candle in 20 count closes outside the channel, restart the count\n",
    "        elif row['close'] > row['upper_keltner'] and self.buy_flag == True and self.green_count > 0:\n",
    "            self.green_count = 0\n",
    "            self.buy_flag = False\n",
    "            self.df.at[length, 'tradable'] = 'Outside after G Break'\n",
    "\n",
    "        # When the price returns inside the channel after a buy breakout\n",
    "        elif row['close'] < row['upper_keltner'] and self.buy_flag == False:\n",
    "            self.buy_flag = True\n",
    "            self.green_count = 1\n",
    "            self.df.at[length, 'tradable'] = 'G count 1'\n",
    "\n",
    "        # Counting 20 candles when green breakout moves inside the channel\n",
    "        elif 0 < self.green_count < 19 and row['close'] < row['upper_keltner']:\n",
    "            self.green_count += 1\n",
    "            self.df.at[length, 'tradable'] = 'Counting after G Break'\n",
    "\n",
    "        # When 20 candles after climax are over\n",
    "        elif self.green_count == 19 and row['close'] < row['upper_keltner'] and self.red_count == 0:\n",
    "            self.green_count = 0\n",
    "            self.df.at[length, 'tradable'] = 0\n",
    "\n",
    "        # When red candle goes outside the channel\n",
    "        if (((row['candle'] == 'R' and row['open'] < row['lower_keltner']) or\n",
    "             (row['candle'] == 'G' and row['close'] < row['lower_keltner'])) and\n",
    "                self.buy_flag == True and\n",
    "                (abs(row['lower_keltner'] - row['close']) / one_percent) >= 0.07):\n",
    "            self.sell_flag = False\n",
    "            self.red_count = 0\n",
    "            self.df.at[length, 'tradable'] = 'Red Breakout'\n",
    "\n",
    "        # When the price remains outside the channel after a red breakout\n",
    "        elif row['close'] < row['lower_keltner'] and self.buy_flag == True and self.sell_flag == False:\n",
    "            self.df.at[length, 'tradable'] = 'Outside after Red Breakout'\n",
    "\n",
    "        # Any candle in 20 count closes outside the channel, restart the count\n",
    "        elif row['close'] < row['lower_keltner'] and self.sell_flag == True and self.red_count > 0:\n",
    "            self.red_count = 0\n",
    "            self.sell_flag = False\n",
    "            self.df.at[length, 'tradable'] = 'Outside after R Break'\n",
    "\n",
    "        # When the price returns inside the channel after a sell breakout\n",
    "        elif row['close'] > row['lower_keltner'] and self.sell_flag == False:\n",
    "            self.sell_flag = True\n",
    "            self.red_count = 1\n",
    "            self.df.at[length, 'tradable'] = 'Sell count 1'\n",
    "\n",
    "        # Counting 20 candles when red breakout moves inside the channel\n",
    "        elif 0 < self.red_count < 19 and row['close'] > row['lower_keltner']:\n",
    "            self.red_count += 1\n",
    "            self.df.at[length, 'tradable'] = 'Counting after sell breakout'\n",
    "\n",
    "        # When 20 candles after climax are over\n",
    "        elif self.red_count == 19 and row['close'] > row['lower_keltner'] and self.green_count == 0:\n",
    "            self.red_count = 0\n",
    "            self.df.at[length, 'tradable'] = 0\n",
    "            \n",
    "#         When Its a normal candle\n",
    "        else:\n",
    "            \n",
    "            self.df.at[length, 'tradable'] = 0\n",
    "\n",
    "#   Check if candle inside Keltner's Channel\n",
    "    \n",
    "    def check_inside_kt(self, x):\n",
    "        \n",
    "        if  ( x['high'] < x['upper_keltner'] and x['low'] > x['lower_keltner']):\n",
    "            return 1\n",
    "        \n",
    "        else:\n",
    "            return 0\n",
    "        \n",
    "#     def entries(self):\n",
    "        \n",
    "# #         Check for possible trades\n",
    "        \n",
    "#         length = len(self.df) - 1\n",
    "        \n",
    "#         self.df.loc[length, 'pos'] = self.check_inside_kt(self.df.iloc[-1])\n",
    "        \n",
    "#         self.df.loc[length, 'candle_size'] = self.check_body(self.df.iloc[-1])\n",
    "\n",
    "#         self.df.loc[length, 'prev_candle'] = self.check_prev_candle(self.df.iloc[-1])\n",
    "        \n",
    "#         self.df.loc[length, 'trade'] = self.check_trade(self.df.iloc[-1])\n",
    "        \n",
    "#         self.check_tradable(self.df.iloc[-1])\n",
    "        \n",
    "        \n",
    "        \n",
    "#   Apply all the conditions on current candle\n",
    "\n",
    "    def check_conditions(self):\n",
    "        \n",
    "        length = len(self.df) - 1\n",
    "        \n",
    "#         Checking all entry conditions\n",
    "        \n",
    "        self.df.loc[length, 'pos'] = self.check_inside_kt(self.df.iloc[-1])\n",
    "        \n",
    "        self.df.loc[length, 'candle_size'] = self.check_body(self.df.iloc[-1])\n",
    "\n",
    "        self.df.loc[length, 'prev_candle'] = self.check_prev_candle(self.df.iloc[-1])\n",
    "        \n",
    "        self.df.loc[length, 'trade'] = self.check_trade(self.df.iloc[-1])\n",
    "        \n",
    "        self.check_tradable(self.df.iloc[-1])\n",
    "        \n",
    "        self.chart = self.df.loc[length]['open']/100 * 0.04\n",
    "        \n",
    "#         print('Check Condition')\n",
    "#         print('Pos: ', self.df.loc[length, 'pos'])\n",
    "#         print('Prev: ', self.df.loc[length, 'prev_candle'])\n",
    "#         print('Candle size:',self.df.loc[length, 'candle_size'] )\n",
    "#         print('Tradable: ', self.df.loc[length, 'tradable'])\n",
    "#         print('Check RSI: ', self.check_rsi(self.df.iloc[-1]))\n",
    "        \n",
    "        if ( (self.df.loc[length, 'pos'] == 1) and (self.df.loc[length, 'candle_size'] == 1) and\n",
    "           (self.df.loc[length, 'prev_candle'] == 1) and (self.df.loc[length, 'tradable'] == 0) and\n",
    "           (self.check_rsi(self.df.iloc[-1]) == 1) and (self.df.loc[length, 'squeeze_on'] == False) ):\n",
    "            \n",
    "#             print('Entry candle')\n",
    "#             Set SL for ever entry\n",
    "            self.df.loc[length, 'sl'] = self.set_sl(self.df.iloc[-1])\n",
    "            \n",
    "            self.result_len = len(self.result)\n",
    "\n",
    "            self.result.loc[self.result_len, 'ENTRY DATE'] = self.df.loc[length, 'date']\n",
    "            self.result.loc[self.result_len, 'ENTRY'] = self.df.loc[length, 'close']\n",
    "            self.result.loc[self.result_len, 'TRADE'] = self.df.loc[length, 'trade']\n",
    "            self.result.loc[self.result_len, 'S/L'] = self.df.loc[length, 'sl']\n",
    "\n",
    "            self.calculations()\n",
    "\n",
    "\n",
    "#     elif self.buy_on == True:\n",
    "# #             print('Buy trade on')\n",
    "#         self.manage_buy()\n",
    "\n",
    "# #             If in sell trade\n",
    "#     elif self.sell_on == True:\n",
    "\n",
    "#         self.manage_sell()\n",
    "\n",
    "    def pip_calc(self, close, sl):\n",
    "#         Calculate pips between Entry & SL\n",
    "        \n",
    "        if str(close).index('.') >= 3:  # JPY pair\n",
    "            multiplier = 0.01\n",
    "        \n",
    "        else:\n",
    "            multiplier = 0.0001\n",
    "\n",
    "        pips = round(abs(sl - close) / multiplier)\n",
    "        return int(pips)\n",
    "    \n",
    "    \n",
    "    def result_pip_calc(self, close, value):\n",
    "#         Calculate pip value from currency price \n",
    "        \n",
    "        if str(close).index('.') >= 3:  # JPY pair\n",
    "            multiplier = 100\n",
    "        \n",
    "        else:\n",
    "            multiplier = 10000\n",
    "            \n",
    "        pip = value * multiplier\n",
    "        \n",
    "        return float(pip)\n",
    "    \n",
    "    \n",
    "    def calc_quantity(self, pips):\n",
    "#         To find the number of lots to trade\n",
    "\n",
    "        lots = [0.1, 0.2, 0.3, 0.4, 0.5, 0.6, 0.7, 0.8, 0.9, 1, 1.1, 1.2, 1.3, 1.4, 1.5, 1.6, 1.7, 1.8,\n",
    "                1.9, 2, 3, 4, 5, 6, 7, 8, 9, 10]\n",
    "        \n",
    "#       Risk per trade 2%  of 10K $ account\n",
    "        rpt = 200\n",
    "    \n",
    "#         print('Pips in calc_quantity: ', pips)\n",
    "\n",
    "#         sl = 76\n",
    "\n",
    "        quantity = []\n",
    "\n",
    "        for i in lots:\n",
    "\n",
    "            if (i * pips * self.one_pip_value) <= rpt:\n",
    "                quantity.append(i)\n",
    "        \n",
    "        if quantity:\n",
    "\n",
    "            return max(quantity)\n",
    "        \n",
    "        else:\n",
    "            return 0\n",
    "        \n",
    "        \n",
    "        \n",
    "    \n",
    "    def calculations(self):\n",
    "        \n",
    "        l = len(self.df) - 1 \n",
    "        self.sl = self.result.loc[self.result_len, 'S/L']\n",
    "        self.trail_sl = False\n",
    "\n",
    "        self.base_candle_index = self.df.index[-1]\n",
    "\n",
    "\n",
    "        self.doji_count = 0\n",
    "\n",
    "        pips = self.pip_calc(self.result.loc[self.result_len, 'ENTRY'], self.result.loc[self.result_len, 'S/L'])\n",
    "\n",
    "#         print('Pips: ', pips)\n",
    "        self.quantity = self.calc_quantity(pips)\n",
    "        \n",
    "\n",
    "        self.result.loc[self.result_len,'QUANTITY'] = self.quantity\n",
    "\n",
    "        self.candles_size = abs(self.df.loc[l,'high'] - self.df.loc[l,'low'])\n",
    "\n",
    "        if (self.result.loc[self.result_len, 'TRADE']) =='B':\n",
    "            \n",
    "#             print('Buy Trade')\n",
    "\n",
    "            self.buy_on = True\n",
    "\n",
    "            self.target = self.result.loc[self.result_len, 'ENTRY'] + 1.5 * (self.result.loc[self.result_len, 'ENTRY'] - self.result.loc[self.result_len, 'S/L'])\n",
    "\n",
    "            self.breakeven = self.result.loc[self.result_len, 'ENTRY'] + self.candles_size\n",
    "\n",
    "            # Call MT5 with order for Buying in quantity as lot size, and SL TRG \n",
    "            # Pass everything from result, we have everything there, just target will be different    \n",
    "\n",
    "\n",
    "        elif (self.result.loc[self.result_len, 'TRADE']) =='S':\n",
    "\n",
    "            self.sell_on = True\n",
    "\n",
    "            self.target = self.result.loc[self.result_len, 'ENTRY'] - 1.5 * abs(self.result.loc[self.result_len, 'ENTRY'] - self.result.loc[self.result_len, 'S/L'])\n",
    "\n",
    "            self.breakeven = self.result.loc[self.result_len, 'ENTRY'] - self.candles_size\n",
    "            \n",
    "            # Call MT5 with order for Selling in quantity as lot size, and SL TRG\n",
    "\n",
    "\n",
    "    \n",
    "    def manage_buy(self):\n",
    "        \n",
    "\n",
    "        print('In Buy')\n",
    "\n",
    "        length = len(self.df) - 1\n",
    "\n",
    "#             current_candle = self.df.loc[length,'candle']\n",
    "\n",
    "        current_candle = self.df.loc[length]['candle']\n",
    "\n",
    "#         print(current_candle)\n",
    "\n",
    "        if current_candle == 'G':\n",
    "            # TRG and Trail SL condition\n",
    "\n",
    "            print('In a green candle')\n",
    "\n",
    "            if self.df.loc[length]['high'] >= self.target:\n",
    "                # TRG\n",
    "                print('In TRG exit condition')\n",
    "#                 print(self.df.loc[length,'date'])\n",
    "                self.result.loc[self.result_len, 'EXIT'] = self.target\n",
    "                self.result.loc[self.result_len, 'EXIT DATE'] = self.df.loc[length]['date']\n",
    "                self.result.loc[self.result_len, 'REASON'] = 'TRG'\n",
    "                self.buy_on = False\n",
    "\n",
    "            # For Breakeven\n",
    "            elif self.df.loc[length]['high'] >= self.breakeven:\n",
    "                self.sl = min(self.df.loc[self.base_candle_index]['close'], self.df.loc[self.base_candle_index]['EMA_8'])\n",
    "                self.trail_sl = True\n",
    "                \n",
    "\n",
    "        # For Gap Down exit\n",
    "            elif self.sl >= self.df.loc[length]['open']:\n",
    "\n",
    "                print('In SL Condition')\n",
    "#                 print(self.df.loc[length,'date'])\n",
    "                self.result.loc[self.result_len, 'EXIT'] = self.df.loc[length]['open']\n",
    "                self.result.loc[self.result_len, 'EXIT DATE'] = self.df.loc[length]['date']\n",
    "                if self.trail_sl:\n",
    "                    self.trail_sl = False\n",
    "                    self.result.loc[self.result_len, 'REASON'] = 'TRAIL_SL'\n",
    "                  \n",
    "\n",
    "                else:\n",
    "                    self.result.loc[self.result_len, 'REASON'] = 'SL'\n",
    "                self.buy_on = False\n",
    "               \n",
    "\n",
    "            # Green candle low hits SL \n",
    "            elif self.sl >= self.df.loc[length]['low']:\n",
    "                print('In SL Condition')\n",
    "#                 print(self.df.loc[length,'date'])\n",
    "                self.result.loc[self.result_len, 'EXIT'] = self.sl\n",
    "                self.result.loc[self.result_len, 'EXIT DATE'] = self.df.loc[length]['date']\n",
    "                if self.trail_sl:\n",
    "                    self.result.loc[self.result_len, 'REASON'] = 'TRAIL_SL'\n",
    "                    self.trail_sl = False\n",
    "\n",
    "                else:\n",
    "                    self.result.loc[self.result_len, 'REASON'] = 'SL'\n",
    "\n",
    "                self.buy_on = False\n",
    "\n",
    "        elif current_candle == 'R':\n",
    "            # SL condition\n",
    "            print('In red candle')\n",
    "            \n",
    "            # For Gap down\n",
    "            if self.sl >= self.df.loc[length]['open']:\n",
    "                print('In SL Condition')\n",
    "#                 print(self.df.loc[length,'date'])\n",
    "\n",
    "                self.result.loc[self.result_len, 'EXIT'] = self.df.loc[length]['open']\n",
    "                self.result.loc[self.result_len, 'EXIT DATE'] = self.df.loc[length]['date']\n",
    "                \n",
    "                if self.trail_sl:\n",
    "                    self.result.loc[self.result_len, 'REASON'] = 'TRAIL_SL'\n",
    "                    self.trail_sl = False\n",
    "                    self.buy_on = False\n",
    "                \n",
    "                else:\n",
    "                    self.result.loc[self.result_len, 'REASON'] = 'SL'\n",
    "                \n",
    "                self.buy_on = False\n",
    "\n",
    "            # For SL\n",
    "            elif self.sl >= self.df.loc[length]['low']:\n",
    "                print('In SL Condition')\n",
    "#                 print(self.df.loc[length,'date'])\n",
    "                self.result.loc[self.result_len, 'EXIT'] = self.sl\n",
    "                self.result.loc[self.result_len, 'EXIT DATE'] = self.df.loc[length]['date']\n",
    "                \n",
    "                if self.trail_sl:\n",
    "                    self.result.loc[self.result_len, 'REASON'] = 'TRAIL_SL'\n",
    "                    self.trail_sl = False\n",
    "\n",
    "                \n",
    "                else:\n",
    "                    self.result.loc[self.result_len, 'REASON'] = 'SL'\n",
    "                self.buy_on = False\n",
    "\n",
    "        # Max wait period 11 Days till breakeven \n",
    "        # or current candle closed above 1% to last\n",
    "        # else exit the trade\n",
    "        prev_close_one_percent = (self.df.loc[length - 1]['close']) / 100\n",
    "\n",
    "        if ((length > (self.base_candle_index + 10)) and (self.df.loc[length]['close'] < self.breakeven) and \n",
    "        (self.df.loc[length]['close'] < (self.df.loc[length - 1]['close']) + prev_close_one_percent)):\n",
    "            self.result.loc[self.result_len, 'EXIT'] = self.df.loc[length]['close']\n",
    "            self.result.loc[self.result_len, 'EXIT DATE'] = self.df.loc[length]['date']\n",
    "            self.result.loc[self.result_len, 'REASON'] = 'NO MOVE'\n",
    "            self.buy_on = False\n",
    "            self.trail_sl = False\n",
    "        \n",
    "        if self.buy_on == False:\n",
    "            \n",
    "            self.result.loc[self.result_len, 'P/L'] = self.result.loc[self.result_len]['EXIT'] - self.result.loc[self.result_len]['ENTRY']\n",
    "\n",
    "            self.result.loc[self.result_len, 'REAL P/L'] = (\n",
    "            self.quantity * self.one_pip_value * self.result_pip_calc(\n",
    "            self.result.loc[self.result_len]['ENTRY'],\n",
    "            self.result.loc[self.result_len, 'P/L']\n",
    "                )\n",
    "            )\n",
    "\n",
    "\n",
    "    \n",
    "    def manage_sell(self):\n",
    "            \n",
    "        print('In Sell')\n",
    "\n",
    "        length = len(self.df) - 1\n",
    "\n",
    "\n",
    "        current_candle = self.df.loc[length]['candle']\n",
    "\n",
    "        if current_candle == 'R':\n",
    "            # TRG  and Trail SL condition\n",
    "\n",
    "            if self.df.loc[length]['low'] <= self.target:\n",
    "                # TRG\n",
    "\n",
    "                self.result.loc[self.result_len, 'EXIT'] = self.target\n",
    "                self.result.loc[self.result_len ,'EXIT DATE'] = self.df.loc[length]['date']\n",
    "                self.result.loc[self.result_len, 'REASON'] = 'TRG'\n",
    "                self.sell_on = False\n",
    "                self.trail_sl = False\n",
    "\n",
    "\n",
    "\n",
    "            # For Breakeven\n",
    "            elif self.df.loc[length]['low'] <= self.breakeven:\n",
    "                self.sl = min(self.df.loc[self.base_candle_index]['close'], self.df.loc[length]['EMA_8'])\n",
    "                self.trail_sl = True\n",
    "\n",
    "\n",
    "        #               For Gap Up exit\n",
    "            elif self.sl <= self.df.loc[length]['open']:\n",
    "\n",
    "                self.result.loc[self.result_len, 'EXIT'] =  self.df.loc[length]['open']\n",
    "                self.result.loc[self.result_len, 'EXIT DATE'] = self.df.loc[length]['date']\n",
    "\n",
    "                if self.trail_sl:\n",
    "                    self.result.loc[self.result_len, 'REASON'] = 'TRAIL_SL'\n",
    "                    self.trail_sl = False\n",
    "\n",
    "                else:\n",
    "                    self.result.loc[self.result_len, 'REASON'] == 'SL'\n",
    "\n",
    "                self.sell_on = False\n",
    "\n",
    "\n",
    "            # Red candle High hits SL \n",
    "            elif self.sl <= self.df.loc[length]['high']:\n",
    "\n",
    "                self.result.loc[self.result_len, 'EXIT'] =  self.sl\n",
    "                self.result.loc[self.result_len, 'EXIT DATE'] = self.df.loc[length]['date']\n",
    "\n",
    "                if self.trail_sl:\n",
    "                    self.result.loc[self.result_len, 'REASON'] = 'TRAIL_SL'\n",
    "                    self.trail_sl = False\n",
    "\n",
    "                else:\n",
    "                    self.result.loc[self.result_len, 'REASON'] = 'SL'\n",
    "\n",
    "                self.sell_on = False\n",
    "\n",
    "\n",
    "        elif current_candle == 'G':\n",
    "        # SL condition\n",
    "\n",
    "        #                 For Gap UP\n",
    "            if self.sl <= self.df.loc[length]['open']:\n",
    "\n",
    "                self.result.loc[self.result_len, 'EXIT'] =  self.df.loc[length]['open']\n",
    "                self.result.loc[self.result_len, 'EXIT DATE'] = self.df.loc[length]['date']\n",
    "\n",
    "                if self.trail_sl:\n",
    "                    self.result.loc[self.result_len, 'REASON'] = 'TRAIL_SL'\n",
    "                    self.trail_sl = False\n",
    "\n",
    "                else:\n",
    "                    self.result.loc[self.result_len, 'REASON'] = 'SL'\n",
    "\n",
    "                self.sell_on = False\n",
    "\n",
    "        #                 For SL\n",
    "            elif self.sl <= self.df.loc[length]['high']:\n",
    "\n",
    "                self.result.loc[self.result_len, 'EXIT'] = self.sl\n",
    "                self.result.loc[self.result_len, 'EXIT DATE'] = self.df.loc[length]['date']\n",
    "                if self.trail_sl:\n",
    "                    self.result.loc[self.result_len, 'REASON'] = 'TRAIL_SL'\n",
    "                    self.trail_sl = False\n",
    "\n",
    "                else:\n",
    "                    self.result.loc[self.result_len, 'REASON'] = 'SL'\n",
    "\n",
    "                self.sell_on = False\n",
    "\n",
    "\n",
    "        #  Max wait period 11 Days till breakeven \n",
    "        # or current candle closed above 1% to last\n",
    "        # else exit the trade\n",
    "        prev_close_one_percent = (self.df.loc[length - 1]['close'])/100\n",
    "\n",
    "        if ((length > (self.base_candle_index + 10)) and (self.df.loc[length]['close'] > self.breakeven) and\n",
    "            (self.df.loc[length]['close'] >  (self.df.loc[length - 1]['close']) - prev_close_one_percent)):\n",
    "\n",
    "            self.result.loc[self.result_len, 'EXIT'] = self.df.loc[length]['close']\n",
    "            self.result.loc[self.result_len ,'EXIT DATE'] = self.df.loc[length]['date']\n",
    "            self.result.loc[self.result_len, 'REASON'] = 'NO MOVE'\n",
    "            self.sell_on = False\n",
    "            self.trail_sl = False\n",
    "\n",
    "        if self.sell_on == False:\n",
    "        \n",
    "            self.result.loc[self.result_len, 'P/L'] = self.result.loc[self.result_len]['ENTRY'] - self.result.loc[self.result_len]['EXIT']\n",
    "\n",
    "\n",
    "            self.result.loc[self.result_len, 'REAL P/L'] = (\n",
    "            self.quantity * self.one_pip_value * self.result_pip_calc(\n",
    "            self.result.loc[self.result_len]['ENTRY'],\n",
    "            self.result.loc[self.result_len, 'P/L']\n",
    "                )\n",
    "            )\n",
    "        \n",
    "    \n",
    "    def Caller(self):\n",
    "        # Initialize an empty DataFrame to store the past data that gets dropped\n",
    "        self.past_df = pd.DataFrame()\n",
    "        \n",
    "#         Loop for taking the live data\n",
    "        for index, row in self.df2.iterrows():\n",
    "            # Add live data to the df DataFrame\n",
    "            self.df = self.df.append(row, ignore_index=True)\n",
    "#             self.df = pd.concat([self.df, row], ignore_index=True)\n",
    "\n",
    "            # Delete the first row if the DataFrame has more than 202 rows\n",
    "            if len(self.df) > 500:\n",
    "                # Save the dropped row in past_df\n",
    "                self.past_df = self.past_df.append(self.df.iloc[0], ignore_index=True)\n",
    "                self.df = self.df.iloc[1:].reset_index(drop=True)\n",
    "            \n",
    "\n",
    "#             position_index = self.df[self.df['date'] == self.trend_date].index[0]\n",
    "    \n",
    "# #           Check trend\n",
    "#             self.calculate_current_trend(position_index)\n",
    "            \n",
    "            # Calculate indicators for the current state of df\n",
    "            self.calculate_indicators()\n",
    "            \n",
    "#             self.entries()\n",
    "\n",
    "            if self.buy_on == True:\n",
    "                \n",
    "                self.manage_buy()\n",
    "                                    \n",
    "            elif self.sell_on == True:\n",
    "                                    \n",
    "                self.manage_sell()\n",
    "                \n",
    "            else:\n",
    "            \n",
    "    #             Apply all entry conditions\n",
    "                self.check_conditions()\n",
    "\n",
    "        # Concatenate past_df and df to get the full dataset\n",
    "        self.result_df = pd.concat([self.past_df, self.df], ignore_index=True)\n",
    "\n",
    "        # Save the result_df to an Excel file\n",
    "        self.result_df.to_excel('combined.xlsx')\n",
    "        \n",
    "        self.result.to_excel('Record_trades.xlsx')\n"
   ]
  },
  {
   "cell_type": "code",
   "execution_count": 45,
   "id": "40f91161",
   "metadata": {},
   "outputs": [
    {
     "name": "stderr",
     "output_type": "stream",
     "text": [
      "C:\\Users\\hp\\AppData\\Local\\Temp\\ipykernel_2904\\365529943.py:28: SettingWithCopyWarning: \n",
      "A value is trying to be set on a copy of a slice from a DataFrame.\n",
      "Try using .loc[row_indexer,col_indexer] = value instead\n",
      "\n",
      "See the caveats in the documentation: https://pandas.pydata.org/pandas-docs/stable/user_guide/indexing.html#returning-a-view-versus-a-copy\n",
      "  self.df.loc[:, 'squeeze_on'] = False\n",
      "C:\\Users\\hp\\AppData\\Local\\Temp\\ipykernel_2904\\365529943.py:58: SettingWithCopyWarning: \n",
      "A value is trying to be set on a copy of a slice from a DataFrame.\n",
      "Try using .loc[row_indexer,col_indexer] = value instead\n",
      "\n",
      "See the caveats in the documentation: https://pandas.pydata.org/pandas-docs/stable/user_guide/indexing.html#returning-a-view-versus-a-copy\n",
      "  self.df['tradable'] = 0\n",
      "C:\\Users\\hp\\AppData\\Local\\Temp\\ipykernel_2904\\365529943.py:940: FutureWarning: The frame.append method is deprecated and will be removed from pandas in a future version. Use pandas.concat instead.\n",
      "  self.df = self.df.append(row, ignore_index=True)\n",
      "C:\\Users\\hp\\AppData\\Local\\Temp\\ipykernel_2904\\365529943.py:946: FutureWarning: The frame.append method is deprecated and will be removed from pandas in a future version. Use pandas.concat instead.\n",
      "  self.past_df = self.past_df.append(self.df.iloc[0], ignore_index=True)\n",
      "C:\\Users\\hp\\AppData\\Local\\Temp\\ipykernel_2904\\365529943.py:940: FutureWarning: The frame.append method is deprecated and will be removed from pandas in a future version. Use pandas.concat instead.\n",
      "  self.df = self.df.append(row, ignore_index=True)\n",
      "C:\\Users\\hp\\AppData\\Local\\Temp\\ipykernel_2904\\365529943.py:946: FutureWarning: The frame.append method is deprecated and will be removed from pandas in a future version. Use pandas.concat instead.\n",
      "  self.past_df = self.past_df.append(self.df.iloc[0], ignore_index=True)\n",
      "C:\\Users\\hp\\AppData\\Local\\Temp\\ipykernel_2904\\365529943.py:940: FutureWarning: The frame.append method is deprecated and will be removed from pandas in a future version. Use pandas.concat instead.\n",
      "  self.df = self.df.append(row, ignore_index=True)\n",
      "C:\\Users\\hp\\AppData\\Local\\Temp\\ipykernel_2904\\365529943.py:946: FutureWarning: The frame.append method is deprecated and will be removed from pandas in a future version. Use pandas.concat instead.\n",
      "  self.past_df = self.past_df.append(self.df.iloc[0], ignore_index=True)\n"
     ]
    },
    {
     "name": "stdout",
     "output_type": "stream",
     "text": [
      "In Sell\n",
      "In Sell\n",
      "In Sell\n",
      "In Sell\n",
      "In Sell\n",
      "In Sell\n",
      "In Sell\n",
      "In Sell\n"
     ]
    },
    {
     "name": "stderr",
     "output_type": "stream",
     "text": [
      "C:\\Users\\hp\\AppData\\Local\\Temp\\ipykernel_2904\\365529943.py:940: FutureWarning: The frame.append method is deprecated and will be removed from pandas in a future version. Use pandas.concat instead.\n",
      "  self.df = self.df.append(row, ignore_index=True)\n",
      "C:\\Users\\hp\\AppData\\Local\\Temp\\ipykernel_2904\\365529943.py:946: FutureWarning: The frame.append method is deprecated and will be removed from pandas in a future version. Use pandas.concat instead.\n",
      "  self.past_df = self.past_df.append(self.df.iloc[0], ignore_index=True)\n",
      "C:\\Users\\hp\\AppData\\Local\\Temp\\ipykernel_2904\\365529943.py:940: FutureWarning: The frame.append method is deprecated and will be removed from pandas in a future version. Use pandas.concat instead.\n",
      "  self.df = self.df.append(row, ignore_index=True)\n",
      "C:\\Users\\hp\\AppData\\Local\\Temp\\ipykernel_2904\\365529943.py:946: FutureWarning: The frame.append method is deprecated and will be removed from pandas in a future version. Use pandas.concat instead.\n",
      "  self.past_df = self.past_df.append(self.df.iloc[0], ignore_index=True)\n",
      "C:\\Users\\hp\\AppData\\Local\\Temp\\ipykernel_2904\\365529943.py:940: FutureWarning: The frame.append method is deprecated and will be removed from pandas in a future version. Use pandas.concat instead.\n",
      "  self.df = self.df.append(row, ignore_index=True)\n",
      "C:\\Users\\hp\\AppData\\Local\\Temp\\ipykernel_2904\\365529943.py:946: FutureWarning: The frame.append method is deprecated and will be removed from pandas in a future version. Use pandas.concat instead.\n",
      "  self.past_df = self.past_df.append(self.df.iloc[0], ignore_index=True)\n"
     ]
    },
    {
     "name": "stdout",
     "output_type": "stream",
     "text": [
      "In Sell\n",
      "In Sell\n",
      "In Sell\n",
      "In Sell\n",
      "In Sell\n",
      "In Sell\n",
      "In Sell\n",
      "In Sell\n",
      "In Sell\n",
      "In Sell\n",
      "In Sell\n",
      "In Sell\n"
     ]
    },
    {
     "name": "stderr",
     "output_type": "stream",
     "text": [
      "C:\\Users\\hp\\AppData\\Local\\Temp\\ipykernel_2904\\365529943.py:940: FutureWarning: The frame.append method is deprecated and will be removed from pandas in a future version. Use pandas.concat instead.\n",
      "  self.df = self.df.append(row, ignore_index=True)\n",
      "C:\\Users\\hp\\AppData\\Local\\Temp\\ipykernel_2904\\365529943.py:946: FutureWarning: The frame.append method is deprecated and will be removed from pandas in a future version. Use pandas.concat instead.\n",
      "  self.past_df = self.past_df.append(self.df.iloc[0], ignore_index=True)\n"
     ]
    },
    {
     "name": "stdout",
     "output_type": "stream",
     "text": [
      "In Sell\n",
      "In Sell\n",
      "In Sell\n",
      "In Sell\n"
     ]
    },
    {
     "name": "stderr",
     "output_type": "stream",
     "text": [
      "C:\\Users\\hp\\AppData\\Local\\Temp\\ipykernel_2904\\365529943.py:940: FutureWarning: The frame.append method is deprecated and will be removed from pandas in a future version. Use pandas.concat instead.\n",
      "  self.df = self.df.append(row, ignore_index=True)\n",
      "C:\\Users\\hp\\AppData\\Local\\Temp\\ipykernel_2904\\365529943.py:946: FutureWarning: The frame.append method is deprecated and will be removed from pandas in a future version. Use pandas.concat instead.\n",
      "  self.past_df = self.past_df.append(self.df.iloc[0], ignore_index=True)\n"
     ]
    },
    {
     "name": "stdout",
     "output_type": "stream",
     "text": [
      "In Sell\n"
     ]
    },
    {
     "name": "stderr",
     "output_type": "stream",
     "text": [
      "C:\\Users\\hp\\AppData\\Local\\Temp\\ipykernel_2904\\365529943.py:940: FutureWarning: The frame.append method is deprecated and will be removed from pandas in a future version. Use pandas.concat instead.\n",
      "  self.df = self.df.append(row, ignore_index=True)\n",
      "C:\\Users\\hp\\AppData\\Local\\Temp\\ipykernel_2904\\365529943.py:946: FutureWarning: The frame.append method is deprecated and will be removed from pandas in a future version. Use pandas.concat instead.\n",
      "  self.past_df = self.past_df.append(self.df.iloc[0], ignore_index=True)\n",
      "C:\\Users\\hp\\AppData\\Local\\Temp\\ipykernel_2904\\365529943.py:940: FutureWarning: The frame.append method is deprecated and will be removed from pandas in a future version. Use pandas.concat instead.\n",
      "  self.df = self.df.append(row, ignore_index=True)\n",
      "C:\\Users\\hp\\AppData\\Local\\Temp\\ipykernel_2904\\365529943.py:946: FutureWarning: The frame.append method is deprecated and will be removed from pandas in a future version. Use pandas.concat instead.\n",
      "  self.past_df = self.past_df.append(self.df.iloc[0], ignore_index=True)\n"
     ]
    },
    {
     "name": "stdout",
     "output_type": "stream",
     "text": [
      "In Sell\n",
      "In Sell\n",
      "In Sell\n",
      "In Sell\n",
      "In Sell\n",
      "In Sell\n",
      "In Sell\n",
      "In Sell\n",
      "In Sell\n"
     ]
    },
    {
     "name": "stderr",
     "output_type": "stream",
     "text": [
      "C:\\Users\\hp\\AppData\\Local\\Temp\\ipykernel_2904\\365529943.py:940: FutureWarning: The frame.append method is deprecated and will be removed from pandas in a future version. Use pandas.concat instead.\n",
      "  self.df = self.df.append(row, ignore_index=True)\n",
      "C:\\Users\\hp\\AppData\\Local\\Temp\\ipykernel_2904\\365529943.py:946: FutureWarning: The frame.append method is deprecated and will be removed from pandas in a future version. Use pandas.concat instead.\n",
      "  self.past_df = self.past_df.append(self.df.iloc[0], ignore_index=True)\n",
      "C:\\Users\\hp\\AppData\\Local\\Temp\\ipykernel_2904\\365529943.py:940: FutureWarning: The frame.append method is deprecated and will be removed from pandas in a future version. Use pandas.concat instead.\n",
      "  self.df = self.df.append(row, ignore_index=True)\n",
      "C:\\Users\\hp\\AppData\\Local\\Temp\\ipykernel_2904\\365529943.py:946: FutureWarning: The frame.append method is deprecated and will be removed from pandas in a future version. Use pandas.concat instead.\n",
      "  self.past_df = self.past_df.append(self.df.iloc[0], ignore_index=True)\n"
     ]
    },
    {
     "name": "stdout",
     "output_type": "stream",
     "text": [
      "In Sell\n",
      "In Sell\n",
      "In Sell\n",
      "In Sell\n",
      "In Sell\n",
      "In Sell\n"
     ]
    },
    {
     "name": "stderr",
     "output_type": "stream",
     "text": [
      "C:\\Users\\hp\\AppData\\Local\\Temp\\ipykernel_2904\\365529943.py:940: FutureWarning: The frame.append method is deprecated and will be removed from pandas in a future version. Use pandas.concat instead.\n",
      "  self.df = self.df.append(row, ignore_index=True)\n",
      "C:\\Users\\hp\\AppData\\Local\\Temp\\ipykernel_2904\\365529943.py:946: FutureWarning: The frame.append method is deprecated and will be removed from pandas in a future version. Use pandas.concat instead.\n",
      "  self.past_df = self.past_df.append(self.df.iloc[0], ignore_index=True)\n"
     ]
    },
    {
     "name": "stdout",
     "output_type": "stream",
     "text": [
      "In Sell\n",
      "In Sell\n",
      "In Sell\n",
      "In Sell\n",
      "In Sell\n",
      "In Sell\n",
      "In Sell\n",
      "In Sell\n",
      "In Sell\n",
      "In Sell\n",
      "In Sell\n",
      "In Sell\n",
      "In Sell\n",
      "In Sell\n",
      "In Sell\n",
      "In Sell\n",
      "In Sell\n",
      "In Sell\n",
      "In Sell\n",
      "In Sell\n",
      "In Sell\n",
      "In Sell\n"
     ]
    },
    {
     "name": "stderr",
     "output_type": "stream",
     "text": [
      "C:\\Users\\hp\\AppData\\Local\\Temp\\ipykernel_2904\\365529943.py:940: FutureWarning: The frame.append method is deprecated and will be removed from pandas in a future version. Use pandas.concat instead.\n",
      "  self.df = self.df.append(row, ignore_index=True)\n",
      "C:\\Users\\hp\\AppData\\Local\\Temp\\ipykernel_2904\\365529943.py:946: FutureWarning: The frame.append method is deprecated and will be removed from pandas in a future version. Use pandas.concat instead.\n",
      "  self.past_df = self.past_df.append(self.df.iloc[0], ignore_index=True)\n"
     ]
    },
    {
     "name": "stdout",
     "output_type": "stream",
     "text": [
      "In Buy\n",
      "In a green candle\n",
      "In Buy\n",
      "In a green candle\n",
      "In Buy\n",
      "In red candle\n",
      "In Buy\n",
      "In red candle\n",
      "In SL Condition\n"
     ]
    },
    {
     "name": "stderr",
     "output_type": "stream",
     "text": [
      "C:\\Users\\hp\\AppData\\Local\\Temp\\ipykernel_2904\\365529943.py:940: FutureWarning: The frame.append method is deprecated and will be removed from pandas in a future version. Use pandas.concat instead.\n",
      "  self.df = self.df.append(row, ignore_index=True)\n",
      "C:\\Users\\hp\\AppData\\Local\\Temp\\ipykernel_2904\\365529943.py:946: FutureWarning: The frame.append method is deprecated and will be removed from pandas in a future version. Use pandas.concat instead.\n",
      "  self.past_df = self.past_df.append(self.df.iloc[0], ignore_index=True)\n"
     ]
    },
    {
     "name": "stdout",
     "output_type": "stream",
     "text": [
      "In Buy\n",
      "In a green candle\n",
      "In Buy\n",
      "In a green candle\n",
      "In Buy\n",
      "In a green candle\n",
      "In Buy\n",
      "In red candle\n",
      "In Buy\n",
      "In red candle\n",
      "In Buy\n",
      "In red candle\n",
      "In SL Condition\n"
     ]
    },
    {
     "name": "stderr",
     "output_type": "stream",
     "text": [
      "C:\\Users\\hp\\AppData\\Local\\Temp\\ipykernel_2904\\365529943.py:940: FutureWarning: The frame.append method is deprecated and will be removed from pandas in a future version. Use pandas.concat instead.\n",
      "  self.df = self.df.append(row, ignore_index=True)\n",
      "C:\\Users\\hp\\AppData\\Local\\Temp\\ipykernel_2904\\365529943.py:946: FutureWarning: The frame.append method is deprecated and will be removed from pandas in a future version. Use pandas.concat instead.\n",
      "  self.past_df = self.past_df.append(self.df.iloc[0], ignore_index=True)\n"
     ]
    },
    {
     "name": "stdout",
     "output_type": "stream",
     "text": [
      "In Buy\n",
      "In red candle\n",
      "In SL Condition\n"
     ]
    },
    {
     "name": "stderr",
     "output_type": "stream",
     "text": [
      "C:\\Users\\hp\\AppData\\Local\\Temp\\ipykernel_2904\\365529943.py:940: FutureWarning: The frame.append method is deprecated and will be removed from pandas in a future version. Use pandas.concat instead.\n",
      "  self.df = self.df.append(row, ignore_index=True)\n",
      "C:\\Users\\hp\\AppData\\Local\\Temp\\ipykernel_2904\\365529943.py:946: FutureWarning: The frame.append method is deprecated and will be removed from pandas in a future version. Use pandas.concat instead.\n",
      "  self.past_df = self.past_df.append(self.df.iloc[0], ignore_index=True)\n"
     ]
    },
    {
     "name": "stdout",
     "output_type": "stream",
     "text": [
      "In Buy\n",
      "In red candle\n",
      "In Buy\n",
      "In a green candle\n",
      "In Buy\n",
      "In a green candle\n",
      "In Buy\n",
      "In a green candle\n",
      "In Buy\n",
      "In red candle\n",
      "In Buy\n",
      "In a green candle\n",
      "In Buy\n",
      "In a green candle\n",
      "In Buy\n",
      "In red candle\n",
      "In Buy\n",
      "In red candle\n",
      "In Buy\n",
      "In red candle\n",
      "In Buy\n",
      "In a green candle\n",
      "In Buy\n",
      "In red candle\n",
      "In Buy\n",
      "In a green candle\n",
      "In Buy\n",
      "In a green candle\n",
      "In Buy\n",
      "In red candle\n",
      "In Buy\n",
      "In a green candle\n",
      "In Buy\n",
      "In red candle\n",
      "In Buy\n",
      "In a green candle\n",
      "In TRG exit condition\n"
     ]
    },
    {
     "name": "stderr",
     "output_type": "stream",
     "text": [
      "C:\\Users\\hp\\AppData\\Local\\Temp\\ipykernel_2904\\365529943.py:940: FutureWarning: The frame.append method is deprecated and will be removed from pandas in a future version. Use pandas.concat instead.\n",
      "  self.df = self.df.append(row, ignore_index=True)\n",
      "C:\\Users\\hp\\AppData\\Local\\Temp\\ipykernel_2904\\365529943.py:946: FutureWarning: The frame.append method is deprecated and will be removed from pandas in a future version. Use pandas.concat instead.\n",
      "  self.past_df = self.past_df.append(self.df.iloc[0], ignore_index=True)\n"
     ]
    },
    {
     "name": "stdout",
     "output_type": "stream",
     "text": [
      "In Buy\n",
      "In a green candle\n",
      "In TRG exit condition\n"
     ]
    },
    {
     "name": "stderr",
     "output_type": "stream",
     "text": [
      "C:\\Users\\hp\\AppData\\Local\\Temp\\ipykernel_2904\\365529943.py:940: FutureWarning: The frame.append method is deprecated and will be removed from pandas in a future version. Use pandas.concat instead.\n",
      "  self.df = self.df.append(row, ignore_index=True)\n",
      "C:\\Users\\hp\\AppData\\Local\\Temp\\ipykernel_2904\\365529943.py:946: FutureWarning: The frame.append method is deprecated and will be removed from pandas in a future version. Use pandas.concat instead.\n",
      "  self.past_df = self.past_df.append(self.df.iloc[0], ignore_index=True)\n"
     ]
    },
    {
     "name": "stdout",
     "output_type": "stream",
     "text": [
      "In Buy\n",
      "In red candle\n",
      "In Buy\n",
      "In red candle\n",
      "In Buy\n",
      "In red candle\n",
      "In SL Condition\n"
     ]
    },
    {
     "name": "stderr",
     "output_type": "stream",
     "text": [
      "C:\\Users\\hp\\AppData\\Local\\Temp\\ipykernel_2904\\365529943.py:940: FutureWarning: The frame.append method is deprecated and will be removed from pandas in a future version. Use pandas.concat instead.\n",
      "  self.df = self.df.append(row, ignore_index=True)\n",
      "C:\\Users\\hp\\AppData\\Local\\Temp\\ipykernel_2904\\365529943.py:946: FutureWarning: The frame.append method is deprecated and will be removed from pandas in a future version. Use pandas.concat instead.\n",
      "  self.past_df = self.past_df.append(self.df.iloc[0], ignore_index=True)\n"
     ]
    },
    {
     "name": "stdout",
     "output_type": "stream",
     "text": [
      "In Buy\n",
      "In a green candle\n",
      "In Buy\n",
      "In a green candle\n",
      "In Buy\n",
      "In a green candle\n",
      "In TRG exit condition\n"
     ]
    },
    {
     "name": "stderr",
     "output_type": "stream",
     "text": [
      "C:\\Users\\hp\\AppData\\Local\\Temp\\ipykernel_2904\\365529943.py:940: FutureWarning: The frame.append method is deprecated and will be removed from pandas in a future version. Use pandas.concat instead.\n",
      "  self.df = self.df.append(row, ignore_index=True)\n",
      "C:\\Users\\hp\\AppData\\Local\\Temp\\ipykernel_2904\\365529943.py:946: FutureWarning: The frame.append method is deprecated and will be removed from pandas in a future version. Use pandas.concat instead.\n",
      "  self.past_df = self.past_df.append(self.df.iloc[0], ignore_index=True)\n"
     ]
    },
    {
     "name": "stdout",
     "output_type": "stream",
     "text": [
      "In Buy\n",
      "In a green candle\n",
      "In Buy\n",
      "In red candle\n",
      "In Buy\n",
      "In a green candle\n",
      "In Buy\n",
      "In a green candle\n",
      "In Buy\n",
      "In red candle\n",
      "In Buy\n",
      "In a green candle\n",
      "In SL Condition\n"
     ]
    },
    {
     "name": "stderr",
     "output_type": "stream",
     "text": [
      "C:\\Users\\hp\\AppData\\Local\\Temp\\ipykernel_2904\\365529943.py:940: FutureWarning: The frame.append method is deprecated and will be removed from pandas in a future version. Use pandas.concat instead.\n",
      "  self.df = self.df.append(row, ignore_index=True)\n",
      "C:\\Users\\hp\\AppData\\Local\\Temp\\ipykernel_2904\\365529943.py:946: FutureWarning: The frame.append method is deprecated and will be removed from pandas in a future version. Use pandas.concat instead.\n",
      "  self.past_df = self.past_df.append(self.df.iloc[0], ignore_index=True)\n",
      "C:\\Users\\hp\\AppData\\Local\\Temp\\ipykernel_2904\\365529943.py:940: FutureWarning: The frame.append method is deprecated and will be removed from pandas in a future version. Use pandas.concat instead.\n",
      "  self.df = self.df.append(row, ignore_index=True)\n",
      "C:\\Users\\hp\\AppData\\Local\\Temp\\ipykernel_2904\\365529943.py:946: FutureWarning: The frame.append method is deprecated and will be removed from pandas in a future version. Use pandas.concat instead.\n",
      "  self.past_df = self.past_df.append(self.df.iloc[0], ignore_index=True)\n",
      "C:\\Users\\hp\\AppData\\Local\\Temp\\ipykernel_2904\\365529943.py:940: FutureWarning: The frame.append method is deprecated and will be removed from pandas in a future version. Use pandas.concat instead.\n",
      "  self.df = self.df.append(row, ignore_index=True)\n",
      "C:\\Users\\hp\\AppData\\Local\\Temp\\ipykernel_2904\\365529943.py:946: FutureWarning: The frame.append method is deprecated and will be removed from pandas in a future version. Use pandas.concat instead.\n",
      "  self.past_df = self.past_df.append(self.df.iloc[0], ignore_index=True)\n"
     ]
    },
    {
     "name": "stdout",
     "output_type": "stream",
     "text": [
      "In Sell\n",
      "In Sell\n",
      "In Sell\n",
      "In Sell\n",
      "In Sell\n",
      "In Sell\n",
      "In Sell\n",
      "In Sell\n",
      "In Sell\n",
      "In Sell\n",
      "In Sell\n",
      "In Sell\n",
      "In Sell\n",
      "In Sell\n",
      "In Sell\n",
      "In Sell\n",
      "In Sell\n",
      "In Sell\n",
      "In Sell\n",
      "In Sell\n",
      "In Sell\n",
      "In Sell\n"
     ]
    },
    {
     "name": "stderr",
     "output_type": "stream",
     "text": [
      "C:\\Users\\hp\\AppData\\Local\\Temp\\ipykernel_2904\\365529943.py:940: FutureWarning: The frame.append method is deprecated and will be removed from pandas in a future version. Use pandas.concat instead.\n",
      "  self.df = self.df.append(row, ignore_index=True)\n",
      "C:\\Users\\hp\\AppData\\Local\\Temp\\ipykernel_2904\\365529943.py:946: FutureWarning: The frame.append method is deprecated and will be removed from pandas in a future version. Use pandas.concat instead.\n",
      "  self.past_df = self.past_df.append(self.df.iloc[0], ignore_index=True)\n"
     ]
    },
    {
     "name": "stdout",
     "output_type": "stream",
     "text": [
      "In Sell\n",
      "In Sell\n",
      "In Sell\n",
      "In Sell\n",
      "In Sell\n",
      "In Sell\n",
      "In Sell\n",
      "In Sell\n",
      "In Sell\n",
      "In Sell\n",
      "In Sell\n"
     ]
    },
    {
     "name": "stderr",
     "output_type": "stream",
     "text": [
      "C:\\Users\\hp\\AppData\\Local\\Temp\\ipykernel_2904\\365529943.py:940: FutureWarning: The frame.append method is deprecated and will be removed from pandas in a future version. Use pandas.concat instead.\n",
      "  self.df = self.df.append(row, ignore_index=True)\n",
      "C:\\Users\\hp\\AppData\\Local\\Temp\\ipykernel_2904\\365529943.py:946: FutureWarning: The frame.append method is deprecated and will be removed from pandas in a future version. Use pandas.concat instead.\n",
      "  self.past_df = self.past_df.append(self.df.iloc[0], ignore_index=True)\n"
     ]
    },
    {
     "name": "stdout",
     "output_type": "stream",
     "text": [
      "In Sell\n",
      "In Sell\n",
      "In Sell\n",
      "In Sell\n",
      "In Sell\n",
      "In Sell\n",
      "In Sell\n",
      "In Sell\n",
      "In Sell\n",
      "In Sell\n",
      "In Sell\n",
      "In Sell\n",
      "In Sell\n",
      "In Sell\n",
      "In Sell\n"
     ]
    },
    {
     "name": "stderr",
     "output_type": "stream",
     "text": [
      "C:\\Users\\hp\\AppData\\Local\\Temp\\ipykernel_2904\\365529943.py:940: FutureWarning: The frame.append method is deprecated and will be removed from pandas in a future version. Use pandas.concat instead.\n",
      "  self.df = self.df.append(row, ignore_index=True)\n",
      "C:\\Users\\hp\\AppData\\Local\\Temp\\ipykernel_2904\\365529943.py:946: FutureWarning: The frame.append method is deprecated and will be removed from pandas in a future version. Use pandas.concat instead.\n",
      "  self.past_df = self.past_df.append(self.df.iloc[0], ignore_index=True)\n"
     ]
    },
    {
     "name": "stdout",
     "output_type": "stream",
     "text": [
      "In Sell\n",
      "In Sell\n",
      "In Sell\n",
      "In Sell\n",
      "In Sell\n"
     ]
    },
    {
     "name": "stderr",
     "output_type": "stream",
     "text": [
      "C:\\Users\\hp\\AppData\\Local\\Temp\\ipykernel_2904\\365529943.py:940: FutureWarning: The frame.append method is deprecated and will be removed from pandas in a future version. Use pandas.concat instead.\n",
      "  self.df = self.df.append(row, ignore_index=True)\n",
      "C:\\Users\\hp\\AppData\\Local\\Temp\\ipykernel_2904\\365529943.py:946: FutureWarning: The frame.append method is deprecated and will be removed from pandas in a future version. Use pandas.concat instead.\n",
      "  self.past_df = self.past_df.append(self.df.iloc[0], ignore_index=True)\n"
     ]
    },
    {
     "name": "stdout",
     "output_type": "stream",
     "text": [
      "In Sell\n",
      "In Sell\n",
      "In Sell\n"
     ]
    },
    {
     "name": "stderr",
     "output_type": "stream",
     "text": [
      "C:\\Users\\hp\\AppData\\Local\\Temp\\ipykernel_2904\\365529943.py:940: FutureWarning: The frame.append method is deprecated and will be removed from pandas in a future version. Use pandas.concat instead.\n",
      "  self.df = self.df.append(row, ignore_index=True)\n",
      "C:\\Users\\hp\\AppData\\Local\\Temp\\ipykernel_2904\\365529943.py:946: FutureWarning: The frame.append method is deprecated and will be removed from pandas in a future version. Use pandas.concat instead.\n",
      "  self.past_df = self.past_df.append(self.df.iloc[0], ignore_index=True)\n",
      "C:\\Users\\hp\\AppData\\Local\\Temp\\ipykernel_2904\\365529943.py:940: FutureWarning: The frame.append method is deprecated and will be removed from pandas in a future version. Use pandas.concat instead.\n",
      "  self.df = self.df.append(row, ignore_index=True)\n",
      "C:\\Users\\hp\\AppData\\Local\\Temp\\ipykernel_2904\\365529943.py:946: FutureWarning: The frame.append method is deprecated and will be removed from pandas in a future version. Use pandas.concat instead.\n",
      "  self.past_df = self.past_df.append(self.df.iloc[0], ignore_index=True)\n"
     ]
    },
    {
     "name": "stdout",
     "output_type": "stream",
     "text": [
      "In Sell\n",
      "In Sell\n",
      "In Sell\n",
      "In Sell\n",
      "In Sell\n",
      "In Sell\n"
     ]
    },
    {
     "name": "stderr",
     "output_type": "stream",
     "text": [
      "C:\\Users\\hp\\AppData\\Local\\Temp\\ipykernel_2904\\365529943.py:940: FutureWarning: The frame.append method is deprecated and will be removed from pandas in a future version. Use pandas.concat instead.\n",
      "  self.df = self.df.append(row, ignore_index=True)\n",
      "C:\\Users\\hp\\AppData\\Local\\Temp\\ipykernel_2904\\365529943.py:946: FutureWarning: The frame.append method is deprecated and will be removed from pandas in a future version. Use pandas.concat instead.\n",
      "  self.past_df = self.past_df.append(self.df.iloc[0], ignore_index=True)\n",
      "C:\\Users\\hp\\AppData\\Local\\Temp\\ipykernel_2904\\365529943.py:940: FutureWarning: The frame.append method is deprecated and will be removed from pandas in a future version. Use pandas.concat instead.\n",
      "  self.df = self.df.append(row, ignore_index=True)\n",
      "C:\\Users\\hp\\AppData\\Local\\Temp\\ipykernel_2904\\365529943.py:946: FutureWarning: The frame.append method is deprecated and will be removed from pandas in a future version. Use pandas.concat instead.\n",
      "  self.past_df = self.past_df.append(self.df.iloc[0], ignore_index=True)\n",
      "C:\\Users\\hp\\AppData\\Local\\Temp\\ipykernel_2904\\365529943.py:940: FutureWarning: The frame.append method is deprecated and will be removed from pandas in a future version. Use pandas.concat instead.\n",
      "  self.df = self.df.append(row, ignore_index=True)\n",
      "C:\\Users\\hp\\AppData\\Local\\Temp\\ipykernel_2904\\365529943.py:946: FutureWarning: The frame.append method is deprecated and will be removed from pandas in a future version. Use pandas.concat instead.\n",
      "  self.past_df = self.past_df.append(self.df.iloc[0], ignore_index=True)\n"
     ]
    },
    {
     "name": "stdout",
     "output_type": "stream",
     "text": [
      "In Sell\n",
      "In Sell\n",
      "In Sell\n",
      "In Sell\n",
      "In Sell\n",
      "In Sell\n",
      "In Sell\n",
      "In Sell\n",
      "In Sell\n"
     ]
    },
    {
     "name": "stderr",
     "output_type": "stream",
     "text": [
      "C:\\Users\\hp\\AppData\\Local\\Temp\\ipykernel_2904\\365529943.py:940: FutureWarning: The frame.append method is deprecated and will be removed from pandas in a future version. Use pandas.concat instead.\n",
      "  self.df = self.df.append(row, ignore_index=True)\n",
      "C:\\Users\\hp\\AppData\\Local\\Temp\\ipykernel_2904\\365529943.py:946: FutureWarning: The frame.append method is deprecated and will be removed from pandas in a future version. Use pandas.concat instead.\n",
      "  self.past_df = self.past_df.append(self.df.iloc[0], ignore_index=True)\n",
      "C:\\Users\\hp\\AppData\\Local\\Temp\\ipykernel_2904\\365529943.py:940: FutureWarning: The frame.append method is deprecated and will be removed from pandas in a future version. Use pandas.concat instead.\n",
      "  self.df = self.df.append(row, ignore_index=True)\n",
      "C:\\Users\\hp\\AppData\\Local\\Temp\\ipykernel_2904\\365529943.py:946: FutureWarning: The frame.append method is deprecated and will be removed from pandas in a future version. Use pandas.concat instead.\n",
      "  self.past_df = self.past_df.append(self.df.iloc[0], ignore_index=True)\n"
     ]
    },
    {
     "name": "stdout",
     "output_type": "stream",
     "text": [
      "In Buy\n",
      "In a green candle\n",
      "In Buy\n",
      "In red candle\n",
      "In SL Condition\n"
     ]
    },
    {
     "name": "stderr",
     "output_type": "stream",
     "text": [
      "C:\\Users\\hp\\AppData\\Local\\Temp\\ipykernel_2904\\365529943.py:940: FutureWarning: The frame.append method is deprecated and will be removed from pandas in a future version. Use pandas.concat instead.\n",
      "  self.df = self.df.append(row, ignore_index=True)\n",
      "C:\\Users\\hp\\AppData\\Local\\Temp\\ipykernel_2904\\365529943.py:946: FutureWarning: The frame.append method is deprecated and will be removed from pandas in a future version. Use pandas.concat instead.\n",
      "  self.past_df = self.past_df.append(self.df.iloc[0], ignore_index=True)\n"
     ]
    },
    {
     "name": "stdout",
     "output_type": "stream",
     "text": [
      "In Buy\n",
      "In a green candle\n",
      "In Buy\n",
      "In a green candle\n",
      "In Buy\n",
      "In red candle\n",
      "In Buy\n",
      "In red candle\n",
      "In SL Condition\n"
     ]
    },
    {
     "name": "stderr",
     "output_type": "stream",
     "text": [
      "C:\\Users\\hp\\AppData\\Local\\Temp\\ipykernel_2904\\365529943.py:940: FutureWarning: The frame.append method is deprecated and will be removed from pandas in a future version. Use pandas.concat instead.\n",
      "  self.df = self.df.append(row, ignore_index=True)\n",
      "C:\\Users\\hp\\AppData\\Local\\Temp\\ipykernel_2904\\365529943.py:946: FutureWarning: The frame.append method is deprecated and will be removed from pandas in a future version. Use pandas.concat instead.\n",
      "  self.past_df = self.past_df.append(self.df.iloc[0], ignore_index=True)\n"
     ]
    },
    {
     "name": "stdout",
     "output_type": "stream",
     "text": [
      "In Buy\n",
      "In a green candle\n",
      "In Buy\n",
      "In red candle\n",
      "In Buy\n",
      "In a green candle\n",
      "In Buy\n",
      "In red candle\n",
      "In Buy\n",
      "In red candle\n",
      "In SL Condition\n"
     ]
    },
    {
     "name": "stderr",
     "output_type": "stream",
     "text": [
      "C:\\Users\\hp\\AppData\\Local\\Temp\\ipykernel_2904\\365529943.py:940: FutureWarning: The frame.append method is deprecated and will be removed from pandas in a future version. Use pandas.concat instead.\n",
      "  self.df = self.df.append(row, ignore_index=True)\n",
      "C:\\Users\\hp\\AppData\\Local\\Temp\\ipykernel_2904\\365529943.py:946: FutureWarning: The frame.append method is deprecated and will be removed from pandas in a future version. Use pandas.concat instead.\n",
      "  self.past_df = self.past_df.append(self.df.iloc[0], ignore_index=True)\n"
     ]
    },
    {
     "name": "stdout",
     "output_type": "stream",
     "text": [
      "In Buy\n",
      "In a green candle\n",
      "In TRG exit condition\n"
     ]
    },
    {
     "name": "stderr",
     "output_type": "stream",
     "text": [
      "C:\\Users\\hp\\AppData\\Local\\Temp\\ipykernel_2904\\365529943.py:940: FutureWarning: The frame.append method is deprecated and will be removed from pandas in a future version. Use pandas.concat instead.\n",
      "  self.df = self.df.append(row, ignore_index=True)\n",
      "C:\\Users\\hp\\AppData\\Local\\Temp\\ipykernel_2904\\365529943.py:946: FutureWarning: The frame.append method is deprecated and will be removed from pandas in a future version. Use pandas.concat instead.\n",
      "  self.past_df = self.past_df.append(self.df.iloc[0], ignore_index=True)\n"
     ]
    },
    {
     "name": "stdout",
     "output_type": "stream",
     "text": [
      "In Buy\n",
      "In red candle\n",
      "In Buy\n",
      "In a green candle\n",
      "In Buy\n",
      "In red candle\n",
      "In Buy\n",
      "In red candle\n",
      "In SL Condition\n"
     ]
    },
    {
     "name": "stderr",
     "output_type": "stream",
     "text": [
      "C:\\Users\\hp\\AppData\\Local\\Temp\\ipykernel_2904\\365529943.py:940: FutureWarning: The frame.append method is deprecated and will be removed from pandas in a future version. Use pandas.concat instead.\n",
      "  self.df = self.df.append(row, ignore_index=True)\n",
      "C:\\Users\\hp\\AppData\\Local\\Temp\\ipykernel_2904\\365529943.py:946: FutureWarning: The frame.append method is deprecated and will be removed from pandas in a future version. Use pandas.concat instead.\n",
      "  self.past_df = self.past_df.append(self.df.iloc[0], ignore_index=True)\n"
     ]
    },
    {
     "name": "stdout",
     "output_type": "stream",
     "text": [
      "In Buy\n",
      "In a green candle\n",
      "In Buy\n",
      "In red candle\n",
      "In Buy\n",
      "In a green candle\n",
      "In TRG exit condition\n"
     ]
    },
    {
     "name": "stderr",
     "output_type": "stream",
     "text": [
      "C:\\Users\\hp\\AppData\\Local\\Temp\\ipykernel_2904\\365529943.py:940: FutureWarning: The frame.append method is deprecated and will be removed from pandas in a future version. Use pandas.concat instead.\n",
      "  self.df = self.df.append(row, ignore_index=True)\n",
      "C:\\Users\\hp\\AppData\\Local\\Temp\\ipykernel_2904\\365529943.py:946: FutureWarning: The frame.append method is deprecated and will be removed from pandas in a future version. Use pandas.concat instead.\n",
      "  self.past_df = self.past_df.append(self.df.iloc[0], ignore_index=True)\n"
     ]
    },
    {
     "name": "stdout",
     "output_type": "stream",
     "text": [
      "In Buy\n",
      "In red candle\n",
      "In Buy\n",
      "In a green candle\n",
      "In SL Condition\n"
     ]
    },
    {
     "name": "stderr",
     "output_type": "stream",
     "text": [
      "C:\\Users\\hp\\AppData\\Local\\Temp\\ipykernel_2904\\365529943.py:940: FutureWarning: The frame.append method is deprecated and will be removed from pandas in a future version. Use pandas.concat instead.\n",
      "  self.df = self.df.append(row, ignore_index=True)\n",
      "C:\\Users\\hp\\AppData\\Local\\Temp\\ipykernel_2904\\365529943.py:946: FutureWarning: The frame.append method is deprecated and will be removed from pandas in a future version. Use pandas.concat instead.\n",
      "  self.past_df = self.past_df.append(self.df.iloc[0], ignore_index=True)\n"
     ]
    },
    {
     "name": "stdout",
     "output_type": "stream",
     "text": [
      "In Buy\n",
      "In a green candle\n",
      "In Buy\n",
      "In a green candle\n",
      "In Buy\n",
      "In red candle\n",
      "In Buy\n",
      "In red candle\n",
      "In Buy\n",
      "In a green candle\n",
      "In Buy\n",
      "In red candle\n",
      "In Buy\n",
      "In a green candle\n",
      "In Buy\n",
      "In red candle\n",
      "In Buy\n",
      "In red candle\n",
      "In Buy\n",
      "In a green candle\n",
      "In Buy\n",
      "In a green candle\n",
      "In Buy\n",
      "In a green candle\n",
      "In TRG exit condition\n"
     ]
    },
    {
     "name": "stderr",
     "output_type": "stream",
     "text": [
      "C:\\Users\\hp\\AppData\\Local\\Temp\\ipykernel_2904\\365529943.py:940: FutureWarning: The frame.append method is deprecated and will be removed from pandas in a future version. Use pandas.concat instead.\n",
      "  self.df = self.df.append(row, ignore_index=True)\n",
      "C:\\Users\\hp\\AppData\\Local\\Temp\\ipykernel_2904\\365529943.py:946: FutureWarning: The frame.append method is deprecated and will be removed from pandas in a future version. Use pandas.concat instead.\n",
      "  self.past_df = self.past_df.append(self.df.iloc[0], ignore_index=True)\n"
     ]
    },
    {
     "name": "stdout",
     "output_type": "stream",
     "text": [
      "In Buy\n",
      "In red candle\n",
      "In Buy\n",
      "In red candle\n",
      "In SL Condition\n"
     ]
    },
    {
     "name": "stderr",
     "output_type": "stream",
     "text": [
      "C:\\Users\\hp\\AppData\\Local\\Temp\\ipykernel_2904\\365529943.py:940: FutureWarning: The frame.append method is deprecated and will be removed from pandas in a future version. Use pandas.concat instead.\n",
      "  self.df = self.df.append(row, ignore_index=True)\n",
      "C:\\Users\\hp\\AppData\\Local\\Temp\\ipykernel_2904\\365529943.py:946: FutureWarning: The frame.append method is deprecated and will be removed from pandas in a future version. Use pandas.concat instead.\n",
      "  self.past_df = self.past_df.append(self.df.iloc[0], ignore_index=True)\n"
     ]
    },
    {
     "name": "stdout",
     "output_type": "stream",
     "text": [
      "In Sell\n",
      "In Sell\n",
      "In Sell\n",
      "In Sell\n",
      "In Sell\n",
      "In Sell\n",
      "In Sell\n",
      "In Sell\n",
      "In Sell\n",
      "In Sell\n",
      "In Sell\n",
      "In Sell\n",
      "In Sell\n",
      "In Sell\n",
      "In Sell\n",
      "In Sell\n",
      "In Sell\n",
      "In Sell\n",
      "In Sell\n",
      "In Sell\n"
     ]
    },
    {
     "name": "stderr",
     "output_type": "stream",
     "text": [
      "C:\\Users\\hp\\AppData\\Local\\Temp\\ipykernel_2904\\365529943.py:940: FutureWarning: The frame.append method is deprecated and will be removed from pandas in a future version. Use pandas.concat instead.\n",
      "  self.df = self.df.append(row, ignore_index=True)\n",
      "C:\\Users\\hp\\AppData\\Local\\Temp\\ipykernel_2904\\365529943.py:946: FutureWarning: The frame.append method is deprecated and will be removed from pandas in a future version. Use pandas.concat instead.\n",
      "  self.past_df = self.past_df.append(self.df.iloc[0], ignore_index=True)\n"
     ]
    },
    {
     "name": "stdout",
     "output_type": "stream",
     "text": [
      "In Sell\n",
      "In Sell\n",
      "In Sell\n",
      "In Sell\n",
      "In Sell\n",
      "In Sell\n"
     ]
    },
    {
     "name": "stderr",
     "output_type": "stream",
     "text": [
      "C:\\Users\\hp\\AppData\\Local\\Temp\\ipykernel_2904\\365529943.py:940: FutureWarning: The frame.append method is deprecated and will be removed from pandas in a future version. Use pandas.concat instead.\n",
      "  self.df = self.df.append(row, ignore_index=True)\n",
      "C:\\Users\\hp\\AppData\\Local\\Temp\\ipykernel_2904\\365529943.py:946: FutureWarning: The frame.append method is deprecated and will be removed from pandas in a future version. Use pandas.concat instead.\n",
      "  self.past_df = self.past_df.append(self.df.iloc[0], ignore_index=True)\n",
      "C:\\Users\\hp\\AppData\\Local\\Temp\\ipykernel_2904\\365529943.py:940: FutureWarning: The frame.append method is deprecated and will be removed from pandas in a future version. Use pandas.concat instead.\n",
      "  self.df = self.df.append(row, ignore_index=True)\n",
      "C:\\Users\\hp\\AppData\\Local\\Temp\\ipykernel_2904\\365529943.py:946: FutureWarning: The frame.append method is deprecated and will be removed from pandas in a future version. Use pandas.concat instead.\n",
      "  self.past_df = self.past_df.append(self.df.iloc[0], ignore_index=True)\n"
     ]
    },
    {
     "name": "stdout",
     "output_type": "stream",
     "text": [
      "In Sell\n",
      "In Sell\n",
      "In Sell\n",
      "In Sell\n",
      "In Sell\n",
      "In Sell\n",
      "In Sell\n",
      "In Sell\n",
      "In Sell\n",
      "In Sell\n"
     ]
    },
    {
     "name": "stderr",
     "output_type": "stream",
     "text": [
      "C:\\Users\\hp\\AppData\\Local\\Temp\\ipykernel_2904\\365529943.py:940: FutureWarning: The frame.append method is deprecated and will be removed from pandas in a future version. Use pandas.concat instead.\n",
      "  self.df = self.df.append(row, ignore_index=True)\n",
      "C:\\Users\\hp\\AppData\\Local\\Temp\\ipykernel_2904\\365529943.py:946: FutureWarning: The frame.append method is deprecated and will be removed from pandas in a future version. Use pandas.concat instead.\n",
      "  self.past_df = self.past_df.append(self.df.iloc[0], ignore_index=True)\n"
     ]
    },
    {
     "name": "stdout",
     "output_type": "stream",
     "text": [
      "In Sell\n",
      "In Sell\n",
      "In Sell\n",
      "In Sell\n",
      "In Sell\n",
      "In Sell\n",
      "In Sell\n",
      "In Sell\n",
      "In Sell\n",
      "In Sell\n",
      "In Sell\n",
      "In Sell\n",
      "In Sell\n",
      "In Sell\n",
      "In Sell\n"
     ]
    },
    {
     "name": "stderr",
     "output_type": "stream",
     "text": [
      "C:\\Users\\hp\\AppData\\Local\\Temp\\ipykernel_2904\\365529943.py:940: FutureWarning: The frame.append method is deprecated and will be removed from pandas in a future version. Use pandas.concat instead.\n",
      "  self.df = self.df.append(row, ignore_index=True)\n",
      "C:\\Users\\hp\\AppData\\Local\\Temp\\ipykernel_2904\\365529943.py:946: FutureWarning: The frame.append method is deprecated and will be removed from pandas in a future version. Use pandas.concat instead.\n",
      "  self.past_df = self.past_df.append(self.df.iloc[0], ignore_index=True)\n"
     ]
    },
    {
     "name": "stdout",
     "output_type": "stream",
     "text": [
      "In Sell\n",
      "In Sell\n",
      "In Sell\n"
     ]
    },
    {
     "name": "stderr",
     "output_type": "stream",
     "text": [
      "C:\\Users\\hp\\AppData\\Local\\Temp\\ipykernel_2904\\365529943.py:940: FutureWarning: The frame.append method is deprecated and will be removed from pandas in a future version. Use pandas.concat instead.\n",
      "  self.df = self.df.append(row, ignore_index=True)\n",
      "C:\\Users\\hp\\AppData\\Local\\Temp\\ipykernel_2904\\365529943.py:946: FutureWarning: The frame.append method is deprecated and will be removed from pandas in a future version. Use pandas.concat instead.\n",
      "  self.past_df = self.past_df.append(self.df.iloc[0], ignore_index=True)\n"
     ]
    },
    {
     "name": "stdout",
     "output_type": "stream",
     "text": [
      "In Sell\n",
      "In Sell\n",
      "In Sell\n",
      "In Sell\n"
     ]
    },
    {
     "name": "stderr",
     "output_type": "stream",
     "text": [
      "C:\\Users\\hp\\AppData\\Local\\Temp\\ipykernel_2904\\365529943.py:940: FutureWarning: The frame.append method is deprecated and will be removed from pandas in a future version. Use pandas.concat instead.\n",
      "  self.df = self.df.append(row, ignore_index=True)\n",
      "C:\\Users\\hp\\AppData\\Local\\Temp\\ipykernel_2904\\365529943.py:946: FutureWarning: The frame.append method is deprecated and will be removed from pandas in a future version. Use pandas.concat instead.\n",
      "  self.past_df = self.past_df.append(self.df.iloc[0], ignore_index=True)\n"
     ]
    },
    {
     "name": "stdout",
     "output_type": "stream",
     "text": [
      "In Sell\n",
      "In Sell\n",
      "In Sell\n"
     ]
    },
    {
     "name": "stderr",
     "output_type": "stream",
     "text": [
      "C:\\Users\\hp\\AppData\\Local\\Temp\\ipykernel_2904\\365529943.py:940: FutureWarning: The frame.append method is deprecated and will be removed from pandas in a future version. Use pandas.concat instead.\n",
      "  self.df = self.df.append(row, ignore_index=True)\n",
      "C:\\Users\\hp\\AppData\\Local\\Temp\\ipykernel_2904\\365529943.py:946: FutureWarning: The frame.append method is deprecated and will be removed from pandas in a future version. Use pandas.concat instead.\n",
      "  self.past_df = self.past_df.append(self.df.iloc[0], ignore_index=True)\n"
     ]
    },
    {
     "name": "stdout",
     "output_type": "stream",
     "text": [
      "In Sell\n",
      "In Sell\n",
      "In Sell\n"
     ]
    },
    {
     "name": "stderr",
     "output_type": "stream",
     "text": [
      "C:\\Users\\hp\\AppData\\Local\\Temp\\ipykernel_2904\\365529943.py:940: FutureWarning: The frame.append method is deprecated and will be removed from pandas in a future version. Use pandas.concat instead.\n",
      "  self.df = self.df.append(row, ignore_index=True)\n",
      "C:\\Users\\hp\\AppData\\Local\\Temp\\ipykernel_2904\\365529943.py:946: FutureWarning: The frame.append method is deprecated and will be removed from pandas in a future version. Use pandas.concat instead.\n",
      "  self.past_df = self.past_df.append(self.df.iloc[0], ignore_index=True)\n",
      "C:\\Users\\hp\\AppData\\Local\\Temp\\ipykernel_2904\\365529943.py:940: FutureWarning: The frame.append method is deprecated and will be removed from pandas in a future version. Use pandas.concat instead.\n",
      "  self.df = self.df.append(row, ignore_index=True)\n",
      "C:\\Users\\hp\\AppData\\Local\\Temp\\ipykernel_2904\\365529943.py:946: FutureWarning: The frame.append method is deprecated and will be removed from pandas in a future version. Use pandas.concat instead.\n",
      "  self.past_df = self.past_df.append(self.df.iloc[0], ignore_index=True)\n"
     ]
    },
    {
     "name": "stdout",
     "output_type": "stream",
     "text": [
      "In Sell\n",
      "In Sell\n",
      "In Sell\n",
      "In Sell\n",
      "In Sell\n",
      "In Sell\n",
      "In Sell\n",
      "In Sell\n",
      "In Sell\n",
      "In Sell\n",
      "In Sell\n",
      "In Sell\n",
      "In Sell\n",
      "In Sell\n",
      "In Sell\n",
      "In Sell\n",
      "In Sell\n",
      "In Sell\n",
      "In Sell\n",
      "In Sell\n",
      "In Sell\n",
      "In Sell\n",
      "In Sell\n",
      "In Sell\n",
      "In Sell\n"
     ]
    },
    {
     "name": "stderr",
     "output_type": "stream",
     "text": [
      "C:\\Users\\hp\\AppData\\Local\\Temp\\ipykernel_2904\\365529943.py:940: FutureWarning: The frame.append method is deprecated and will be removed from pandas in a future version. Use pandas.concat instead.\n",
      "  self.df = self.df.append(row, ignore_index=True)\n",
      "C:\\Users\\hp\\AppData\\Local\\Temp\\ipykernel_2904\\365529943.py:946: FutureWarning: The frame.append method is deprecated and will be removed from pandas in a future version. Use pandas.concat instead.\n",
      "  self.past_df = self.past_df.append(self.df.iloc[0], ignore_index=True)\n"
     ]
    },
    {
     "name": "stdout",
     "output_type": "stream",
     "text": [
      "In Sell\n",
      "In Sell\n",
      "In Sell\n",
      "In Sell\n",
      "In Sell\n",
      "In Sell\n"
     ]
    },
    {
     "name": "stderr",
     "output_type": "stream",
     "text": [
      "C:\\Users\\hp\\AppData\\Local\\Temp\\ipykernel_2904\\365529943.py:940: FutureWarning: The frame.append method is deprecated and will be removed from pandas in a future version. Use pandas.concat instead.\n",
      "  self.df = self.df.append(row, ignore_index=True)\n",
      "C:\\Users\\hp\\AppData\\Local\\Temp\\ipykernel_2904\\365529943.py:946: FutureWarning: The frame.append method is deprecated and will be removed from pandas in a future version. Use pandas.concat instead.\n",
      "  self.past_df = self.past_df.append(self.df.iloc[0], ignore_index=True)\n",
      "C:\\Users\\hp\\AppData\\Local\\Temp\\ipykernel_2904\\365529943.py:940: FutureWarning: The frame.append method is deprecated and will be removed from pandas in a future version. Use pandas.concat instead.\n",
      "  self.df = self.df.append(row, ignore_index=True)\n",
      "C:\\Users\\hp\\AppData\\Local\\Temp\\ipykernel_2904\\365529943.py:946: FutureWarning: The frame.append method is deprecated and will be removed from pandas in a future version. Use pandas.concat instead.\n",
      "  self.past_df = self.past_df.append(self.df.iloc[0], ignore_index=True)\n",
      "C:\\Users\\hp\\AppData\\Local\\Temp\\ipykernel_2904\\365529943.py:940: FutureWarning: The frame.append method is deprecated and will be removed from pandas in a future version. Use pandas.concat instead.\n",
      "  self.df = self.df.append(row, ignore_index=True)\n",
      "C:\\Users\\hp\\AppData\\Local\\Temp\\ipykernel_2904\\365529943.py:946: FutureWarning: The frame.append method is deprecated and will be removed from pandas in a future version. Use pandas.concat instead.\n",
      "  self.past_df = self.past_df.append(self.df.iloc[0], ignore_index=True)\n"
     ]
    },
    {
     "name": "stdout",
     "output_type": "stream",
     "text": [
      "In Sell\n",
      "In Sell\n",
      "In Sell\n",
      "In Sell\n",
      "In Sell\n",
      "In Sell\n",
      "In Sell\n",
      "In Sell\n"
     ]
    },
    {
     "name": "stderr",
     "output_type": "stream",
     "text": [
      "C:\\Users\\hp\\AppData\\Local\\Temp\\ipykernel_2904\\365529943.py:940: FutureWarning: The frame.append method is deprecated and will be removed from pandas in a future version. Use pandas.concat instead.\n",
      "  self.df = self.df.append(row, ignore_index=True)\n",
      "C:\\Users\\hp\\AppData\\Local\\Temp\\ipykernel_2904\\365529943.py:946: FutureWarning: The frame.append method is deprecated and will be removed from pandas in a future version. Use pandas.concat instead.\n",
      "  self.past_df = self.past_df.append(self.df.iloc[0], ignore_index=True)\n"
     ]
    },
    {
     "name": "stdout",
     "output_type": "stream",
     "text": [
      "In Sell\n",
      "In Sell\n",
      "In Sell\n",
      "In Sell\n",
      "In Sell\n"
     ]
    },
    {
     "name": "stderr",
     "output_type": "stream",
     "text": [
      "C:\\Users\\hp\\AppData\\Local\\Temp\\ipykernel_2904\\365529943.py:940: FutureWarning: The frame.append method is deprecated and will be removed from pandas in a future version. Use pandas.concat instead.\n",
      "  self.df = self.df.append(row, ignore_index=True)\n",
      "C:\\Users\\hp\\AppData\\Local\\Temp\\ipykernel_2904\\365529943.py:946: FutureWarning: The frame.append method is deprecated and will be removed from pandas in a future version. Use pandas.concat instead.\n",
      "  self.past_df = self.past_df.append(self.df.iloc[0], ignore_index=True)\n"
     ]
    },
    {
     "name": "stdout",
     "output_type": "stream",
     "text": [
      "In Sell\n",
      "In Sell\n",
      "In Sell\n",
      "In Sell\n"
     ]
    },
    {
     "name": "stderr",
     "output_type": "stream",
     "text": [
      "C:\\Users\\hp\\AppData\\Local\\Temp\\ipykernel_2904\\365529943.py:940: FutureWarning: The frame.append method is deprecated and will be removed from pandas in a future version. Use pandas.concat instead.\n",
      "  self.df = self.df.append(row, ignore_index=True)\n",
      "C:\\Users\\hp\\AppData\\Local\\Temp\\ipykernel_2904\\365529943.py:946: FutureWarning: The frame.append method is deprecated and will be removed from pandas in a future version. Use pandas.concat instead.\n",
      "  self.past_df = self.past_df.append(self.df.iloc[0], ignore_index=True)\n"
     ]
    },
    {
     "name": "stdout",
     "output_type": "stream",
     "text": [
      "In Sell\n",
      "In Sell\n",
      "In Sell\n",
      "In Sell\n",
      "In Sell\n",
      "In Sell\n",
      "In Sell\n",
      "In Sell\n",
      "In Sell\n",
      "In Sell\n",
      "In Sell\n",
      "In Sell\n",
      "In Sell\n",
      "In Sell\n",
      "In Sell\n",
      "In Sell\n",
      "In Sell\n"
     ]
    },
    {
     "name": "stderr",
     "output_type": "stream",
     "text": [
      "C:\\Users\\hp\\AppData\\Local\\Temp\\ipykernel_2904\\365529943.py:940: FutureWarning: The frame.append method is deprecated and will be removed from pandas in a future version. Use pandas.concat instead.\n",
      "  self.df = self.df.append(row, ignore_index=True)\n",
      "C:\\Users\\hp\\AppData\\Local\\Temp\\ipykernel_2904\\365529943.py:946: FutureWarning: The frame.append method is deprecated and will be removed from pandas in a future version. Use pandas.concat instead.\n",
      "  self.past_df = self.past_df.append(self.df.iloc[0], ignore_index=True)\n",
      "C:\\Users\\hp\\AppData\\Local\\Temp\\ipykernel_2904\\365529943.py:940: FutureWarning: The frame.append method is deprecated and will be removed from pandas in a future version. Use pandas.concat instead.\n",
      "  self.df = self.df.append(row, ignore_index=True)\n",
      "C:\\Users\\hp\\AppData\\Local\\Temp\\ipykernel_2904\\365529943.py:946: FutureWarning: The frame.append method is deprecated and will be removed from pandas in a future version. Use pandas.concat instead.\n",
      "  self.past_df = self.past_df.append(self.df.iloc[0], ignore_index=True)\n"
     ]
    },
    {
     "name": "stdout",
     "output_type": "stream",
     "text": [
      "In Sell\n",
      "In Sell\n",
      "In Sell\n",
      "In Sell\n",
      "In Sell\n",
      "In Sell\n"
     ]
    },
    {
     "name": "stderr",
     "output_type": "stream",
     "text": [
      "C:\\Users\\hp\\AppData\\Local\\Temp\\ipykernel_2904\\365529943.py:940: FutureWarning: The frame.append method is deprecated and will be removed from pandas in a future version. Use pandas.concat instead.\n",
      "  self.df = self.df.append(row, ignore_index=True)\n",
      "C:\\Users\\hp\\AppData\\Local\\Temp\\ipykernel_2904\\365529943.py:946: FutureWarning: The frame.append method is deprecated and will be removed from pandas in a future version. Use pandas.concat instead.\n",
      "  self.past_df = self.past_df.append(self.df.iloc[0], ignore_index=True)\n",
      "C:\\Users\\hp\\AppData\\Local\\Temp\\ipykernel_2904\\365529943.py:940: FutureWarning: The frame.append method is deprecated and will be removed from pandas in a future version. Use pandas.concat instead.\n",
      "  self.df = self.df.append(row, ignore_index=True)\n",
      "C:\\Users\\hp\\AppData\\Local\\Temp\\ipykernel_2904\\365529943.py:946: FutureWarning: The frame.append method is deprecated and will be removed from pandas in a future version. Use pandas.concat instead.\n",
      "  self.past_df = self.past_df.append(self.df.iloc[0], ignore_index=True)\n"
     ]
    },
    {
     "name": "stdout",
     "output_type": "stream",
     "text": [
      "In Buy\n",
      "In a green candle\n",
      "In Buy\n",
      "In red candle\n",
      "In SL Condition\n",
      "In Buy\n",
      "In red candle\n",
      "In SL Condition\n"
     ]
    },
    {
     "name": "stderr",
     "output_type": "stream",
     "text": [
      "C:\\Users\\hp\\AppData\\Local\\Temp\\ipykernel_2904\\365529943.py:940: FutureWarning: The frame.append method is deprecated and will be removed from pandas in a future version. Use pandas.concat instead.\n",
      "  self.df = self.df.append(row, ignore_index=True)\n",
      "C:\\Users\\hp\\AppData\\Local\\Temp\\ipykernel_2904\\365529943.py:946: FutureWarning: The frame.append method is deprecated and will be removed from pandas in a future version. Use pandas.concat instead.\n",
      "  self.past_df = self.past_df.append(self.df.iloc[0], ignore_index=True)\n",
      "C:\\Users\\hp\\AppData\\Local\\Temp\\ipykernel_2904\\365529943.py:940: FutureWarning: The frame.append method is deprecated and will be removed from pandas in a future version. Use pandas.concat instead.\n",
      "  self.df = self.df.append(row, ignore_index=True)\n",
      "C:\\Users\\hp\\AppData\\Local\\Temp\\ipykernel_2904\\365529943.py:946: FutureWarning: The frame.append method is deprecated and will be removed from pandas in a future version. Use pandas.concat instead.\n",
      "  self.past_df = self.past_df.append(self.df.iloc[0], ignore_index=True)\n"
     ]
    },
    {
     "name": "stdout",
     "output_type": "stream",
     "text": [
      "In Buy\n",
      "In red candle\n",
      "In SL Condition\n",
      "In Buy\n",
      "In red candle\n",
      "In Buy\n",
      "In a green candle\n",
      "In Buy\n",
      "In red candle\n",
      "In Buy\n",
      "In a green candle\n",
      "In Buy\n",
      "In red candle\n",
      "In Buy\n",
      "In a green candle\n",
      "In Buy\n",
      "In red candle\n",
      "In Buy\n",
      "In red candle\n",
      "In Buy\n",
      "In red candle\n",
      "In Buy\n",
      "In red candle\n",
      "In Buy\n",
      "In a green candle\n",
      "In Buy\n",
      "In red candle\n",
      "In Buy\n",
      "In red candle\n",
      "In Buy\n",
      "In red candle\n",
      "In Buy\n",
      "In a green candle\n",
      "In Buy\n",
      "In red candle\n",
      "In Buy\n",
      "In red candle\n",
      "In Buy\n",
      "In red candle\n",
      "In Buy\n",
      "In red candle\n",
      "In SL Condition\n"
     ]
    },
    {
     "name": "stderr",
     "output_type": "stream",
     "text": [
      "C:\\Users\\hp\\AppData\\Local\\Temp\\ipykernel_2904\\365529943.py:940: FutureWarning: The frame.append method is deprecated and will be removed from pandas in a future version. Use pandas.concat instead.\n",
      "  self.df = self.df.append(row, ignore_index=True)\n",
      "C:\\Users\\hp\\AppData\\Local\\Temp\\ipykernel_2904\\365529943.py:946: FutureWarning: The frame.append method is deprecated and will be removed from pandas in a future version. Use pandas.concat instead.\n",
      "  self.past_df = self.past_df.append(self.df.iloc[0], ignore_index=True)\n"
     ]
    },
    {
     "name": "stdout",
     "output_type": "stream",
     "text": [
      "In Buy\n",
      "In red candle\n",
      "In Buy\n",
      "In red candle\n",
      "In SL Condition\n"
     ]
    },
    {
     "name": "stderr",
     "output_type": "stream",
     "text": [
      "C:\\Users\\hp\\AppData\\Local\\Temp\\ipykernel_2904\\365529943.py:940: FutureWarning: The frame.append method is deprecated and will be removed from pandas in a future version. Use pandas.concat instead.\n",
      "  self.df = self.df.append(row, ignore_index=True)\n",
      "C:\\Users\\hp\\AppData\\Local\\Temp\\ipykernel_2904\\365529943.py:946: FutureWarning: The frame.append method is deprecated and will be removed from pandas in a future version. Use pandas.concat instead.\n",
      "  self.past_df = self.past_df.append(self.df.iloc[0], ignore_index=True)\n"
     ]
    },
    {
     "name": "stdout",
     "output_type": "stream",
     "text": [
      "In Buy\n",
      "In a green candle\n",
      "In Buy\n",
      "In red candle\n",
      "In Buy\n",
      "In red candle\n",
      "In Buy\n",
      "In a green candle\n",
      "In Buy\n",
      "In red candle\n",
      "In Buy\n",
      "In a green candle\n",
      "In Buy\n",
      "In a green candle\n",
      "In Buy\n",
      "In red candle\n",
      "In Buy\n",
      "In a green candle\n",
      "In Buy\n",
      "In red candle\n",
      "In Buy\n",
      "In red candle\n",
      "In SL Condition\n"
     ]
    },
    {
     "name": "stderr",
     "output_type": "stream",
     "text": [
      "C:\\Users\\hp\\AppData\\Local\\Temp\\ipykernel_2904\\365529943.py:940: FutureWarning: The frame.append method is deprecated and will be removed from pandas in a future version. Use pandas.concat instead.\n",
      "  self.df = self.df.append(row, ignore_index=True)\n",
      "C:\\Users\\hp\\AppData\\Local\\Temp\\ipykernel_2904\\365529943.py:946: FutureWarning: The frame.append method is deprecated and will be removed from pandas in a future version. Use pandas.concat instead.\n",
      "  self.past_df = self.past_df.append(self.df.iloc[0], ignore_index=True)\n"
     ]
    },
    {
     "name": "stdout",
     "output_type": "stream",
     "text": [
      "In Buy\n",
      "In a green candle\n",
      "In Buy\n",
      "In a green candle\n",
      "In Buy\n",
      "In red candle\n",
      "In Buy\n",
      "In a green candle\n",
      "In Buy\n",
      "In red candle\n",
      "In SL Condition\n"
     ]
    },
    {
     "name": "stderr",
     "output_type": "stream",
     "text": [
      "C:\\Users\\hp\\AppData\\Local\\Temp\\ipykernel_2904\\365529943.py:940: FutureWarning: The frame.append method is deprecated and will be removed from pandas in a future version. Use pandas.concat instead.\n",
      "  self.df = self.df.append(row, ignore_index=True)\n",
      "C:\\Users\\hp\\AppData\\Local\\Temp\\ipykernel_2904\\365529943.py:946: FutureWarning: The frame.append method is deprecated and will be removed from pandas in a future version. Use pandas.concat instead.\n",
      "  self.past_df = self.past_df.append(self.df.iloc[0], ignore_index=True)\n",
      "C:\\Users\\hp\\AppData\\Local\\Temp\\ipykernel_2904\\365529943.py:940: FutureWarning: The frame.append method is deprecated and will be removed from pandas in a future version. Use pandas.concat instead.\n",
      "  self.df = self.df.append(row, ignore_index=True)\n",
      "C:\\Users\\hp\\AppData\\Local\\Temp\\ipykernel_2904\\365529943.py:946: FutureWarning: The frame.append method is deprecated and will be removed from pandas in a future version. Use pandas.concat instead.\n",
      "  self.past_df = self.past_df.append(self.df.iloc[0], ignore_index=True)\n"
     ]
    },
    {
     "name": "stdout",
     "output_type": "stream",
     "text": [
      "In Buy\n",
      "In red candle\n",
      "In Buy\n",
      "In a green candle\n",
      "In Buy\n",
      "In a green candle\n",
      "In Buy\n",
      "In red candle\n",
      "In SL Condition\n",
      "In Buy\n",
      "In a green candle\n",
      "In Buy\n",
      "In a green candle\n",
      "In Buy\n",
      "In red candle\n",
      "In Buy\n",
      "In red candle\n",
      "In Buy\n",
      "In red candle\n",
      "In SL Condition\n"
     ]
    },
    {
     "name": "stderr",
     "output_type": "stream",
     "text": [
      "C:\\Users\\hp\\AppData\\Local\\Temp\\ipykernel_2904\\365529943.py:940: FutureWarning: The frame.append method is deprecated and will be removed from pandas in a future version. Use pandas.concat instead.\n",
      "  self.df = self.df.append(row, ignore_index=True)\n",
      "C:\\Users\\hp\\AppData\\Local\\Temp\\ipykernel_2904\\365529943.py:946: FutureWarning: The frame.append method is deprecated and will be removed from pandas in a future version. Use pandas.concat instead.\n",
      "  self.past_df = self.past_df.append(self.df.iloc[0], ignore_index=True)\n"
     ]
    },
    {
     "name": "stdout",
     "output_type": "stream",
     "text": [
      "In Buy\n",
      "In red candle\n",
      "In Buy\n",
      "In red candle\n",
      "In Buy\n",
      "In a green candle\n",
      "In Buy\n",
      "In a green candle\n",
      "In Buy\n",
      "In a green candle\n",
      "In TRG exit condition\n"
     ]
    },
    {
     "name": "stderr",
     "output_type": "stream",
     "text": [
      "C:\\Users\\hp\\AppData\\Local\\Temp\\ipykernel_2904\\365529943.py:940: FutureWarning: The frame.append method is deprecated and will be removed from pandas in a future version. Use pandas.concat instead.\n",
      "  self.df = self.df.append(row, ignore_index=True)\n",
      "C:\\Users\\hp\\AppData\\Local\\Temp\\ipykernel_2904\\365529943.py:946: FutureWarning: The frame.append method is deprecated and will be removed from pandas in a future version. Use pandas.concat instead.\n",
      "  self.past_df = self.past_df.append(self.df.iloc[0], ignore_index=True)\n",
      "C:\\Users\\hp\\AppData\\Local\\Temp\\ipykernel_2904\\365529943.py:940: FutureWarning: The frame.append method is deprecated and will be removed from pandas in a future version. Use pandas.concat instead.\n",
      "  self.df = self.df.append(row, ignore_index=True)\n",
      "C:\\Users\\hp\\AppData\\Local\\Temp\\ipykernel_2904\\365529943.py:946: FutureWarning: The frame.append method is deprecated and will be removed from pandas in a future version. Use pandas.concat instead.\n",
      "  self.past_df = self.past_df.append(self.df.iloc[0], ignore_index=True)\n"
     ]
    },
    {
     "name": "stdout",
     "output_type": "stream",
     "text": [
      "In Buy\n",
      "In red candle\n",
      "In Buy\n",
      "In a green candle\n",
      "In Buy\n",
      "In red candle\n",
      "In Buy\n",
      "In a green candle\n",
      "In Buy\n",
      "In red candle\n",
      "In Buy\n",
      "In a green candle\n",
      "In Buy\n",
      "In a green candle\n",
      "In Buy\n",
      "In a green candle\n",
      "In Buy\n",
      "In a green candle\n",
      "In TRG exit condition\n",
      "In Buy\n",
      "In red candle\n",
      "In Buy\n",
      "In red candle\n",
      "In SL Condition\n"
     ]
    },
    {
     "name": "stderr",
     "output_type": "stream",
     "text": [
      "C:\\Users\\hp\\AppData\\Local\\Temp\\ipykernel_2904\\365529943.py:940: FutureWarning: The frame.append method is deprecated and will be removed from pandas in a future version. Use pandas.concat instead.\n",
      "  self.df = self.df.append(row, ignore_index=True)\n",
      "C:\\Users\\hp\\AppData\\Local\\Temp\\ipykernel_2904\\365529943.py:946: FutureWarning: The frame.append method is deprecated and will be removed from pandas in a future version. Use pandas.concat instead.\n",
      "  self.past_df = self.past_df.append(self.df.iloc[0], ignore_index=True)\n",
      "C:\\Users\\hp\\AppData\\Local\\Temp\\ipykernel_2904\\365529943.py:940: FutureWarning: The frame.append method is deprecated and will be removed from pandas in a future version. Use pandas.concat instead.\n",
      "  self.df = self.df.append(row, ignore_index=True)\n",
      "C:\\Users\\hp\\AppData\\Local\\Temp\\ipykernel_2904\\365529943.py:946: FutureWarning: The frame.append method is deprecated and will be removed from pandas in a future version. Use pandas.concat instead.\n",
      "  self.past_df = self.past_df.append(self.df.iloc[0], ignore_index=True)\n"
     ]
    },
    {
     "name": "stdout",
     "output_type": "stream",
     "text": [
      "In Buy\n",
      "In red candle\n",
      "In Buy\n",
      "In red candle\n",
      "In Buy\n",
      "In a green candle\n",
      "In Buy\n",
      "In red candle\n",
      "In Buy\n",
      "In red candle\n",
      "In SL Condition\n",
      "In Buy\n",
      "In a green candle\n",
      "In Buy\n",
      "In a green candle\n",
      "In TRG exit condition\n"
     ]
    },
    {
     "name": "stderr",
     "output_type": "stream",
     "text": [
      "C:\\Users\\hp\\AppData\\Local\\Temp\\ipykernel_2904\\365529943.py:940: FutureWarning: The frame.append method is deprecated and will be removed from pandas in a future version. Use pandas.concat instead.\n",
      "  self.df = self.df.append(row, ignore_index=True)\n",
      "C:\\Users\\hp\\AppData\\Local\\Temp\\ipykernel_2904\\365529943.py:946: FutureWarning: The frame.append method is deprecated and will be removed from pandas in a future version. Use pandas.concat instead.\n",
      "  self.past_df = self.past_df.append(self.df.iloc[0], ignore_index=True)\n"
     ]
    },
    {
     "name": "stdout",
     "output_type": "stream",
     "text": [
      "In Buy\n",
      "In a green candle\n",
      "In TRG exit condition\n"
     ]
    },
    {
     "name": "stderr",
     "output_type": "stream",
     "text": [
      "C:\\Users\\hp\\AppData\\Local\\Temp\\ipykernel_2904\\365529943.py:940: FutureWarning: The frame.append method is deprecated and will be removed from pandas in a future version. Use pandas.concat instead.\n",
      "  self.df = self.df.append(row, ignore_index=True)\n",
      "C:\\Users\\hp\\AppData\\Local\\Temp\\ipykernel_2904\\365529943.py:946: FutureWarning: The frame.append method is deprecated and will be removed from pandas in a future version. Use pandas.concat instead.\n",
      "  self.past_df = self.past_df.append(self.df.iloc[0], ignore_index=True)\n"
     ]
    },
    {
     "name": "stdout",
     "output_type": "stream",
     "text": [
      "In Buy\n",
      "In red candle\n",
      "In SL Condition\n"
     ]
    },
    {
     "name": "stderr",
     "output_type": "stream",
     "text": [
      "C:\\Users\\hp\\AppData\\Local\\Temp\\ipykernel_2904\\365529943.py:940: FutureWarning: The frame.append method is deprecated and will be removed from pandas in a future version. Use pandas.concat instead.\n",
      "  self.df = self.df.append(row, ignore_index=True)\n",
      "C:\\Users\\hp\\AppData\\Local\\Temp\\ipykernel_2904\\365529943.py:946: FutureWarning: The frame.append method is deprecated and will be removed from pandas in a future version. Use pandas.concat instead.\n",
      "  self.past_df = self.past_df.append(self.df.iloc[0], ignore_index=True)\n",
      "C:\\Users\\hp\\AppData\\Local\\Temp\\ipykernel_2904\\365529943.py:940: FutureWarning: The frame.append method is deprecated and will be removed from pandas in a future version. Use pandas.concat instead.\n",
      "  self.df = self.df.append(row, ignore_index=True)\n",
      "C:\\Users\\hp\\AppData\\Local\\Temp\\ipykernel_2904\\365529943.py:946: FutureWarning: The frame.append method is deprecated and will be removed from pandas in a future version. Use pandas.concat instead.\n",
      "  self.past_df = self.past_df.append(self.df.iloc[0], ignore_index=True)\n"
     ]
    },
    {
     "name": "stdout",
     "output_type": "stream",
     "text": [
      "In Buy\n",
      "In red candle\n",
      "In Buy\n",
      "In a green candle\n",
      "In Buy\n",
      "In red candle\n",
      "In Buy\n",
      "In a green candle\n",
      "In SL Condition\n",
      "In Buy\n",
      "In red candle\n",
      "In SL Condition\n"
     ]
    },
    {
     "name": "stderr",
     "output_type": "stream",
     "text": [
      "C:\\Users\\hp\\AppData\\Local\\Temp\\ipykernel_2904\\365529943.py:940: FutureWarning: The frame.append method is deprecated and will be removed from pandas in a future version. Use pandas.concat instead.\n",
      "  self.df = self.df.append(row, ignore_index=True)\n",
      "C:\\Users\\hp\\AppData\\Local\\Temp\\ipykernel_2904\\365529943.py:946: FutureWarning: The frame.append method is deprecated and will be removed from pandas in a future version. Use pandas.concat instead.\n",
      "  self.past_df = self.past_df.append(self.df.iloc[0], ignore_index=True)\n"
     ]
    },
    {
     "name": "stdout",
     "output_type": "stream",
     "text": [
      "In Buy\n",
      "In a green candle\n",
      "In Buy\n",
      "In a green candle\n",
      "In Buy\n",
      "In red candle\n",
      "In Buy\n",
      "In a green candle\n",
      "In Buy\n",
      "In red candle\n",
      "In Buy\n",
      "In a green candle\n",
      "In TRG exit condition\n"
     ]
    },
    {
     "name": "stderr",
     "output_type": "stream",
     "text": [
      "C:\\Users\\hp\\AppData\\Local\\Temp\\ipykernel_2904\\365529943.py:940: FutureWarning: The frame.append method is deprecated and will be removed from pandas in a future version. Use pandas.concat instead.\n",
      "  self.df = self.df.append(row, ignore_index=True)\n",
      "C:\\Users\\hp\\AppData\\Local\\Temp\\ipykernel_2904\\365529943.py:946: FutureWarning: The frame.append method is deprecated and will be removed from pandas in a future version. Use pandas.concat instead.\n",
      "  self.past_df = self.past_df.append(self.df.iloc[0], ignore_index=True)\n"
     ]
    },
    {
     "name": "stdout",
     "output_type": "stream",
     "text": [
      "In Buy\n",
      "In red candle\n",
      "In Buy\n",
      "In red candle\n",
      "In SL Condition\n"
     ]
    },
    {
     "name": "stderr",
     "output_type": "stream",
     "text": [
      "C:\\Users\\hp\\AppData\\Local\\Temp\\ipykernel_2904\\365529943.py:940: FutureWarning: The frame.append method is deprecated and will be removed from pandas in a future version. Use pandas.concat instead.\n",
      "  self.df = self.df.append(row, ignore_index=True)\n",
      "C:\\Users\\hp\\AppData\\Local\\Temp\\ipykernel_2904\\365529943.py:946: FutureWarning: The frame.append method is deprecated and will be removed from pandas in a future version. Use pandas.concat instead.\n",
      "  self.past_df = self.past_df.append(self.df.iloc[0], ignore_index=True)\n"
     ]
    },
    {
     "name": "stdout",
     "output_type": "stream",
     "text": [
      "In Buy\n",
      "In a green candle\n",
      "In Buy\n",
      "In red candle\n",
      "In Buy\n",
      "In red candle\n",
      "In Buy\n",
      "In a green candle\n",
      "In TRG exit condition\n"
     ]
    },
    {
     "name": "stderr",
     "output_type": "stream",
     "text": [
      "C:\\Users\\hp\\AppData\\Local\\Temp\\ipykernel_2904\\365529943.py:940: FutureWarning: The frame.append method is deprecated and will be removed from pandas in a future version. Use pandas.concat instead.\n",
      "  self.df = self.df.append(row, ignore_index=True)\n",
      "C:\\Users\\hp\\AppData\\Local\\Temp\\ipykernel_2904\\365529943.py:946: FutureWarning: The frame.append method is deprecated and will be removed from pandas in a future version. Use pandas.concat instead.\n",
      "  self.past_df = self.past_df.append(self.df.iloc[0], ignore_index=True)\n"
     ]
    },
    {
     "name": "stdout",
     "output_type": "stream",
     "text": [
      "In Buy\n",
      "In a green candle\n",
      "In Buy\n",
      "In red candle\n",
      "In Buy\n",
      "In a green candle\n",
      "In Buy\n",
      "In a green candle\n",
      "In Buy\n",
      "In red candle\n",
      "In Buy\n",
      "In red candle\n",
      "In Buy\n",
      "In red candle\n",
      "In Buy\n",
      "In a green candle\n",
      "In Buy\n",
      "In red candle\n",
      "In Buy\n",
      "In red candle\n",
      "In SL Condition\n"
     ]
    },
    {
     "name": "stderr",
     "output_type": "stream",
     "text": [
      "C:\\Users\\hp\\AppData\\Local\\Temp\\ipykernel_2904\\365529943.py:940: FutureWarning: The frame.append method is deprecated and will be removed from pandas in a future version. Use pandas.concat instead.\n",
      "  self.df = self.df.append(row, ignore_index=True)\n",
      "C:\\Users\\hp\\AppData\\Local\\Temp\\ipykernel_2904\\365529943.py:946: FutureWarning: The frame.append method is deprecated and will be removed from pandas in a future version. Use pandas.concat instead.\n",
      "  self.past_df = self.past_df.append(self.df.iloc[0], ignore_index=True)\n"
     ]
    },
    {
     "name": "stdout",
     "output_type": "stream",
     "text": [
      "In Buy\n",
      "In red candle\n",
      "In Buy\n",
      "In a green candle\n",
      "In Buy\n",
      "In a green candle\n",
      "In Buy\n",
      "In a green candle\n",
      "In Buy\n",
      "In red candle\n",
      "In Buy\n",
      "In a green candle\n",
      "In Buy\n",
      "In red candle\n",
      "In SL Condition\n"
     ]
    },
    {
     "name": "stderr",
     "output_type": "stream",
     "text": [
      "C:\\Users\\hp\\AppData\\Local\\Temp\\ipykernel_2904\\365529943.py:940: FutureWarning: The frame.append method is deprecated and will be removed from pandas in a future version. Use pandas.concat instead.\n",
      "  self.df = self.df.append(row, ignore_index=True)\n",
      "C:\\Users\\hp\\AppData\\Local\\Temp\\ipykernel_2904\\365529943.py:946: FutureWarning: The frame.append method is deprecated and will be removed from pandas in a future version. Use pandas.concat instead.\n",
      "  self.past_df = self.past_df.append(self.df.iloc[0], ignore_index=True)\n"
     ]
    },
    {
     "name": "stdout",
     "output_type": "stream",
     "text": [
      "In Sell\n",
      "In Sell\n",
      "In Sell\n",
      "In Sell\n",
      "In Sell\n"
     ]
    },
    {
     "name": "stderr",
     "output_type": "stream",
     "text": [
      "C:\\Users\\hp\\AppData\\Local\\Temp\\ipykernel_2904\\365529943.py:940: FutureWarning: The frame.append method is deprecated and will be removed from pandas in a future version. Use pandas.concat instead.\n",
      "  self.df = self.df.append(row, ignore_index=True)\n",
      "C:\\Users\\hp\\AppData\\Local\\Temp\\ipykernel_2904\\365529943.py:946: FutureWarning: The frame.append method is deprecated and will be removed from pandas in a future version. Use pandas.concat instead.\n",
      "  self.past_df = self.past_df.append(self.df.iloc[0], ignore_index=True)\n",
      "C:\\Users\\hp\\AppData\\Local\\Temp\\ipykernel_2904\\365529943.py:940: FutureWarning: The frame.append method is deprecated and will be removed from pandas in a future version. Use pandas.concat instead.\n",
      "  self.df = self.df.append(row, ignore_index=True)\n",
      "C:\\Users\\hp\\AppData\\Local\\Temp\\ipykernel_2904\\365529943.py:946: FutureWarning: The frame.append method is deprecated and will be removed from pandas in a future version. Use pandas.concat instead.\n",
      "  self.past_df = self.past_df.append(self.df.iloc[0], ignore_index=True)\n"
     ]
    },
    {
     "name": "stdout",
     "output_type": "stream",
     "text": [
      "In Buy\n",
      "In a green candle\n",
      "In Buy\n",
      "In red candle\n",
      "In Buy\n",
      "In a green candle\n",
      "In Buy\n",
      "In red candle\n",
      "In Buy\n",
      "In red candle\n",
      "In SL Condition\n",
      "In Buy\n",
      "In red candle\n",
      "In Buy\n",
      "In red candle\n",
      "In SL Condition\n"
     ]
    },
    {
     "name": "stderr",
     "output_type": "stream",
     "text": [
      "C:\\Users\\hp\\AppData\\Local\\Temp\\ipykernel_2904\\365529943.py:940: FutureWarning: The frame.append method is deprecated and will be removed from pandas in a future version. Use pandas.concat instead.\n",
      "  self.df = self.df.append(row, ignore_index=True)\n",
      "C:\\Users\\hp\\AppData\\Local\\Temp\\ipykernel_2904\\365529943.py:946: FutureWarning: The frame.append method is deprecated and will be removed from pandas in a future version. Use pandas.concat instead.\n",
      "  self.past_df = self.past_df.append(self.df.iloc[0], ignore_index=True)\n"
     ]
    },
    {
     "name": "stdout",
     "output_type": "stream",
     "text": [
      "In Buy\n",
      "In red candle\n",
      "In SL Condition\n"
     ]
    },
    {
     "name": "stderr",
     "output_type": "stream",
     "text": [
      "C:\\Users\\hp\\AppData\\Local\\Temp\\ipykernel_2904\\365529943.py:940: FutureWarning: The frame.append method is deprecated and will be removed from pandas in a future version. Use pandas.concat instead.\n",
      "  self.df = self.df.append(row, ignore_index=True)\n",
      "C:\\Users\\hp\\AppData\\Local\\Temp\\ipykernel_2904\\365529943.py:946: FutureWarning: The frame.append method is deprecated and will be removed from pandas in a future version. Use pandas.concat instead.\n",
      "  self.past_df = self.past_df.append(self.df.iloc[0], ignore_index=True)\n",
      "C:\\Users\\hp\\AppData\\Local\\Temp\\ipykernel_2904\\365529943.py:940: FutureWarning: The frame.append method is deprecated and will be removed from pandas in a future version. Use pandas.concat instead.\n",
      "  self.df = self.df.append(row, ignore_index=True)\n",
      "C:\\Users\\hp\\AppData\\Local\\Temp\\ipykernel_2904\\365529943.py:946: FutureWarning: The frame.append method is deprecated and will be removed from pandas in a future version. Use pandas.concat instead.\n",
      "  self.past_df = self.past_df.append(self.df.iloc[0], ignore_index=True)\n"
     ]
    },
    {
     "name": "stdout",
     "output_type": "stream",
     "text": [
      "In Sell\n",
      "In Sell\n",
      "In Sell\n",
      "In Sell\n",
      "In Sell\n",
      "In Sell\n",
      "In Sell\n",
      "In Sell\n",
      "In Sell\n",
      "In Sell\n",
      "In Sell\n",
      "In Sell\n"
     ]
    },
    {
     "name": "stderr",
     "output_type": "stream",
     "text": [
      "C:\\Users\\hp\\AppData\\Local\\Temp\\ipykernel_2904\\365529943.py:940: FutureWarning: The frame.append method is deprecated and will be removed from pandas in a future version. Use pandas.concat instead.\n",
      "  self.df = self.df.append(row, ignore_index=True)\n",
      "C:\\Users\\hp\\AppData\\Local\\Temp\\ipykernel_2904\\365529943.py:946: FutureWarning: The frame.append method is deprecated and will be removed from pandas in a future version. Use pandas.concat instead.\n",
      "  self.past_df = self.past_df.append(self.df.iloc[0], ignore_index=True)\n"
     ]
    },
    {
     "name": "stdout",
     "output_type": "stream",
     "text": [
      "In Sell\n",
      "In Sell\n",
      "In Sell\n",
      "In Sell\n",
      "In Sell\n"
     ]
    },
    {
     "name": "stderr",
     "output_type": "stream",
     "text": [
      "C:\\Users\\hp\\AppData\\Local\\Temp\\ipykernel_2904\\365529943.py:940: FutureWarning: The frame.append method is deprecated and will be removed from pandas in a future version. Use pandas.concat instead.\n",
      "  self.df = self.df.append(row, ignore_index=True)\n",
      "C:\\Users\\hp\\AppData\\Local\\Temp\\ipykernel_2904\\365529943.py:946: FutureWarning: The frame.append method is deprecated and will be removed from pandas in a future version. Use pandas.concat instead.\n",
      "  self.past_df = self.past_df.append(self.df.iloc[0], ignore_index=True)\n"
     ]
    },
    {
     "name": "stdout",
     "output_type": "stream",
     "text": [
      "In Sell\n",
      "In Sell\n",
      "In Sell\n"
     ]
    },
    {
     "name": "stderr",
     "output_type": "stream",
     "text": [
      "C:\\Users\\hp\\AppData\\Local\\Temp\\ipykernel_2904\\365529943.py:940: FutureWarning: The frame.append method is deprecated and will be removed from pandas in a future version. Use pandas.concat instead.\n",
      "  self.df = self.df.append(row, ignore_index=True)\n",
      "C:\\Users\\hp\\AppData\\Local\\Temp\\ipykernel_2904\\365529943.py:946: FutureWarning: The frame.append method is deprecated and will be removed from pandas in a future version. Use pandas.concat instead.\n",
      "  self.past_df = self.past_df.append(self.df.iloc[0], ignore_index=True)\n",
      "C:\\Users\\hp\\AppData\\Local\\Temp\\ipykernel_2904\\365529943.py:940: FutureWarning: The frame.append method is deprecated and will be removed from pandas in a future version. Use pandas.concat instead.\n",
      "  self.df = self.df.append(row, ignore_index=True)\n",
      "C:\\Users\\hp\\AppData\\Local\\Temp\\ipykernel_2904\\365529943.py:946: FutureWarning: The frame.append method is deprecated and will be removed from pandas in a future version. Use pandas.concat instead.\n",
      "  self.past_df = self.past_df.append(self.df.iloc[0], ignore_index=True)\n"
     ]
    },
    {
     "name": "stdout",
     "output_type": "stream",
     "text": [
      "In Sell\n",
      "In Sell\n",
      "In Sell\n",
      "In Sell\n",
      "In Sell\n",
      "In Sell\n",
      "In Sell\n",
      "In Sell\n",
      "In Sell\n"
     ]
    },
    {
     "name": "stderr",
     "output_type": "stream",
     "text": [
      "C:\\Users\\hp\\AppData\\Local\\Temp\\ipykernel_2904\\365529943.py:940: FutureWarning: The frame.append method is deprecated and will be removed from pandas in a future version. Use pandas.concat instead.\n",
      "  self.df = self.df.append(row, ignore_index=True)\n",
      "C:\\Users\\hp\\AppData\\Local\\Temp\\ipykernel_2904\\365529943.py:946: FutureWarning: The frame.append method is deprecated and will be removed from pandas in a future version. Use pandas.concat instead.\n",
      "  self.past_df = self.past_df.append(self.df.iloc[0], ignore_index=True)\n",
      "C:\\Users\\hp\\AppData\\Local\\Temp\\ipykernel_2904\\365529943.py:940: FutureWarning: The frame.append method is deprecated and will be removed from pandas in a future version. Use pandas.concat instead.\n",
      "  self.df = self.df.append(row, ignore_index=True)\n",
      "C:\\Users\\hp\\AppData\\Local\\Temp\\ipykernel_2904\\365529943.py:946: FutureWarning: The frame.append method is deprecated and will be removed from pandas in a future version. Use pandas.concat instead.\n",
      "  self.past_df = self.past_df.append(self.df.iloc[0], ignore_index=True)\n"
     ]
    },
    {
     "name": "stdout",
     "output_type": "stream",
     "text": [
      "In Sell\n",
      "In Sell\n"
     ]
    },
    {
     "name": "stderr",
     "output_type": "stream",
     "text": [
      "C:\\Users\\hp\\AppData\\Local\\Temp\\ipykernel_2904\\365529943.py:940: FutureWarning: The frame.append method is deprecated and will be removed from pandas in a future version. Use pandas.concat instead.\n",
      "  self.df = self.df.append(row, ignore_index=True)\n",
      "C:\\Users\\hp\\AppData\\Local\\Temp\\ipykernel_2904\\365529943.py:946: FutureWarning: The frame.append method is deprecated and will be removed from pandas in a future version. Use pandas.concat instead.\n",
      "  self.past_df = self.past_df.append(self.df.iloc[0], ignore_index=True)\n"
     ]
    },
    {
     "name": "stdout",
     "output_type": "stream",
     "text": [
      "In Sell\n",
      "In Sell\n",
      "In Sell\n"
     ]
    },
    {
     "name": "stderr",
     "output_type": "stream",
     "text": [
      "C:\\Users\\hp\\AppData\\Local\\Temp\\ipykernel_2904\\365529943.py:940: FutureWarning: The frame.append method is deprecated and will be removed from pandas in a future version. Use pandas.concat instead.\n",
      "  self.df = self.df.append(row, ignore_index=True)\n",
      "C:\\Users\\hp\\AppData\\Local\\Temp\\ipykernel_2904\\365529943.py:946: FutureWarning: The frame.append method is deprecated and will be removed from pandas in a future version. Use pandas.concat instead.\n",
      "  self.past_df = self.past_df.append(self.df.iloc[0], ignore_index=True)\n"
     ]
    },
    {
     "name": "stdout",
     "output_type": "stream",
     "text": [
      "In Sell\n",
      "In Sell\n"
     ]
    },
    {
     "name": "stderr",
     "output_type": "stream",
     "text": [
      "C:\\Users\\hp\\AppData\\Local\\Temp\\ipykernel_2904\\365529943.py:940: FutureWarning: The frame.append method is deprecated and will be removed from pandas in a future version. Use pandas.concat instead.\n",
      "  self.df = self.df.append(row, ignore_index=True)\n",
      "C:\\Users\\hp\\AppData\\Local\\Temp\\ipykernel_2904\\365529943.py:946: FutureWarning: The frame.append method is deprecated and will be removed from pandas in a future version. Use pandas.concat instead.\n",
      "  self.past_df = self.past_df.append(self.df.iloc[0], ignore_index=True)\n"
     ]
    },
    {
     "name": "stdout",
     "output_type": "stream",
     "text": [
      "In Sell\n",
      "In Sell\n"
     ]
    },
    {
     "name": "stderr",
     "output_type": "stream",
     "text": [
      "C:\\Users\\hp\\AppData\\Local\\Temp\\ipykernel_2904\\365529943.py:940: FutureWarning: The frame.append method is deprecated and will be removed from pandas in a future version. Use pandas.concat instead.\n",
      "  self.df = self.df.append(row, ignore_index=True)\n",
      "C:\\Users\\hp\\AppData\\Local\\Temp\\ipykernel_2904\\365529943.py:946: FutureWarning: The frame.append method is deprecated and will be removed from pandas in a future version. Use pandas.concat instead.\n",
      "  self.past_df = self.past_df.append(self.df.iloc[0], ignore_index=True)\n"
     ]
    },
    {
     "name": "stdout",
     "output_type": "stream",
     "text": [
      "In Buy\n",
      "In a green candle\n",
      "In Buy\n",
      "In red candle\n",
      "In Buy\n",
      "In a green candle\n",
      "In Buy\n",
      "In a green candle\n",
      "In Buy\n",
      "In red candle\n",
      "In Buy\n",
      "In red candle\n",
      "In Buy\n",
      "In a green candle\n",
      "In Buy\n",
      "In red candle\n",
      "In SL Condition\n"
     ]
    },
    {
     "name": "stderr",
     "output_type": "stream",
     "text": [
      "C:\\Users\\hp\\AppData\\Local\\Temp\\ipykernel_2904\\365529943.py:940: FutureWarning: The frame.append method is deprecated and will be removed from pandas in a future version. Use pandas.concat instead.\n",
      "  self.df = self.df.append(row, ignore_index=True)\n",
      "C:\\Users\\hp\\AppData\\Local\\Temp\\ipykernel_2904\\365529943.py:946: FutureWarning: The frame.append method is deprecated and will be removed from pandas in a future version. Use pandas.concat instead.\n",
      "  self.past_df = self.past_df.append(self.df.iloc[0], ignore_index=True)\n",
      "C:\\Users\\hp\\AppData\\Local\\Temp\\ipykernel_2904\\365529943.py:940: FutureWarning: The frame.append method is deprecated and will be removed from pandas in a future version. Use pandas.concat instead.\n",
      "  self.df = self.df.append(row, ignore_index=True)\n",
      "C:\\Users\\hp\\AppData\\Local\\Temp\\ipykernel_2904\\365529943.py:946: FutureWarning: The frame.append method is deprecated and will be removed from pandas in a future version. Use pandas.concat instead.\n",
      "  self.past_df = self.past_df.append(self.df.iloc[0], ignore_index=True)\n"
     ]
    },
    {
     "name": "stdout",
     "output_type": "stream",
     "text": [
      "In Buy\n",
      "In a green candle\n",
      "In Buy\n",
      "In red candle\n",
      "In Buy\n",
      "In red candle\n",
      "In Buy\n",
      "In a green candle\n",
      "In Buy\n",
      "In a green candle\n",
      "In Buy\n",
      "In red candle\n",
      "In Buy\n",
      "In red candle\n",
      "In Buy\n",
      "In a green candle\n",
      "In TRG exit condition\n",
      "In Buy\n",
      "In red candle\n",
      "In SL Condition\n"
     ]
    },
    {
     "name": "stderr",
     "output_type": "stream",
     "text": [
      "C:\\Users\\hp\\AppData\\Local\\Temp\\ipykernel_2904\\365529943.py:940: FutureWarning: The frame.append method is deprecated and will be removed from pandas in a future version. Use pandas.concat instead.\n",
      "  self.df = self.df.append(row, ignore_index=True)\n",
      "C:\\Users\\hp\\AppData\\Local\\Temp\\ipykernel_2904\\365529943.py:946: FutureWarning: The frame.append method is deprecated and will be removed from pandas in a future version. Use pandas.concat instead.\n",
      "  self.past_df = self.past_df.append(self.df.iloc[0], ignore_index=True)\n"
     ]
    },
    {
     "name": "stdout",
     "output_type": "stream",
     "text": [
      "In Buy\n",
      "In a green candle\n",
      "In Buy\n",
      "In red candle\n",
      "In Buy\n",
      "In a green candle\n",
      "In TRG exit condition\n"
     ]
    },
    {
     "name": "stderr",
     "output_type": "stream",
     "text": [
      "C:\\Users\\hp\\AppData\\Local\\Temp\\ipykernel_2904\\365529943.py:940: FutureWarning: The frame.append method is deprecated and will be removed from pandas in a future version. Use pandas.concat instead.\n",
      "  self.df = self.df.append(row, ignore_index=True)\n",
      "C:\\Users\\hp\\AppData\\Local\\Temp\\ipykernel_2904\\365529943.py:946: FutureWarning: The frame.append method is deprecated and will be removed from pandas in a future version. Use pandas.concat instead.\n",
      "  self.past_df = self.past_df.append(self.df.iloc[0], ignore_index=True)\n"
     ]
    },
    {
     "name": "stdout",
     "output_type": "stream",
     "text": [
      "In Buy\n",
      "In a green candle\n",
      "In TRG exit condition\n"
     ]
    },
    {
     "name": "stderr",
     "output_type": "stream",
     "text": [
      "C:\\Users\\hp\\AppData\\Local\\Temp\\ipykernel_2904\\365529943.py:940: FutureWarning: The frame.append method is deprecated and will be removed from pandas in a future version. Use pandas.concat instead.\n",
      "  self.df = self.df.append(row, ignore_index=True)\n",
      "C:\\Users\\hp\\AppData\\Local\\Temp\\ipykernel_2904\\365529943.py:946: FutureWarning: The frame.append method is deprecated and will be removed from pandas in a future version. Use pandas.concat instead.\n",
      "  self.past_df = self.past_df.append(self.df.iloc[0], ignore_index=True)\n"
     ]
    },
    {
     "name": "stdout",
     "output_type": "stream",
     "text": [
      "In Buy\n",
      "In red candle\n",
      "In SL Condition\n"
     ]
    },
    {
     "name": "stderr",
     "output_type": "stream",
     "text": [
      "C:\\Users\\hp\\AppData\\Local\\Temp\\ipykernel_2904\\365529943.py:940: FutureWarning: The frame.append method is deprecated and will be removed from pandas in a future version. Use pandas.concat instead.\n",
      "  self.df = self.df.append(row, ignore_index=True)\n",
      "C:\\Users\\hp\\AppData\\Local\\Temp\\ipykernel_2904\\365529943.py:946: FutureWarning: The frame.append method is deprecated and will be removed from pandas in a future version. Use pandas.concat instead.\n",
      "  self.past_df = self.past_df.append(self.df.iloc[0], ignore_index=True)\n"
     ]
    },
    {
     "name": "stdout",
     "output_type": "stream",
     "text": [
      "In Buy\n",
      "In red candle\n",
      "In Buy\n",
      "In red candle\n",
      "In Buy\n",
      "In a green candle\n",
      "In Buy\n",
      "In a green candle\n",
      "In Buy\n",
      "In red candle\n",
      "In Buy\n",
      "In a green candle\n",
      "In Buy\n",
      "In red candle\n",
      "In Buy\n",
      "In a green candle\n",
      "In Buy\n",
      "In a green candle\n",
      "In Buy\n",
      "In red candle\n",
      "In Buy\n",
      "In red candle\n",
      "In Buy\n",
      "In red candle\n",
      "In Buy\n",
      "In a green candle\n",
      "In Buy\n",
      "In red candle\n",
      "In Buy\n",
      "In a green candle\n",
      "In Buy\n",
      "In a green candle\n",
      "In Buy\n",
      "In red candle\n",
      "In SL Condition\n",
      "In Buy\n",
      "In red candle\n",
      "In SL Condition\n"
     ]
    },
    {
     "name": "stderr",
     "output_type": "stream",
     "text": [
      "C:\\Users\\hp\\AppData\\Local\\Temp\\ipykernel_2904\\365529943.py:940: FutureWarning: The frame.append method is deprecated and will be removed from pandas in a future version. Use pandas.concat instead.\n",
      "  self.df = self.df.append(row, ignore_index=True)\n",
      "C:\\Users\\hp\\AppData\\Local\\Temp\\ipykernel_2904\\365529943.py:946: FutureWarning: The frame.append method is deprecated and will be removed from pandas in a future version. Use pandas.concat instead.\n",
      "  self.past_df = self.past_df.append(self.df.iloc[0], ignore_index=True)\n",
      "C:\\Users\\hp\\AppData\\Local\\Temp\\ipykernel_2904\\365529943.py:940: FutureWarning: The frame.append method is deprecated and will be removed from pandas in a future version. Use pandas.concat instead.\n",
      "  self.df = self.df.append(row, ignore_index=True)\n",
      "C:\\Users\\hp\\AppData\\Local\\Temp\\ipykernel_2904\\365529943.py:946: FutureWarning: The frame.append method is deprecated and will be removed from pandas in a future version. Use pandas.concat instead.\n",
      "  self.past_df = self.past_df.append(self.df.iloc[0], ignore_index=True)\n",
      "C:\\Users\\hp\\AppData\\Local\\Temp\\ipykernel_2904\\365529943.py:940: FutureWarning: The frame.append method is deprecated and will be removed from pandas in a future version. Use pandas.concat instead.\n",
      "  self.df = self.df.append(row, ignore_index=True)\n",
      "C:\\Users\\hp\\AppData\\Local\\Temp\\ipykernel_2904\\365529943.py:946: FutureWarning: The frame.append method is deprecated and will be removed from pandas in a future version. Use pandas.concat instead.\n",
      "  self.past_df = self.past_df.append(self.df.iloc[0], ignore_index=True)\n"
     ]
    },
    {
     "name": "stdout",
     "output_type": "stream",
     "text": [
      "In Buy\n",
      "In a green candle\n",
      "In Buy\n",
      "In red candle\n",
      "In Buy\n",
      "In a green candle\n",
      "In Buy\n",
      "In red candle\n",
      "In Buy\n",
      "In red candle\n",
      "In SL Condition\n",
      "In Buy\n",
      "In a green candle\n",
      "In Buy\n",
      "In red candle\n",
      "In Buy\n",
      "In a green candle\n",
      "In Buy\n",
      "In red candle\n",
      "In Buy\n",
      "In red candle\n",
      "In Buy\n",
      "In red candle\n",
      "In SL Condition\n"
     ]
    },
    {
     "name": "stderr",
     "output_type": "stream",
     "text": [
      "C:\\Users\\hp\\AppData\\Local\\Temp\\ipykernel_2904\\365529943.py:940: FutureWarning: The frame.append method is deprecated and will be removed from pandas in a future version. Use pandas.concat instead.\n",
      "  self.df = self.df.append(row, ignore_index=True)\n",
      "C:\\Users\\hp\\AppData\\Local\\Temp\\ipykernel_2904\\365529943.py:946: FutureWarning: The frame.append method is deprecated and will be removed from pandas in a future version. Use pandas.concat instead.\n",
      "  self.past_df = self.past_df.append(self.df.iloc[0], ignore_index=True)\n"
     ]
    },
    {
     "name": "stdout",
     "output_type": "stream",
     "text": [
      "In Buy\n",
      "In a green candle\n",
      "In Buy\n",
      "In a green candle\n",
      "In TRG exit condition\n"
     ]
    },
    {
     "name": "stderr",
     "output_type": "stream",
     "text": [
      "C:\\Users\\hp\\AppData\\Local\\Temp\\ipykernel_2904\\365529943.py:940: FutureWarning: The frame.append method is deprecated and will be removed from pandas in a future version. Use pandas.concat instead.\n",
      "  self.df = self.df.append(row, ignore_index=True)\n",
      "C:\\Users\\hp\\AppData\\Local\\Temp\\ipykernel_2904\\365529943.py:946: FutureWarning: The frame.append method is deprecated and will be removed from pandas in a future version. Use pandas.concat instead.\n",
      "  self.past_df = self.past_df.append(self.df.iloc[0], ignore_index=True)\n"
     ]
    },
    {
     "name": "stdout",
     "output_type": "stream",
     "text": [
      "In Sell\n",
      "In Sell\n"
     ]
    },
    {
     "name": "stderr",
     "output_type": "stream",
     "text": [
      "C:\\Users\\hp\\AppData\\Local\\Temp\\ipykernel_2904\\365529943.py:940: FutureWarning: The frame.append method is deprecated and will be removed from pandas in a future version. Use pandas.concat instead.\n",
      "  self.df = self.df.append(row, ignore_index=True)\n",
      "C:\\Users\\hp\\AppData\\Local\\Temp\\ipykernel_2904\\365529943.py:946: FutureWarning: The frame.append method is deprecated and will be removed from pandas in a future version. Use pandas.concat instead.\n",
      "  self.past_df = self.past_df.append(self.df.iloc[0], ignore_index=True)\n"
     ]
    },
    {
     "name": "stdout",
     "output_type": "stream",
     "text": [
      "In Sell\n",
      "In Sell\n",
      "In Sell\n",
      "In Sell\n"
     ]
    },
    {
     "name": "stderr",
     "output_type": "stream",
     "text": [
      "C:\\Users\\hp\\AppData\\Local\\Temp\\ipykernel_2904\\365529943.py:940: FutureWarning: The frame.append method is deprecated and will be removed from pandas in a future version. Use pandas.concat instead.\n",
      "  self.df = self.df.append(row, ignore_index=True)\n",
      "C:\\Users\\hp\\AppData\\Local\\Temp\\ipykernel_2904\\365529943.py:946: FutureWarning: The frame.append method is deprecated and will be removed from pandas in a future version. Use pandas.concat instead.\n",
      "  self.past_df = self.past_df.append(self.df.iloc[0], ignore_index=True)\n"
     ]
    },
    {
     "name": "stdout",
     "output_type": "stream",
     "text": [
      "In Buy\n",
      "In red candle\n",
      "In SL Condition\n"
     ]
    },
    {
     "name": "stderr",
     "output_type": "stream",
     "text": [
      "C:\\Users\\hp\\AppData\\Local\\Temp\\ipykernel_2904\\365529943.py:940: FutureWarning: The frame.append method is deprecated and will be removed from pandas in a future version. Use pandas.concat instead.\n",
      "  self.df = self.df.append(row, ignore_index=True)\n",
      "C:\\Users\\hp\\AppData\\Local\\Temp\\ipykernel_2904\\365529943.py:946: FutureWarning: The frame.append method is deprecated and will be removed from pandas in a future version. Use pandas.concat instead.\n",
      "  self.past_df = self.past_df.append(self.df.iloc[0], ignore_index=True)\n"
     ]
    },
    {
     "name": "stdout",
     "output_type": "stream",
     "text": [
      "In Sell\n"
     ]
    },
    {
     "name": "stderr",
     "output_type": "stream",
     "text": [
      "C:\\Users\\hp\\AppData\\Local\\Temp\\ipykernel_2904\\365529943.py:940: FutureWarning: The frame.append method is deprecated and will be removed from pandas in a future version. Use pandas.concat instead.\n",
      "  self.df = self.df.append(row, ignore_index=True)\n",
      "C:\\Users\\hp\\AppData\\Local\\Temp\\ipykernel_2904\\365529943.py:946: FutureWarning: The frame.append method is deprecated and will be removed from pandas in a future version. Use pandas.concat instead.\n",
      "  self.past_df = self.past_df.append(self.df.iloc[0], ignore_index=True)\n"
     ]
    },
    {
     "name": "stdout",
     "output_type": "stream",
     "text": [
      "In Sell\n",
      "In Sell\n",
      "In Sell\n",
      "In Sell\n",
      "In Sell\n",
      "In Sell\n",
      "In Sell\n",
      "In Sell\n",
      "In Sell\n",
      "In Sell\n",
      "In Sell\n"
     ]
    },
    {
     "name": "stderr",
     "output_type": "stream",
     "text": [
      "C:\\Users\\hp\\AppData\\Local\\Temp\\ipykernel_2904\\365529943.py:940: FutureWarning: The frame.append method is deprecated and will be removed from pandas in a future version. Use pandas.concat instead.\n",
      "  self.df = self.df.append(row, ignore_index=True)\n",
      "C:\\Users\\hp\\AppData\\Local\\Temp\\ipykernel_2904\\365529943.py:946: FutureWarning: The frame.append method is deprecated and will be removed from pandas in a future version. Use pandas.concat instead.\n",
      "  self.past_df = self.past_df.append(self.df.iloc[0], ignore_index=True)\n",
      "C:\\Users\\hp\\AppData\\Local\\Temp\\ipykernel_2904\\365529943.py:940: FutureWarning: The frame.append method is deprecated and will be removed from pandas in a future version. Use pandas.concat instead.\n",
      "  self.df = self.df.append(row, ignore_index=True)\n",
      "C:\\Users\\hp\\AppData\\Local\\Temp\\ipykernel_2904\\365529943.py:946: FutureWarning: The frame.append method is deprecated and will be removed from pandas in a future version. Use pandas.concat instead.\n",
      "  self.past_df = self.past_df.append(self.df.iloc[0], ignore_index=True)\n"
     ]
    },
    {
     "name": "stdout",
     "output_type": "stream",
     "text": [
      "In Sell\n",
      "In Sell\n",
      "In Sell\n",
      "In Sell\n",
      "In Sell\n",
      "In Sell\n",
      "In Sell\n",
      "In Sell\n",
      "In Sell\n",
      "In Sell\n",
      "In Sell\n",
      "In Sell\n",
      "In Sell\n",
      "In Sell\n",
      "In Sell\n",
      "In Sell\n",
      "In Sell\n",
      "In Sell\n"
     ]
    },
    {
     "name": "stderr",
     "output_type": "stream",
     "text": [
      "C:\\Users\\hp\\AppData\\Local\\Temp\\ipykernel_2904\\365529943.py:940: FutureWarning: The frame.append method is deprecated and will be removed from pandas in a future version. Use pandas.concat instead.\n",
      "  self.df = self.df.append(row, ignore_index=True)\n",
      "C:\\Users\\hp\\AppData\\Local\\Temp\\ipykernel_2904\\365529943.py:946: FutureWarning: The frame.append method is deprecated and will be removed from pandas in a future version. Use pandas.concat instead.\n",
      "  self.past_df = self.past_df.append(self.df.iloc[0], ignore_index=True)\n"
     ]
    },
    {
     "name": "stdout",
     "output_type": "stream",
     "text": [
      "In Sell\n",
      "In Sell\n",
      "In Sell\n",
      "In Sell\n"
     ]
    },
    {
     "name": "stderr",
     "output_type": "stream",
     "text": [
      "C:\\Users\\hp\\AppData\\Local\\Temp\\ipykernel_2904\\365529943.py:940: FutureWarning: The frame.append method is deprecated and will be removed from pandas in a future version. Use pandas.concat instead.\n",
      "  self.df = self.df.append(row, ignore_index=True)\n",
      "C:\\Users\\hp\\AppData\\Local\\Temp\\ipykernel_2904\\365529943.py:946: FutureWarning: The frame.append method is deprecated and will be removed from pandas in a future version. Use pandas.concat instead.\n",
      "  self.past_df = self.past_df.append(self.df.iloc[0], ignore_index=True)\n",
      "C:\\Users\\hp\\AppData\\Local\\Temp\\ipykernel_2904\\365529943.py:940: FutureWarning: The frame.append method is deprecated and will be removed from pandas in a future version. Use pandas.concat instead.\n",
      "  self.df = self.df.append(row, ignore_index=True)\n",
      "C:\\Users\\hp\\AppData\\Local\\Temp\\ipykernel_2904\\365529943.py:946: FutureWarning: The frame.append method is deprecated and will be removed from pandas in a future version. Use pandas.concat instead.\n",
      "  self.past_df = self.past_df.append(self.df.iloc[0], ignore_index=True)\n"
     ]
    },
    {
     "name": "stdout",
     "output_type": "stream",
     "text": [
      "In Sell\n",
      "In Sell\n",
      "In Sell\n",
      "In Sell\n",
      "In Sell\n"
     ]
    },
    {
     "name": "stderr",
     "output_type": "stream",
     "text": [
      "C:\\Users\\hp\\AppData\\Local\\Temp\\ipykernel_2904\\365529943.py:940: FutureWarning: The frame.append method is deprecated and will be removed from pandas in a future version. Use pandas.concat instead.\n",
      "  self.df = self.df.append(row, ignore_index=True)\n",
      "C:\\Users\\hp\\AppData\\Local\\Temp\\ipykernel_2904\\365529943.py:946: FutureWarning: The frame.append method is deprecated and will be removed from pandas in a future version. Use pandas.concat instead.\n",
      "  self.past_df = self.past_df.append(self.df.iloc[0], ignore_index=True)\n",
      "C:\\Users\\hp\\AppData\\Local\\Temp\\ipykernel_2904\\365529943.py:940: FutureWarning: The frame.append method is deprecated and will be removed from pandas in a future version. Use pandas.concat instead.\n",
      "  self.df = self.df.append(row, ignore_index=True)\n",
      "C:\\Users\\hp\\AppData\\Local\\Temp\\ipykernel_2904\\365529943.py:946: FutureWarning: The frame.append method is deprecated and will be removed from pandas in a future version. Use pandas.concat instead.\n",
      "  self.past_df = self.past_df.append(self.df.iloc[0], ignore_index=True)\n"
     ]
    },
    {
     "name": "stdout",
     "output_type": "stream",
     "text": [
      "In Buy\n",
      "In red candle\n",
      "In Buy\n",
      "In a green candle\n",
      "In Buy\n",
      "In red candle\n",
      "In Buy\n",
      "In a green candle\n",
      "In TRG exit condition\n",
      "In Buy\n",
      "In red candle\n",
      "In Buy\n",
      "In a green candle\n",
      "In Buy\n",
      "In red candle\n",
      "In Buy\n",
      "In red candle\n",
      "In Buy\n",
      "In a green candle\n",
      "In Buy\n",
      "In a green candle\n",
      "In Buy\n",
      "In red candle\n",
      "In Buy\n",
      "In a green candle\n",
      "In Buy\n",
      "In a green candle\n",
      "In Buy\n",
      "In red candle\n",
      "In Buy\n",
      "In a green candle\n",
      "In Buy\n",
      "In red candle\n",
      "In Buy\n",
      "In a green candle\n",
      "In TRG exit condition\n"
     ]
    },
    {
     "name": "stderr",
     "output_type": "stream",
     "text": [
      "C:\\Users\\hp\\AppData\\Local\\Temp\\ipykernel_2904\\365529943.py:940: FutureWarning: The frame.append method is deprecated and will be removed from pandas in a future version. Use pandas.concat instead.\n",
      "  self.df = self.df.append(row, ignore_index=True)\n",
      "C:\\Users\\hp\\AppData\\Local\\Temp\\ipykernel_2904\\365529943.py:946: FutureWarning: The frame.append method is deprecated and will be removed from pandas in a future version. Use pandas.concat instead.\n",
      "  self.past_df = self.past_df.append(self.df.iloc[0], ignore_index=True)\n"
     ]
    },
    {
     "name": "stdout",
     "output_type": "stream",
     "text": [
      "In Buy\n",
      "In a green candle\n",
      "In Buy\n",
      "In red candle\n",
      "In Buy\n",
      "In a green candle\n",
      "In TRG exit condition\n"
     ]
    },
    {
     "name": "stderr",
     "output_type": "stream",
     "text": [
      "C:\\Users\\hp\\AppData\\Local\\Temp\\ipykernel_2904\\365529943.py:940: FutureWarning: The frame.append method is deprecated and will be removed from pandas in a future version. Use pandas.concat instead.\n",
      "  self.df = self.df.append(row, ignore_index=True)\n",
      "C:\\Users\\hp\\AppData\\Local\\Temp\\ipykernel_2904\\365529943.py:946: FutureWarning: The frame.append method is deprecated and will be removed from pandas in a future version. Use pandas.concat instead.\n",
      "  self.past_df = self.past_df.append(self.df.iloc[0], ignore_index=True)\n"
     ]
    },
    {
     "name": "stdout",
     "output_type": "stream",
     "text": [
      "In Buy\n",
      "In a green candle\n",
      "In Buy\n",
      "In red candle\n",
      "In Buy\n",
      "In a green candle\n",
      "In SL Condition\n"
     ]
    },
    {
     "name": "stderr",
     "output_type": "stream",
     "text": [
      "C:\\Users\\hp\\AppData\\Local\\Temp\\ipykernel_2904\\365529943.py:940: FutureWarning: The frame.append method is deprecated and will be removed from pandas in a future version. Use pandas.concat instead.\n",
      "  self.df = self.df.append(row, ignore_index=True)\n",
      "C:\\Users\\hp\\AppData\\Local\\Temp\\ipykernel_2904\\365529943.py:946: FutureWarning: The frame.append method is deprecated and will be removed from pandas in a future version. Use pandas.concat instead.\n",
      "  self.past_df = self.past_df.append(self.df.iloc[0], ignore_index=True)\n",
      "C:\\Users\\hp\\AppData\\Local\\Temp\\ipykernel_2904\\365529943.py:940: FutureWarning: The frame.append method is deprecated and will be removed from pandas in a future version. Use pandas.concat instead.\n",
      "  self.df = self.df.append(row, ignore_index=True)\n",
      "C:\\Users\\hp\\AppData\\Local\\Temp\\ipykernel_2904\\365529943.py:946: FutureWarning: The frame.append method is deprecated and will be removed from pandas in a future version. Use pandas.concat instead.\n",
      "  self.past_df = self.past_df.append(self.df.iloc[0], ignore_index=True)\n"
     ]
    },
    {
     "name": "stdout",
     "output_type": "stream",
     "text": [
      "In Buy\n",
      "In red candle\n",
      "In SL Condition\n",
      "In Buy\n",
      "In red candle\n",
      "In Buy\n",
      "In a green candle\n",
      "In Buy\n",
      "In a green candle\n",
      "In Buy\n",
      "In red candle\n",
      "In Buy\n",
      "In a green candle\n",
      "In Buy\n",
      "In red candle\n",
      "In Buy\n",
      "In a green candle\n",
      "In Buy\n",
      "In red candle\n",
      "In Buy\n",
      "In red candle\n",
      "In Buy\n",
      "In a green candle\n",
      "In Buy\n",
      "In red candle\n",
      "In Buy\n",
      "In red candle\n",
      "In Buy\n",
      "In a green candle\n",
      "In TRG exit condition\n"
     ]
    },
    {
     "name": "stderr",
     "output_type": "stream",
     "text": [
      "C:\\Users\\hp\\AppData\\Local\\Temp\\ipykernel_2904\\365529943.py:940: FutureWarning: The frame.append method is deprecated and will be removed from pandas in a future version. Use pandas.concat instead.\n",
      "  self.df = self.df.append(row, ignore_index=True)\n",
      "C:\\Users\\hp\\AppData\\Local\\Temp\\ipykernel_2904\\365529943.py:946: FutureWarning: The frame.append method is deprecated and will be removed from pandas in a future version. Use pandas.concat instead.\n",
      "  self.past_df = self.past_df.append(self.df.iloc[0], ignore_index=True)\n"
     ]
    },
    {
     "name": "stdout",
     "output_type": "stream",
     "text": [
      "In Buy\n",
      "In red candle\n",
      "In Buy\n",
      "In red candle\n",
      "In SL Condition\n"
     ]
    },
    {
     "name": "stderr",
     "output_type": "stream",
     "text": [
      "C:\\Users\\hp\\AppData\\Local\\Temp\\ipykernel_2904\\365529943.py:940: FutureWarning: The frame.append method is deprecated and will be removed from pandas in a future version. Use pandas.concat instead.\n",
      "  self.df = self.df.append(row, ignore_index=True)\n",
      "C:\\Users\\hp\\AppData\\Local\\Temp\\ipykernel_2904\\365529943.py:946: FutureWarning: The frame.append method is deprecated and will be removed from pandas in a future version. Use pandas.concat instead.\n",
      "  self.past_df = self.past_df.append(self.df.iloc[0], ignore_index=True)\n"
     ]
    },
    {
     "name": "stdout",
     "output_type": "stream",
     "text": [
      "In Buy\n",
      "In red candle\n",
      "In Buy\n",
      "In red candle\n",
      "In Buy\n",
      "In red candle\n",
      "In SL Condition\n"
     ]
    },
    {
     "name": "stderr",
     "output_type": "stream",
     "text": [
      "C:\\Users\\hp\\AppData\\Local\\Temp\\ipykernel_2904\\365529943.py:940: FutureWarning: The frame.append method is deprecated and will be removed from pandas in a future version. Use pandas.concat instead.\n",
      "  self.df = self.df.append(row, ignore_index=True)\n",
      "C:\\Users\\hp\\AppData\\Local\\Temp\\ipykernel_2904\\365529943.py:946: FutureWarning: The frame.append method is deprecated and will be removed from pandas in a future version. Use pandas.concat instead.\n",
      "  self.past_df = self.past_df.append(self.df.iloc[0], ignore_index=True)\n"
     ]
    },
    {
     "name": "stdout",
     "output_type": "stream",
     "text": [
      "In Buy\n",
      "In red candle\n",
      "In Buy\n",
      "In a green candle\n",
      "In Buy\n",
      "In a green candle\n",
      "In Buy\n",
      "In red candle\n",
      "In Buy\n",
      "In a green candle\n",
      "In Buy\n",
      "In a green candle\n",
      "In TRG exit condition\n"
     ]
    },
    {
     "name": "stderr",
     "output_type": "stream",
     "text": [
      "C:\\Users\\hp\\AppData\\Local\\Temp\\ipykernel_2904\\365529943.py:940: FutureWarning: The frame.append method is deprecated and will be removed from pandas in a future version. Use pandas.concat instead.\n",
      "  self.df = self.df.append(row, ignore_index=True)\n",
      "C:\\Users\\hp\\AppData\\Local\\Temp\\ipykernel_2904\\365529943.py:946: FutureWarning: The frame.append method is deprecated and will be removed from pandas in a future version. Use pandas.concat instead.\n",
      "  self.past_df = self.past_df.append(self.df.iloc[0], ignore_index=True)\n",
      "C:\\Users\\hp\\AppData\\Local\\Temp\\ipykernel_2904\\365529943.py:940: FutureWarning: The frame.append method is deprecated and will be removed from pandas in a future version. Use pandas.concat instead.\n",
      "  self.df = self.df.append(row, ignore_index=True)\n",
      "C:\\Users\\hp\\AppData\\Local\\Temp\\ipykernel_2904\\365529943.py:946: FutureWarning: The frame.append method is deprecated and will be removed from pandas in a future version. Use pandas.concat instead.\n",
      "  self.past_df = self.past_df.append(self.df.iloc[0], ignore_index=True)\n"
     ]
    },
    {
     "name": "stdout",
     "output_type": "stream",
     "text": [
      "In Sell\n",
      "In Sell\n",
      "In Sell\n",
      "In Sell\n",
      "In Sell\n",
      "In Sell\n",
      "In Sell\n",
      "In Sell\n",
      "In Sell\n",
      "In Sell\n",
      "In Sell\n",
      "In Sell\n",
      "In Sell\n",
      "In Sell\n",
      "In Sell\n",
      "In Sell\n"
     ]
    },
    {
     "name": "stderr",
     "output_type": "stream",
     "text": [
      "C:\\Users\\hp\\AppData\\Local\\Temp\\ipykernel_2904\\365529943.py:940: FutureWarning: The frame.append method is deprecated and will be removed from pandas in a future version. Use pandas.concat instead.\n",
      "  self.df = self.df.append(row, ignore_index=True)\n",
      "C:\\Users\\hp\\AppData\\Local\\Temp\\ipykernel_2904\\365529943.py:946: FutureWarning: The frame.append method is deprecated and will be removed from pandas in a future version. Use pandas.concat instead.\n",
      "  self.past_df = self.past_df.append(self.df.iloc[0], ignore_index=True)\n",
      "C:\\Users\\hp\\AppData\\Local\\Temp\\ipykernel_2904\\365529943.py:940: FutureWarning: The frame.append method is deprecated and will be removed from pandas in a future version. Use pandas.concat instead.\n",
      "  self.df = self.df.append(row, ignore_index=True)\n",
      "C:\\Users\\hp\\AppData\\Local\\Temp\\ipykernel_2904\\365529943.py:946: FutureWarning: The frame.append method is deprecated and will be removed from pandas in a future version. Use pandas.concat instead.\n",
      "  self.past_df = self.past_df.append(self.df.iloc[0], ignore_index=True)\n"
     ]
    },
    {
     "name": "stdout",
     "output_type": "stream",
     "text": [
      "In Sell\n",
      "In Sell\n",
      "In Sell\n",
      "In Sell\n",
      "In Sell\n",
      "In Sell\n",
      "In Sell\n",
      "In Sell\n",
      "In Sell\n",
      "In Sell\n",
      "In Sell\n"
     ]
    },
    {
     "name": "stderr",
     "output_type": "stream",
     "text": [
      "C:\\Users\\hp\\AppData\\Local\\Temp\\ipykernel_2904\\365529943.py:940: FutureWarning: The frame.append method is deprecated and will be removed from pandas in a future version. Use pandas.concat instead.\n",
      "  self.df = self.df.append(row, ignore_index=True)\n",
      "C:\\Users\\hp\\AppData\\Local\\Temp\\ipykernel_2904\\365529943.py:946: FutureWarning: The frame.append method is deprecated and will be removed from pandas in a future version. Use pandas.concat instead.\n",
      "  self.past_df = self.past_df.append(self.df.iloc[0], ignore_index=True)\n",
      "C:\\Users\\hp\\AppData\\Local\\Temp\\ipykernel_2904\\365529943.py:940: FutureWarning: The frame.append method is deprecated and will be removed from pandas in a future version. Use pandas.concat instead.\n",
      "  self.df = self.df.append(row, ignore_index=True)\n",
      "C:\\Users\\hp\\AppData\\Local\\Temp\\ipykernel_2904\\365529943.py:946: FutureWarning: The frame.append method is deprecated and will be removed from pandas in a future version. Use pandas.concat instead.\n",
      "  self.past_df = self.past_df.append(self.df.iloc[0], ignore_index=True)\n"
     ]
    },
    {
     "name": "stdout",
     "output_type": "stream",
     "text": [
      "In Buy\n",
      "In red candle\n",
      "In SL Condition\n",
      "In Buy\n",
      "In red candle\n",
      "In Buy\n",
      "In red candle\n",
      "In SL Condition\n"
     ]
    },
    {
     "name": "stderr",
     "output_type": "stream",
     "text": [
      "C:\\Users\\hp\\AppData\\Local\\Temp\\ipykernel_2904\\365529943.py:940: FutureWarning: The frame.append method is deprecated and will be removed from pandas in a future version. Use pandas.concat instead.\n",
      "  self.df = self.df.append(row, ignore_index=True)\n",
      "C:\\Users\\hp\\AppData\\Local\\Temp\\ipykernel_2904\\365529943.py:946: FutureWarning: The frame.append method is deprecated and will be removed from pandas in a future version. Use pandas.concat instead.\n",
      "  self.past_df = self.past_df.append(self.df.iloc[0], ignore_index=True)\n",
      "C:\\Users\\hp\\AppData\\Local\\Temp\\ipykernel_2904\\365529943.py:940: FutureWarning: The frame.append method is deprecated and will be removed from pandas in a future version. Use pandas.concat instead.\n",
      "  self.df = self.df.append(row, ignore_index=True)\n",
      "C:\\Users\\hp\\AppData\\Local\\Temp\\ipykernel_2904\\365529943.py:946: FutureWarning: The frame.append method is deprecated and will be removed from pandas in a future version. Use pandas.concat instead.\n",
      "  self.past_df = self.past_df.append(self.df.iloc[0], ignore_index=True)\n"
     ]
    },
    {
     "name": "stdout",
     "output_type": "stream",
     "text": [
      "In Buy\n",
      "In a green candle\n",
      "In Buy\n",
      "In red candle\n",
      "In Buy\n",
      "In red candle\n",
      "In Buy\n",
      "In red candle\n",
      "In SL Condition\n",
      "In Buy\n",
      "In red candle\n",
      "In Buy\n",
      "In red candle\n",
      "In SL Condition\n"
     ]
    },
    {
     "name": "stderr",
     "output_type": "stream",
     "text": [
      "C:\\Users\\hp\\AppData\\Local\\Temp\\ipykernel_2904\\365529943.py:940: FutureWarning: The frame.append method is deprecated and will be removed from pandas in a future version. Use pandas.concat instead.\n",
      "  self.df = self.df.append(row, ignore_index=True)\n",
      "C:\\Users\\hp\\AppData\\Local\\Temp\\ipykernel_2904\\365529943.py:946: FutureWarning: The frame.append method is deprecated and will be removed from pandas in a future version. Use pandas.concat instead.\n",
      "  self.past_df = self.past_df.append(self.df.iloc[0], ignore_index=True)\n",
      "C:\\Users\\hp\\AppData\\Local\\Temp\\ipykernel_2904\\365529943.py:940: FutureWarning: The frame.append method is deprecated and will be removed from pandas in a future version. Use pandas.concat instead.\n",
      "  self.df = self.df.append(row, ignore_index=True)\n",
      "C:\\Users\\hp\\AppData\\Local\\Temp\\ipykernel_2904\\365529943.py:946: FutureWarning: The frame.append method is deprecated and will be removed from pandas in a future version. Use pandas.concat instead.\n",
      "  self.past_df = self.past_df.append(self.df.iloc[0], ignore_index=True)\n"
     ]
    },
    {
     "name": "stdout",
     "output_type": "stream",
     "text": [
      "In Buy\n",
      "In red candle\n",
      "In SL Condition\n",
      "In Buy\n",
      "In a green candle\n",
      "In Buy\n",
      "In a green candle\n",
      "In Buy\n",
      "In red candle\n",
      "In SL Condition\n"
     ]
    },
    {
     "name": "stderr",
     "output_type": "stream",
     "text": [
      "C:\\Users\\hp\\AppData\\Local\\Temp\\ipykernel_2904\\365529943.py:940: FutureWarning: The frame.append method is deprecated and will be removed from pandas in a future version. Use pandas.concat instead.\n",
      "  self.df = self.df.append(row, ignore_index=True)\n",
      "C:\\Users\\hp\\AppData\\Local\\Temp\\ipykernel_2904\\365529943.py:946: FutureWarning: The frame.append method is deprecated and will be removed from pandas in a future version. Use pandas.concat instead.\n",
      "  self.past_df = self.past_df.append(self.df.iloc[0], ignore_index=True)\n"
     ]
    },
    {
     "name": "stdout",
     "output_type": "stream",
     "text": [
      "In Buy\n",
      "In a green candle\n",
      "In Buy\n",
      "In red candle\n",
      "In Buy\n",
      "In red candle\n",
      "In Buy\n",
      "In a green candle\n",
      "In Buy\n",
      "In a green candle\n",
      "In Buy\n",
      "In a green candle\n",
      "In Buy\n",
      "In red candle\n",
      "In Buy\n",
      "In red candle\n",
      "In Buy\n",
      "In a green candle\n",
      "In Buy\n",
      "In red candle\n",
      "In Buy\n",
      "In a green candle\n",
      "In Buy\n",
      "In red candle\n",
      "In Buy\n",
      "In red candle\n",
      "In Buy\n",
      "In red candle\n",
      "In Buy\n",
      "In a green candle\n",
      "In Buy\n",
      "In a green candle\n",
      "In Buy\n",
      "In a green candle\n",
      "In Buy\n",
      "In red candle\n",
      "In Buy\n",
      "In a green candle\n",
      "In Buy\n",
      "In red candle\n",
      "In Buy\n",
      "In a green candle\n",
      "In Buy\n",
      "In a green candle\n",
      "In Buy\n",
      "In red candle\n",
      "In Buy\n",
      "In red candle\n",
      "In Buy\n",
      "In red candle\n",
      "In Buy\n",
      "In a green candle\n",
      "In Buy\n",
      "In a green candle\n",
      "In TRG exit condition\n"
     ]
    },
    {
     "name": "stderr",
     "output_type": "stream",
     "text": [
      "C:\\Users\\hp\\AppData\\Local\\Temp\\ipykernel_2904\\365529943.py:940: FutureWarning: The frame.append method is deprecated and will be removed from pandas in a future version. Use pandas.concat instead.\n",
      "  self.df = self.df.append(row, ignore_index=True)\n",
      "C:\\Users\\hp\\AppData\\Local\\Temp\\ipykernel_2904\\365529943.py:946: FutureWarning: The frame.append method is deprecated and will be removed from pandas in a future version. Use pandas.concat instead.\n",
      "  self.past_df = self.past_df.append(self.df.iloc[0], ignore_index=True)\n",
      "C:\\Users\\hp\\AppData\\Local\\Temp\\ipykernel_2904\\365529943.py:940: FutureWarning: The frame.append method is deprecated and will be removed from pandas in a future version. Use pandas.concat instead.\n",
      "  self.df = self.df.append(row, ignore_index=True)\n",
      "C:\\Users\\hp\\AppData\\Local\\Temp\\ipykernel_2904\\365529943.py:946: FutureWarning: The frame.append method is deprecated and will be removed from pandas in a future version. Use pandas.concat instead.\n",
      "  self.past_df = self.past_df.append(self.df.iloc[0], ignore_index=True)\n"
     ]
    },
    {
     "name": "stdout",
     "output_type": "stream",
     "text": [
      "In Buy\n",
      "In red candle\n",
      "In Buy\n",
      "In red candle\n",
      "In Buy\n",
      "In red candle\n",
      "In SL Condition\n",
      "In Buy\n",
      "In red candle\n",
      "In Buy\n",
      "In a green candle\n",
      "In Buy\n",
      "In a green candle\n",
      "In Buy\n",
      "In red candle\n",
      "In Buy\n",
      "In red candle\n",
      "In Buy\n",
      "In red candle\n",
      "In Buy\n",
      "In red candle\n",
      "In Buy\n",
      "In a green candle\n",
      "In Buy\n",
      "In red candle\n",
      "In Buy\n",
      "In red candle\n",
      "In Buy\n",
      "In red candle\n",
      "In SL Condition\n"
     ]
    },
    {
     "name": "stderr",
     "output_type": "stream",
     "text": [
      "C:\\Users\\hp\\AppData\\Local\\Temp\\ipykernel_2904\\365529943.py:940: FutureWarning: The frame.append method is deprecated and will be removed from pandas in a future version. Use pandas.concat instead.\n",
      "  self.df = self.df.append(row, ignore_index=True)\n",
      "C:\\Users\\hp\\AppData\\Local\\Temp\\ipykernel_2904\\365529943.py:946: FutureWarning: The frame.append method is deprecated and will be removed from pandas in a future version. Use pandas.concat instead.\n",
      "  self.past_df = self.past_df.append(self.df.iloc[0], ignore_index=True)\n"
     ]
    },
    {
     "name": "stdout",
     "output_type": "stream",
     "text": [
      "In Sell\n",
      "In Sell\n",
      "In Sell\n",
      "In Sell\n"
     ]
    },
    {
     "name": "stderr",
     "output_type": "stream",
     "text": [
      "C:\\Users\\hp\\AppData\\Local\\Temp\\ipykernel_2904\\365529943.py:940: FutureWarning: The frame.append method is deprecated and will be removed from pandas in a future version. Use pandas.concat instead.\n",
      "  self.df = self.df.append(row, ignore_index=True)\n",
      "C:\\Users\\hp\\AppData\\Local\\Temp\\ipykernel_2904\\365529943.py:946: FutureWarning: The frame.append method is deprecated and will be removed from pandas in a future version. Use pandas.concat instead.\n",
      "  self.past_df = self.past_df.append(self.df.iloc[0], ignore_index=True)\n"
     ]
    },
    {
     "name": "stdout",
     "output_type": "stream",
     "text": [
      "In Buy\n",
      "In red candle\n",
      "In Buy\n",
      "In a green candle\n",
      "In Buy\n",
      "In red candle\n",
      "In Buy\n",
      "In red candle\n",
      "In SL Condition\n"
     ]
    },
    {
     "name": "stderr",
     "output_type": "stream",
     "text": [
      "C:\\Users\\hp\\AppData\\Local\\Temp\\ipykernel_2904\\365529943.py:940: FutureWarning: The frame.append method is deprecated and will be removed from pandas in a future version. Use pandas.concat instead.\n",
      "  self.df = self.df.append(row, ignore_index=True)\n",
      "C:\\Users\\hp\\AppData\\Local\\Temp\\ipykernel_2904\\365529943.py:946: FutureWarning: The frame.append method is deprecated and will be removed from pandas in a future version. Use pandas.concat instead.\n",
      "  self.past_df = self.past_df.append(self.df.iloc[0], ignore_index=True)\n"
     ]
    },
    {
     "name": "stdout",
     "output_type": "stream",
     "text": [
      "In Buy\n",
      "In red candle\n",
      "In Buy\n",
      "In a green candle\n",
      "In Buy\n",
      "In red candle\n",
      "In Buy\n",
      "In a green candle\n",
      "In Buy\n",
      "In red candle\n",
      "In Buy\n",
      "In red candle\n",
      "In Buy\n",
      "In red candle\n",
      "In Buy\n",
      "In a green candle\n",
      "In Buy\n",
      "In red candle\n",
      "In Buy\n",
      "In red candle\n",
      "In Buy\n",
      "In red candle\n",
      "In SL Condition\n"
     ]
    },
    {
     "name": "stderr",
     "output_type": "stream",
     "text": [
      "C:\\Users\\hp\\AppData\\Local\\Temp\\ipykernel_2904\\365529943.py:940: FutureWarning: The frame.append method is deprecated and will be removed from pandas in a future version. Use pandas.concat instead.\n",
      "  self.df = self.df.append(row, ignore_index=True)\n",
      "C:\\Users\\hp\\AppData\\Local\\Temp\\ipykernel_2904\\365529943.py:946: FutureWarning: The frame.append method is deprecated and will be removed from pandas in a future version. Use pandas.concat instead.\n",
      "  self.past_df = self.past_df.append(self.df.iloc[0], ignore_index=True)\n"
     ]
    },
    {
     "name": "stdout",
     "output_type": "stream",
     "text": [
      "In Buy\n",
      "In a green candle\n",
      "In Buy\n",
      "In red candle\n",
      "In Buy\n",
      "In a green candle\n",
      "In Buy\n",
      "In red candle\n",
      "In Buy\n",
      "In a green candle\n",
      "In Buy\n",
      "In red candle\n",
      "In Buy\n",
      "In red candle\n",
      "In Buy\n",
      "In red candle\n",
      "In Buy\n",
      "In a green candle\n",
      "In Buy\n",
      "In red candle\n",
      "In SL Condition\n"
     ]
    },
    {
     "name": "stderr",
     "output_type": "stream",
     "text": [
      "C:\\Users\\hp\\AppData\\Local\\Temp\\ipykernel_2904\\365529943.py:940: FutureWarning: The frame.append method is deprecated and will be removed from pandas in a future version. Use pandas.concat instead.\n",
      "  self.df = self.df.append(row, ignore_index=True)\n",
      "C:\\Users\\hp\\AppData\\Local\\Temp\\ipykernel_2904\\365529943.py:946: FutureWarning: The frame.append method is deprecated and will be removed from pandas in a future version. Use pandas.concat instead.\n",
      "  self.past_df = self.past_df.append(self.df.iloc[0], ignore_index=True)\n"
     ]
    },
    {
     "name": "stdout",
     "output_type": "stream",
     "text": [
      "In Buy\n",
      "In red candle\n",
      "In Buy\n",
      "In red candle\n",
      "In Buy\n",
      "In a green candle\n",
      "In Buy\n",
      "In a green candle\n",
      "In Buy\n",
      "In a green candle\n",
      "In TRG exit condition\n"
     ]
    },
    {
     "name": "stderr",
     "output_type": "stream",
     "text": [
      "C:\\Users\\hp\\AppData\\Local\\Temp\\ipykernel_2904\\365529943.py:940: FutureWarning: The frame.append method is deprecated and will be removed from pandas in a future version. Use pandas.concat instead.\n",
      "  self.df = self.df.append(row, ignore_index=True)\n",
      "C:\\Users\\hp\\AppData\\Local\\Temp\\ipykernel_2904\\365529943.py:946: FutureWarning: The frame.append method is deprecated and will be removed from pandas in a future version. Use pandas.concat instead.\n",
      "  self.past_df = self.past_df.append(self.df.iloc[0], ignore_index=True)\n"
     ]
    },
    {
     "name": "stdout",
     "output_type": "stream",
     "text": [
      "In Buy\n",
      "In red candle\n",
      "In Buy\n",
      "In a green candle\n",
      "In Buy\n",
      "In a green candle\n",
      "In Buy\n",
      "In red candle\n",
      "In Buy\n",
      "In red candle\n",
      "In Buy\n",
      "In a green candle\n",
      "In Buy\n",
      "In a green candle\n",
      "In Buy\n",
      "In red candle\n",
      "In Buy\n",
      "In red candle\n",
      "In Buy\n",
      "In red candle\n",
      "In Buy\n",
      "In a green candle\n",
      "In Buy\n",
      "In red candle\n",
      "In Buy\n",
      "In red candle\n",
      "In Buy\n",
      "In a green candle\n",
      "In Buy\n",
      "In red candle\n",
      "In Buy\n",
      "In a green candle\n",
      "In Buy\n",
      "In red candle\n",
      "In SL Condition\n"
     ]
    },
    {
     "name": "stderr",
     "output_type": "stream",
     "text": [
      "C:\\Users\\hp\\AppData\\Local\\Temp\\ipykernel_2904\\365529943.py:940: FutureWarning: The frame.append method is deprecated and will be removed from pandas in a future version. Use pandas.concat instead.\n",
      "  self.df = self.df.append(row, ignore_index=True)\n",
      "C:\\Users\\hp\\AppData\\Local\\Temp\\ipykernel_2904\\365529943.py:946: FutureWarning: The frame.append method is deprecated and will be removed from pandas in a future version. Use pandas.concat instead.\n",
      "  self.past_df = self.past_df.append(self.df.iloc[0], ignore_index=True)\n",
      "C:\\Users\\hp\\AppData\\Local\\Temp\\ipykernel_2904\\365529943.py:940: FutureWarning: The frame.append method is deprecated and will be removed from pandas in a future version. Use pandas.concat instead.\n",
      "  self.df = self.df.append(row, ignore_index=True)\n",
      "C:\\Users\\hp\\AppData\\Local\\Temp\\ipykernel_2904\\365529943.py:946: FutureWarning: The frame.append method is deprecated and will be removed from pandas in a future version. Use pandas.concat instead.\n",
      "  self.past_df = self.past_df.append(self.df.iloc[0], ignore_index=True)\n"
     ]
    },
    {
     "name": "stdout",
     "output_type": "stream",
     "text": [
      "In Buy\n",
      "In a green candle\n",
      "In Buy\n",
      "In red candle\n",
      "In Buy\n",
      "In red candle\n",
      "In Buy\n",
      "In a green candle\n",
      "In Buy\n",
      "In a green candle\n",
      "In Buy\n",
      "In a green candle\n",
      "In Buy\n",
      "In red candle\n",
      "In Buy\n",
      "In a green candle\n",
      "In Buy\n",
      "In a green candle\n",
      "In TRG exit condition\n",
      "In Buy\n",
      "In a green candle\n",
      "In Buy\n",
      "In a green candle\n",
      "In TRG exit condition\n"
     ]
    },
    {
     "name": "stderr",
     "output_type": "stream",
     "text": [
      "C:\\Users\\hp\\AppData\\Local\\Temp\\ipykernel_2904\\365529943.py:940: FutureWarning: The frame.append method is deprecated and will be removed from pandas in a future version. Use pandas.concat instead.\n",
      "  self.df = self.df.append(row, ignore_index=True)\n",
      "C:\\Users\\hp\\AppData\\Local\\Temp\\ipykernel_2904\\365529943.py:946: FutureWarning: The frame.append method is deprecated and will be removed from pandas in a future version. Use pandas.concat instead.\n",
      "  self.past_df = self.past_df.append(self.df.iloc[0], ignore_index=True)\n"
     ]
    },
    {
     "name": "stdout",
     "output_type": "stream",
     "text": [
      "In Buy\n",
      "In red candle\n",
      "In Buy\n",
      "In a green candle\n",
      "In Buy\n",
      "In a green candle\n",
      "In Buy\n",
      "In red candle\n",
      "In Buy\n",
      "In red candle\n",
      "In Buy\n",
      "In a green candle\n",
      "In Buy\n",
      "In red candle\n",
      "In SL Condition\n"
     ]
    },
    {
     "name": "stderr",
     "output_type": "stream",
     "text": [
      "C:\\Users\\hp\\AppData\\Local\\Temp\\ipykernel_2904\\365529943.py:940: FutureWarning: The frame.append method is deprecated and will be removed from pandas in a future version. Use pandas.concat instead.\n",
      "  self.df = self.df.append(row, ignore_index=True)\n",
      "C:\\Users\\hp\\AppData\\Local\\Temp\\ipykernel_2904\\365529943.py:946: FutureWarning: The frame.append method is deprecated and will be removed from pandas in a future version. Use pandas.concat instead.\n",
      "  self.past_df = self.past_df.append(self.df.iloc[0], ignore_index=True)\n"
     ]
    },
    {
     "name": "stdout",
     "output_type": "stream",
     "text": [
      "In Buy\n",
      "In red candle\n",
      "In Buy\n",
      "In a green candle\n",
      "In Buy\n",
      "In red candle\n",
      "In Buy\n",
      "In red candle\n",
      "In Buy\n",
      "In a green candle\n",
      "In Buy\n",
      "In red candle\n",
      "In Buy\n",
      "In a green candle\n",
      "In Buy\n",
      "In red candle\n",
      "In Buy\n",
      "In red candle\n",
      "In Buy\n",
      "In red candle\n",
      "In Buy\n",
      "In a green candle\n",
      "In Buy\n",
      "In a green candle\n",
      "In Buy\n",
      "In red candle\n",
      "In Buy\n",
      "In red candle\n",
      "In Buy\n",
      "In red candle\n",
      "In Buy\n",
      "In a green candle\n",
      "In Buy\n",
      "In a green candle\n",
      "In Buy\n",
      "In red candle\n",
      "In Buy\n",
      "In a green candle\n",
      "In Buy\n",
      "In red candle\n",
      "In Buy\n",
      "In a green candle\n",
      "In Buy\n",
      "In red candle\n",
      "In Buy\n",
      "In a green candle\n",
      "In Buy\n",
      "In a green candle\n",
      "In Buy\n",
      "In red candle\n",
      "In Buy\n",
      "In a green candle\n",
      "In Buy\n",
      "In a green candle\n",
      "In Buy\n",
      "In a green candle\n",
      "In TRG exit condition\n"
     ]
    },
    {
     "name": "stderr",
     "output_type": "stream",
     "text": [
      "C:\\Users\\hp\\AppData\\Local\\Temp\\ipykernel_2904\\365529943.py:940: FutureWarning: The frame.append method is deprecated and will be removed from pandas in a future version. Use pandas.concat instead.\n",
      "  self.df = self.df.append(row, ignore_index=True)\n",
      "C:\\Users\\hp\\AppData\\Local\\Temp\\ipykernel_2904\\365529943.py:946: FutureWarning: The frame.append method is deprecated and will be removed from pandas in a future version. Use pandas.concat instead.\n",
      "  self.past_df = self.past_df.append(self.df.iloc[0], ignore_index=True)\n"
     ]
    },
    {
     "name": "stdout",
     "output_type": "stream",
     "text": [
      "In Buy\n",
      "In red candle\n",
      "In Buy\n",
      "In a green candle\n",
      "In Buy\n",
      "In red candle\n",
      "In Buy\n",
      "In red candle\n",
      "In Buy\n",
      "In red candle\n",
      "In SL Condition\n"
     ]
    },
    {
     "name": "stderr",
     "output_type": "stream",
     "text": [
      "C:\\Users\\hp\\AppData\\Local\\Temp\\ipykernel_2904\\365529943.py:940: FutureWarning: The frame.append method is deprecated and will be removed from pandas in a future version. Use pandas.concat instead.\n",
      "  self.df = self.df.append(row, ignore_index=True)\n",
      "C:\\Users\\hp\\AppData\\Local\\Temp\\ipykernel_2904\\365529943.py:946: FutureWarning: The frame.append method is deprecated and will be removed from pandas in a future version. Use pandas.concat instead.\n",
      "  self.past_df = self.past_df.append(self.df.iloc[0], ignore_index=True)\n",
      "C:\\Users\\hp\\AppData\\Local\\Temp\\ipykernel_2904\\365529943.py:940: FutureWarning: The frame.append method is deprecated and will be removed from pandas in a future version. Use pandas.concat instead.\n",
      "  self.df = self.df.append(row, ignore_index=True)\n",
      "C:\\Users\\hp\\AppData\\Local\\Temp\\ipykernel_2904\\365529943.py:946: FutureWarning: The frame.append method is deprecated and will be removed from pandas in a future version. Use pandas.concat instead.\n",
      "  self.past_df = self.past_df.append(self.df.iloc[0], ignore_index=True)\n"
     ]
    },
    {
     "name": "stdout",
     "output_type": "stream",
     "text": [
      "In Sell\n",
      "In Sell\n",
      "In Sell\n",
      "In Sell\n",
      "In Sell\n",
      "In Sell\n",
      "In Sell\n",
      "In Sell\n",
      "In Sell\n",
      "In Sell\n",
      "In Sell\n",
      "In Sell\n",
      "In Sell\n",
      "In Sell\n",
      "In Sell\n",
      "In Sell\n",
      "In Sell\n",
      "In Sell\n",
      "In Sell\n",
      "In Sell\n",
      "In Sell\n",
      "In Sell\n"
     ]
    },
    {
     "name": "stderr",
     "output_type": "stream",
     "text": [
      "C:\\Users\\hp\\AppData\\Local\\Temp\\ipykernel_2904\\365529943.py:940: FutureWarning: The frame.append method is deprecated and will be removed from pandas in a future version. Use pandas.concat instead.\n",
      "  self.df = self.df.append(row, ignore_index=True)\n",
      "C:\\Users\\hp\\AppData\\Local\\Temp\\ipykernel_2904\\365529943.py:946: FutureWarning: The frame.append method is deprecated and will be removed from pandas in a future version. Use pandas.concat instead.\n",
      "  self.past_df = self.past_df.append(self.df.iloc[0], ignore_index=True)\n"
     ]
    },
    {
     "name": "stdout",
     "output_type": "stream",
     "text": [
      "In Sell\n",
      "In Sell\n",
      "In Sell\n",
      "In Sell\n",
      "In Sell\n",
      "In Sell\n",
      "In Sell\n",
      "In Sell\n",
      "In Sell\n",
      "In Sell\n"
     ]
    },
    {
     "name": "stderr",
     "output_type": "stream",
     "text": [
      "C:\\Users\\hp\\AppData\\Local\\Temp\\ipykernel_2904\\365529943.py:940: FutureWarning: The frame.append method is deprecated and will be removed from pandas in a future version. Use pandas.concat instead.\n",
      "  self.df = self.df.append(row, ignore_index=True)\n",
      "C:\\Users\\hp\\AppData\\Local\\Temp\\ipykernel_2904\\365529943.py:946: FutureWarning: The frame.append method is deprecated and will be removed from pandas in a future version. Use pandas.concat instead.\n",
      "  self.past_df = self.past_df.append(self.df.iloc[0], ignore_index=True)\n",
      "C:\\Users\\hp\\AppData\\Local\\Temp\\ipykernel_2904\\365529943.py:940: FutureWarning: The frame.append method is deprecated and will be removed from pandas in a future version. Use pandas.concat instead.\n",
      "  self.df = self.df.append(row, ignore_index=True)\n",
      "C:\\Users\\hp\\AppData\\Local\\Temp\\ipykernel_2904\\365529943.py:946: FutureWarning: The frame.append method is deprecated and will be removed from pandas in a future version. Use pandas.concat instead.\n",
      "  self.past_df = self.past_df.append(self.df.iloc[0], ignore_index=True)\n"
     ]
    },
    {
     "name": "stdout",
     "output_type": "stream",
     "text": [
      "In Sell\n",
      "In Sell\n",
      "In Sell\n",
      "In Sell\n",
      "In Sell\n",
      "In Sell\n",
      "In Sell\n",
      "In Sell\n",
      "In Sell\n",
      "In Sell\n",
      "In Sell\n",
      "In Sell\n",
      "In Sell\n",
      "In Sell\n",
      "In Sell\n",
      "In Sell\n",
      "In Sell\n",
      "In Sell\n",
      "In Sell\n"
     ]
    },
    {
     "name": "stderr",
     "output_type": "stream",
     "text": [
      "C:\\Users\\hp\\AppData\\Local\\Temp\\ipykernel_2904\\365529943.py:940: FutureWarning: The frame.append method is deprecated and will be removed from pandas in a future version. Use pandas.concat instead.\n",
      "  self.df = self.df.append(row, ignore_index=True)\n",
      "C:\\Users\\hp\\AppData\\Local\\Temp\\ipykernel_2904\\365529943.py:946: FutureWarning: The frame.append method is deprecated and will be removed from pandas in a future version. Use pandas.concat instead.\n",
      "  self.past_df = self.past_df.append(self.df.iloc[0], ignore_index=True)\n"
     ]
    },
    {
     "name": "stdout",
     "output_type": "stream",
     "text": [
      "In Buy\n",
      "In red candle\n",
      "In Buy\n",
      "In red candle\n",
      "In Buy\n",
      "In red candle\n",
      "In SL Condition\n"
     ]
    },
    {
     "name": "stderr",
     "output_type": "stream",
     "text": [
      "C:\\Users\\hp\\AppData\\Local\\Temp\\ipykernel_2904\\365529943.py:940: FutureWarning: The frame.append method is deprecated and will be removed from pandas in a future version. Use pandas.concat instead.\n",
      "  self.df = self.df.append(row, ignore_index=True)\n",
      "C:\\Users\\hp\\AppData\\Local\\Temp\\ipykernel_2904\\365529943.py:946: FutureWarning: The frame.append method is deprecated and will be removed from pandas in a future version. Use pandas.concat instead.\n",
      "  self.past_df = self.past_df.append(self.df.iloc[0], ignore_index=True)\n"
     ]
    },
    {
     "name": "stdout",
     "output_type": "stream",
     "text": [
      "In Buy\n",
      "In red candle\n",
      "In Buy\n",
      "In a green candle\n",
      "In Buy\n",
      "In a green candle\n",
      "In Buy\n",
      "In red candle\n",
      "In Buy\n",
      "In a green candle\n",
      "In Buy\n",
      "In a green candle\n",
      "In Buy\n",
      "In red candle\n",
      "In Buy\n",
      "In red candle\n",
      "In Buy\n",
      "In a green candle\n",
      "In Buy\n",
      "In red candle\n",
      "In Buy\n",
      "In a green candle\n",
      "In Buy\n",
      "In red candle\n",
      "In Buy\n",
      "In a green candle\n",
      "In Buy\n",
      "In red candle\n",
      "In Buy\n",
      "In red candle\n",
      "In Buy\n",
      "In a green candle\n",
      "In Buy\n",
      "In a green candle\n",
      "In Buy\n",
      "In red candle\n",
      "In Buy\n",
      "In a green candle\n",
      "In Buy\n",
      "In red candle\n",
      "In Buy\n",
      "In a green candle\n",
      "In Buy\n",
      "In red candle\n",
      "In Buy\n",
      "In red candle\n",
      "In Buy\n",
      "In a green candle\n",
      "In Buy\n",
      "In a green candle\n",
      "In Buy\n",
      "In red candle\n",
      "In Buy\n",
      "In red candle\n",
      "In Buy\n",
      "In red candle\n",
      "In Buy\n",
      "In a green candle\n",
      "In Buy\n",
      "In red candle\n",
      "In Buy\n",
      "In a green candle\n",
      "In Buy\n",
      "In a green candle\n",
      "In Buy\n",
      "In red candle\n",
      "In SL Condition\n"
     ]
    },
    {
     "name": "stderr",
     "output_type": "stream",
     "text": [
      "C:\\Users\\hp\\AppData\\Local\\Temp\\ipykernel_2904\\365529943.py:940: FutureWarning: The frame.append method is deprecated and will be removed from pandas in a future version. Use pandas.concat instead.\n",
      "  self.df = self.df.append(row, ignore_index=True)\n",
      "C:\\Users\\hp\\AppData\\Local\\Temp\\ipykernel_2904\\365529943.py:946: FutureWarning: The frame.append method is deprecated and will be removed from pandas in a future version. Use pandas.concat instead.\n",
      "  self.past_df = self.past_df.append(self.df.iloc[0], ignore_index=True)\n",
      "C:\\Users\\hp\\AppData\\Local\\Temp\\ipykernel_2904\\365529943.py:940: FutureWarning: The frame.append method is deprecated and will be removed from pandas in a future version. Use pandas.concat instead.\n",
      "  self.df = self.df.append(row, ignore_index=True)\n",
      "C:\\Users\\hp\\AppData\\Local\\Temp\\ipykernel_2904\\365529943.py:946: FutureWarning: The frame.append method is deprecated and will be removed from pandas in a future version. Use pandas.concat instead.\n",
      "  self.past_df = self.past_df.append(self.df.iloc[0], ignore_index=True)\n"
     ]
    },
    {
     "name": "stdout",
     "output_type": "stream",
     "text": [
      "In Buy\n",
      "In red candle\n",
      "In Buy\n",
      "In red candle\n",
      "In Buy\n",
      "In red candle\n",
      "In SL Condition\n",
      "In Buy\n",
      "In red candle\n",
      "In Buy\n",
      "In a green candle\n",
      "In SL Condition\n"
     ]
    },
    {
     "name": "stderr",
     "output_type": "stream",
     "text": [
      "C:\\Users\\hp\\AppData\\Local\\Temp\\ipykernel_2904\\365529943.py:940: FutureWarning: The frame.append method is deprecated and will be removed from pandas in a future version. Use pandas.concat instead.\n",
      "  self.df = self.df.append(row, ignore_index=True)\n",
      "C:\\Users\\hp\\AppData\\Local\\Temp\\ipykernel_2904\\365529943.py:946: FutureWarning: The frame.append method is deprecated and will be removed from pandas in a future version. Use pandas.concat instead.\n",
      "  self.past_df = self.past_df.append(self.df.iloc[0], ignore_index=True)\n",
      "C:\\Users\\hp\\AppData\\Local\\Temp\\ipykernel_2904\\365529943.py:940: FutureWarning: The frame.append method is deprecated and will be removed from pandas in a future version. Use pandas.concat instead.\n",
      "  self.df = self.df.append(row, ignore_index=True)\n",
      "C:\\Users\\hp\\AppData\\Local\\Temp\\ipykernel_2904\\365529943.py:946: FutureWarning: The frame.append method is deprecated and will be removed from pandas in a future version. Use pandas.concat instead.\n",
      "  self.past_df = self.past_df.append(self.df.iloc[0], ignore_index=True)\n"
     ]
    },
    {
     "name": "stdout",
     "output_type": "stream",
     "text": [
      "In Buy\n",
      "In red candle\n",
      "In SL Condition\n",
      "In Sell\n",
      "In Sell\n"
     ]
    },
    {
     "name": "stderr",
     "output_type": "stream",
     "text": [
      "C:\\Users\\hp\\AppData\\Local\\Temp\\ipykernel_2904\\365529943.py:940: FutureWarning: The frame.append method is deprecated and will be removed from pandas in a future version. Use pandas.concat instead.\n",
      "  self.df = self.df.append(row, ignore_index=True)\n",
      "C:\\Users\\hp\\AppData\\Local\\Temp\\ipykernel_2904\\365529943.py:946: FutureWarning: The frame.append method is deprecated and will be removed from pandas in a future version. Use pandas.concat instead.\n",
      "  self.past_df = self.past_df.append(self.df.iloc[0], ignore_index=True)\n",
      "C:\\Users\\hp\\AppData\\Local\\Temp\\ipykernel_2904\\365529943.py:940: FutureWarning: The frame.append method is deprecated and will be removed from pandas in a future version. Use pandas.concat instead.\n",
      "  self.df = self.df.append(row, ignore_index=True)\n",
      "C:\\Users\\hp\\AppData\\Local\\Temp\\ipykernel_2904\\365529943.py:946: FutureWarning: The frame.append method is deprecated and will be removed from pandas in a future version. Use pandas.concat instead.\n",
      "  self.past_df = self.past_df.append(self.df.iloc[0], ignore_index=True)\n"
     ]
    },
    {
     "name": "stdout",
     "output_type": "stream",
     "text": [
      "In Buy\n",
      "In a green candle\n",
      "In Buy\n",
      "In red candle\n",
      "In Buy\n",
      "In red candle\n",
      "In Buy\n",
      "In red candle\n",
      "In Buy\n",
      "In red candle\n",
      "In SL Condition\n",
      "In Buy\n",
      "In red candle\n",
      "In Buy\n",
      "In red candle\n",
      "In Buy\n",
      "In red candle\n",
      "In SL Condition\n"
     ]
    },
    {
     "name": "stderr",
     "output_type": "stream",
     "text": [
      "C:\\Users\\hp\\AppData\\Local\\Temp\\ipykernel_2904\\365529943.py:940: FutureWarning: The frame.append method is deprecated and will be removed from pandas in a future version. Use pandas.concat instead.\n",
      "  self.df = self.df.append(row, ignore_index=True)\n",
      "C:\\Users\\hp\\AppData\\Local\\Temp\\ipykernel_2904\\365529943.py:946: FutureWarning: The frame.append method is deprecated and will be removed from pandas in a future version. Use pandas.concat instead.\n",
      "  self.past_df = self.past_df.append(self.df.iloc[0], ignore_index=True)\n"
     ]
    },
    {
     "name": "stdout",
     "output_type": "stream",
     "text": [
      "In Sell\n",
      "In Sell\n"
     ]
    },
    {
     "name": "stderr",
     "output_type": "stream",
     "text": [
      "C:\\Users\\hp\\AppData\\Local\\Temp\\ipykernel_2904\\365529943.py:940: FutureWarning: The frame.append method is deprecated and will be removed from pandas in a future version. Use pandas.concat instead.\n",
      "  self.df = self.df.append(row, ignore_index=True)\n",
      "C:\\Users\\hp\\AppData\\Local\\Temp\\ipykernel_2904\\365529943.py:946: FutureWarning: The frame.append method is deprecated and will be removed from pandas in a future version. Use pandas.concat instead.\n",
      "  self.past_df = self.past_df.append(self.df.iloc[0], ignore_index=True)\n"
     ]
    },
    {
     "name": "stdout",
     "output_type": "stream",
     "text": [
      "In Sell\n",
      "In Sell\n",
      "In Sell\n"
     ]
    },
    {
     "name": "stderr",
     "output_type": "stream",
     "text": [
      "C:\\Users\\hp\\AppData\\Local\\Temp\\ipykernel_2904\\365529943.py:940: FutureWarning: The frame.append method is deprecated and will be removed from pandas in a future version. Use pandas.concat instead.\n",
      "  self.df = self.df.append(row, ignore_index=True)\n",
      "C:\\Users\\hp\\AppData\\Local\\Temp\\ipykernel_2904\\365529943.py:946: FutureWarning: The frame.append method is deprecated and will be removed from pandas in a future version. Use pandas.concat instead.\n",
      "  self.past_df = self.past_df.append(self.df.iloc[0], ignore_index=True)\n",
      "C:\\Users\\hp\\AppData\\Local\\Temp\\ipykernel_2904\\365529943.py:940: FutureWarning: The frame.append method is deprecated and will be removed from pandas in a future version. Use pandas.concat instead.\n",
      "  self.df = self.df.append(row, ignore_index=True)\n",
      "C:\\Users\\hp\\AppData\\Local\\Temp\\ipykernel_2904\\365529943.py:946: FutureWarning: The frame.append method is deprecated and will be removed from pandas in a future version. Use pandas.concat instead.\n",
      "  self.past_df = self.past_df.append(self.df.iloc[0], ignore_index=True)\n"
     ]
    },
    {
     "name": "stdout",
     "output_type": "stream",
     "text": [
      "In Sell\n",
      "In Sell\n",
      "In Sell\n",
      "In Sell\n",
      "In Sell\n",
      "In Sell\n"
     ]
    },
    {
     "name": "stderr",
     "output_type": "stream",
     "text": [
      "C:\\Users\\hp\\AppData\\Local\\Temp\\ipykernel_2904\\365529943.py:940: FutureWarning: The frame.append method is deprecated and will be removed from pandas in a future version. Use pandas.concat instead.\n",
      "  self.df = self.df.append(row, ignore_index=True)\n",
      "C:\\Users\\hp\\AppData\\Local\\Temp\\ipykernel_2904\\365529943.py:946: FutureWarning: The frame.append method is deprecated and will be removed from pandas in a future version. Use pandas.concat instead.\n",
      "  self.past_df = self.past_df.append(self.df.iloc[0], ignore_index=True)\n"
     ]
    },
    {
     "name": "stdout",
     "output_type": "stream",
     "text": [
      "In Buy\n",
      "In red candle\n",
      "In Buy\n",
      "In a green candle\n",
      "In Buy\n",
      "In red candle\n",
      "In Buy\n",
      "In a green candle\n",
      "In Buy\n",
      "In a green candle\n",
      "In Buy\n",
      "In a green candle\n",
      "In Buy\n",
      "In red candle\n",
      "In SL Condition\n"
     ]
    },
    {
     "name": "stderr",
     "output_type": "stream",
     "text": [
      "C:\\Users\\hp\\AppData\\Local\\Temp\\ipykernel_2904\\365529943.py:940: FutureWarning: The frame.append method is deprecated and will be removed from pandas in a future version. Use pandas.concat instead.\n",
      "  self.df = self.df.append(row, ignore_index=True)\n",
      "C:\\Users\\hp\\AppData\\Local\\Temp\\ipykernel_2904\\365529943.py:946: FutureWarning: The frame.append method is deprecated and will be removed from pandas in a future version. Use pandas.concat instead.\n",
      "  self.past_df = self.past_df.append(self.df.iloc[0], ignore_index=True)\n",
      "C:\\Users\\hp\\AppData\\Local\\Temp\\ipykernel_2904\\365529943.py:940: FutureWarning: The frame.append method is deprecated and will be removed from pandas in a future version. Use pandas.concat instead.\n",
      "  self.df = self.df.append(row, ignore_index=True)\n",
      "C:\\Users\\hp\\AppData\\Local\\Temp\\ipykernel_2904\\365529943.py:946: FutureWarning: The frame.append method is deprecated and will be removed from pandas in a future version. Use pandas.concat instead.\n",
      "  self.past_df = self.past_df.append(self.df.iloc[0], ignore_index=True)\n"
     ]
    },
    {
     "name": "stdout",
     "output_type": "stream",
     "text": [
      "In Buy\n",
      "In a green candle\n",
      "In Buy\n",
      "In red candle\n",
      "In Buy\n",
      "In a green candle\n",
      "In Buy\n",
      "In a green candle\n",
      "In Buy\n",
      "In a green candle\n",
      "In TRG exit condition\n",
      "In Buy\n",
      "In red candle\n",
      "In SL Condition\n"
     ]
    },
    {
     "name": "stderr",
     "output_type": "stream",
     "text": [
      "C:\\Users\\hp\\AppData\\Local\\Temp\\ipykernel_2904\\365529943.py:940: FutureWarning: The frame.append method is deprecated and will be removed from pandas in a future version. Use pandas.concat instead.\n",
      "  self.df = self.df.append(row, ignore_index=True)\n",
      "C:\\Users\\hp\\AppData\\Local\\Temp\\ipykernel_2904\\365529943.py:946: FutureWarning: The frame.append method is deprecated and will be removed from pandas in a future version. Use pandas.concat instead.\n",
      "  self.past_df = self.past_df.append(self.df.iloc[0], ignore_index=True)\n"
     ]
    },
    {
     "name": "stdout",
     "output_type": "stream",
     "text": [
      "In Buy\n",
      "In a green candle\n",
      "In Buy\n",
      "In a green candle\n",
      "In Buy\n",
      "In red candle\n",
      "In Buy\n",
      "In red candle\n",
      "In Buy\n",
      "In a green candle\n",
      "In Buy\n",
      "In a green candle\n",
      "In Buy\n",
      "In red candle\n",
      "In Buy\n",
      "In red candle\n",
      "In SL Condition\n"
     ]
    },
    {
     "name": "stderr",
     "output_type": "stream",
     "text": [
      "C:\\Users\\hp\\AppData\\Local\\Temp\\ipykernel_2904\\365529943.py:940: FutureWarning: The frame.append method is deprecated and will be removed from pandas in a future version. Use pandas.concat instead.\n",
      "  self.df = self.df.append(row, ignore_index=True)\n",
      "C:\\Users\\hp\\AppData\\Local\\Temp\\ipykernel_2904\\365529943.py:946: FutureWarning: The frame.append method is deprecated and will be removed from pandas in a future version. Use pandas.concat instead.\n",
      "  self.past_df = self.past_df.append(self.df.iloc[0], ignore_index=True)\n"
     ]
    },
    {
     "name": "stdout",
     "output_type": "stream",
     "text": [
      "In Buy\n",
      "In a green candle\n",
      "In Buy\n",
      "In a green candle\n",
      "In Buy\n",
      "In red candle\n",
      "In Buy\n",
      "In red candle\n",
      "In SL Condition\n"
     ]
    },
    {
     "name": "stderr",
     "output_type": "stream",
     "text": [
      "C:\\Users\\hp\\AppData\\Local\\Temp\\ipykernel_2904\\365529943.py:940: FutureWarning: The frame.append method is deprecated and will be removed from pandas in a future version. Use pandas.concat instead.\n",
      "  self.df = self.df.append(row, ignore_index=True)\n",
      "C:\\Users\\hp\\AppData\\Local\\Temp\\ipykernel_2904\\365529943.py:946: FutureWarning: The frame.append method is deprecated and will be removed from pandas in a future version. Use pandas.concat instead.\n",
      "  self.past_df = self.past_df.append(self.df.iloc[0], ignore_index=True)\n"
     ]
    },
    {
     "name": "stdout",
     "output_type": "stream",
     "text": [
      "In Buy\n",
      "In red candle\n",
      "In Buy\n",
      "In a green candle\n",
      "In Buy\n",
      "In a green candle\n",
      "In Buy\n",
      "In red candle\n",
      "In Buy\n",
      "In a green candle\n",
      "In Buy\n",
      "In a green candle\n",
      "In Buy\n",
      "In red candle\n",
      "In Buy\n",
      "In red candle\n",
      "In Buy\n",
      "In a green candle\n",
      "In Buy\n",
      "In red candle\n",
      "In Buy\n",
      "In a green candle\n",
      "In Buy\n",
      "In a green candle\n",
      "In Buy\n",
      "In a green candle\n",
      "In Buy\n",
      "In a green candle\n",
      "In TRG exit condition\n"
     ]
    },
    {
     "name": "stderr",
     "output_type": "stream",
     "text": [
      "C:\\Users\\hp\\AppData\\Local\\Temp\\ipykernel_2904\\365529943.py:940: FutureWarning: The frame.append method is deprecated and will be removed from pandas in a future version. Use pandas.concat instead.\n",
      "  self.df = self.df.append(row, ignore_index=True)\n",
      "C:\\Users\\hp\\AppData\\Local\\Temp\\ipykernel_2904\\365529943.py:946: FutureWarning: The frame.append method is deprecated and will be removed from pandas in a future version. Use pandas.concat instead.\n",
      "  self.past_df = self.past_df.append(self.df.iloc[0], ignore_index=True)\n"
     ]
    },
    {
     "name": "stdout",
     "output_type": "stream",
     "text": [
      "In Sell\n",
      "In Sell\n",
      "In Sell\n",
      "In Sell\n",
      "In Sell\n",
      "In Sell\n",
      "In Sell\n",
      "In Sell\n",
      "In Sell\n"
     ]
    },
    {
     "name": "stderr",
     "output_type": "stream",
     "text": [
      "C:\\Users\\hp\\AppData\\Local\\Temp\\ipykernel_2904\\365529943.py:940: FutureWarning: The frame.append method is deprecated and will be removed from pandas in a future version. Use pandas.concat instead.\n",
      "  self.df = self.df.append(row, ignore_index=True)\n",
      "C:\\Users\\hp\\AppData\\Local\\Temp\\ipykernel_2904\\365529943.py:946: FutureWarning: The frame.append method is deprecated and will be removed from pandas in a future version. Use pandas.concat instead.\n",
      "  self.past_df = self.past_df.append(self.df.iloc[0], ignore_index=True)\n",
      "C:\\Users\\hp\\AppData\\Local\\Temp\\ipykernel_2904\\365529943.py:940: FutureWarning: The frame.append method is deprecated and will be removed from pandas in a future version. Use pandas.concat instead.\n",
      "  self.df = self.df.append(row, ignore_index=True)\n",
      "C:\\Users\\hp\\AppData\\Local\\Temp\\ipykernel_2904\\365529943.py:946: FutureWarning: The frame.append method is deprecated and will be removed from pandas in a future version. Use pandas.concat instead.\n",
      "  self.past_df = self.past_df.append(self.df.iloc[0], ignore_index=True)\n",
      "C:\\Users\\hp\\AppData\\Local\\Temp\\ipykernel_2904\\365529943.py:940: FutureWarning: The frame.append method is deprecated and will be removed from pandas in a future version. Use pandas.concat instead.\n",
      "  self.df = self.df.append(row, ignore_index=True)\n",
      "C:\\Users\\hp\\AppData\\Local\\Temp\\ipykernel_2904\\365529943.py:946: FutureWarning: The frame.append method is deprecated and will be removed from pandas in a future version. Use pandas.concat instead.\n",
      "  self.past_df = self.past_df.append(self.df.iloc[0], ignore_index=True)\n"
     ]
    },
    {
     "name": "stdout",
     "output_type": "stream",
     "text": [
      "In Buy\n",
      "In red candle\n",
      "In Buy\n",
      "In red candle\n",
      "In Buy\n",
      "In a green candle\n",
      "In Buy\n",
      "In red candle\n",
      "In Buy\n",
      "In red candle\n",
      "In Buy\n",
      "In a green candle\n",
      "In SL Condition\n",
      "In Buy\n",
      "In red candle\n",
      "In SL Condition\n",
      "In Buy\n",
      "In a green candle\n",
      "In Buy\n",
      "In red candle\n",
      "In Buy\n",
      "In a green candle\n",
      "In Buy\n",
      "In a green candle\n",
      "In Buy\n",
      "In a green candle\n",
      "In Buy\n",
      "In red candle\n",
      "In Buy\n",
      "In a green candle\n",
      "In Buy\n",
      "In a green candle\n",
      "In Buy\n",
      "In a green candle\n",
      "In TRG exit condition\n"
     ]
    },
    {
     "name": "stderr",
     "output_type": "stream",
     "text": [
      "C:\\Users\\hp\\AppData\\Local\\Temp\\ipykernel_2904\\365529943.py:940: FutureWarning: The frame.append method is deprecated and will be removed from pandas in a future version. Use pandas.concat instead.\n",
      "  self.df = self.df.append(row, ignore_index=True)\n",
      "C:\\Users\\hp\\AppData\\Local\\Temp\\ipykernel_2904\\365529943.py:946: FutureWarning: The frame.append method is deprecated and will be removed from pandas in a future version. Use pandas.concat instead.\n",
      "  self.past_df = self.past_df.append(self.df.iloc[0], ignore_index=True)\n"
     ]
    },
    {
     "name": "stdout",
     "output_type": "stream",
     "text": [
      "In Buy\n",
      "In red candle\n",
      "In SL Condition\n"
     ]
    },
    {
     "name": "stderr",
     "output_type": "stream",
     "text": [
      "C:\\Users\\hp\\AppData\\Local\\Temp\\ipykernel_2904\\365529943.py:940: FutureWarning: The frame.append method is deprecated and will be removed from pandas in a future version. Use pandas.concat instead.\n",
      "  self.df = self.df.append(row, ignore_index=True)\n",
      "C:\\Users\\hp\\AppData\\Local\\Temp\\ipykernel_2904\\365529943.py:946: FutureWarning: The frame.append method is deprecated and will be removed from pandas in a future version. Use pandas.concat instead.\n",
      "  self.past_df = self.past_df.append(self.df.iloc[0], ignore_index=True)\n",
      "C:\\Users\\hp\\AppData\\Local\\Temp\\ipykernel_2904\\365529943.py:940: FutureWarning: The frame.append method is deprecated and will be removed from pandas in a future version. Use pandas.concat instead.\n",
      "  self.df = self.df.append(row, ignore_index=True)\n",
      "C:\\Users\\hp\\AppData\\Local\\Temp\\ipykernel_2904\\365529943.py:946: FutureWarning: The frame.append method is deprecated and will be removed from pandas in a future version. Use pandas.concat instead.\n",
      "  self.past_df = self.past_df.append(self.df.iloc[0], ignore_index=True)\n",
      "C:\\Users\\hp\\AppData\\Local\\Temp\\ipykernel_2904\\365529943.py:940: FutureWarning: The frame.append method is deprecated and will be removed from pandas in a future version. Use pandas.concat instead.\n",
      "  self.df = self.df.append(row, ignore_index=True)\n",
      "C:\\Users\\hp\\AppData\\Local\\Temp\\ipykernel_2904\\365529943.py:946: FutureWarning: The frame.append method is deprecated and will be removed from pandas in a future version. Use pandas.concat instead.\n",
      "  self.past_df = self.past_df.append(self.df.iloc[0], ignore_index=True)\n"
     ]
    },
    {
     "name": "stdout",
     "output_type": "stream",
     "text": [
      "In Buy\n",
      "In a green candle\n",
      "In Buy\n",
      "In red candle\n",
      "In Buy\n",
      "In a green candle\n",
      "In TRG exit condition\n",
      "In Buy\n",
      "In a green candle\n",
      "In Buy\n",
      "In a green candle\n",
      "In TRG exit condition\n",
      "In Buy\n",
      "In a green candle\n",
      "In Buy\n",
      "In a green candle\n",
      "In TRG exit condition\n",
      "In Buy\n",
      "In red candle\n",
      "In SL Condition\n"
     ]
    },
    {
     "name": "stderr",
     "output_type": "stream",
     "text": [
      "C:\\Users\\hp\\AppData\\Local\\Temp\\ipykernel_2904\\365529943.py:940: FutureWarning: The frame.append method is deprecated and will be removed from pandas in a future version. Use pandas.concat instead.\n",
      "  self.df = self.df.append(row, ignore_index=True)\n",
      "C:\\Users\\hp\\AppData\\Local\\Temp\\ipykernel_2904\\365529943.py:946: FutureWarning: The frame.append method is deprecated and will be removed from pandas in a future version. Use pandas.concat instead.\n",
      "  self.past_df = self.past_df.append(self.df.iloc[0], ignore_index=True)\n",
      "C:\\Users\\hp\\AppData\\Local\\Temp\\ipykernel_2904\\365529943.py:940: FutureWarning: The frame.append method is deprecated and will be removed from pandas in a future version. Use pandas.concat instead.\n",
      "  self.df = self.df.append(row, ignore_index=True)\n",
      "C:\\Users\\hp\\AppData\\Local\\Temp\\ipykernel_2904\\365529943.py:946: FutureWarning: The frame.append method is deprecated and will be removed from pandas in a future version. Use pandas.concat instead.\n",
      "  self.past_df = self.past_df.append(self.df.iloc[0], ignore_index=True)\n"
     ]
    },
    {
     "name": "stdout",
     "output_type": "stream",
     "text": [
      "In Buy\n",
      "In a green candle\n",
      "In TRG exit condition\n",
      "In Buy\n",
      "In red candle\n",
      "In Buy\n",
      "In a green candle\n",
      "In Buy\n",
      "In a green candle\n",
      "In TRG exit condition\n"
     ]
    },
    {
     "name": "stderr",
     "output_type": "stream",
     "text": [
      "C:\\Users\\hp\\AppData\\Local\\Temp\\ipykernel_2904\\365529943.py:940: FutureWarning: The frame.append method is deprecated and will be removed from pandas in a future version. Use pandas.concat instead.\n",
      "  self.df = self.df.append(row, ignore_index=True)\n",
      "C:\\Users\\hp\\AppData\\Local\\Temp\\ipykernel_2904\\365529943.py:946: FutureWarning: The frame.append method is deprecated and will be removed from pandas in a future version. Use pandas.concat instead.\n",
      "  self.past_df = self.past_df.append(self.df.iloc[0], ignore_index=True)\n",
      "C:\\Users\\hp\\AppData\\Local\\Temp\\ipykernel_2904\\365529943.py:940: FutureWarning: The frame.append method is deprecated and will be removed from pandas in a future version. Use pandas.concat instead.\n",
      "  self.df = self.df.append(row, ignore_index=True)\n",
      "C:\\Users\\hp\\AppData\\Local\\Temp\\ipykernel_2904\\365529943.py:946: FutureWarning: The frame.append method is deprecated and will be removed from pandas in a future version. Use pandas.concat instead.\n",
      "  self.past_df = self.past_df.append(self.df.iloc[0], ignore_index=True)\n"
     ]
    },
    {
     "name": "stdout",
     "output_type": "stream",
     "text": [
      "In Buy\n",
      "In red candle\n",
      "In Buy\n",
      "In red candle\n",
      "In SL Condition\n"
     ]
    },
    {
     "name": "stderr",
     "output_type": "stream",
     "text": [
      "C:\\Users\\hp\\AppData\\Local\\Temp\\ipykernel_2904\\365529943.py:940: FutureWarning: The frame.append method is deprecated and will be removed from pandas in a future version. Use pandas.concat instead.\n",
      "  self.df = self.df.append(row, ignore_index=True)\n",
      "C:\\Users\\hp\\AppData\\Local\\Temp\\ipykernel_2904\\365529943.py:946: FutureWarning: The frame.append method is deprecated and will be removed from pandas in a future version. Use pandas.concat instead.\n",
      "  self.past_df = self.past_df.append(self.df.iloc[0], ignore_index=True)\n"
     ]
    },
    {
     "name": "stdout",
     "output_type": "stream",
     "text": [
      "In Buy\n",
      "In a green candle\n",
      "In Buy\n",
      "In red candle\n",
      "In Buy\n",
      "In red candle\n",
      "In Buy\n",
      "In a green candle\n",
      "In Buy\n",
      "In red candle\n",
      "In Buy\n",
      "In red candle\n",
      "In Buy\n",
      "In red candle\n",
      "In Buy\n",
      "In red candle\n",
      "In Buy\n",
      "In red candle\n",
      "In SL Condition\n"
     ]
    },
    {
     "name": "stderr",
     "output_type": "stream",
     "text": [
      "C:\\Users\\hp\\AppData\\Local\\Temp\\ipykernel_2904\\365529943.py:940: FutureWarning: The frame.append method is deprecated and will be removed from pandas in a future version. Use pandas.concat instead.\n",
      "  self.df = self.df.append(row, ignore_index=True)\n",
      "C:\\Users\\hp\\AppData\\Local\\Temp\\ipykernel_2904\\365529943.py:946: FutureWarning: The frame.append method is deprecated and will be removed from pandas in a future version. Use pandas.concat instead.\n",
      "  self.past_df = self.past_df.append(self.df.iloc[0], ignore_index=True)\n"
     ]
    },
    {
     "name": "stdout",
     "output_type": "stream",
     "text": [
      "In Buy\n",
      "In a green candle\n",
      "In Buy\n",
      "In a green candle\n",
      "In Buy\n",
      "In a green candle\n",
      "In Buy\n",
      "In red candle\n",
      "In SL Condition\n"
     ]
    },
    {
     "name": "stderr",
     "output_type": "stream",
     "text": [
      "C:\\Users\\hp\\AppData\\Local\\Temp\\ipykernel_2904\\365529943.py:940: FutureWarning: The frame.append method is deprecated and will be removed from pandas in a future version. Use pandas.concat instead.\n",
      "  self.df = self.df.append(row, ignore_index=True)\n",
      "C:\\Users\\hp\\AppData\\Local\\Temp\\ipykernel_2904\\365529943.py:946: FutureWarning: The frame.append method is deprecated and will be removed from pandas in a future version. Use pandas.concat instead.\n",
      "  self.past_df = self.past_df.append(self.df.iloc[0], ignore_index=True)\n"
     ]
    },
    {
     "name": "stdout",
     "output_type": "stream",
     "text": [
      "In Sell\n",
      "In Sell\n",
      "In Sell\n",
      "In Sell\n",
      "In Sell\n",
      "In Sell\n",
      "In Sell\n",
      "In Sell\n",
      "In Sell\n"
     ]
    },
    {
     "name": "stderr",
     "output_type": "stream",
     "text": [
      "C:\\Users\\hp\\AppData\\Local\\Temp\\ipykernel_2904\\365529943.py:940: FutureWarning: The frame.append method is deprecated and will be removed from pandas in a future version. Use pandas.concat instead.\n",
      "  self.df = self.df.append(row, ignore_index=True)\n",
      "C:\\Users\\hp\\AppData\\Local\\Temp\\ipykernel_2904\\365529943.py:946: FutureWarning: The frame.append method is deprecated and will be removed from pandas in a future version. Use pandas.concat instead.\n",
      "  self.past_df = self.past_df.append(self.df.iloc[0], ignore_index=True)\n"
     ]
    },
    {
     "name": "stdout",
     "output_type": "stream",
     "text": [
      "In Sell\n",
      "In Sell\n",
      "In Sell\n",
      "In Sell\n",
      "In Sell\n",
      "In Sell\n",
      "In Sell\n"
     ]
    },
    {
     "name": "stderr",
     "output_type": "stream",
     "text": [
      "C:\\Users\\hp\\AppData\\Local\\Temp\\ipykernel_2904\\365529943.py:940: FutureWarning: The frame.append method is deprecated and will be removed from pandas in a future version. Use pandas.concat instead.\n",
      "  self.df = self.df.append(row, ignore_index=True)\n",
      "C:\\Users\\hp\\AppData\\Local\\Temp\\ipykernel_2904\\365529943.py:946: FutureWarning: The frame.append method is deprecated and will be removed from pandas in a future version. Use pandas.concat instead.\n",
      "  self.past_df = self.past_df.append(self.df.iloc[0], ignore_index=True)\n"
     ]
    },
    {
     "name": "stdout",
     "output_type": "stream",
     "text": [
      "In Sell\n"
     ]
    },
    {
     "name": "stderr",
     "output_type": "stream",
     "text": [
      "C:\\Users\\hp\\AppData\\Local\\Temp\\ipykernel_2904\\365529943.py:940: FutureWarning: The frame.append method is deprecated and will be removed from pandas in a future version. Use pandas.concat instead.\n",
      "  self.df = self.df.append(row, ignore_index=True)\n",
      "C:\\Users\\hp\\AppData\\Local\\Temp\\ipykernel_2904\\365529943.py:946: FutureWarning: The frame.append method is deprecated and will be removed from pandas in a future version. Use pandas.concat instead.\n",
      "  self.past_df = self.past_df.append(self.df.iloc[0], ignore_index=True)\n"
     ]
    },
    {
     "name": "stdout",
     "output_type": "stream",
     "text": [
      "In Sell\n",
      "In Sell\n",
      "In Sell\n",
      "In Sell\n",
      "In Sell\n",
      "In Sell\n",
      "In Sell\n",
      "In Sell\n",
      "In Sell\n",
      "In Sell\n",
      "In Sell\n",
      "In Sell\n",
      "In Sell\n",
      "In Sell\n",
      "In Sell\n",
      "In Sell\n",
      "In Sell\n",
      "In Sell\n",
      "In Sell\n",
      "In Sell\n",
      "In Sell\n",
      "In Sell\n",
      "In Sell\n",
      "In Sell\n",
      "In Sell\n",
      "In Sell\n"
     ]
    },
    {
     "name": "stderr",
     "output_type": "stream",
     "text": [
      "C:\\Users\\hp\\AppData\\Local\\Temp\\ipykernel_2904\\365529943.py:940: FutureWarning: The frame.append method is deprecated and will be removed from pandas in a future version. Use pandas.concat instead.\n",
      "  self.df = self.df.append(row, ignore_index=True)\n",
      "C:\\Users\\hp\\AppData\\Local\\Temp\\ipykernel_2904\\365529943.py:946: FutureWarning: The frame.append method is deprecated and will be removed from pandas in a future version. Use pandas.concat instead.\n",
      "  self.past_df = self.past_df.append(self.df.iloc[0], ignore_index=True)\n",
      "C:\\Users\\hp\\AppData\\Local\\Temp\\ipykernel_2904\\365529943.py:940: FutureWarning: The frame.append method is deprecated and will be removed from pandas in a future version. Use pandas.concat instead.\n",
      "  self.df = self.df.append(row, ignore_index=True)\n",
      "C:\\Users\\hp\\AppData\\Local\\Temp\\ipykernel_2904\\365529943.py:946: FutureWarning: The frame.append method is deprecated and will be removed from pandas in a future version. Use pandas.concat instead.\n",
      "  self.past_df = self.past_df.append(self.df.iloc[0], ignore_index=True)\n"
     ]
    },
    {
     "name": "stdout",
     "output_type": "stream",
     "text": [
      "In Buy\n",
      "In red candle\n",
      "In Buy\n",
      "In red candle\n",
      "In Buy\n",
      "In red candle\n",
      "In SL Condition\n",
      "In Buy\n",
      "In red candle\n",
      "In SL Condition\n"
     ]
    },
    {
     "name": "stderr",
     "output_type": "stream",
     "text": [
      "C:\\Users\\hp\\AppData\\Local\\Temp\\ipykernel_2904\\365529943.py:940: FutureWarning: The frame.append method is deprecated and will be removed from pandas in a future version. Use pandas.concat instead.\n",
      "  self.df = self.df.append(row, ignore_index=True)\n",
      "C:\\Users\\hp\\AppData\\Local\\Temp\\ipykernel_2904\\365529943.py:946: FutureWarning: The frame.append method is deprecated and will be removed from pandas in a future version. Use pandas.concat instead.\n",
      "  self.past_df = self.past_df.append(self.df.iloc[0], ignore_index=True)\n"
     ]
    },
    {
     "name": "stdout",
     "output_type": "stream",
     "text": [
      "In Sell\n"
     ]
    },
    {
     "name": "stderr",
     "output_type": "stream",
     "text": [
      "C:\\Users\\hp\\AppData\\Local\\Temp\\ipykernel_2904\\365529943.py:940: FutureWarning: The frame.append method is deprecated and will be removed from pandas in a future version. Use pandas.concat instead.\n",
      "  self.df = self.df.append(row, ignore_index=True)\n",
      "C:\\Users\\hp\\AppData\\Local\\Temp\\ipykernel_2904\\365529943.py:946: FutureWarning: The frame.append method is deprecated and will be removed from pandas in a future version. Use pandas.concat instead.\n",
      "  self.past_df = self.past_df.append(self.df.iloc[0], ignore_index=True)\n"
     ]
    },
    {
     "name": "stdout",
     "output_type": "stream",
     "text": [
      "In Sell\n",
      "In Sell\n"
     ]
    },
    {
     "name": "stderr",
     "output_type": "stream",
     "text": [
      "C:\\Users\\hp\\AppData\\Local\\Temp\\ipykernel_2904\\365529943.py:940: FutureWarning: The frame.append method is deprecated and will be removed from pandas in a future version. Use pandas.concat instead.\n",
      "  self.df = self.df.append(row, ignore_index=True)\n",
      "C:\\Users\\hp\\AppData\\Local\\Temp\\ipykernel_2904\\365529943.py:946: FutureWarning: The frame.append method is deprecated and will be removed from pandas in a future version. Use pandas.concat instead.\n",
      "  self.past_df = self.past_df.append(self.df.iloc[0], ignore_index=True)\n"
     ]
    },
    {
     "name": "stdout",
     "output_type": "stream",
     "text": [
      "In Buy\n",
      "In a green candle\n",
      "In Buy\n",
      "In red candle\n",
      "In Buy\n",
      "In a green candle\n",
      "In Buy\n",
      "In red candle\n",
      "In Buy\n",
      "In a green candle\n",
      "In Buy\n",
      "In a green candle\n",
      "In Buy\n",
      "In red candle\n",
      "In Buy\n",
      "In a green candle\n",
      "In Buy\n",
      "In a green candle\n",
      "In TRG exit condition\n"
     ]
    },
    {
     "name": "stderr",
     "output_type": "stream",
     "text": [
      "C:\\Users\\hp\\AppData\\Local\\Temp\\ipykernel_2904\\365529943.py:940: FutureWarning: The frame.append method is deprecated and will be removed from pandas in a future version. Use pandas.concat instead.\n",
      "  self.df = self.df.append(row, ignore_index=True)\n",
      "C:\\Users\\hp\\AppData\\Local\\Temp\\ipykernel_2904\\365529943.py:946: FutureWarning: The frame.append method is deprecated and will be removed from pandas in a future version. Use pandas.concat instead.\n",
      "  self.past_df = self.past_df.append(self.df.iloc[0], ignore_index=True)\n"
     ]
    },
    {
     "name": "stdout",
     "output_type": "stream",
     "text": [
      "In Buy\n",
      "In red candle\n",
      "In Buy\n",
      "In red candle\n",
      "In Buy\n",
      "In red candle\n",
      "In SL Condition\n"
     ]
    },
    {
     "name": "stderr",
     "output_type": "stream",
     "text": [
      "C:\\Users\\hp\\AppData\\Local\\Temp\\ipykernel_2904\\365529943.py:940: FutureWarning: The frame.append method is deprecated and will be removed from pandas in a future version. Use pandas.concat instead.\n",
      "  self.df = self.df.append(row, ignore_index=True)\n",
      "C:\\Users\\hp\\AppData\\Local\\Temp\\ipykernel_2904\\365529943.py:946: FutureWarning: The frame.append method is deprecated and will be removed from pandas in a future version. Use pandas.concat instead.\n",
      "  self.past_df = self.past_df.append(self.df.iloc[0], ignore_index=True)\n"
     ]
    },
    {
     "name": "stdout",
     "output_type": "stream",
     "text": [
      "In Buy\n",
      "In a green candle\n",
      "In Buy\n",
      "In red candle\n",
      "In Buy\n",
      "In a green candle\n",
      "In Buy\n",
      "In red candle\n",
      "In Buy\n",
      "In red candle\n",
      "In SL Condition\n"
     ]
    },
    {
     "name": "stderr",
     "output_type": "stream",
     "text": [
      "C:\\Users\\hp\\AppData\\Local\\Temp\\ipykernel_2904\\365529943.py:940: FutureWarning: The frame.append method is deprecated and will be removed from pandas in a future version. Use pandas.concat instead.\n",
      "  self.df = self.df.append(row, ignore_index=True)\n",
      "C:\\Users\\hp\\AppData\\Local\\Temp\\ipykernel_2904\\365529943.py:946: FutureWarning: The frame.append method is deprecated and will be removed from pandas in a future version. Use pandas.concat instead.\n",
      "  self.past_df = self.past_df.append(self.df.iloc[0], ignore_index=True)\n"
     ]
    },
    {
     "name": "stdout",
     "output_type": "stream",
     "text": [
      "In Buy\n",
      "In red candle\n",
      "In Buy\n",
      "In a green candle\n",
      "In Buy\n",
      "In a green candle\n",
      "In Buy\n",
      "In red candle\n",
      "In Buy\n",
      "In a green candle\n",
      "In Buy\n",
      "In red candle\n",
      "In Buy\n",
      "In a green candle\n",
      "In Buy\n",
      "In red candle\n",
      "In SL Condition\n"
     ]
    },
    {
     "name": "stderr",
     "output_type": "stream",
     "text": [
      "C:\\Users\\hp\\AppData\\Local\\Temp\\ipykernel_2904\\365529943.py:940: FutureWarning: The frame.append method is deprecated and will be removed from pandas in a future version. Use pandas.concat instead.\n",
      "  self.df = self.df.append(row, ignore_index=True)\n",
      "C:\\Users\\hp\\AppData\\Local\\Temp\\ipykernel_2904\\365529943.py:946: FutureWarning: The frame.append method is deprecated and will be removed from pandas in a future version. Use pandas.concat instead.\n",
      "  self.past_df = self.past_df.append(self.df.iloc[0], ignore_index=True)\n"
     ]
    },
    {
     "name": "stdout",
     "output_type": "stream",
     "text": [
      "In Buy\n",
      "In red candle\n",
      "In Buy\n",
      "In red candle\n",
      "In Buy\n",
      "In red candle\n",
      "In SL Condition\n"
     ]
    },
    {
     "name": "stderr",
     "output_type": "stream",
     "text": [
      "C:\\Users\\hp\\AppData\\Local\\Temp\\ipykernel_2904\\365529943.py:940: FutureWarning: The frame.append method is deprecated and will be removed from pandas in a future version. Use pandas.concat instead.\n",
      "  self.df = self.df.append(row, ignore_index=True)\n",
      "C:\\Users\\hp\\AppData\\Local\\Temp\\ipykernel_2904\\365529943.py:946: FutureWarning: The frame.append method is deprecated and will be removed from pandas in a future version. Use pandas.concat instead.\n",
      "  self.past_df = self.past_df.append(self.df.iloc[0], ignore_index=True)\n",
      "C:\\Users\\hp\\AppData\\Local\\Temp\\ipykernel_2904\\365529943.py:940: FutureWarning: The frame.append method is deprecated and will be removed from pandas in a future version. Use pandas.concat instead.\n",
      "  self.df = self.df.append(row, ignore_index=True)\n",
      "C:\\Users\\hp\\AppData\\Local\\Temp\\ipykernel_2904\\365529943.py:946: FutureWarning: The frame.append method is deprecated and will be removed from pandas in a future version. Use pandas.concat instead.\n",
      "  self.past_df = self.past_df.append(self.df.iloc[0], ignore_index=True)\n"
     ]
    },
    {
     "name": "stdout",
     "output_type": "stream",
     "text": [
      "In Buy\n",
      "In red candle\n",
      "In Buy\n",
      "In red candle\n",
      "In SL Condition\n",
      "In Buy\n",
      "In a green candle\n",
      "In Buy\n",
      "In red candle\n",
      "In Buy\n",
      "In red candle\n",
      "In Buy\n",
      "In a green candle\n",
      "In Buy\n",
      "In a green candle\n",
      "In Buy\n",
      "In red candle\n",
      "In Buy\n",
      "In red candle\n",
      "In SL Condition\n"
     ]
    },
    {
     "name": "stderr",
     "output_type": "stream",
     "text": [
      "C:\\Users\\hp\\AppData\\Local\\Temp\\ipykernel_2904\\365529943.py:940: FutureWarning: The frame.append method is deprecated and will be removed from pandas in a future version. Use pandas.concat instead.\n",
      "  self.df = self.df.append(row, ignore_index=True)\n",
      "C:\\Users\\hp\\AppData\\Local\\Temp\\ipykernel_2904\\365529943.py:946: FutureWarning: The frame.append method is deprecated and will be removed from pandas in a future version. Use pandas.concat instead.\n",
      "  self.past_df = self.past_df.append(self.df.iloc[0], ignore_index=True)\n",
      "C:\\Users\\hp\\AppData\\Local\\Temp\\ipykernel_2904\\365529943.py:940: FutureWarning: The frame.append method is deprecated and will be removed from pandas in a future version. Use pandas.concat instead.\n",
      "  self.df = self.df.append(row, ignore_index=True)\n",
      "C:\\Users\\hp\\AppData\\Local\\Temp\\ipykernel_2904\\365529943.py:946: FutureWarning: The frame.append method is deprecated and will be removed from pandas in a future version. Use pandas.concat instead.\n",
      "  self.past_df = self.past_df.append(self.df.iloc[0], ignore_index=True)\n",
      "C:\\Users\\hp\\AppData\\Local\\Temp\\ipykernel_2904\\365529943.py:940: FutureWarning: The frame.append method is deprecated and will be removed from pandas in a future version. Use pandas.concat instead.\n",
      "  self.df = self.df.append(row, ignore_index=True)\n",
      "C:\\Users\\hp\\AppData\\Local\\Temp\\ipykernel_2904\\365529943.py:946: FutureWarning: The frame.append method is deprecated and will be removed from pandas in a future version. Use pandas.concat instead.\n",
      "  self.past_df = self.past_df.append(self.df.iloc[0], ignore_index=True)\n"
     ]
    },
    {
     "name": "stdout",
     "output_type": "stream",
     "text": [
      "In Buy\n",
      "In red candle\n",
      "In SL Condition\n",
      "In Buy\n",
      "In red candle\n",
      "In SL Condition\n",
      "In Buy\n",
      "In red candle\n",
      "In Buy\n",
      "In red candle\n",
      "In Buy\n",
      "In a green candle\n",
      "In Buy\n",
      "In red candle\n",
      "In Buy\n",
      "In a green candle\n",
      "In Buy\n",
      "In a green candle\n",
      "In Buy\n",
      "In red candle\n",
      "In Buy\n",
      "In red candle\n",
      "In Buy\n",
      "In a green candle\n",
      "In Buy\n",
      "In red candle\n",
      "In Buy\n",
      "In red candle\n",
      "In Buy\n",
      "In red candle\n",
      "In SL Condition\n",
      "In Buy\n",
      "In a green candle\n",
      "In Buy\n",
      "In a green candle\n",
      "In Buy\n",
      "In red candle\n",
      "In Buy\n",
      "In red candle\n",
      "In Buy\n",
      "In a green candle\n",
      "In TRG exit condition\n"
     ]
    },
    {
     "name": "stderr",
     "output_type": "stream",
     "text": [
      "C:\\Users\\hp\\AppData\\Local\\Temp\\ipykernel_2904\\365529943.py:940: FutureWarning: The frame.append method is deprecated and will be removed from pandas in a future version. Use pandas.concat instead.\n",
      "  self.df = self.df.append(row, ignore_index=True)\n",
      "C:\\Users\\hp\\AppData\\Local\\Temp\\ipykernel_2904\\365529943.py:946: FutureWarning: The frame.append method is deprecated and will be removed from pandas in a future version. Use pandas.concat instead.\n",
      "  self.past_df = self.past_df.append(self.df.iloc[0], ignore_index=True)\n",
      "C:\\Users\\hp\\AppData\\Local\\Temp\\ipykernel_2904\\365529943.py:940: FutureWarning: The frame.append method is deprecated and will be removed from pandas in a future version. Use pandas.concat instead.\n",
      "  self.df = self.df.append(row, ignore_index=True)\n",
      "C:\\Users\\hp\\AppData\\Local\\Temp\\ipykernel_2904\\365529943.py:946: FutureWarning: The frame.append method is deprecated and will be removed from pandas in a future version. Use pandas.concat instead.\n",
      "  self.past_df = self.past_df.append(self.df.iloc[0], ignore_index=True)\n"
     ]
    },
    {
     "name": "stdout",
     "output_type": "stream",
     "text": [
      "In Buy\n",
      "In red candle\n",
      "In Buy\n",
      "In red candle\n",
      "In SL Condition\n"
     ]
    },
    {
     "name": "stderr",
     "output_type": "stream",
     "text": [
      "C:\\Users\\hp\\AppData\\Local\\Temp\\ipykernel_2904\\365529943.py:940: FutureWarning: The frame.append method is deprecated and will be removed from pandas in a future version. Use pandas.concat instead.\n",
      "  self.df = self.df.append(row, ignore_index=True)\n",
      "C:\\Users\\hp\\AppData\\Local\\Temp\\ipykernel_2904\\365529943.py:946: FutureWarning: The frame.append method is deprecated and will be removed from pandas in a future version. Use pandas.concat instead.\n",
      "  self.past_df = self.past_df.append(self.df.iloc[0], ignore_index=True)\n"
     ]
    },
    {
     "name": "stdout",
     "output_type": "stream",
     "text": [
      "In Buy\n",
      "In red candle\n",
      "In Buy\n",
      "In red candle\n",
      "In Buy\n",
      "In red candle\n",
      "In Buy\n",
      "In red candle\n",
      "In SL Condition\n"
     ]
    },
    {
     "name": "stderr",
     "output_type": "stream",
     "text": [
      "C:\\Users\\hp\\AppData\\Local\\Temp\\ipykernel_2904\\365529943.py:940: FutureWarning: The frame.append method is deprecated and will be removed from pandas in a future version. Use pandas.concat instead.\n",
      "  self.df = self.df.append(row, ignore_index=True)\n",
      "C:\\Users\\hp\\AppData\\Local\\Temp\\ipykernel_2904\\365529943.py:946: FutureWarning: The frame.append method is deprecated and will be removed from pandas in a future version. Use pandas.concat instead.\n",
      "  self.past_df = self.past_df.append(self.df.iloc[0], ignore_index=True)\n",
      "C:\\Users\\hp\\AppData\\Local\\Temp\\ipykernel_2904\\365529943.py:940: FutureWarning: The frame.append method is deprecated and will be removed from pandas in a future version. Use pandas.concat instead.\n",
      "  self.df = self.df.append(row, ignore_index=True)\n",
      "C:\\Users\\hp\\AppData\\Local\\Temp\\ipykernel_2904\\365529943.py:946: FutureWarning: The frame.append method is deprecated and will be removed from pandas in a future version. Use pandas.concat instead.\n",
      "  self.past_df = self.past_df.append(self.df.iloc[0], ignore_index=True)\n"
     ]
    },
    {
     "name": "stdout",
     "output_type": "stream",
     "text": [
      "In Buy\n",
      "In a green candle\n",
      "In TRG exit condition\n",
      "In Buy\n",
      "In a green candle\n",
      "In Buy\n",
      "In a green candle\n",
      "In Buy\n",
      "In a green candle\n",
      "In Buy\n",
      "In a green candle\n",
      "In TRG exit condition\n"
     ]
    },
    {
     "name": "stderr",
     "output_type": "stream",
     "text": [
      "C:\\Users\\hp\\AppData\\Local\\Temp\\ipykernel_2904\\365529943.py:940: FutureWarning: The frame.append method is deprecated and will be removed from pandas in a future version. Use pandas.concat instead.\n",
      "  self.df = self.df.append(row, ignore_index=True)\n",
      "C:\\Users\\hp\\AppData\\Local\\Temp\\ipykernel_2904\\365529943.py:946: FutureWarning: The frame.append method is deprecated and will be removed from pandas in a future version. Use pandas.concat instead.\n",
      "  self.past_df = self.past_df.append(self.df.iloc[0], ignore_index=True)\n"
     ]
    },
    {
     "name": "stdout",
     "output_type": "stream",
     "text": [
      "In Buy\n",
      "In a green candle\n",
      "In Buy\n",
      "In a green candle\n",
      "In Buy\n",
      "In red candle\n",
      "In Buy\n",
      "In a green candle\n",
      "In Buy\n",
      "In red candle\n",
      "In SL Condition\n"
     ]
    },
    {
     "name": "stderr",
     "output_type": "stream",
     "text": [
      "C:\\Users\\hp\\AppData\\Local\\Temp\\ipykernel_2904\\365529943.py:940: FutureWarning: The frame.append method is deprecated and will be removed from pandas in a future version. Use pandas.concat instead.\n",
      "  self.df = self.df.append(row, ignore_index=True)\n",
      "C:\\Users\\hp\\AppData\\Local\\Temp\\ipykernel_2904\\365529943.py:946: FutureWarning: The frame.append method is deprecated and will be removed from pandas in a future version. Use pandas.concat instead.\n",
      "  self.past_df = self.past_df.append(self.df.iloc[0], ignore_index=True)\n",
      "C:\\Users\\hp\\AppData\\Local\\Temp\\ipykernel_2904\\365529943.py:940: FutureWarning: The frame.append method is deprecated and will be removed from pandas in a future version. Use pandas.concat instead.\n",
      "  self.df = self.df.append(row, ignore_index=True)\n",
      "C:\\Users\\hp\\AppData\\Local\\Temp\\ipykernel_2904\\365529943.py:946: FutureWarning: The frame.append method is deprecated and will be removed from pandas in a future version. Use pandas.concat instead.\n",
      "  self.past_df = self.past_df.append(self.df.iloc[0], ignore_index=True)\n",
      "C:\\Users\\hp\\AppData\\Local\\Temp\\ipykernel_2904\\365529943.py:940: FutureWarning: The frame.append method is deprecated and will be removed from pandas in a future version. Use pandas.concat instead.\n",
      "  self.df = self.df.append(row, ignore_index=True)\n",
      "C:\\Users\\hp\\AppData\\Local\\Temp\\ipykernel_2904\\365529943.py:946: FutureWarning: The frame.append method is deprecated and will be removed from pandas in a future version. Use pandas.concat instead.\n",
      "  self.past_df = self.past_df.append(self.df.iloc[0], ignore_index=True)\n"
     ]
    },
    {
     "name": "stdout",
     "output_type": "stream",
     "text": [
      "In Buy\n",
      "In red candle\n",
      "In Buy\n",
      "In red candle\n",
      "In Buy\n",
      "In red candle\n",
      "In SL Condition\n",
      "In Buy\n",
      "In a green candle\n",
      "In SL Condition\n",
      "In Buy\n",
      "In red candle\n",
      "In Buy\n",
      "In a green candle\n",
      "In Buy\n",
      "In red candle\n",
      "In SL Condition\n"
     ]
    },
    {
     "name": "stderr",
     "output_type": "stream",
     "text": [
      "C:\\Users\\hp\\AppData\\Local\\Temp\\ipykernel_2904\\365529943.py:940: FutureWarning: The frame.append method is deprecated and will be removed from pandas in a future version. Use pandas.concat instead.\n",
      "  self.df = self.df.append(row, ignore_index=True)\n",
      "C:\\Users\\hp\\AppData\\Local\\Temp\\ipykernel_2904\\365529943.py:946: FutureWarning: The frame.append method is deprecated and will be removed from pandas in a future version. Use pandas.concat instead.\n",
      "  self.past_df = self.past_df.append(self.df.iloc[0], ignore_index=True)\n"
     ]
    },
    {
     "name": "stdout",
     "output_type": "stream",
     "text": [
      "In Buy\n",
      "In red candle\n",
      "In Buy\n",
      "In red candle\n",
      "In SL Condition\n"
     ]
    },
    {
     "name": "stderr",
     "output_type": "stream",
     "text": [
      "C:\\Users\\hp\\AppData\\Local\\Temp\\ipykernel_2904\\365529943.py:940: FutureWarning: The frame.append method is deprecated and will be removed from pandas in a future version. Use pandas.concat instead.\n",
      "  self.df = self.df.append(row, ignore_index=True)\n",
      "C:\\Users\\hp\\AppData\\Local\\Temp\\ipykernel_2904\\365529943.py:946: FutureWarning: The frame.append method is deprecated and will be removed from pandas in a future version. Use pandas.concat instead.\n",
      "  self.past_df = self.past_df.append(self.df.iloc[0], ignore_index=True)\n",
      "C:\\Users\\hp\\AppData\\Local\\Temp\\ipykernel_2904\\365529943.py:940: FutureWarning: The frame.append method is deprecated and will be removed from pandas in a future version. Use pandas.concat instead.\n",
      "  self.df = self.df.append(row, ignore_index=True)\n",
      "C:\\Users\\hp\\AppData\\Local\\Temp\\ipykernel_2904\\365529943.py:946: FutureWarning: The frame.append method is deprecated and will be removed from pandas in a future version. Use pandas.concat instead.\n",
      "  self.past_df = self.past_df.append(self.df.iloc[0], ignore_index=True)\n"
     ]
    },
    {
     "name": "stdout",
     "output_type": "stream",
     "text": [
      "In Buy\n",
      "In red candle\n",
      "In Buy\n",
      "In red candle\n",
      "In Buy\n",
      "In a green candle\n",
      "In Buy\n",
      "In red candle\n",
      "In Buy\n",
      "In a green candle\n",
      "In SL Condition\n",
      "In Buy\n",
      "In a green candle\n",
      "In Buy\n",
      "In a green candle\n",
      "In Buy\n",
      "In red candle\n",
      "In Buy\n",
      "In red candle\n",
      "In Buy\n",
      "In a green candle\n",
      "In Buy\n",
      "In a green candle\n",
      "In Buy\n",
      "In a green candle\n",
      "In Buy\n",
      "In red candle\n",
      "In Buy\n",
      "In red candle\n",
      "In Buy\n",
      "In a green candle\n",
      "In Buy\n",
      "In red candle\n",
      "In Buy\n",
      "In a green candle\n",
      "In Buy\n",
      "In a green candle\n",
      "In Buy\n",
      "In a green candle\n",
      "In Buy\n",
      "In red candle\n",
      "In Buy\n",
      "In a green candle\n",
      "In Buy\n",
      "In red candle\n",
      "In SL Condition\n"
     ]
    },
    {
     "name": "stderr",
     "output_type": "stream",
     "text": [
      "C:\\Users\\hp\\AppData\\Local\\Temp\\ipykernel_2904\\365529943.py:940: FutureWarning: The frame.append method is deprecated and will be removed from pandas in a future version. Use pandas.concat instead.\n",
      "  self.df = self.df.append(row, ignore_index=True)\n",
      "C:\\Users\\hp\\AppData\\Local\\Temp\\ipykernel_2904\\365529943.py:946: FutureWarning: The frame.append method is deprecated and will be removed from pandas in a future version. Use pandas.concat instead.\n",
      "  self.past_df = self.past_df.append(self.df.iloc[0], ignore_index=True)\n"
     ]
    },
    {
     "name": "stdout",
     "output_type": "stream",
     "text": [
      "In Buy\n",
      "In a green candle\n",
      "In Buy\n",
      "In a green candle\n",
      "In Buy\n",
      "In a green candle\n",
      "In Buy\n",
      "In a green candle\n",
      "In Buy\n",
      "In a green candle\n",
      "In TRG exit condition\n"
     ]
    },
    {
     "name": "stderr",
     "output_type": "stream",
     "text": [
      "C:\\Users\\hp\\AppData\\Local\\Temp\\ipykernel_2904\\365529943.py:940: FutureWarning: The frame.append method is deprecated and will be removed from pandas in a future version. Use pandas.concat instead.\n",
      "  self.df = self.df.append(row, ignore_index=True)\n",
      "C:\\Users\\hp\\AppData\\Local\\Temp\\ipykernel_2904\\365529943.py:946: FutureWarning: The frame.append method is deprecated and will be removed from pandas in a future version. Use pandas.concat instead.\n",
      "  self.past_df = self.past_df.append(self.df.iloc[0], ignore_index=True)\n"
     ]
    },
    {
     "name": "stdout",
     "output_type": "stream",
     "text": [
      "In Buy\n",
      "In red candle\n",
      "In SL Condition\n"
     ]
    },
    {
     "name": "stderr",
     "output_type": "stream",
     "text": [
      "C:\\Users\\hp\\AppData\\Local\\Temp\\ipykernel_2904\\365529943.py:940: FutureWarning: The frame.append method is deprecated and will be removed from pandas in a future version. Use pandas.concat instead.\n",
      "  self.df = self.df.append(row, ignore_index=True)\n",
      "C:\\Users\\hp\\AppData\\Local\\Temp\\ipykernel_2904\\365529943.py:946: FutureWarning: The frame.append method is deprecated and will be removed from pandas in a future version. Use pandas.concat instead.\n",
      "  self.past_df = self.past_df.append(self.df.iloc[0], ignore_index=True)\n",
      "C:\\Users\\hp\\AppData\\Local\\Temp\\ipykernel_2904\\365529943.py:940: FutureWarning: The frame.append method is deprecated and will be removed from pandas in a future version. Use pandas.concat instead.\n",
      "  self.df = self.df.append(row, ignore_index=True)\n",
      "C:\\Users\\hp\\AppData\\Local\\Temp\\ipykernel_2904\\365529943.py:946: FutureWarning: The frame.append method is deprecated and will be removed from pandas in a future version. Use pandas.concat instead.\n",
      "  self.past_df = self.past_df.append(self.df.iloc[0], ignore_index=True)\n"
     ]
    },
    {
     "name": "stdout",
     "output_type": "stream",
     "text": [
      "In Buy\n",
      "In red candle\n",
      "In Buy\n",
      "In red candle\n",
      "In Buy\n",
      "In a green candle\n",
      "In Buy\n",
      "In red candle\n",
      "In SL Condition\n",
      "In Buy\n",
      "In a green candle\n",
      "In Buy\n",
      "In a green candle\n",
      "In Buy\n",
      "In red candle\n",
      "In Buy\n",
      "In a green candle\n",
      "In Buy\n",
      "In red candle\n",
      "In Buy\n",
      "In red candle\n",
      "In Buy\n",
      "In a green candle\n",
      "In Buy\n",
      "In red candle\n",
      "In SL Condition\n",
      "In Buy\n",
      "In red candle\n",
      "In Buy\n",
      "In red candle\n",
      "In Buy\n",
      "In a green candle\n",
      "In Buy\n",
      "In a green candle\n",
      "In Buy\n",
      "In red candle\n",
      "In Buy\n",
      "In a green candle\n",
      "In TRG exit condition\n"
     ]
    },
    {
     "name": "stderr",
     "output_type": "stream",
     "text": [
      "C:\\Users\\hp\\AppData\\Local\\Temp\\ipykernel_2904\\365529943.py:940: FutureWarning: The frame.append method is deprecated and will be removed from pandas in a future version. Use pandas.concat instead.\n",
      "  self.df = self.df.append(row, ignore_index=True)\n",
      "C:\\Users\\hp\\AppData\\Local\\Temp\\ipykernel_2904\\365529943.py:946: FutureWarning: The frame.append method is deprecated and will be removed from pandas in a future version. Use pandas.concat instead.\n",
      "  self.past_df = self.past_df.append(self.df.iloc[0], ignore_index=True)\n",
      "C:\\Users\\hp\\AppData\\Local\\Temp\\ipykernel_2904\\365529943.py:940: FutureWarning: The frame.append method is deprecated and will be removed from pandas in a future version. Use pandas.concat instead.\n",
      "  self.df = self.df.append(row, ignore_index=True)\n",
      "C:\\Users\\hp\\AppData\\Local\\Temp\\ipykernel_2904\\365529943.py:946: FutureWarning: The frame.append method is deprecated and will be removed from pandas in a future version. Use pandas.concat instead.\n",
      "  self.past_df = self.past_df.append(self.df.iloc[0], ignore_index=True)\n",
      "C:\\Users\\hp\\AppData\\Local\\Temp\\ipykernel_2904\\365529943.py:940: FutureWarning: The frame.append method is deprecated and will be removed from pandas in a future version. Use pandas.concat instead.\n",
      "  self.df = self.df.append(row, ignore_index=True)\n",
      "C:\\Users\\hp\\AppData\\Local\\Temp\\ipykernel_2904\\365529943.py:946: FutureWarning: The frame.append method is deprecated and will be removed from pandas in a future version. Use pandas.concat instead.\n",
      "  self.past_df = self.past_df.append(self.df.iloc[0], ignore_index=True)\n"
     ]
    },
    {
     "name": "stdout",
     "output_type": "stream",
     "text": [
      "In Sell\n",
      "In Sell\n",
      "In Sell\n",
      "In Sell\n",
      "In Sell\n",
      "In Sell\n",
      "In Sell\n",
      "In Sell\n",
      "In Sell\n",
      "In Sell\n",
      "In Sell\n",
      "In Sell\n",
      "In Sell\n",
      "In Sell\n",
      "In Sell\n",
      "In Sell\n",
      "In Sell\n",
      "In Sell\n",
      "In Sell\n",
      "In Sell\n",
      "In Sell\n",
      "In Sell\n",
      "In Sell\n",
      "In Sell\n",
      "In Sell\n",
      "In Sell\n",
      "In Sell\n",
      "In Sell\n",
      "In Sell\n",
      "In Sell\n",
      "In Sell\n",
      "In Sell\n"
     ]
    },
    {
     "name": "stderr",
     "output_type": "stream",
     "text": [
      "C:\\Users\\hp\\AppData\\Local\\Temp\\ipykernel_2904\\365529943.py:940: FutureWarning: The frame.append method is deprecated and will be removed from pandas in a future version. Use pandas.concat instead.\n",
      "  self.df = self.df.append(row, ignore_index=True)\n",
      "C:\\Users\\hp\\AppData\\Local\\Temp\\ipykernel_2904\\365529943.py:946: FutureWarning: The frame.append method is deprecated and will be removed from pandas in a future version. Use pandas.concat instead.\n",
      "  self.past_df = self.past_df.append(self.df.iloc[0], ignore_index=True)\n"
     ]
    },
    {
     "name": "stdout",
     "output_type": "stream",
     "text": [
      "In Buy\n",
      "In a green candle\n",
      "In TRG exit condition\n"
     ]
    },
    {
     "name": "stderr",
     "output_type": "stream",
     "text": [
      "C:\\Users\\hp\\AppData\\Local\\Temp\\ipykernel_2904\\365529943.py:940: FutureWarning: The frame.append method is deprecated and will be removed from pandas in a future version. Use pandas.concat instead.\n",
      "  self.df = self.df.append(row, ignore_index=True)\n",
      "C:\\Users\\hp\\AppData\\Local\\Temp\\ipykernel_2904\\365529943.py:946: FutureWarning: The frame.append method is deprecated and will be removed from pandas in a future version. Use pandas.concat instead.\n",
      "  self.past_df = self.past_df.append(self.df.iloc[0], ignore_index=True)\n"
     ]
    },
    {
     "name": "stdout",
     "output_type": "stream",
     "text": [
      "In Sell\n",
      "In Sell\n",
      "In Sell\n"
     ]
    },
    {
     "name": "stderr",
     "output_type": "stream",
     "text": [
      "C:\\Users\\hp\\AppData\\Local\\Temp\\ipykernel_2904\\365529943.py:940: FutureWarning: The frame.append method is deprecated and will be removed from pandas in a future version. Use pandas.concat instead.\n",
      "  self.df = self.df.append(row, ignore_index=True)\n",
      "C:\\Users\\hp\\AppData\\Local\\Temp\\ipykernel_2904\\365529943.py:946: FutureWarning: The frame.append method is deprecated and will be removed from pandas in a future version. Use pandas.concat instead.\n",
      "  self.past_df = self.past_df.append(self.df.iloc[0], ignore_index=True)\n"
     ]
    },
    {
     "name": "stdout",
     "output_type": "stream",
     "text": [
      "In Buy\n",
      "In a green candle\n",
      "In Buy\n",
      "In a green candle\n",
      "In Buy\n",
      "In red candle\n",
      "In Buy\n",
      "In a green candle\n",
      "In TRG exit condition\n"
     ]
    },
    {
     "name": "stderr",
     "output_type": "stream",
     "text": [
      "C:\\Users\\hp\\AppData\\Local\\Temp\\ipykernel_2904\\365529943.py:940: FutureWarning: The frame.append method is deprecated and will be removed from pandas in a future version. Use pandas.concat instead.\n",
      "  self.df = self.df.append(row, ignore_index=True)\n",
      "C:\\Users\\hp\\AppData\\Local\\Temp\\ipykernel_2904\\365529943.py:946: FutureWarning: The frame.append method is deprecated and will be removed from pandas in a future version. Use pandas.concat instead.\n",
      "  self.past_df = self.past_df.append(self.df.iloc[0], ignore_index=True)\n"
     ]
    },
    {
     "name": "stdout",
     "output_type": "stream",
     "text": [
      "In Buy\n",
      "In a green candle\n",
      "In Buy\n",
      "In red candle\n",
      "In Buy\n",
      "In a green candle\n",
      "In Buy\n",
      "In a green candle\n",
      "In Buy\n",
      "In a green candle\n",
      "In Buy\n",
      "In red candle\n",
      "In Buy\n",
      "In red candle\n",
      "In Buy\n",
      "In a green candle\n",
      "In Buy\n",
      "In a green candle\n",
      "In Buy\n",
      "In a green candle\n",
      "In Buy\n",
      "In red candle\n",
      "In Buy\n",
      "In a green candle\n",
      "In Buy\n",
      "In red candle\n",
      "In SL Condition\n"
     ]
    },
    {
     "name": "stderr",
     "output_type": "stream",
     "text": [
      "C:\\Users\\hp\\AppData\\Local\\Temp\\ipykernel_2904\\365529943.py:940: FutureWarning: The frame.append method is deprecated and will be removed from pandas in a future version. Use pandas.concat instead.\n",
      "  self.df = self.df.append(row, ignore_index=True)\n",
      "C:\\Users\\hp\\AppData\\Local\\Temp\\ipykernel_2904\\365529943.py:946: FutureWarning: The frame.append method is deprecated and will be removed from pandas in a future version. Use pandas.concat instead.\n",
      "  self.past_df = self.past_df.append(self.df.iloc[0], ignore_index=True)\n"
     ]
    },
    {
     "name": "stdout",
     "output_type": "stream",
     "text": [
      "In Buy\n",
      "In a green candle\n",
      "In Buy\n",
      "In red candle\n",
      "In Buy\n",
      "In red candle\n",
      "In Buy\n",
      "In red candle\n",
      "In SL Condition\n"
     ]
    },
    {
     "name": "stderr",
     "output_type": "stream",
     "text": [
      "C:\\Users\\hp\\AppData\\Local\\Temp\\ipykernel_2904\\365529943.py:940: FutureWarning: The frame.append method is deprecated and will be removed from pandas in a future version. Use pandas.concat instead.\n",
      "  self.df = self.df.append(row, ignore_index=True)\n",
      "C:\\Users\\hp\\AppData\\Local\\Temp\\ipykernel_2904\\365529943.py:946: FutureWarning: The frame.append method is deprecated and will be removed from pandas in a future version. Use pandas.concat instead.\n",
      "  self.past_df = self.past_df.append(self.df.iloc[0], ignore_index=True)\n"
     ]
    },
    {
     "name": "stdout",
     "output_type": "stream",
     "text": [
      "In Buy\n",
      "In red candle\n",
      "In SL Condition\n"
     ]
    },
    {
     "name": "stderr",
     "output_type": "stream",
     "text": [
      "C:\\Users\\hp\\AppData\\Local\\Temp\\ipykernel_2904\\365529943.py:940: FutureWarning: The frame.append method is deprecated and will be removed from pandas in a future version. Use pandas.concat instead.\n",
      "  self.df = self.df.append(row, ignore_index=True)\n",
      "C:\\Users\\hp\\AppData\\Local\\Temp\\ipykernel_2904\\365529943.py:946: FutureWarning: The frame.append method is deprecated and will be removed from pandas in a future version. Use pandas.concat instead.\n",
      "  self.past_df = self.past_df.append(self.df.iloc[0], ignore_index=True)\n"
     ]
    },
    {
     "name": "stdout",
     "output_type": "stream",
     "text": [
      "In Buy\n",
      "In red candle\n",
      "In Buy\n",
      "In red candle\n",
      "In SL Condition\n"
     ]
    },
    {
     "name": "stderr",
     "output_type": "stream",
     "text": [
      "C:\\Users\\hp\\AppData\\Local\\Temp\\ipykernel_2904\\365529943.py:940: FutureWarning: The frame.append method is deprecated and will be removed from pandas in a future version. Use pandas.concat instead.\n",
      "  self.df = self.df.append(row, ignore_index=True)\n",
      "C:\\Users\\hp\\AppData\\Local\\Temp\\ipykernel_2904\\365529943.py:946: FutureWarning: The frame.append method is deprecated and will be removed from pandas in a future version. Use pandas.concat instead.\n",
      "  self.past_df = self.past_df.append(self.df.iloc[0], ignore_index=True)\n"
     ]
    },
    {
     "name": "stdout",
     "output_type": "stream",
     "text": [
      "In Buy\n",
      "In a green candle\n",
      "In Buy\n",
      "In red candle\n",
      "In Buy\n",
      "In red candle\n",
      "In Buy\n",
      "In red candle\n",
      "In Buy\n",
      "In a green candle\n",
      "In Buy\n",
      "In a green candle\n",
      "In Buy\n",
      "In a green candle\n",
      "In TRG exit condition\n"
     ]
    },
    {
     "name": "stderr",
     "output_type": "stream",
     "text": [
      "C:\\Users\\hp\\AppData\\Local\\Temp\\ipykernel_2904\\365529943.py:940: FutureWarning: The frame.append method is deprecated and will be removed from pandas in a future version. Use pandas.concat instead.\n",
      "  self.df = self.df.append(row, ignore_index=True)\n",
      "C:\\Users\\hp\\AppData\\Local\\Temp\\ipykernel_2904\\365529943.py:946: FutureWarning: The frame.append method is deprecated and will be removed from pandas in a future version. Use pandas.concat instead.\n",
      "  self.past_df = self.past_df.append(self.df.iloc[0], ignore_index=True)\n"
     ]
    },
    {
     "name": "stdout",
     "output_type": "stream",
     "text": [
      "In Buy\n",
      "In red candle\n",
      "In Buy\n",
      "In red candle\n",
      "In Buy\n",
      "In a green candle\n",
      "In Buy\n",
      "In red candle\n",
      "In Buy\n",
      "In a green candle\n",
      "In Buy\n",
      "In a green candle\n",
      "In Buy\n",
      "In red candle\n",
      "In Buy\n",
      "In red candle\n",
      "In Buy\n",
      "In a green candle\n",
      "In Buy\n",
      "In red candle\n",
      "In Buy\n",
      "In red candle\n",
      "In Buy\n",
      "In a green candle\n",
      "In Buy\n",
      "In red candle\n",
      "In Buy\n",
      "In red candle\n",
      "In SL Condition\n"
     ]
    },
    {
     "name": "stderr",
     "output_type": "stream",
     "text": [
      "C:\\Users\\hp\\AppData\\Local\\Temp\\ipykernel_2904\\365529943.py:940: FutureWarning: The frame.append method is deprecated and will be removed from pandas in a future version. Use pandas.concat instead.\n",
      "  self.df = self.df.append(row, ignore_index=True)\n",
      "C:\\Users\\hp\\AppData\\Local\\Temp\\ipykernel_2904\\365529943.py:946: FutureWarning: The frame.append method is deprecated and will be removed from pandas in a future version. Use pandas.concat instead.\n",
      "  self.past_df = self.past_df.append(self.df.iloc[0], ignore_index=True)\n"
     ]
    },
    {
     "name": "stdout",
     "output_type": "stream",
     "text": [
      "In Buy\n",
      "In a green candle\n",
      "In Buy\n",
      "In red candle\n",
      "In Buy\n",
      "In red candle\n",
      "In Buy\n",
      "In a green candle\n",
      "In Buy\n",
      "In a green candle\n",
      "In Buy\n",
      "In red candle\n",
      "In Buy\n",
      "In a green candle\n",
      "In Buy\n",
      "In red candle\n",
      "In Buy\n",
      "In red candle\n",
      "In Buy\n",
      "In a green candle\n",
      "In Buy\n",
      "In a green candle\n",
      "In Buy\n",
      "In a green candle\n",
      "In Buy\n",
      "In red candle\n",
      "In Buy\n",
      "In red candle\n",
      "In Buy\n",
      "In a green candle\n",
      "In Buy\n",
      "In red candle\n",
      "In Buy\n",
      "In a green candle\n",
      "In Buy\n",
      "In a green candle\n",
      "In Buy\n",
      "In red candle\n",
      "In Buy\n",
      "In a green candle\n",
      "In Buy\n",
      "In red candle\n",
      "In Buy\n",
      "In red candle\n",
      "In SL Condition\n"
     ]
    },
    {
     "name": "stderr",
     "output_type": "stream",
     "text": [
      "C:\\Users\\hp\\AppData\\Local\\Temp\\ipykernel_2904\\365529943.py:940: FutureWarning: The frame.append method is deprecated and will be removed from pandas in a future version. Use pandas.concat instead.\n",
      "  self.df = self.df.append(row, ignore_index=True)\n",
      "C:\\Users\\hp\\AppData\\Local\\Temp\\ipykernel_2904\\365529943.py:946: FutureWarning: The frame.append method is deprecated and will be removed from pandas in a future version. Use pandas.concat instead.\n",
      "  self.past_df = self.past_df.append(self.df.iloc[0], ignore_index=True)\n"
     ]
    },
    {
     "name": "stdout",
     "output_type": "stream",
     "text": [
      "In Sell\n",
      "In Sell\n",
      "In Sell\n"
     ]
    },
    {
     "name": "stderr",
     "output_type": "stream",
     "text": [
      "C:\\Users\\hp\\AppData\\Local\\Temp\\ipykernel_2904\\365529943.py:940: FutureWarning: The frame.append method is deprecated and will be removed from pandas in a future version. Use pandas.concat instead.\n",
      "  self.df = self.df.append(row, ignore_index=True)\n",
      "C:\\Users\\hp\\AppData\\Local\\Temp\\ipykernel_2904\\365529943.py:946: FutureWarning: The frame.append method is deprecated and will be removed from pandas in a future version. Use pandas.concat instead.\n",
      "  self.past_df = self.past_df.append(self.df.iloc[0], ignore_index=True)\n"
     ]
    },
    {
     "name": "stdout",
     "output_type": "stream",
     "text": [
      "In Sell\n",
      "In Sell\n",
      "In Sell\n",
      "In Sell\n",
      "In Sell\n",
      "In Sell\n",
      "In Sell\n",
      "In Sell\n"
     ]
    },
    {
     "name": "stderr",
     "output_type": "stream",
     "text": [
      "C:\\Users\\hp\\AppData\\Local\\Temp\\ipykernel_2904\\365529943.py:940: FutureWarning: The frame.append method is deprecated and will be removed from pandas in a future version. Use pandas.concat instead.\n",
      "  self.df = self.df.append(row, ignore_index=True)\n",
      "C:\\Users\\hp\\AppData\\Local\\Temp\\ipykernel_2904\\365529943.py:946: FutureWarning: The frame.append method is deprecated and will be removed from pandas in a future version. Use pandas.concat instead.\n",
      "  self.past_df = self.past_df.append(self.df.iloc[0], ignore_index=True)\n",
      "C:\\Users\\hp\\AppData\\Local\\Temp\\ipykernel_2904\\365529943.py:940: FutureWarning: The frame.append method is deprecated and will be removed from pandas in a future version. Use pandas.concat instead.\n",
      "  self.df = self.df.append(row, ignore_index=True)\n",
      "C:\\Users\\hp\\AppData\\Local\\Temp\\ipykernel_2904\\365529943.py:946: FutureWarning: The frame.append method is deprecated and will be removed from pandas in a future version. Use pandas.concat instead.\n",
      "  self.past_df = self.past_df.append(self.df.iloc[0], ignore_index=True)\n"
     ]
    },
    {
     "name": "stdout",
     "output_type": "stream",
     "text": [
      "In Sell\n",
      "In Sell\n",
      "In Sell\n",
      "In Sell\n",
      "In Sell\n",
      "In Sell\n"
     ]
    },
    {
     "name": "stderr",
     "output_type": "stream",
     "text": [
      "C:\\Users\\hp\\AppData\\Local\\Temp\\ipykernel_2904\\365529943.py:940: FutureWarning: The frame.append method is deprecated and will be removed from pandas in a future version. Use pandas.concat instead.\n",
      "  self.df = self.df.append(row, ignore_index=True)\n",
      "C:\\Users\\hp\\AppData\\Local\\Temp\\ipykernel_2904\\365529943.py:946: FutureWarning: The frame.append method is deprecated and will be removed from pandas in a future version. Use pandas.concat instead.\n",
      "  self.past_df = self.past_df.append(self.df.iloc[0], ignore_index=True)\n"
     ]
    },
    {
     "name": "stdout",
     "output_type": "stream",
     "text": [
      "In Sell\n",
      "In Sell\n",
      "In Sell\n"
     ]
    },
    {
     "name": "stderr",
     "output_type": "stream",
     "text": [
      "C:\\Users\\hp\\AppData\\Local\\Temp\\ipykernel_2904\\365529943.py:940: FutureWarning: The frame.append method is deprecated and will be removed from pandas in a future version. Use pandas.concat instead.\n",
      "  self.df = self.df.append(row, ignore_index=True)\n",
      "C:\\Users\\hp\\AppData\\Local\\Temp\\ipykernel_2904\\365529943.py:946: FutureWarning: The frame.append method is deprecated and will be removed from pandas in a future version. Use pandas.concat instead.\n",
      "  self.past_df = self.past_df.append(self.df.iloc[0], ignore_index=True)\n"
     ]
    },
    {
     "name": "stdout",
     "output_type": "stream",
     "text": [
      "In Sell\n",
      "In Sell\n",
      "In Sell\n",
      "In Sell\n",
      "In Sell\n",
      "In Sell\n",
      "In Sell\n",
      "In Sell\n",
      "In Sell\n",
      "In Sell\n",
      "In Sell\n",
      "In Sell\n"
     ]
    },
    {
     "name": "stderr",
     "output_type": "stream",
     "text": [
      "C:\\Users\\hp\\AppData\\Local\\Temp\\ipykernel_2904\\365529943.py:940: FutureWarning: The frame.append method is deprecated and will be removed from pandas in a future version. Use pandas.concat instead.\n",
      "  self.df = self.df.append(row, ignore_index=True)\n",
      "C:\\Users\\hp\\AppData\\Local\\Temp\\ipykernel_2904\\365529943.py:946: FutureWarning: The frame.append method is deprecated and will be removed from pandas in a future version. Use pandas.concat instead.\n",
      "  self.past_df = self.past_df.append(self.df.iloc[0], ignore_index=True)\n"
     ]
    },
    {
     "name": "stdout",
     "output_type": "stream",
     "text": [
      "In Buy\n",
      "In red candle\n",
      "In Buy\n",
      "In a green candle\n",
      "In Buy\n",
      "In red candle\n",
      "In SL Condition\n"
     ]
    },
    {
     "name": "stderr",
     "output_type": "stream",
     "text": [
      "C:\\Users\\hp\\AppData\\Local\\Temp\\ipykernel_2904\\365529943.py:940: FutureWarning: The frame.append method is deprecated and will be removed from pandas in a future version. Use pandas.concat instead.\n",
      "  self.df = self.df.append(row, ignore_index=True)\n",
      "C:\\Users\\hp\\AppData\\Local\\Temp\\ipykernel_2904\\365529943.py:946: FutureWarning: The frame.append method is deprecated and will be removed from pandas in a future version. Use pandas.concat instead.\n",
      "  self.past_df = self.past_df.append(self.df.iloc[0], ignore_index=True)\n"
     ]
    },
    {
     "name": "stdout",
     "output_type": "stream",
     "text": [
      "In Sell\n",
      "In Sell\n",
      "In Sell\n",
      "In Sell\n",
      "In Sell\n",
      "In Sell\n",
      "In Sell\n",
      "In Sell\n",
      "In Sell\n",
      "In Sell\n",
      "In Sell\n",
      "In Sell\n",
      "In Sell\n",
      "In Sell\n",
      "In Sell\n",
      "In Sell\n",
      "In Sell\n",
      "In Sell\n",
      "In Sell\n",
      "In Sell\n",
      "In Sell\n",
      "In Sell\n",
      "In Sell\n",
      "In Sell\n",
      "In Sell\n"
     ]
    },
    {
     "name": "stderr",
     "output_type": "stream",
     "text": [
      "C:\\Users\\hp\\AppData\\Local\\Temp\\ipykernel_2904\\365529943.py:940: FutureWarning: The frame.append method is deprecated and will be removed from pandas in a future version. Use pandas.concat instead.\n",
      "  self.df = self.df.append(row, ignore_index=True)\n",
      "C:\\Users\\hp\\AppData\\Local\\Temp\\ipykernel_2904\\365529943.py:946: FutureWarning: The frame.append method is deprecated and will be removed from pandas in a future version. Use pandas.concat instead.\n",
      "  self.past_df = self.past_df.append(self.df.iloc[0], ignore_index=True)\n"
     ]
    },
    {
     "name": "stdout",
     "output_type": "stream",
     "text": [
      "In Buy\n",
      "In red candle\n",
      "In Buy\n",
      "In a green candle\n",
      "In Buy\n",
      "In a green candle\n",
      "In Buy\n",
      "In a green candle\n",
      "In Buy\n",
      "In red candle\n",
      "In Buy\n",
      "In red candle\n",
      "In Buy\n",
      "In a green candle\n",
      "In Buy\n",
      "In red candle\n",
      "In Buy\n",
      "In a green candle\n",
      "In Buy\n",
      "In red candle\n",
      "In Buy\n",
      "In a green candle\n",
      "In Buy\n",
      "In a green candle\n",
      "In Buy\n",
      "In red candle\n",
      "In Buy\n",
      "In a green candle\n",
      "In Buy\n",
      "In a green candle\n",
      "In Buy\n",
      "In red candle\n",
      "In Buy\n",
      "In red candle\n",
      "In SL Condition\n"
     ]
    },
    {
     "name": "stderr",
     "output_type": "stream",
     "text": [
      "C:\\Users\\hp\\AppData\\Local\\Temp\\ipykernel_2904\\365529943.py:940: FutureWarning: The frame.append method is deprecated and will be removed from pandas in a future version. Use pandas.concat instead.\n",
      "  self.df = self.df.append(row, ignore_index=True)\n",
      "C:\\Users\\hp\\AppData\\Local\\Temp\\ipykernel_2904\\365529943.py:946: FutureWarning: The frame.append method is deprecated and will be removed from pandas in a future version. Use pandas.concat instead.\n",
      "  self.past_df = self.past_df.append(self.df.iloc[0], ignore_index=True)\n"
     ]
    },
    {
     "name": "stdout",
     "output_type": "stream",
     "text": [
      "In Buy\n",
      "In a green candle\n",
      "In Buy\n",
      "In red candle\n",
      "In Buy\n",
      "In red candle\n",
      "In Buy\n",
      "In red candle\n",
      "In SL Condition\n"
     ]
    },
    {
     "name": "stderr",
     "output_type": "stream",
     "text": [
      "C:\\Users\\hp\\AppData\\Local\\Temp\\ipykernel_2904\\365529943.py:940: FutureWarning: The frame.append method is deprecated and will be removed from pandas in a future version. Use pandas.concat instead.\n",
      "  self.df = self.df.append(row, ignore_index=True)\n",
      "C:\\Users\\hp\\AppData\\Local\\Temp\\ipykernel_2904\\365529943.py:946: FutureWarning: The frame.append method is deprecated and will be removed from pandas in a future version. Use pandas.concat instead.\n",
      "  self.past_df = self.past_df.append(self.df.iloc[0], ignore_index=True)\n"
     ]
    },
    {
     "name": "stdout",
     "output_type": "stream",
     "text": [
      "In Sell\n",
      "In Sell\n",
      "In Sell\n",
      "In Sell\n",
      "In Sell\n",
      "In Sell\n"
     ]
    },
    {
     "name": "stderr",
     "output_type": "stream",
     "text": [
      "C:\\Users\\hp\\AppData\\Local\\Temp\\ipykernel_2904\\365529943.py:940: FutureWarning: The frame.append method is deprecated and will be removed from pandas in a future version. Use pandas.concat instead.\n",
      "  self.df = self.df.append(row, ignore_index=True)\n",
      "C:\\Users\\hp\\AppData\\Local\\Temp\\ipykernel_2904\\365529943.py:946: FutureWarning: The frame.append method is deprecated and will be removed from pandas in a future version. Use pandas.concat instead.\n",
      "  self.past_df = self.past_df.append(self.df.iloc[0], ignore_index=True)\n",
      "C:\\Users\\hp\\AppData\\Local\\Temp\\ipykernel_2904\\365529943.py:940: FutureWarning: The frame.append method is deprecated and will be removed from pandas in a future version. Use pandas.concat instead.\n",
      "  self.df = self.df.append(row, ignore_index=True)\n",
      "C:\\Users\\hp\\AppData\\Local\\Temp\\ipykernel_2904\\365529943.py:946: FutureWarning: The frame.append method is deprecated and will be removed from pandas in a future version. Use pandas.concat instead.\n",
      "  self.past_df = self.past_df.append(self.df.iloc[0], ignore_index=True)\n",
      "C:\\Users\\hp\\AppData\\Local\\Temp\\ipykernel_2904\\365529943.py:940: FutureWarning: The frame.append method is deprecated and will be removed from pandas in a future version. Use pandas.concat instead.\n",
      "  self.df = self.df.append(row, ignore_index=True)\n",
      "C:\\Users\\hp\\AppData\\Local\\Temp\\ipykernel_2904\\365529943.py:946: FutureWarning: The frame.append method is deprecated and will be removed from pandas in a future version. Use pandas.concat instead.\n",
      "  self.past_df = self.past_df.append(self.df.iloc[0], ignore_index=True)\n"
     ]
    },
    {
     "name": "stdout",
     "output_type": "stream",
     "text": [
      "In Sell\n",
      "In Sell\n",
      "In Sell\n",
      "In Sell\n",
      "In Sell\n",
      "In Sell\n",
      "In Sell\n",
      "In Sell\n",
      "In Sell\n",
      "In Sell\n",
      "In Sell\n",
      "In Sell\n",
      "In Sell\n",
      "In Sell\n",
      "In Sell\n",
      "In Sell\n",
      "In Sell\n",
      "In Sell\n",
      "In Sell\n",
      "In Sell\n",
      "In Sell\n",
      "In Sell\n"
     ]
    },
    {
     "name": "stderr",
     "output_type": "stream",
     "text": [
      "C:\\Users\\hp\\AppData\\Local\\Temp\\ipykernel_2904\\365529943.py:940: FutureWarning: The frame.append method is deprecated and will be removed from pandas in a future version. Use pandas.concat instead.\n",
      "  self.df = self.df.append(row, ignore_index=True)\n",
      "C:\\Users\\hp\\AppData\\Local\\Temp\\ipykernel_2904\\365529943.py:946: FutureWarning: The frame.append method is deprecated and will be removed from pandas in a future version. Use pandas.concat instead.\n",
      "  self.past_df = self.past_df.append(self.df.iloc[0], ignore_index=True)\n",
      "C:\\Users\\hp\\AppData\\Local\\Temp\\ipykernel_2904\\365529943.py:940: FutureWarning: The frame.append method is deprecated and will be removed from pandas in a future version. Use pandas.concat instead.\n",
      "  self.df = self.df.append(row, ignore_index=True)\n",
      "C:\\Users\\hp\\AppData\\Local\\Temp\\ipykernel_2904\\365529943.py:946: FutureWarning: The frame.append method is deprecated and will be removed from pandas in a future version. Use pandas.concat instead.\n",
      "  self.past_df = self.past_df.append(self.df.iloc[0], ignore_index=True)\n"
     ]
    },
    {
     "name": "stdout",
     "output_type": "stream",
     "text": [
      "In Sell\n",
      "In Sell\n",
      "In Sell\n",
      "In Sell\n",
      "In Sell\n",
      "In Sell\n",
      "In Sell\n",
      "In Sell\n",
      "In Sell\n",
      "In Sell\n",
      "In Sell\n",
      "In Sell\n",
      "In Sell\n",
      "In Sell\n",
      "In Sell\n"
     ]
    },
    {
     "name": "stderr",
     "output_type": "stream",
     "text": [
      "C:\\Users\\hp\\AppData\\Local\\Temp\\ipykernel_2904\\365529943.py:940: FutureWarning: The frame.append method is deprecated and will be removed from pandas in a future version. Use pandas.concat instead.\n",
      "  self.df = self.df.append(row, ignore_index=True)\n",
      "C:\\Users\\hp\\AppData\\Local\\Temp\\ipykernel_2904\\365529943.py:946: FutureWarning: The frame.append method is deprecated and will be removed from pandas in a future version. Use pandas.concat instead.\n",
      "  self.past_df = self.past_df.append(self.df.iloc[0], ignore_index=True)\n",
      "C:\\Users\\hp\\AppData\\Local\\Temp\\ipykernel_2904\\365529943.py:940: FutureWarning: The frame.append method is deprecated and will be removed from pandas in a future version. Use pandas.concat instead.\n",
      "  self.df = self.df.append(row, ignore_index=True)\n",
      "C:\\Users\\hp\\AppData\\Local\\Temp\\ipykernel_2904\\365529943.py:946: FutureWarning: The frame.append method is deprecated and will be removed from pandas in a future version. Use pandas.concat instead.\n",
      "  self.past_df = self.past_df.append(self.df.iloc[0], ignore_index=True)\n"
     ]
    },
    {
     "name": "stdout",
     "output_type": "stream",
     "text": [
      "In Sell\n",
      "In Sell\n"
     ]
    },
    {
     "name": "stderr",
     "output_type": "stream",
     "text": [
      "C:\\Users\\hp\\AppData\\Local\\Temp\\ipykernel_2904\\365529943.py:940: FutureWarning: The frame.append method is deprecated and will be removed from pandas in a future version. Use pandas.concat instead.\n",
      "  self.df = self.df.append(row, ignore_index=True)\n",
      "C:\\Users\\hp\\AppData\\Local\\Temp\\ipykernel_2904\\365529943.py:946: FutureWarning: The frame.append method is deprecated and will be removed from pandas in a future version. Use pandas.concat instead.\n",
      "  self.past_df = self.past_df.append(self.df.iloc[0], ignore_index=True)\n",
      "C:\\Users\\hp\\AppData\\Local\\Temp\\ipykernel_2904\\365529943.py:940: FutureWarning: The frame.append method is deprecated and will be removed from pandas in a future version. Use pandas.concat instead.\n",
      "  self.df = self.df.append(row, ignore_index=True)\n",
      "C:\\Users\\hp\\AppData\\Local\\Temp\\ipykernel_2904\\365529943.py:946: FutureWarning: The frame.append method is deprecated and will be removed from pandas in a future version. Use pandas.concat instead.\n",
      "  self.past_df = self.past_df.append(self.df.iloc[0], ignore_index=True)\n"
     ]
    },
    {
     "name": "stdout",
     "output_type": "stream",
     "text": [
      "In Sell\n",
      "In Sell\n",
      "In Sell\n",
      "In Sell\n",
      "In Sell\n",
      "In Sell\n",
      "In Sell\n",
      "In Sell\n",
      "In Sell\n",
      "In Sell\n"
     ]
    },
    {
     "name": "stderr",
     "output_type": "stream",
     "text": [
      "C:\\Users\\hp\\AppData\\Local\\Temp\\ipykernel_2904\\365529943.py:940: FutureWarning: The frame.append method is deprecated and will be removed from pandas in a future version. Use pandas.concat instead.\n",
      "  self.df = self.df.append(row, ignore_index=True)\n",
      "C:\\Users\\hp\\AppData\\Local\\Temp\\ipykernel_2904\\365529943.py:946: FutureWarning: The frame.append method is deprecated and will be removed from pandas in a future version. Use pandas.concat instead.\n",
      "  self.past_df = self.past_df.append(self.df.iloc[0], ignore_index=True)\n",
      "C:\\Users\\hp\\AppData\\Local\\Temp\\ipykernel_2904\\365529943.py:940: FutureWarning: The frame.append method is deprecated and will be removed from pandas in a future version. Use pandas.concat instead.\n",
      "  self.df = self.df.append(row, ignore_index=True)\n",
      "C:\\Users\\hp\\AppData\\Local\\Temp\\ipykernel_2904\\365529943.py:946: FutureWarning: The frame.append method is deprecated and will be removed from pandas in a future version. Use pandas.concat instead.\n",
      "  self.past_df = self.past_df.append(self.df.iloc[0], ignore_index=True)\n"
     ]
    },
    {
     "name": "stdout",
     "output_type": "stream",
     "text": [
      "In Sell\n",
      "In Sell\n",
      "In Sell\n",
      "In Sell\n",
      "In Sell\n",
      "In Sell\n",
      "In Sell\n",
      "In Sell\n",
      "In Sell\n",
      "In Sell\n",
      "In Sell\n",
      "In Sell\n",
      "In Sell\n",
      "In Sell\n",
      "In Sell\n",
      "In Sell\n",
      "In Sell\n",
      "In Sell\n",
      "In Sell\n",
      "In Sell\n",
      "In Sell\n",
      "In Sell\n",
      "In Sell\n",
      "In Sell\n",
      "In Sell\n"
     ]
    },
    {
     "name": "stderr",
     "output_type": "stream",
     "text": [
      "C:\\Users\\hp\\AppData\\Local\\Temp\\ipykernel_2904\\365529943.py:940: FutureWarning: The frame.append method is deprecated and will be removed from pandas in a future version. Use pandas.concat instead.\n",
      "  self.df = self.df.append(row, ignore_index=True)\n",
      "C:\\Users\\hp\\AppData\\Local\\Temp\\ipykernel_2904\\365529943.py:946: FutureWarning: The frame.append method is deprecated and will be removed from pandas in a future version. Use pandas.concat instead.\n",
      "  self.past_df = self.past_df.append(self.df.iloc[0], ignore_index=True)\n"
     ]
    },
    {
     "name": "stdout",
     "output_type": "stream",
     "text": [
      "In Buy\n",
      "In red candle\n",
      "In Buy\n",
      "In a green candle\n",
      "In Buy\n",
      "In a green candle\n",
      "In Buy\n",
      "In red candle\n",
      "In Buy\n",
      "In a green candle\n",
      "In Buy\n",
      "In a green candle\n",
      "In TRG exit condition\n"
     ]
    },
    {
     "name": "stderr",
     "output_type": "stream",
     "text": [
      "C:\\Users\\hp\\AppData\\Local\\Temp\\ipykernel_2904\\365529943.py:940: FutureWarning: The frame.append method is deprecated and will be removed from pandas in a future version. Use pandas.concat instead.\n",
      "  self.df = self.df.append(row, ignore_index=True)\n",
      "C:\\Users\\hp\\AppData\\Local\\Temp\\ipykernel_2904\\365529943.py:946: FutureWarning: The frame.append method is deprecated and will be removed from pandas in a future version. Use pandas.concat instead.\n",
      "  self.past_df = self.past_df.append(self.df.iloc[0], ignore_index=True)\n"
     ]
    },
    {
     "name": "stdout",
     "output_type": "stream",
     "text": [
      "In Sell\n",
      "In Sell\n",
      "In Sell\n",
      "In Sell\n",
      "In Sell\n",
      "In Sell\n",
      "In Sell\n",
      "In Sell\n",
      "In Sell\n",
      "In Sell\n",
      "In Sell\n",
      "In Sell\n",
      "In Sell\n",
      "In Sell\n",
      "In Sell\n",
      "In Sell\n",
      "In Sell\n",
      "In Sell\n"
     ]
    },
    {
     "name": "stderr",
     "output_type": "stream",
     "text": [
      "C:\\Users\\hp\\AppData\\Local\\Temp\\ipykernel_2904\\365529943.py:940: FutureWarning: The frame.append method is deprecated and will be removed from pandas in a future version. Use pandas.concat instead.\n",
      "  self.df = self.df.append(row, ignore_index=True)\n",
      "C:\\Users\\hp\\AppData\\Local\\Temp\\ipykernel_2904\\365529943.py:946: FutureWarning: The frame.append method is deprecated and will be removed from pandas in a future version. Use pandas.concat instead.\n",
      "  self.past_df = self.past_df.append(self.df.iloc[0], ignore_index=True)\n",
      "C:\\Users\\hp\\AppData\\Local\\Temp\\ipykernel_2904\\365529943.py:940: FutureWarning: The frame.append method is deprecated and will be removed from pandas in a future version. Use pandas.concat instead.\n",
      "  self.df = self.df.append(row, ignore_index=True)\n",
      "C:\\Users\\hp\\AppData\\Local\\Temp\\ipykernel_2904\\365529943.py:946: FutureWarning: The frame.append method is deprecated and will be removed from pandas in a future version. Use pandas.concat instead.\n",
      "  self.past_df = self.past_df.append(self.df.iloc[0], ignore_index=True)\n"
     ]
    },
    {
     "name": "stdout",
     "output_type": "stream",
     "text": [
      "In Sell\n",
      "In Sell\n",
      "In Sell\n",
      "In Sell\n",
      "In Sell\n",
      "In Sell\n",
      "In Sell\n",
      "In Sell\n"
     ]
    },
    {
     "name": "stderr",
     "output_type": "stream",
     "text": [
      "C:\\Users\\hp\\AppData\\Local\\Temp\\ipykernel_2904\\365529943.py:940: FutureWarning: The frame.append method is deprecated and will be removed from pandas in a future version. Use pandas.concat instead.\n",
      "  self.df = self.df.append(row, ignore_index=True)\n",
      "C:\\Users\\hp\\AppData\\Local\\Temp\\ipykernel_2904\\365529943.py:946: FutureWarning: The frame.append method is deprecated and will be removed from pandas in a future version. Use pandas.concat instead.\n",
      "  self.past_df = self.past_df.append(self.df.iloc[0], ignore_index=True)\n",
      "C:\\Users\\hp\\AppData\\Local\\Temp\\ipykernel_2904\\365529943.py:940: FutureWarning: The frame.append method is deprecated and will be removed from pandas in a future version. Use pandas.concat instead.\n",
      "  self.df = self.df.append(row, ignore_index=True)\n",
      "C:\\Users\\hp\\AppData\\Local\\Temp\\ipykernel_2904\\365529943.py:946: FutureWarning: The frame.append method is deprecated and will be removed from pandas in a future version. Use pandas.concat instead.\n",
      "  self.past_df = self.past_df.append(self.df.iloc[0], ignore_index=True)\n",
      "C:\\Users\\hp\\AppData\\Local\\Temp\\ipykernel_2904\\365529943.py:940: FutureWarning: The frame.append method is deprecated and will be removed from pandas in a future version. Use pandas.concat instead.\n",
      "  self.df = self.df.append(row, ignore_index=True)\n",
      "C:\\Users\\hp\\AppData\\Local\\Temp\\ipykernel_2904\\365529943.py:946: FutureWarning: The frame.append method is deprecated and will be removed from pandas in a future version. Use pandas.concat instead.\n",
      "  self.past_df = self.past_df.append(self.df.iloc[0], ignore_index=True)\n"
     ]
    },
    {
     "name": "stdout",
     "output_type": "stream",
     "text": [
      "In Sell\n",
      "In Sell\n",
      "In Sell\n",
      "In Sell\n",
      "In Sell\n",
      "In Sell\n",
      "In Sell\n",
      "In Sell\n"
     ]
    },
    {
     "name": "stderr",
     "output_type": "stream",
     "text": [
      "C:\\Users\\hp\\AppData\\Local\\Temp\\ipykernel_2904\\365529943.py:940: FutureWarning: The frame.append method is deprecated and will be removed from pandas in a future version. Use pandas.concat instead.\n",
      "  self.df = self.df.append(row, ignore_index=True)\n",
      "C:\\Users\\hp\\AppData\\Local\\Temp\\ipykernel_2904\\365529943.py:946: FutureWarning: The frame.append method is deprecated and will be removed from pandas in a future version. Use pandas.concat instead.\n",
      "  self.past_df = self.past_df.append(self.df.iloc[0], ignore_index=True)\n"
     ]
    },
    {
     "name": "stdout",
     "output_type": "stream",
     "text": [
      "In Sell\n"
     ]
    },
    {
     "name": "stderr",
     "output_type": "stream",
     "text": [
      "C:\\Users\\hp\\AppData\\Local\\Temp\\ipykernel_2904\\365529943.py:940: FutureWarning: The frame.append method is deprecated and will be removed from pandas in a future version. Use pandas.concat instead.\n",
      "  self.df = self.df.append(row, ignore_index=True)\n",
      "C:\\Users\\hp\\AppData\\Local\\Temp\\ipykernel_2904\\365529943.py:946: FutureWarning: The frame.append method is deprecated and will be removed from pandas in a future version. Use pandas.concat instead.\n",
      "  self.past_df = self.past_df.append(self.df.iloc[0], ignore_index=True)\n"
     ]
    },
    {
     "name": "stdout",
     "output_type": "stream",
     "text": [
      "In Sell\n",
      "In Sell\n",
      "In Sell\n",
      "In Sell\n",
      "In Sell\n"
     ]
    },
    {
     "name": "stderr",
     "output_type": "stream",
     "text": [
      "C:\\Users\\hp\\AppData\\Local\\Temp\\ipykernel_2904\\365529943.py:940: FutureWarning: The frame.append method is deprecated and will be removed from pandas in a future version. Use pandas.concat instead.\n",
      "  self.df = self.df.append(row, ignore_index=True)\n",
      "C:\\Users\\hp\\AppData\\Local\\Temp\\ipykernel_2904\\365529943.py:946: FutureWarning: The frame.append method is deprecated and will be removed from pandas in a future version. Use pandas.concat instead.\n",
      "  self.past_df = self.past_df.append(self.df.iloc[0], ignore_index=True)\n"
     ]
    },
    {
     "name": "stdout",
     "output_type": "stream",
     "text": [
      "In Buy\n",
      "In red candle\n",
      "In Buy\n",
      "In a green candle\n",
      "In Buy\n",
      "In a green candle\n",
      "In Buy\n",
      "In red candle\n",
      "In Buy\n",
      "In a green candle\n",
      "In TRG exit condition\n"
     ]
    },
    {
     "name": "stderr",
     "output_type": "stream",
     "text": [
      "C:\\Users\\hp\\AppData\\Local\\Temp\\ipykernel_2904\\365529943.py:940: FutureWarning: The frame.append method is deprecated and will be removed from pandas in a future version. Use pandas.concat instead.\n",
      "  self.df = self.df.append(row, ignore_index=True)\n",
      "C:\\Users\\hp\\AppData\\Local\\Temp\\ipykernel_2904\\365529943.py:946: FutureWarning: The frame.append method is deprecated and will be removed from pandas in a future version. Use pandas.concat instead.\n",
      "  self.past_df = self.past_df.append(self.df.iloc[0], ignore_index=True)\n"
     ]
    },
    {
     "name": "stdout",
     "output_type": "stream",
     "text": [
      "In Buy\n",
      "In red candle\n",
      "In Buy\n",
      "In a green candle\n",
      "In Buy\n",
      "In a green candle\n",
      "In Buy\n",
      "In a green candle\n",
      "In Buy\n",
      "In a green candle\n",
      "In Buy\n",
      "In red candle\n",
      "In Buy\n",
      "In red candle\n",
      "In Buy\n",
      "In a green candle\n",
      "In Buy\n",
      "In red candle\n",
      "In Buy\n",
      "In a green candle\n",
      "In Buy\n",
      "In red candle\n",
      "In SL Condition\n"
     ]
    },
    {
     "name": "stderr",
     "output_type": "stream",
     "text": [
      "C:\\Users\\hp\\AppData\\Local\\Temp\\ipykernel_2904\\365529943.py:940: FutureWarning: The frame.append method is deprecated and will be removed from pandas in a future version. Use pandas.concat instead.\n",
      "  self.df = self.df.append(row, ignore_index=True)\n",
      "C:\\Users\\hp\\AppData\\Local\\Temp\\ipykernel_2904\\365529943.py:946: FutureWarning: The frame.append method is deprecated and will be removed from pandas in a future version. Use pandas.concat instead.\n",
      "  self.past_df = self.past_df.append(self.df.iloc[0], ignore_index=True)\n"
     ]
    },
    {
     "name": "stdout",
     "output_type": "stream",
     "text": [
      "In Sell\n",
      "In Sell\n",
      "In Sell\n",
      "In Sell\n",
      "In Sell\n"
     ]
    },
    {
     "name": "stderr",
     "output_type": "stream",
     "text": [
      "C:\\Users\\hp\\AppData\\Local\\Temp\\ipykernel_2904\\365529943.py:940: FutureWarning: The frame.append method is deprecated and will be removed from pandas in a future version. Use pandas.concat instead.\n",
      "  self.df = self.df.append(row, ignore_index=True)\n",
      "C:\\Users\\hp\\AppData\\Local\\Temp\\ipykernel_2904\\365529943.py:946: FutureWarning: The frame.append method is deprecated and will be removed from pandas in a future version. Use pandas.concat instead.\n",
      "  self.past_df = self.past_df.append(self.df.iloc[0], ignore_index=True)\n",
      "C:\\Users\\hp\\AppData\\Local\\Temp\\ipykernel_2904\\365529943.py:940: FutureWarning: The frame.append method is deprecated and will be removed from pandas in a future version. Use pandas.concat instead.\n",
      "  self.df = self.df.append(row, ignore_index=True)\n",
      "C:\\Users\\hp\\AppData\\Local\\Temp\\ipykernel_2904\\365529943.py:946: FutureWarning: The frame.append method is deprecated and will be removed from pandas in a future version. Use pandas.concat instead.\n",
      "  self.past_df = self.past_df.append(self.df.iloc[0], ignore_index=True)\n"
     ]
    },
    {
     "name": "stdout",
     "output_type": "stream",
     "text": [
      "In Sell\n",
      "In Sell\n",
      "In Sell\n",
      "In Sell\n",
      "In Sell\n",
      "In Sell\n",
      "In Sell\n",
      "In Sell\n",
      "In Sell\n"
     ]
    },
    {
     "name": "stderr",
     "output_type": "stream",
     "text": [
      "C:\\Users\\hp\\AppData\\Local\\Temp\\ipykernel_2904\\365529943.py:940: FutureWarning: The frame.append method is deprecated and will be removed from pandas in a future version. Use pandas.concat instead.\n",
      "  self.df = self.df.append(row, ignore_index=True)\n",
      "C:\\Users\\hp\\AppData\\Local\\Temp\\ipykernel_2904\\365529943.py:946: FutureWarning: The frame.append method is deprecated and will be removed from pandas in a future version. Use pandas.concat instead.\n",
      "  self.past_df = self.past_df.append(self.df.iloc[0], ignore_index=True)\n",
      "C:\\Users\\hp\\AppData\\Local\\Temp\\ipykernel_2904\\365529943.py:940: FutureWarning: The frame.append method is deprecated and will be removed from pandas in a future version. Use pandas.concat instead.\n",
      "  self.df = self.df.append(row, ignore_index=True)\n",
      "C:\\Users\\hp\\AppData\\Local\\Temp\\ipykernel_2904\\365529943.py:946: FutureWarning: The frame.append method is deprecated and will be removed from pandas in a future version. Use pandas.concat instead.\n",
      "  self.past_df = self.past_df.append(self.df.iloc[0], ignore_index=True)\n"
     ]
    },
    {
     "name": "stdout",
     "output_type": "stream",
     "text": [
      "In Sell\n",
      "In Sell\n"
     ]
    },
    {
     "name": "stderr",
     "output_type": "stream",
     "text": [
      "C:\\Users\\hp\\AppData\\Local\\Temp\\ipykernel_2904\\365529943.py:940: FutureWarning: The frame.append method is deprecated and will be removed from pandas in a future version. Use pandas.concat instead.\n",
      "  self.df = self.df.append(row, ignore_index=True)\n",
      "C:\\Users\\hp\\AppData\\Local\\Temp\\ipykernel_2904\\365529943.py:946: FutureWarning: The frame.append method is deprecated and will be removed from pandas in a future version. Use pandas.concat instead.\n",
      "  self.past_df = self.past_df.append(self.df.iloc[0], ignore_index=True)\n"
     ]
    },
    {
     "name": "stdout",
     "output_type": "stream",
     "text": [
      "In Sell\n",
      "In Sell\n",
      "In Sell\n",
      "In Sell\n"
     ]
    },
    {
     "name": "stderr",
     "output_type": "stream",
     "text": [
      "C:\\Users\\hp\\AppData\\Local\\Temp\\ipykernel_2904\\365529943.py:940: FutureWarning: The frame.append method is deprecated and will be removed from pandas in a future version. Use pandas.concat instead.\n",
      "  self.df = self.df.append(row, ignore_index=True)\n",
      "C:\\Users\\hp\\AppData\\Local\\Temp\\ipykernel_2904\\365529943.py:946: FutureWarning: The frame.append method is deprecated and will be removed from pandas in a future version. Use pandas.concat instead.\n",
      "  self.past_df = self.past_df.append(self.df.iloc[0], ignore_index=True)\n",
      "C:\\Users\\hp\\AppData\\Local\\Temp\\ipykernel_2904\\365529943.py:940: FutureWarning: The frame.append method is deprecated and will be removed from pandas in a future version. Use pandas.concat instead.\n",
      "  self.df = self.df.append(row, ignore_index=True)\n",
      "C:\\Users\\hp\\AppData\\Local\\Temp\\ipykernel_2904\\365529943.py:946: FutureWarning: The frame.append method is deprecated and will be removed from pandas in a future version. Use pandas.concat instead.\n",
      "  self.past_df = self.past_df.append(self.df.iloc[0], ignore_index=True)\n"
     ]
    },
    {
     "name": "stdout",
     "output_type": "stream",
     "text": [
      "In Sell\n",
      "In Sell\n",
      "In Sell\n",
      "In Sell\n",
      "In Sell\n",
      "In Sell\n",
      "In Sell\n",
      "In Sell\n",
      "In Sell\n",
      "In Sell\n",
      "In Sell\n",
      "In Sell\n",
      "In Sell\n",
      "In Sell\n",
      "In Sell\n",
      "In Sell\n"
     ]
    },
    {
     "name": "stderr",
     "output_type": "stream",
     "text": [
      "C:\\Users\\hp\\AppData\\Local\\Temp\\ipykernel_2904\\365529943.py:940: FutureWarning: The frame.append method is deprecated and will be removed from pandas in a future version. Use pandas.concat instead.\n",
      "  self.df = self.df.append(row, ignore_index=True)\n",
      "C:\\Users\\hp\\AppData\\Local\\Temp\\ipykernel_2904\\365529943.py:946: FutureWarning: The frame.append method is deprecated and will be removed from pandas in a future version. Use pandas.concat instead.\n",
      "  self.past_df = self.past_df.append(self.df.iloc[0], ignore_index=True)\n"
     ]
    },
    {
     "name": "stdout",
     "output_type": "stream",
     "text": [
      "In Sell\n",
      "In Sell\n",
      "In Sell\n",
      "In Sell\n",
      "In Sell\n",
      "In Sell\n",
      "In Sell\n",
      "In Sell\n",
      "In Sell\n"
     ]
    },
    {
     "name": "stderr",
     "output_type": "stream",
     "text": [
      "C:\\Users\\hp\\AppData\\Local\\Temp\\ipykernel_2904\\365529943.py:940: FutureWarning: The frame.append method is deprecated and will be removed from pandas in a future version. Use pandas.concat instead.\n",
      "  self.df = self.df.append(row, ignore_index=True)\n",
      "C:\\Users\\hp\\AppData\\Local\\Temp\\ipykernel_2904\\365529943.py:946: FutureWarning: The frame.append method is deprecated and will be removed from pandas in a future version. Use pandas.concat instead.\n",
      "  self.past_df = self.past_df.append(self.df.iloc[0], ignore_index=True)\n"
     ]
    },
    {
     "name": "stdout",
     "output_type": "stream",
     "text": [
      "In Buy\n",
      "In red candle\n",
      "In Buy\n",
      "In a green candle\n",
      "In Buy\n",
      "In a green candle\n",
      "In Buy\n",
      "In red candle\n",
      "In Buy\n",
      "In a green candle\n",
      "In Buy\n",
      "In red candle\n",
      "In Buy\n",
      "In red candle\n",
      "In Buy\n",
      "In a green candle\n",
      "In Buy\n",
      "In red candle\n",
      "In Buy\n",
      "In red candle\n",
      "In Buy\n",
      "In red candle\n",
      "In Buy\n",
      "In a green candle\n",
      "In Buy\n",
      "In a green candle\n",
      "In Buy\n",
      "In red candle\n",
      "In Buy\n",
      "In a green candle\n",
      "In Buy\n",
      "In a green candle\n",
      "In Buy\n",
      "In red candle\n",
      "In Buy\n",
      "In a green candle\n",
      "In Buy\n",
      "In red candle\n",
      "In Buy\n",
      "In red candle\n",
      "In Buy\n",
      "In red candle\n",
      "In Buy\n",
      "In a green candle\n",
      "In Buy\n",
      "In a green candle\n",
      "In Buy\n",
      "In a green candle\n",
      "In Buy\n",
      "In a green candle\n",
      "In Buy\n",
      "In red candle\n",
      "In Buy\n",
      "In red candle\n",
      "In Buy\n",
      "In red candle\n",
      "In Buy\n",
      "In red candle\n",
      "In Buy\n",
      "In red candle\n",
      "In Buy\n",
      "In red candle\n",
      "In Buy\n",
      "In a green candle\n",
      "In Buy\n",
      "In red candle\n",
      "In Buy\n",
      "In red candle\n",
      "In Buy\n",
      "In a green candle\n",
      "In Buy\n",
      "In a green candle\n",
      "In SL Condition\n"
     ]
    },
    {
     "name": "stderr",
     "output_type": "stream",
     "text": [
      "C:\\Users\\hp\\AppData\\Local\\Temp\\ipykernel_2904\\365529943.py:940: FutureWarning: The frame.append method is deprecated and will be removed from pandas in a future version. Use pandas.concat instead.\n",
      "  self.df = self.df.append(row, ignore_index=True)\n",
      "C:\\Users\\hp\\AppData\\Local\\Temp\\ipykernel_2904\\365529943.py:946: FutureWarning: The frame.append method is deprecated and will be removed from pandas in a future version. Use pandas.concat instead.\n",
      "  self.past_df = self.past_df.append(self.df.iloc[0], ignore_index=True)\n",
      "C:\\Users\\hp\\AppData\\Local\\Temp\\ipykernel_2904\\365529943.py:940: FutureWarning: The frame.append method is deprecated and will be removed from pandas in a future version. Use pandas.concat instead.\n",
      "  self.df = self.df.append(row, ignore_index=True)\n",
      "C:\\Users\\hp\\AppData\\Local\\Temp\\ipykernel_2904\\365529943.py:946: FutureWarning: The frame.append method is deprecated and will be removed from pandas in a future version. Use pandas.concat instead.\n",
      "  self.past_df = self.past_df.append(self.df.iloc[0], ignore_index=True)\n"
     ]
    },
    {
     "name": "stdout",
     "output_type": "stream",
     "text": [
      "In Sell\n",
      "In Sell\n",
      "In Sell\n",
      "In Sell\n",
      "In Sell\n",
      "In Sell\n"
     ]
    },
    {
     "name": "stderr",
     "output_type": "stream",
     "text": [
      "C:\\Users\\hp\\AppData\\Local\\Temp\\ipykernel_2904\\365529943.py:940: FutureWarning: The frame.append method is deprecated and will be removed from pandas in a future version. Use pandas.concat instead.\n",
      "  self.df = self.df.append(row, ignore_index=True)\n",
      "C:\\Users\\hp\\AppData\\Local\\Temp\\ipykernel_2904\\365529943.py:946: FutureWarning: The frame.append method is deprecated and will be removed from pandas in a future version. Use pandas.concat instead.\n",
      "  self.past_df = self.past_df.append(self.df.iloc[0], ignore_index=True)\n"
     ]
    },
    {
     "name": "stdout",
     "output_type": "stream",
     "text": [
      "In Sell\n",
      "In Sell\n",
      "In Sell\n",
      "In Sell\n",
      "In Sell\n",
      "In Sell\n",
      "In Sell\n",
      "In Sell\n"
     ]
    },
    {
     "name": "stderr",
     "output_type": "stream",
     "text": [
      "C:\\Users\\hp\\AppData\\Local\\Temp\\ipykernel_2904\\365529943.py:940: FutureWarning: The frame.append method is deprecated and will be removed from pandas in a future version. Use pandas.concat instead.\n",
      "  self.df = self.df.append(row, ignore_index=True)\n",
      "C:\\Users\\hp\\AppData\\Local\\Temp\\ipykernel_2904\\365529943.py:946: FutureWarning: The frame.append method is deprecated and will be removed from pandas in a future version. Use pandas.concat instead.\n",
      "  self.past_df = self.past_df.append(self.df.iloc[0], ignore_index=True)\n",
      "C:\\Users\\hp\\AppData\\Local\\Temp\\ipykernel_2904\\365529943.py:940: FutureWarning: The frame.append method is deprecated and will be removed from pandas in a future version. Use pandas.concat instead.\n",
      "  self.df = self.df.append(row, ignore_index=True)\n",
      "C:\\Users\\hp\\AppData\\Local\\Temp\\ipykernel_2904\\365529943.py:946: FutureWarning: The frame.append method is deprecated and will be removed from pandas in a future version. Use pandas.concat instead.\n",
      "  self.past_df = self.past_df.append(self.df.iloc[0], ignore_index=True)\n"
     ]
    },
    {
     "name": "stdout",
     "output_type": "stream",
     "text": [
      "In Sell\n",
      "In Sell\n",
      "In Sell\n",
      "In Sell\n",
      "In Sell\n",
      "In Sell\n",
      "In Sell\n",
      "In Sell\n",
      "In Sell\n",
      "In Sell\n"
     ]
    },
    {
     "name": "stderr",
     "output_type": "stream",
     "text": [
      "C:\\Users\\hp\\AppData\\Local\\Temp\\ipykernel_2904\\365529943.py:940: FutureWarning: The frame.append method is deprecated and will be removed from pandas in a future version. Use pandas.concat instead.\n",
      "  self.df = self.df.append(row, ignore_index=True)\n",
      "C:\\Users\\hp\\AppData\\Local\\Temp\\ipykernel_2904\\365529943.py:946: FutureWarning: The frame.append method is deprecated and will be removed from pandas in a future version. Use pandas.concat instead.\n",
      "  self.past_df = self.past_df.append(self.df.iloc[0], ignore_index=True)\n"
     ]
    },
    {
     "name": "stdout",
     "output_type": "stream",
     "text": [
      "In Sell\n",
      "In Sell\n"
     ]
    },
    {
     "name": "stderr",
     "output_type": "stream",
     "text": [
      "C:\\Users\\hp\\AppData\\Local\\Temp\\ipykernel_2904\\365529943.py:940: FutureWarning: The frame.append method is deprecated and will be removed from pandas in a future version. Use pandas.concat instead.\n",
      "  self.df = self.df.append(row, ignore_index=True)\n",
      "C:\\Users\\hp\\AppData\\Local\\Temp\\ipykernel_2904\\365529943.py:946: FutureWarning: The frame.append method is deprecated and will be removed from pandas in a future version. Use pandas.concat instead.\n",
      "  self.past_df = self.past_df.append(self.df.iloc[0], ignore_index=True)\n"
     ]
    },
    {
     "name": "stdout",
     "output_type": "stream",
     "text": [
      "In Sell\n",
      "In Sell\n",
      "In Sell\n",
      "In Sell\n",
      "In Sell\n",
      "In Sell\n",
      "In Sell\n",
      "In Sell\n",
      "In Sell\n",
      "In Sell\n",
      "In Sell\n",
      "In Sell\n",
      "In Sell\n",
      "In Sell\n",
      "In Sell\n",
      "In Sell\n",
      "In Sell\n",
      "In Sell\n",
      "In Sell\n",
      "In Sell\n",
      "In Sell\n",
      "In Sell\n",
      "In Sell\n",
      "In Sell\n",
      "In Sell\n",
      "In Sell\n"
     ]
    },
    {
     "name": "stderr",
     "output_type": "stream",
     "text": [
      "C:\\Users\\hp\\AppData\\Local\\Temp\\ipykernel_2904\\365529943.py:940: FutureWarning: The frame.append method is deprecated and will be removed from pandas in a future version. Use pandas.concat instead.\n",
      "  self.df = self.df.append(row, ignore_index=True)\n",
      "C:\\Users\\hp\\AppData\\Local\\Temp\\ipykernel_2904\\365529943.py:946: FutureWarning: The frame.append method is deprecated and will be removed from pandas in a future version. Use pandas.concat instead.\n",
      "  self.past_df = self.past_df.append(self.df.iloc[0], ignore_index=True)\n"
     ]
    },
    {
     "name": "stdout",
     "output_type": "stream",
     "text": [
      "In Sell\n",
      "In Sell\n",
      "In Sell\n",
      "In Sell\n",
      "In Sell\n",
      "In Sell\n",
      "In Sell\n",
      "In Sell\n"
     ]
    },
    {
     "name": "stderr",
     "output_type": "stream",
     "text": [
      "C:\\Users\\hp\\AppData\\Local\\Temp\\ipykernel_2904\\365529943.py:940: FutureWarning: The frame.append method is deprecated and will be removed from pandas in a future version. Use pandas.concat instead.\n",
      "  self.df = self.df.append(row, ignore_index=True)\n",
      "C:\\Users\\hp\\AppData\\Local\\Temp\\ipykernel_2904\\365529943.py:946: FutureWarning: The frame.append method is deprecated and will be removed from pandas in a future version. Use pandas.concat instead.\n",
      "  self.past_df = self.past_df.append(self.df.iloc[0], ignore_index=True)\n",
      "C:\\Users\\hp\\AppData\\Local\\Temp\\ipykernel_2904\\365529943.py:940: FutureWarning: The frame.append method is deprecated and will be removed from pandas in a future version. Use pandas.concat instead.\n",
      "  self.df = self.df.append(row, ignore_index=True)\n",
      "C:\\Users\\hp\\AppData\\Local\\Temp\\ipykernel_2904\\365529943.py:946: FutureWarning: The frame.append method is deprecated and will be removed from pandas in a future version. Use pandas.concat instead.\n",
      "  self.past_df = self.past_df.append(self.df.iloc[0], ignore_index=True)\n"
     ]
    },
    {
     "name": "stdout",
     "output_type": "stream",
     "text": [
      "In Sell\n",
      "In Sell\n",
      "In Sell\n",
      "In Sell\n",
      "In Sell\n",
      "In Sell\n",
      "In Sell\n",
      "In Sell\n"
     ]
    },
    {
     "name": "stderr",
     "output_type": "stream",
     "text": [
      "C:\\Users\\hp\\AppData\\Local\\Temp\\ipykernel_2904\\365529943.py:940: FutureWarning: The frame.append method is deprecated and will be removed from pandas in a future version. Use pandas.concat instead.\n",
      "  self.df = self.df.append(row, ignore_index=True)\n",
      "C:\\Users\\hp\\AppData\\Local\\Temp\\ipykernel_2904\\365529943.py:946: FutureWarning: The frame.append method is deprecated and will be removed from pandas in a future version. Use pandas.concat instead.\n",
      "  self.past_df = self.past_df.append(self.df.iloc[0], ignore_index=True)\n"
     ]
    },
    {
     "name": "stdout",
     "output_type": "stream",
     "text": [
      "In Sell\n",
      "In Sell\n",
      "In Sell\n",
      "In Sell\n",
      "In Sell\n"
     ]
    },
    {
     "name": "stderr",
     "output_type": "stream",
     "text": [
      "C:\\Users\\hp\\AppData\\Local\\Temp\\ipykernel_2904\\365529943.py:940: FutureWarning: The frame.append method is deprecated and will be removed from pandas in a future version. Use pandas.concat instead.\n",
      "  self.df = self.df.append(row, ignore_index=True)\n",
      "C:\\Users\\hp\\AppData\\Local\\Temp\\ipykernel_2904\\365529943.py:946: FutureWarning: The frame.append method is deprecated and will be removed from pandas in a future version. Use pandas.concat instead.\n",
      "  self.past_df = self.past_df.append(self.df.iloc[0], ignore_index=True)\n"
     ]
    },
    {
     "name": "stdout",
     "output_type": "stream",
     "text": [
      "In Sell\n"
     ]
    },
    {
     "name": "stderr",
     "output_type": "stream",
     "text": [
      "C:\\Users\\hp\\AppData\\Local\\Temp\\ipykernel_2904\\365529943.py:940: FutureWarning: The frame.append method is deprecated and will be removed from pandas in a future version. Use pandas.concat instead.\n",
      "  self.df = self.df.append(row, ignore_index=True)\n",
      "C:\\Users\\hp\\AppData\\Local\\Temp\\ipykernel_2904\\365529943.py:946: FutureWarning: The frame.append method is deprecated and will be removed from pandas in a future version. Use pandas.concat instead.\n",
      "  self.past_df = self.past_df.append(self.df.iloc[0], ignore_index=True)\n"
     ]
    },
    {
     "name": "stdout",
     "output_type": "stream",
     "text": [
      "In Sell\n",
      "In Sell\n",
      "In Sell\n"
     ]
    },
    {
     "name": "stderr",
     "output_type": "stream",
     "text": [
      "C:\\Users\\hp\\AppData\\Local\\Temp\\ipykernel_2904\\365529943.py:940: FutureWarning: The frame.append method is deprecated and will be removed from pandas in a future version. Use pandas.concat instead.\n",
      "  self.df = self.df.append(row, ignore_index=True)\n",
      "C:\\Users\\hp\\AppData\\Local\\Temp\\ipykernel_2904\\365529943.py:946: FutureWarning: The frame.append method is deprecated and will be removed from pandas in a future version. Use pandas.concat instead.\n",
      "  self.past_df = self.past_df.append(self.df.iloc[0], ignore_index=True)\n"
     ]
    },
    {
     "name": "stdout",
     "output_type": "stream",
     "text": [
      "In Sell\n",
      "In Sell\n",
      "In Sell\n"
     ]
    },
    {
     "name": "stderr",
     "output_type": "stream",
     "text": [
      "C:\\Users\\hp\\AppData\\Local\\Temp\\ipykernel_2904\\365529943.py:940: FutureWarning: The frame.append method is deprecated and will be removed from pandas in a future version. Use pandas.concat instead.\n",
      "  self.df = self.df.append(row, ignore_index=True)\n",
      "C:\\Users\\hp\\AppData\\Local\\Temp\\ipykernel_2904\\365529943.py:946: FutureWarning: The frame.append method is deprecated and will be removed from pandas in a future version. Use pandas.concat instead.\n",
      "  self.past_df = self.past_df.append(self.df.iloc[0], ignore_index=True)\n"
     ]
    },
    {
     "name": "stdout",
     "output_type": "stream",
     "text": [
      "In Buy\n",
      "In red candle\n",
      "In Buy\n",
      "In red candle\n",
      "In SL Condition\n"
     ]
    },
    {
     "name": "stderr",
     "output_type": "stream",
     "text": [
      "C:\\Users\\hp\\AppData\\Local\\Temp\\ipykernel_2904\\365529943.py:940: FutureWarning: The frame.append method is deprecated and will be removed from pandas in a future version. Use pandas.concat instead.\n",
      "  self.df = self.df.append(row, ignore_index=True)\n",
      "C:\\Users\\hp\\AppData\\Local\\Temp\\ipykernel_2904\\365529943.py:946: FutureWarning: The frame.append method is deprecated and will be removed from pandas in a future version. Use pandas.concat instead.\n",
      "  self.past_df = self.past_df.append(self.df.iloc[0], ignore_index=True)\n"
     ]
    },
    {
     "name": "stdout",
     "output_type": "stream",
     "text": [
      "In Buy\n",
      "In red candle\n",
      "In Buy\n",
      "In red candle\n",
      "In Buy\n",
      "In a green candle\n",
      "In Buy\n",
      "In red candle\n",
      "In Buy\n",
      "In red candle\n",
      "In Buy\n",
      "In a green candle\n",
      "In Buy\n",
      "In red candle\n",
      "In Buy\n",
      "In a green candle\n",
      "In Buy\n",
      "In a green candle\n",
      "In Buy\n",
      "In red candle\n",
      "In Buy\n",
      "In a green candle\n",
      "In Buy\n",
      "In a green candle\n",
      "In Buy\n",
      "In red candle\n",
      "In SL Condition\n"
     ]
    },
    {
     "name": "stderr",
     "output_type": "stream",
     "text": [
      "C:\\Users\\hp\\AppData\\Local\\Temp\\ipykernel_2904\\365529943.py:940: FutureWarning: The frame.append method is deprecated and will be removed from pandas in a future version. Use pandas.concat instead.\n",
      "  self.df = self.df.append(row, ignore_index=True)\n",
      "C:\\Users\\hp\\AppData\\Local\\Temp\\ipykernel_2904\\365529943.py:946: FutureWarning: The frame.append method is deprecated and will be removed from pandas in a future version. Use pandas.concat instead.\n",
      "  self.past_df = self.past_df.append(self.df.iloc[0], ignore_index=True)\n"
     ]
    },
    {
     "name": "stdout",
     "output_type": "stream",
     "text": [
      "In Buy\n",
      "In a green candle\n",
      "In Buy\n",
      "In red candle\n",
      "In Buy\n",
      "In red candle\n",
      "In SL Condition\n"
     ]
    },
    {
     "name": "stderr",
     "output_type": "stream",
     "text": [
      "C:\\Users\\hp\\AppData\\Local\\Temp\\ipykernel_2904\\365529943.py:940: FutureWarning: The frame.append method is deprecated and will be removed from pandas in a future version. Use pandas.concat instead.\n",
      "  self.df = self.df.append(row, ignore_index=True)\n",
      "C:\\Users\\hp\\AppData\\Local\\Temp\\ipykernel_2904\\365529943.py:946: FutureWarning: The frame.append method is deprecated and will be removed from pandas in a future version. Use pandas.concat instead.\n",
      "  self.past_df = self.past_df.append(self.df.iloc[0], ignore_index=True)\n"
     ]
    },
    {
     "name": "stdout",
     "output_type": "stream",
     "text": [
      "In Buy\n",
      "In red candle\n",
      "In Buy\n",
      "In a green candle\n",
      "In Buy\n",
      "In a green candle\n",
      "In Buy\n",
      "In red candle\n",
      "In Buy\n",
      "In a green candle\n",
      "In Buy\n",
      "In red candle\n",
      "In Buy\n",
      "In red candle\n",
      "In SL Condition\n"
     ]
    },
    {
     "name": "stderr",
     "output_type": "stream",
     "text": [
      "C:\\Users\\hp\\AppData\\Local\\Temp\\ipykernel_2904\\365529943.py:940: FutureWarning: The frame.append method is deprecated and will be removed from pandas in a future version. Use pandas.concat instead.\n",
      "  self.df = self.df.append(row, ignore_index=True)\n",
      "C:\\Users\\hp\\AppData\\Local\\Temp\\ipykernel_2904\\365529943.py:946: FutureWarning: The frame.append method is deprecated and will be removed from pandas in a future version. Use pandas.concat instead.\n",
      "  self.past_df = self.past_df.append(self.df.iloc[0], ignore_index=True)\n"
     ]
    },
    {
     "name": "stdout",
     "output_type": "stream",
     "text": [
      "In Sell\n",
      "In Sell\n",
      "In Sell\n",
      "In Sell\n",
      "In Sell\n",
      "In Sell\n",
      "In Sell\n"
     ]
    },
    {
     "name": "stderr",
     "output_type": "stream",
     "text": [
      "C:\\Users\\hp\\AppData\\Local\\Temp\\ipykernel_2904\\365529943.py:940: FutureWarning: The frame.append method is deprecated and will be removed from pandas in a future version. Use pandas.concat instead.\n",
      "  self.df = self.df.append(row, ignore_index=True)\n",
      "C:\\Users\\hp\\AppData\\Local\\Temp\\ipykernel_2904\\365529943.py:946: FutureWarning: The frame.append method is deprecated and will be removed from pandas in a future version. Use pandas.concat instead.\n",
      "  self.past_df = self.past_df.append(self.df.iloc[0], ignore_index=True)\n",
      "C:\\Users\\hp\\AppData\\Local\\Temp\\ipykernel_2904\\365529943.py:940: FutureWarning: The frame.append method is deprecated and will be removed from pandas in a future version. Use pandas.concat instead.\n",
      "  self.df = self.df.append(row, ignore_index=True)\n",
      "C:\\Users\\hp\\AppData\\Local\\Temp\\ipykernel_2904\\365529943.py:946: FutureWarning: The frame.append method is deprecated and will be removed from pandas in a future version. Use pandas.concat instead.\n",
      "  self.past_df = self.past_df.append(self.df.iloc[0], ignore_index=True)\n"
     ]
    },
    {
     "name": "stdout",
     "output_type": "stream",
     "text": [
      "In Sell\n",
      "In Sell\n",
      "In Sell\n",
      "In Sell\n",
      "In Sell\n"
     ]
    },
    {
     "name": "stderr",
     "output_type": "stream",
     "text": [
      "C:\\Users\\hp\\AppData\\Local\\Temp\\ipykernel_2904\\365529943.py:940: FutureWarning: The frame.append method is deprecated and will be removed from pandas in a future version. Use pandas.concat instead.\n",
      "  self.df = self.df.append(row, ignore_index=True)\n",
      "C:\\Users\\hp\\AppData\\Local\\Temp\\ipykernel_2904\\365529943.py:946: FutureWarning: The frame.append method is deprecated and will be removed from pandas in a future version. Use pandas.concat instead.\n",
      "  self.past_df = self.past_df.append(self.df.iloc[0], ignore_index=True)\n",
      "C:\\Users\\hp\\AppData\\Local\\Temp\\ipykernel_2904\\365529943.py:940: FutureWarning: The frame.append method is deprecated and will be removed from pandas in a future version. Use pandas.concat instead.\n",
      "  self.df = self.df.append(row, ignore_index=True)\n",
      "C:\\Users\\hp\\AppData\\Local\\Temp\\ipykernel_2904\\365529943.py:946: FutureWarning: The frame.append method is deprecated and will be removed from pandas in a future version. Use pandas.concat instead.\n",
      "  self.past_df = self.past_df.append(self.df.iloc[0], ignore_index=True)\n"
     ]
    },
    {
     "name": "stdout",
     "output_type": "stream",
     "text": [
      "In Sell\n",
      "In Sell\n",
      "In Sell\n",
      "In Sell\n",
      "In Sell\n",
      "In Sell\n"
     ]
    },
    {
     "name": "stderr",
     "output_type": "stream",
     "text": [
      "C:\\Users\\hp\\AppData\\Local\\Temp\\ipykernel_2904\\365529943.py:940: FutureWarning: The frame.append method is deprecated and will be removed from pandas in a future version. Use pandas.concat instead.\n",
      "  self.df = self.df.append(row, ignore_index=True)\n",
      "C:\\Users\\hp\\AppData\\Local\\Temp\\ipykernel_2904\\365529943.py:946: FutureWarning: The frame.append method is deprecated and will be removed from pandas in a future version. Use pandas.concat instead.\n",
      "  self.past_df = self.past_df.append(self.df.iloc[0], ignore_index=True)\n"
     ]
    },
    {
     "name": "stdout",
     "output_type": "stream",
     "text": [
      "In Buy\n",
      "In red candle\n",
      "In Buy\n",
      "In a green candle\n",
      "In Buy\n",
      "In a green candle\n",
      "In Buy\n",
      "In a green candle\n",
      "In Buy\n",
      "In red candle\n",
      "In Buy\n",
      "In red candle\n",
      "In Buy\n",
      "In a green candle\n",
      "In Buy\n",
      "In red candle\n",
      "In Buy\n",
      "In red candle\n",
      "In Buy\n",
      "In red candle\n",
      "In Buy\n",
      "In a green candle\n",
      "In Buy\n",
      "In red candle\n",
      "In SL Condition\n"
     ]
    },
    {
     "name": "stderr",
     "output_type": "stream",
     "text": [
      "C:\\Users\\hp\\AppData\\Local\\Temp\\ipykernel_2904\\365529943.py:940: FutureWarning: The frame.append method is deprecated and will be removed from pandas in a future version. Use pandas.concat instead.\n",
      "  self.df = self.df.append(row, ignore_index=True)\n",
      "C:\\Users\\hp\\AppData\\Local\\Temp\\ipykernel_2904\\365529943.py:946: FutureWarning: The frame.append method is deprecated and will be removed from pandas in a future version. Use pandas.concat instead.\n",
      "  self.past_df = self.past_df.append(self.df.iloc[0], ignore_index=True)\n",
      "C:\\Users\\hp\\AppData\\Local\\Temp\\ipykernel_2904\\365529943.py:940: FutureWarning: The frame.append method is deprecated and will be removed from pandas in a future version. Use pandas.concat instead.\n",
      "  self.df = self.df.append(row, ignore_index=True)\n",
      "C:\\Users\\hp\\AppData\\Local\\Temp\\ipykernel_2904\\365529943.py:946: FutureWarning: The frame.append method is deprecated and will be removed from pandas in a future version. Use pandas.concat instead.\n",
      "  self.past_df = self.past_df.append(self.df.iloc[0], ignore_index=True)\n"
     ]
    },
    {
     "name": "stdout",
     "output_type": "stream",
     "text": [
      "In Buy\n",
      "In a green candle\n",
      "In Buy\n",
      "In red candle\n",
      "In Buy\n",
      "In red candle\n",
      "In Buy\n",
      "In red candle\n",
      "In Buy\n",
      "In a green candle\n",
      "In SL Condition\n",
      "In Buy\n",
      "In a green candle\n",
      "In Buy\n",
      "In red candle\n",
      "In Buy\n",
      "In a green candle\n",
      "In Buy\n",
      "In a green candle\n",
      "In Buy\n",
      "In red candle\n",
      "In Buy\n",
      "In a green candle\n",
      "In Buy\n",
      "In red candle\n",
      "In Buy\n",
      "In red candle\n",
      "In Buy\n",
      "In red candle\n",
      "In Buy\n",
      "In a green candle\n",
      "In Buy\n",
      "In a green candle\n",
      "In Buy\n",
      "In red candle\n",
      "In Buy\n",
      "In a green candle\n",
      "In Buy\n",
      "In red candle\n",
      "In Buy\n",
      "In red candle\n",
      "In Buy\n",
      "In a green candle\n",
      "In Buy\n",
      "In a green candle\n",
      "In Buy\n",
      "In a green candle\n",
      "In Buy\n",
      "In red candle\n",
      "In Buy\n",
      "In a green candle\n",
      "In Buy\n",
      "In red candle\n",
      "In Buy\n",
      "In a green candle\n",
      "In SL Condition\n"
     ]
    },
    {
     "name": "stderr",
     "output_type": "stream",
     "text": [
      "C:\\Users\\hp\\AppData\\Local\\Temp\\ipykernel_2904\\365529943.py:940: FutureWarning: The frame.append method is deprecated and will be removed from pandas in a future version. Use pandas.concat instead.\n",
      "  self.df = self.df.append(row, ignore_index=True)\n",
      "C:\\Users\\hp\\AppData\\Local\\Temp\\ipykernel_2904\\365529943.py:946: FutureWarning: The frame.append method is deprecated and will be removed from pandas in a future version. Use pandas.concat instead.\n",
      "  self.past_df = self.past_df.append(self.df.iloc[0], ignore_index=True)\n"
     ]
    },
    {
     "name": "stdout",
     "output_type": "stream",
     "text": [
      "In Buy\n",
      "In red candle\n",
      "In Buy\n",
      "In red candle\n",
      "In Buy\n",
      "In red candle\n",
      "In SL Condition\n"
     ]
    },
    {
     "name": "stderr",
     "output_type": "stream",
     "text": [
      "C:\\Users\\hp\\AppData\\Local\\Temp\\ipykernel_2904\\365529943.py:940: FutureWarning: The frame.append method is deprecated and will be removed from pandas in a future version. Use pandas.concat instead.\n",
      "  self.df = self.df.append(row, ignore_index=True)\n",
      "C:\\Users\\hp\\AppData\\Local\\Temp\\ipykernel_2904\\365529943.py:946: FutureWarning: The frame.append method is deprecated and will be removed from pandas in a future version. Use pandas.concat instead.\n",
      "  self.past_df = self.past_df.append(self.df.iloc[0], ignore_index=True)\n",
      "C:\\Users\\hp\\AppData\\Local\\Temp\\ipykernel_2904\\365529943.py:940: FutureWarning: The frame.append method is deprecated and will be removed from pandas in a future version. Use pandas.concat instead.\n",
      "  self.df = self.df.append(row, ignore_index=True)\n",
      "C:\\Users\\hp\\AppData\\Local\\Temp\\ipykernel_2904\\365529943.py:946: FutureWarning: The frame.append method is deprecated and will be removed from pandas in a future version. Use pandas.concat instead.\n",
      "  self.past_df = self.past_df.append(self.df.iloc[0], ignore_index=True)\n"
     ]
    },
    {
     "name": "stdout",
     "output_type": "stream",
     "text": [
      "In Sell\n",
      "In Sell\n",
      "In Sell\n",
      "In Sell\n",
      "In Sell\n",
      "In Sell\n",
      "In Sell\n",
      "In Sell\n",
      "In Sell\n",
      "In Sell\n",
      "In Sell\n",
      "In Sell\n",
      "In Sell\n",
      "In Sell\n",
      "In Sell\n"
     ]
    },
    {
     "name": "stderr",
     "output_type": "stream",
     "text": [
      "C:\\Users\\hp\\AppData\\Local\\Temp\\ipykernel_2904\\365529943.py:940: FutureWarning: The frame.append method is deprecated and will be removed from pandas in a future version. Use pandas.concat instead.\n",
      "  self.df = self.df.append(row, ignore_index=True)\n",
      "C:\\Users\\hp\\AppData\\Local\\Temp\\ipykernel_2904\\365529943.py:946: FutureWarning: The frame.append method is deprecated and will be removed from pandas in a future version. Use pandas.concat instead.\n",
      "  self.past_df = self.past_df.append(self.df.iloc[0], ignore_index=True)\n",
      "C:\\Users\\hp\\AppData\\Local\\Temp\\ipykernel_2904\\365529943.py:940: FutureWarning: The frame.append method is deprecated and will be removed from pandas in a future version. Use pandas.concat instead.\n",
      "  self.df = self.df.append(row, ignore_index=True)\n",
      "C:\\Users\\hp\\AppData\\Local\\Temp\\ipykernel_2904\\365529943.py:946: FutureWarning: The frame.append method is deprecated and will be removed from pandas in a future version. Use pandas.concat instead.\n",
      "  self.past_df = self.past_df.append(self.df.iloc[0], ignore_index=True)\n"
     ]
    },
    {
     "name": "stdout",
     "output_type": "stream",
     "text": [
      "In Sell\n",
      "In Sell\n",
      "In Sell\n",
      "In Sell\n",
      "In Sell\n",
      "In Sell\n",
      "In Sell\n",
      "In Sell\n",
      "In Buy\n",
      "In red candle\n",
      "In Buy\n",
      "In red candle\n"
     ]
    },
    {
     "name": "stderr",
     "output_type": "stream",
     "text": [
      "C:\\Users\\hp\\AppData\\Local\\Temp\\ipykernel_2904\\365529943.py:940: FutureWarning: The frame.append method is deprecated and will be removed from pandas in a future version. Use pandas.concat instead.\n",
      "  self.df = self.df.append(row, ignore_index=True)\n",
      "C:\\Users\\hp\\AppData\\Local\\Temp\\ipykernel_2904\\365529943.py:946: FutureWarning: The frame.append method is deprecated and will be removed from pandas in a future version. Use pandas.concat instead.\n",
      "  self.past_df = self.past_df.append(self.df.iloc[0], ignore_index=True)\n",
      "C:\\Users\\hp\\AppData\\Local\\Temp\\ipykernel_2904\\365529943.py:940: FutureWarning: The frame.append method is deprecated and will be removed from pandas in a future version. Use pandas.concat instead.\n",
      "  self.df = self.df.append(row, ignore_index=True)\n",
      "C:\\Users\\hp\\AppData\\Local\\Temp\\ipykernel_2904\\365529943.py:946: FutureWarning: The frame.append method is deprecated and will be removed from pandas in a future version. Use pandas.concat instead.\n",
      "  self.past_df = self.past_df.append(self.df.iloc[0], ignore_index=True)\n"
     ]
    },
    {
     "name": "stdout",
     "output_type": "stream",
     "text": [
      "In Buy\n",
      "In red candle\n",
      "In SL Condition\n",
      "In Buy\n",
      "In red candle\n",
      "In SL Condition\n"
     ]
    },
    {
     "name": "stderr",
     "output_type": "stream",
     "text": [
      "C:\\Users\\hp\\AppData\\Local\\Temp\\ipykernel_2904\\365529943.py:940: FutureWarning: The frame.append method is deprecated and will be removed from pandas in a future version. Use pandas.concat instead.\n",
      "  self.df = self.df.append(row, ignore_index=True)\n",
      "C:\\Users\\hp\\AppData\\Local\\Temp\\ipykernel_2904\\365529943.py:946: FutureWarning: The frame.append method is deprecated and will be removed from pandas in a future version. Use pandas.concat instead.\n",
      "  self.past_df = self.past_df.append(self.df.iloc[0], ignore_index=True)\n"
     ]
    },
    {
     "name": "stdout",
     "output_type": "stream",
     "text": [
      "In Buy\n",
      "In a green candle\n",
      "In Buy\n",
      "In a green candle\n",
      "In TRG exit condition\n"
     ]
    },
    {
     "name": "stderr",
     "output_type": "stream",
     "text": [
      "C:\\Users\\hp\\AppData\\Local\\Temp\\ipykernel_2904\\365529943.py:940: FutureWarning: The frame.append method is deprecated and will be removed from pandas in a future version. Use pandas.concat instead.\n",
      "  self.df = self.df.append(row, ignore_index=True)\n",
      "C:\\Users\\hp\\AppData\\Local\\Temp\\ipykernel_2904\\365529943.py:946: FutureWarning: The frame.append method is deprecated and will be removed from pandas in a future version. Use pandas.concat instead.\n",
      "  self.past_df = self.past_df.append(self.df.iloc[0], ignore_index=True)\n"
     ]
    },
    {
     "name": "stdout",
     "output_type": "stream",
     "text": [
      "In Buy\n",
      "In red candle\n",
      "In Buy\n",
      "In red candle\n",
      "In SL Condition\n"
     ]
    },
    {
     "name": "stderr",
     "output_type": "stream",
     "text": [
      "C:\\Users\\hp\\AppData\\Local\\Temp\\ipykernel_2904\\365529943.py:940: FutureWarning: The frame.append method is deprecated and will be removed from pandas in a future version. Use pandas.concat instead.\n",
      "  self.df = self.df.append(row, ignore_index=True)\n",
      "C:\\Users\\hp\\AppData\\Local\\Temp\\ipykernel_2904\\365529943.py:946: FutureWarning: The frame.append method is deprecated and will be removed from pandas in a future version. Use pandas.concat instead.\n",
      "  self.past_df = self.past_df.append(self.df.iloc[0], ignore_index=True)\n",
      "C:\\Users\\hp\\AppData\\Local\\Temp\\ipykernel_2904\\365529943.py:940: FutureWarning: The frame.append method is deprecated and will be removed from pandas in a future version. Use pandas.concat instead.\n",
      "  self.df = self.df.append(row, ignore_index=True)\n",
      "C:\\Users\\hp\\AppData\\Local\\Temp\\ipykernel_2904\\365529943.py:946: FutureWarning: The frame.append method is deprecated and will be removed from pandas in a future version. Use pandas.concat instead.\n",
      "  self.past_df = self.past_df.append(self.df.iloc[0], ignore_index=True)\n"
     ]
    },
    {
     "name": "stdout",
     "output_type": "stream",
     "text": [
      "In Buy\n",
      "In red candle\n",
      "In Buy\n",
      "In red candle\n",
      "In Buy\n",
      "In a green candle\n",
      "In Buy\n",
      "In a green candle\n",
      "In Buy\n",
      "In red candle\n",
      "In Buy\n",
      "In red candle\n",
      "In SL Condition\n",
      "In Buy\n",
      "In red candle\n",
      "In Buy\n",
      "In a green candle\n",
      "In SL Condition\n"
     ]
    },
    {
     "name": "stderr",
     "output_type": "stream",
     "text": [
      "C:\\Users\\hp\\AppData\\Local\\Temp\\ipykernel_2904\\365529943.py:940: FutureWarning: The frame.append method is deprecated and will be removed from pandas in a future version. Use pandas.concat instead.\n",
      "  self.df = self.df.append(row, ignore_index=True)\n",
      "C:\\Users\\hp\\AppData\\Local\\Temp\\ipykernel_2904\\365529943.py:946: FutureWarning: The frame.append method is deprecated and will be removed from pandas in a future version. Use pandas.concat instead.\n",
      "  self.past_df = self.past_df.append(self.df.iloc[0], ignore_index=True)\n"
     ]
    },
    {
     "name": "stdout",
     "output_type": "stream",
     "text": [
      "In Buy\n",
      "In red candle\n",
      "In Buy\n",
      "In red candle\n",
      "In Buy\n",
      "In a green candle\n",
      "In Buy\n",
      "In a green candle\n",
      "In Buy\n",
      "In red candle\n",
      "In Buy\n",
      "In red candle\n",
      "In SL Condition\n"
     ]
    },
    {
     "name": "stderr",
     "output_type": "stream",
     "text": [
      "C:\\Users\\hp\\AppData\\Local\\Temp\\ipykernel_2904\\365529943.py:940: FutureWarning: The frame.append method is deprecated and will be removed from pandas in a future version. Use pandas.concat instead.\n",
      "  self.df = self.df.append(row, ignore_index=True)\n",
      "C:\\Users\\hp\\AppData\\Local\\Temp\\ipykernel_2904\\365529943.py:946: FutureWarning: The frame.append method is deprecated and will be removed from pandas in a future version. Use pandas.concat instead.\n",
      "  self.past_df = self.past_df.append(self.df.iloc[0], ignore_index=True)\n"
     ]
    },
    {
     "name": "stdout",
     "output_type": "stream",
     "text": [
      "In Buy\n",
      "In a green candle\n",
      "In Buy\n",
      "In red candle\n",
      "In SL Condition\n"
     ]
    },
    {
     "name": "stderr",
     "output_type": "stream",
     "text": [
      "C:\\Users\\hp\\AppData\\Local\\Temp\\ipykernel_2904\\365529943.py:940: FutureWarning: The frame.append method is deprecated and will be removed from pandas in a future version. Use pandas.concat instead.\n",
      "  self.df = self.df.append(row, ignore_index=True)\n",
      "C:\\Users\\hp\\AppData\\Local\\Temp\\ipykernel_2904\\365529943.py:946: FutureWarning: The frame.append method is deprecated and will be removed from pandas in a future version. Use pandas.concat instead.\n",
      "  self.past_df = self.past_df.append(self.df.iloc[0], ignore_index=True)\n",
      "C:\\Users\\hp\\AppData\\Local\\Temp\\ipykernel_2904\\365529943.py:940: FutureWarning: The frame.append method is deprecated and will be removed from pandas in a future version. Use pandas.concat instead.\n",
      "  self.df = self.df.append(row, ignore_index=True)\n",
      "C:\\Users\\hp\\AppData\\Local\\Temp\\ipykernel_2904\\365529943.py:946: FutureWarning: The frame.append method is deprecated and will be removed from pandas in a future version. Use pandas.concat instead.\n",
      "  self.past_df = self.past_df.append(self.df.iloc[0], ignore_index=True)\n"
     ]
    },
    {
     "name": "stdout",
     "output_type": "stream",
     "text": [
      "In Buy\n",
      "In a green candle\n",
      "In Buy\n",
      "In red candle\n",
      "In Buy\n",
      "In a green candle\n",
      "In Buy\n",
      "In red candle\n",
      "In Buy\n",
      "In a green candle\n",
      "In TRG exit condition\n",
      "In Buy\n",
      "In red candle\n",
      "In Buy\n",
      "In a green candle\n",
      "In TRG exit condition\n"
     ]
    },
    {
     "name": "stderr",
     "output_type": "stream",
     "text": [
      "C:\\Users\\hp\\AppData\\Local\\Temp\\ipykernel_2904\\365529943.py:940: FutureWarning: The frame.append method is deprecated and will be removed from pandas in a future version. Use pandas.concat instead.\n",
      "  self.df = self.df.append(row, ignore_index=True)\n",
      "C:\\Users\\hp\\AppData\\Local\\Temp\\ipykernel_2904\\365529943.py:946: FutureWarning: The frame.append method is deprecated and will be removed from pandas in a future version. Use pandas.concat instead.\n",
      "  self.past_df = self.past_df.append(self.df.iloc[0], ignore_index=True)\n",
      "C:\\Users\\hp\\AppData\\Local\\Temp\\ipykernel_2904\\365529943.py:940: FutureWarning: The frame.append method is deprecated and will be removed from pandas in a future version. Use pandas.concat instead.\n",
      "  self.df = self.df.append(row, ignore_index=True)\n",
      "C:\\Users\\hp\\AppData\\Local\\Temp\\ipykernel_2904\\365529943.py:946: FutureWarning: The frame.append method is deprecated and will be removed from pandas in a future version. Use pandas.concat instead.\n",
      "  self.past_df = self.past_df.append(self.df.iloc[0], ignore_index=True)\n"
     ]
    },
    {
     "name": "stdout",
     "output_type": "stream",
     "text": [
      "In Buy\n",
      "In a green candle\n",
      "In Buy\n",
      "In a green candle\n",
      "In TRG exit condition\n",
      "In Buy\n",
      "In a green candle\n",
      "In Buy\n",
      "In red candle\n",
      "In Buy\n",
      "In a green candle\n",
      "In Buy\n",
      "In red candle\n",
      "In SL Condition\n"
     ]
    },
    {
     "name": "stderr",
     "output_type": "stream",
     "text": [
      "C:\\Users\\hp\\AppData\\Local\\Temp\\ipykernel_2904\\365529943.py:940: FutureWarning: The frame.append method is deprecated and will be removed from pandas in a future version. Use pandas.concat instead.\n",
      "  self.df = self.df.append(row, ignore_index=True)\n",
      "C:\\Users\\hp\\AppData\\Local\\Temp\\ipykernel_2904\\365529943.py:946: FutureWarning: The frame.append method is deprecated and will be removed from pandas in a future version. Use pandas.concat instead.\n",
      "  self.past_df = self.past_df.append(self.df.iloc[0], ignore_index=True)\n",
      "C:\\Users\\hp\\AppData\\Local\\Temp\\ipykernel_2904\\365529943.py:940: FutureWarning: The frame.append method is deprecated and will be removed from pandas in a future version. Use pandas.concat instead.\n",
      "  self.df = self.df.append(row, ignore_index=True)\n",
      "C:\\Users\\hp\\AppData\\Local\\Temp\\ipykernel_2904\\365529943.py:946: FutureWarning: The frame.append method is deprecated and will be removed from pandas in a future version. Use pandas.concat instead.\n",
      "  self.past_df = self.past_df.append(self.df.iloc[0], ignore_index=True)\n",
      "C:\\Users\\hp\\AppData\\Local\\Temp\\ipykernel_2904\\365529943.py:940: FutureWarning: The frame.append method is deprecated and will be removed from pandas in a future version. Use pandas.concat instead.\n",
      "  self.df = self.df.append(row, ignore_index=True)\n",
      "C:\\Users\\hp\\AppData\\Local\\Temp\\ipykernel_2904\\365529943.py:946: FutureWarning: The frame.append method is deprecated and will be removed from pandas in a future version. Use pandas.concat instead.\n",
      "  self.past_df = self.past_df.append(self.df.iloc[0], ignore_index=True)\n"
     ]
    },
    {
     "name": "stdout",
     "output_type": "stream",
     "text": [
      "In Sell\n",
      "In Sell\n",
      "In Sell\n",
      "In Sell\n",
      "In Sell\n",
      "In Sell\n"
     ]
    },
    {
     "name": "stderr",
     "output_type": "stream",
     "text": [
      "C:\\Users\\hp\\AppData\\Local\\Temp\\ipykernel_2904\\365529943.py:940: FutureWarning: The frame.append method is deprecated and will be removed from pandas in a future version. Use pandas.concat instead.\n",
      "  self.df = self.df.append(row, ignore_index=True)\n",
      "C:\\Users\\hp\\AppData\\Local\\Temp\\ipykernel_2904\\365529943.py:946: FutureWarning: The frame.append method is deprecated and will be removed from pandas in a future version. Use pandas.concat instead.\n",
      "  self.past_df = self.past_df.append(self.df.iloc[0], ignore_index=True)\n"
     ]
    },
    {
     "name": "stdout",
     "output_type": "stream",
     "text": [
      "In Sell\n",
      "In Sell\n",
      "In Sell\n",
      "In Sell\n"
     ]
    },
    {
     "name": "stderr",
     "output_type": "stream",
     "text": [
      "C:\\Users\\hp\\AppData\\Local\\Temp\\ipykernel_2904\\365529943.py:940: FutureWarning: The frame.append method is deprecated and will be removed from pandas in a future version. Use pandas.concat instead.\n",
      "  self.df = self.df.append(row, ignore_index=True)\n",
      "C:\\Users\\hp\\AppData\\Local\\Temp\\ipykernel_2904\\365529943.py:946: FutureWarning: The frame.append method is deprecated and will be removed from pandas in a future version. Use pandas.concat instead.\n",
      "  self.past_df = self.past_df.append(self.df.iloc[0], ignore_index=True)\n"
     ]
    },
    {
     "name": "stdout",
     "output_type": "stream",
     "text": [
      "In Sell\n",
      "In Sell\n",
      "In Sell\n",
      "In Sell\n",
      "In Sell\n",
      "In Sell\n",
      "In Sell\n",
      "In Sell\n",
      "In Sell\n",
      "In Sell\n",
      "In Sell\n"
     ]
    },
    {
     "name": "stderr",
     "output_type": "stream",
     "text": [
      "C:\\Users\\hp\\AppData\\Local\\Temp\\ipykernel_2904\\365529943.py:940: FutureWarning: The frame.append method is deprecated and will be removed from pandas in a future version. Use pandas.concat instead.\n",
      "  self.df = self.df.append(row, ignore_index=True)\n",
      "C:\\Users\\hp\\AppData\\Local\\Temp\\ipykernel_2904\\365529943.py:946: FutureWarning: The frame.append method is deprecated and will be removed from pandas in a future version. Use pandas.concat instead.\n",
      "  self.past_df = self.past_df.append(self.df.iloc[0], ignore_index=True)\n",
      "C:\\Users\\hp\\AppData\\Local\\Temp\\ipykernel_2904\\365529943.py:940: FutureWarning: The frame.append method is deprecated and will be removed from pandas in a future version. Use pandas.concat instead.\n",
      "  self.df = self.df.append(row, ignore_index=True)\n",
      "C:\\Users\\hp\\AppData\\Local\\Temp\\ipykernel_2904\\365529943.py:946: FutureWarning: The frame.append method is deprecated and will be removed from pandas in a future version. Use pandas.concat instead.\n",
      "  self.past_df = self.past_df.append(self.df.iloc[0], ignore_index=True)\n"
     ]
    },
    {
     "name": "stdout",
     "output_type": "stream",
     "text": [
      "In Buy\n",
      "In red candle\n",
      "In SL Condition\n",
      "In Buy\n",
      "In a green candle\n",
      "In Buy\n",
      "In a green candle\n",
      "In TRG exit condition\n"
     ]
    },
    {
     "name": "stderr",
     "output_type": "stream",
     "text": [
      "C:\\Users\\hp\\AppData\\Local\\Temp\\ipykernel_2904\\365529943.py:940: FutureWarning: The frame.append method is deprecated and will be removed from pandas in a future version. Use pandas.concat instead.\n",
      "  self.df = self.df.append(row, ignore_index=True)\n",
      "C:\\Users\\hp\\AppData\\Local\\Temp\\ipykernel_2904\\365529943.py:946: FutureWarning: The frame.append method is deprecated and will be removed from pandas in a future version. Use pandas.concat instead.\n",
      "  self.past_df = self.past_df.append(self.df.iloc[0], ignore_index=True)\n",
      "C:\\Users\\hp\\AppData\\Local\\Temp\\ipykernel_2904\\365529943.py:940: FutureWarning: The frame.append method is deprecated and will be removed from pandas in a future version. Use pandas.concat instead.\n",
      "  self.df = self.df.append(row, ignore_index=True)\n",
      "C:\\Users\\hp\\AppData\\Local\\Temp\\ipykernel_2904\\365529943.py:946: FutureWarning: The frame.append method is deprecated and will be removed from pandas in a future version. Use pandas.concat instead.\n",
      "  self.past_df = self.past_df.append(self.df.iloc[0], ignore_index=True)\n"
     ]
    },
    {
     "name": "stdout",
     "output_type": "stream",
     "text": [
      "In Buy\n",
      "In red candle\n",
      "In SL Condition\n",
      "In Buy\n",
      "In red candle\n",
      "In Buy\n",
      "In red candle\n",
      "In Buy\n",
      "In a green candle\n",
      "In Buy\n",
      "In a green candle\n",
      "In Buy\n",
      "In a green candle\n",
      "In TRG exit condition\n",
      "In Buy\n",
      "In a green candle\n",
      "In Buy\n",
      "In red candle\n",
      "In Buy\n",
      "In a green candle\n",
      "In TRG exit condition\n"
     ]
    },
    {
     "name": "stderr",
     "output_type": "stream",
     "text": [
      "C:\\Users\\hp\\AppData\\Local\\Temp\\ipykernel_2904\\365529943.py:940: FutureWarning: The frame.append method is deprecated and will be removed from pandas in a future version. Use pandas.concat instead.\n",
      "  self.df = self.df.append(row, ignore_index=True)\n",
      "C:\\Users\\hp\\AppData\\Local\\Temp\\ipykernel_2904\\365529943.py:946: FutureWarning: The frame.append method is deprecated and will be removed from pandas in a future version. Use pandas.concat instead.\n",
      "  self.past_df = self.past_df.append(self.df.iloc[0], ignore_index=True)\n",
      "C:\\Users\\hp\\AppData\\Local\\Temp\\ipykernel_2904\\365529943.py:940: FutureWarning: The frame.append method is deprecated and will be removed from pandas in a future version. Use pandas.concat instead.\n",
      "  self.df = self.df.append(row, ignore_index=True)\n",
      "C:\\Users\\hp\\AppData\\Local\\Temp\\ipykernel_2904\\365529943.py:946: FutureWarning: The frame.append method is deprecated and will be removed from pandas in a future version. Use pandas.concat instead.\n",
      "  self.past_df = self.past_df.append(self.df.iloc[0], ignore_index=True)\n",
      "C:\\Users\\hp\\AppData\\Local\\Temp\\ipykernel_2904\\365529943.py:940: FutureWarning: The frame.append method is deprecated and will be removed from pandas in a future version. Use pandas.concat instead.\n",
      "  self.df = self.df.append(row, ignore_index=True)\n",
      "C:\\Users\\hp\\AppData\\Local\\Temp\\ipykernel_2904\\365529943.py:946: FutureWarning: The frame.append method is deprecated and will be removed from pandas in a future version. Use pandas.concat instead.\n",
      "  self.past_df = self.past_df.append(self.df.iloc[0], ignore_index=True)\n"
     ]
    },
    {
     "name": "stdout",
     "output_type": "stream",
     "text": [
      "In Buy\n",
      "In red candle\n",
      "In Buy\n",
      "In red candle\n",
      "In SL Condition\n",
      "In Buy\n",
      "In red candle\n",
      "In Buy\n",
      "In red candle\n",
      "In SL Condition\n"
     ]
    },
    {
     "name": "stderr",
     "output_type": "stream",
     "text": [
      "C:\\Users\\hp\\AppData\\Local\\Temp\\ipykernel_2904\\365529943.py:940: FutureWarning: The frame.append method is deprecated and will be removed from pandas in a future version. Use pandas.concat instead.\n",
      "  self.df = self.df.append(row, ignore_index=True)\n",
      "C:\\Users\\hp\\AppData\\Local\\Temp\\ipykernel_2904\\365529943.py:946: FutureWarning: The frame.append method is deprecated and will be removed from pandas in a future version. Use pandas.concat instead.\n",
      "  self.past_df = self.past_df.append(self.df.iloc[0], ignore_index=True)\n"
     ]
    },
    {
     "name": "stdout",
     "output_type": "stream",
     "text": [
      "In Buy\n",
      "In red candle\n",
      "In Buy\n",
      "In a green candle\n",
      "In Buy\n",
      "In red candle\n",
      "In Buy\n",
      "In a green candle\n",
      "In SL Condition\n"
     ]
    },
    {
     "name": "stderr",
     "output_type": "stream",
     "text": [
      "C:\\Users\\hp\\AppData\\Local\\Temp\\ipykernel_2904\\365529943.py:940: FutureWarning: The frame.append method is deprecated and will be removed from pandas in a future version. Use pandas.concat instead.\n",
      "  self.df = self.df.append(row, ignore_index=True)\n",
      "C:\\Users\\hp\\AppData\\Local\\Temp\\ipykernel_2904\\365529943.py:946: FutureWarning: The frame.append method is deprecated and will be removed from pandas in a future version. Use pandas.concat instead.\n",
      "  self.past_df = self.past_df.append(self.df.iloc[0], ignore_index=True)\n",
      "C:\\Users\\hp\\AppData\\Local\\Temp\\ipykernel_2904\\365529943.py:940: FutureWarning: The frame.append method is deprecated and will be removed from pandas in a future version. Use pandas.concat instead.\n",
      "  self.df = self.df.append(row, ignore_index=True)\n",
      "C:\\Users\\hp\\AppData\\Local\\Temp\\ipykernel_2904\\365529943.py:946: FutureWarning: The frame.append method is deprecated and will be removed from pandas in a future version. Use pandas.concat instead.\n",
      "  self.past_df = self.past_df.append(self.df.iloc[0], ignore_index=True)\n"
     ]
    },
    {
     "name": "stdout",
     "output_type": "stream",
     "text": [
      "In Buy\n",
      "In red candle\n",
      "In SL Condition\n",
      "In Buy\n",
      "In red candle\n",
      "In Buy\n",
      "In a green candle\n",
      "In SL Condition\n"
     ]
    },
    {
     "name": "stderr",
     "output_type": "stream",
     "text": [
      "C:\\Users\\hp\\AppData\\Local\\Temp\\ipykernel_2904\\365529943.py:940: FutureWarning: The frame.append method is deprecated and will be removed from pandas in a future version. Use pandas.concat instead.\n",
      "  self.df = self.df.append(row, ignore_index=True)\n",
      "C:\\Users\\hp\\AppData\\Local\\Temp\\ipykernel_2904\\365529943.py:946: FutureWarning: The frame.append method is deprecated and will be removed from pandas in a future version. Use pandas.concat instead.\n",
      "  self.past_df = self.past_df.append(self.df.iloc[0], ignore_index=True)\n"
     ]
    },
    {
     "name": "stdout",
     "output_type": "stream",
     "text": [
      "In Buy\n",
      "In a green candle\n",
      "In Buy\n",
      "In red candle\n",
      "In Buy\n",
      "In red candle\n",
      "In SL Condition\n"
     ]
    },
    {
     "name": "stderr",
     "output_type": "stream",
     "text": [
      "C:\\Users\\hp\\AppData\\Local\\Temp\\ipykernel_2904\\365529943.py:940: FutureWarning: The frame.append method is deprecated and will be removed from pandas in a future version. Use pandas.concat instead.\n",
      "  self.df = self.df.append(row, ignore_index=True)\n",
      "C:\\Users\\hp\\AppData\\Local\\Temp\\ipykernel_2904\\365529943.py:946: FutureWarning: The frame.append method is deprecated and will be removed from pandas in a future version. Use pandas.concat instead.\n",
      "  self.past_df = self.past_df.append(self.df.iloc[0], ignore_index=True)\n"
     ]
    },
    {
     "name": "stdout",
     "output_type": "stream",
     "text": [
      "In Sell\n",
      "In Sell\n",
      "In Sell\n",
      "In Sell\n",
      "In Sell\n",
      "In Sell\n",
      "In Sell\n",
      "In Sell\n",
      "In Sell\n",
      "In Sell\n",
      "In Sell\n",
      "In Sell\n",
      "In Sell\n",
      "In Sell\n",
      "In Sell\n",
      "In Sell\n",
      "In Sell\n",
      "In Sell\n",
      "In Sell\n",
      "In Sell\n",
      "In Sell\n",
      "In Sell\n",
      "In Sell\n",
      "In Sell\n",
      "In Sell\n",
      "In Sell\n",
      "In Sell\n"
     ]
    },
    {
     "name": "stderr",
     "output_type": "stream",
     "text": [
      "C:\\Users\\hp\\AppData\\Local\\Temp\\ipykernel_2904\\365529943.py:940: FutureWarning: The frame.append method is deprecated and will be removed from pandas in a future version. Use pandas.concat instead.\n",
      "  self.df = self.df.append(row, ignore_index=True)\n",
      "C:\\Users\\hp\\AppData\\Local\\Temp\\ipykernel_2904\\365529943.py:946: FutureWarning: The frame.append method is deprecated and will be removed from pandas in a future version. Use pandas.concat instead.\n",
      "  self.past_df = self.past_df.append(self.df.iloc[0], ignore_index=True)\n"
     ]
    },
    {
     "name": "stdout",
     "output_type": "stream",
     "text": [
      "In Sell\n"
     ]
    },
    {
     "name": "stderr",
     "output_type": "stream",
     "text": [
      "C:\\Users\\hp\\AppData\\Local\\Temp\\ipykernel_2904\\365529943.py:940: FutureWarning: The frame.append method is deprecated and will be removed from pandas in a future version. Use pandas.concat instead.\n",
      "  self.df = self.df.append(row, ignore_index=True)\n",
      "C:\\Users\\hp\\AppData\\Local\\Temp\\ipykernel_2904\\365529943.py:946: FutureWarning: The frame.append method is deprecated and will be removed from pandas in a future version. Use pandas.concat instead.\n",
      "  self.past_df = self.past_df.append(self.df.iloc[0], ignore_index=True)\n"
     ]
    },
    {
     "name": "stdout",
     "output_type": "stream",
     "text": [
      "In Buy\n",
      "In red candle\n",
      "In Buy\n",
      "In red candle\n",
      "In SL Condition\n"
     ]
    },
    {
     "name": "stderr",
     "output_type": "stream",
     "text": [
      "C:\\Users\\hp\\AppData\\Local\\Temp\\ipykernel_2904\\365529943.py:940: FutureWarning: The frame.append method is deprecated and will be removed from pandas in a future version. Use pandas.concat instead.\n",
      "  self.df = self.df.append(row, ignore_index=True)\n",
      "C:\\Users\\hp\\AppData\\Local\\Temp\\ipykernel_2904\\365529943.py:946: FutureWarning: The frame.append method is deprecated and will be removed from pandas in a future version. Use pandas.concat instead.\n",
      "  self.past_df = self.past_df.append(self.df.iloc[0], ignore_index=True)\n"
     ]
    },
    {
     "name": "stdout",
     "output_type": "stream",
     "text": [
      "In Buy\n",
      "In red candle\n",
      "In Buy\n",
      "In a green candle\n",
      "In Buy\n",
      "In a green candle\n",
      "In Buy\n",
      "In red candle\n",
      "In Buy\n",
      "In a green candle\n",
      "In Buy\n",
      "In red candle\n",
      "In Buy\n",
      "In a green candle\n",
      "In Buy\n",
      "In red candle\n",
      "In Buy\n",
      "In a green candle\n",
      "In Buy\n",
      "In red candle\n",
      "In Buy\n",
      "In a green candle\n",
      "In Buy\n",
      "In red candle\n",
      "In Buy\n",
      "In red candle\n",
      "In Buy\n",
      "In a green candle\n",
      "In Buy\n",
      "In red candle\n",
      "In Buy\n",
      "In a green candle\n",
      "In Buy\n",
      "In a green candle\n",
      "In Buy\n",
      "In a green candle\n",
      "In Buy\n",
      "In a green candle\n",
      "In Buy\n",
      "In a green candle\n",
      "In Buy\n",
      "In a green candle\n",
      "In Buy\n",
      "In red candle\n",
      "In Buy\n",
      "In red candle\n",
      "In Buy\n",
      "In a green candle\n",
      "In Buy\n",
      "In red candle\n",
      "In Buy\n",
      "In red candle\n",
      "In Buy\n",
      "In a green candle\n",
      "In Buy\n",
      "In a green candle\n",
      "In Buy\n",
      "In red candle\n",
      "In Buy\n",
      "In a green candle\n",
      "In Buy\n",
      "In red candle\n",
      "In Buy\n",
      "In red candle\n",
      "In Buy\n",
      "In a green candle\n",
      "In Buy\n",
      "In red candle\n",
      "In Buy\n",
      "In a green candle\n",
      "In Buy\n",
      "In a green candle\n",
      "In Buy\n",
      "In red candle\n",
      "In Buy\n",
      "In a green candle\n",
      "In Buy\n",
      "In red candle\n",
      "In Buy\n",
      "In red candle\n",
      "In Buy\n",
      "In a green candle\n",
      "In Buy\n",
      "In red candle\n",
      "In Buy\n",
      "In a green candle\n",
      "In Buy\n",
      "In red candle\n",
      "In Buy\n",
      "In a green candle\n",
      "In Buy\n",
      "In red candle\n",
      "In Buy\n",
      "In red candle\n",
      "In Buy\n",
      "In red candle\n",
      "In Buy\n",
      "In red candle\n",
      "In Buy\n",
      "In red candle\n",
      "In Buy\n",
      "In red candle\n",
      "In Buy\n",
      "In a green candle\n",
      "In Buy\n",
      "In red candle\n",
      "In Buy\n",
      "In red candle\n",
      "In Buy\n",
      "In a green candle\n",
      "In Buy\n",
      "In red candle\n",
      "In Buy\n",
      "In red candle\n",
      "In Buy\n",
      "In red candle\n",
      "In Buy\n",
      "In red candle\n",
      "In Buy\n",
      "In a green candle\n",
      "In Buy\n",
      "In red candle\n",
      "In Buy\n",
      "In red candle\n",
      "In Buy\n",
      "In red candle\n",
      "In Buy\n",
      "In a green candle\n",
      "In Buy\n",
      "In red candle\n",
      "In Buy\n",
      "In a green candle\n",
      "In Buy\n",
      "In a green candle\n",
      "In Buy\n",
      "In a green candle\n",
      "In Buy\n",
      "In a green candle\n",
      "In Buy\n",
      "In red candle\n",
      "In Buy\n",
      "In red candle\n",
      "In Buy\n",
      "In a green candle\n",
      "In Buy\n",
      "In red candle\n",
      "In Buy\n",
      "In a green candle\n",
      "In Buy\n",
      "In a green candle\n",
      "In Buy\n",
      "In a green candle\n",
      "In Buy\n",
      "In a green candle\n",
      "In TRG exit condition\n"
     ]
    },
    {
     "name": "stderr",
     "output_type": "stream",
     "text": [
      "C:\\Users\\hp\\AppData\\Local\\Temp\\ipykernel_2904\\365529943.py:940: FutureWarning: The frame.append method is deprecated and will be removed from pandas in a future version. Use pandas.concat instead.\n",
      "  self.df = self.df.append(row, ignore_index=True)\n",
      "C:\\Users\\hp\\AppData\\Local\\Temp\\ipykernel_2904\\365529943.py:946: FutureWarning: The frame.append method is deprecated and will be removed from pandas in a future version. Use pandas.concat instead.\n",
      "  self.past_df = self.past_df.append(self.df.iloc[0], ignore_index=True)\n"
     ]
    },
    {
     "name": "stdout",
     "output_type": "stream",
     "text": [
      "In Buy\n",
      "In red candle\n",
      "In Buy\n",
      "In red candle\n",
      "In SL Condition\n"
     ]
    },
    {
     "name": "stderr",
     "output_type": "stream",
     "text": [
      "C:\\Users\\hp\\AppData\\Local\\Temp\\ipykernel_2904\\365529943.py:940: FutureWarning: The frame.append method is deprecated and will be removed from pandas in a future version. Use pandas.concat instead.\n",
      "  self.df = self.df.append(row, ignore_index=True)\n",
      "C:\\Users\\hp\\AppData\\Local\\Temp\\ipykernel_2904\\365529943.py:946: FutureWarning: The frame.append method is deprecated and will be removed from pandas in a future version. Use pandas.concat instead.\n",
      "  self.past_df = self.past_df.append(self.df.iloc[0], ignore_index=True)\n",
      "C:\\Users\\hp\\AppData\\Local\\Temp\\ipykernel_2904\\365529943.py:940: FutureWarning: The frame.append method is deprecated and will be removed from pandas in a future version. Use pandas.concat instead.\n",
      "  self.df = self.df.append(row, ignore_index=True)\n",
      "C:\\Users\\hp\\AppData\\Local\\Temp\\ipykernel_2904\\365529943.py:946: FutureWarning: The frame.append method is deprecated and will be removed from pandas in a future version. Use pandas.concat instead.\n",
      "  self.past_df = self.past_df.append(self.df.iloc[0], ignore_index=True)\n"
     ]
    },
    {
     "name": "stdout",
     "output_type": "stream",
     "text": [
      "In Buy\n",
      "In red candle\n",
      "In SL Condition\n",
      "In Buy\n",
      "In red candle\n",
      "In Buy\n",
      "In a green candle\n",
      "In Buy\n",
      "In red candle\n",
      "In Buy\n",
      "In a green candle\n",
      "In TRG exit condition\n"
     ]
    },
    {
     "name": "stderr",
     "output_type": "stream",
     "text": [
      "C:\\Users\\hp\\AppData\\Local\\Temp\\ipykernel_2904\\365529943.py:940: FutureWarning: The frame.append method is deprecated and will be removed from pandas in a future version. Use pandas.concat instead.\n",
      "  self.df = self.df.append(row, ignore_index=True)\n",
      "C:\\Users\\hp\\AppData\\Local\\Temp\\ipykernel_2904\\365529943.py:946: FutureWarning: The frame.append method is deprecated and will be removed from pandas in a future version. Use pandas.concat instead.\n",
      "  self.past_df = self.past_df.append(self.df.iloc[0], ignore_index=True)\n"
     ]
    },
    {
     "name": "stdout",
     "output_type": "stream",
     "text": [
      "In Buy\n",
      "In a green candle\n",
      "In Buy\n",
      "In red candle\n",
      "In SL Condition\n"
     ]
    },
    {
     "name": "stderr",
     "output_type": "stream",
     "text": [
      "C:\\Users\\hp\\AppData\\Local\\Temp\\ipykernel_2904\\365529943.py:940: FutureWarning: The frame.append method is deprecated and will be removed from pandas in a future version. Use pandas.concat instead.\n",
      "  self.df = self.df.append(row, ignore_index=True)\n",
      "C:\\Users\\hp\\AppData\\Local\\Temp\\ipykernel_2904\\365529943.py:946: FutureWarning: The frame.append method is deprecated and will be removed from pandas in a future version. Use pandas.concat instead.\n",
      "  self.past_df = self.past_df.append(self.df.iloc[0], ignore_index=True)\n"
     ]
    },
    {
     "name": "stdout",
     "output_type": "stream",
     "text": [
      "In Buy\n",
      "In a green candle\n",
      "In Buy\n",
      "In red candle\n",
      "In Buy\n",
      "In red candle\n",
      "In Buy\n",
      "In red candle\n",
      "In Buy\n",
      "In a green candle\n",
      "In Buy\n",
      "In red candle\n",
      "In SL Condition\n"
     ]
    },
    {
     "name": "stderr",
     "output_type": "stream",
     "text": [
      "C:\\Users\\hp\\AppData\\Local\\Temp\\ipykernel_2904\\365529943.py:940: FutureWarning: The frame.append method is deprecated and will be removed from pandas in a future version. Use pandas.concat instead.\n",
      "  self.df = self.df.append(row, ignore_index=True)\n",
      "C:\\Users\\hp\\AppData\\Local\\Temp\\ipykernel_2904\\365529943.py:946: FutureWarning: The frame.append method is deprecated and will be removed from pandas in a future version. Use pandas.concat instead.\n",
      "  self.past_df = self.past_df.append(self.df.iloc[0], ignore_index=True)\n",
      "C:\\Users\\hp\\AppData\\Local\\Temp\\ipykernel_2904\\365529943.py:940: FutureWarning: The frame.append method is deprecated and will be removed from pandas in a future version. Use pandas.concat instead.\n",
      "  self.df = self.df.append(row, ignore_index=True)\n",
      "C:\\Users\\hp\\AppData\\Local\\Temp\\ipykernel_2904\\365529943.py:946: FutureWarning: The frame.append method is deprecated and will be removed from pandas in a future version. Use pandas.concat instead.\n",
      "  self.past_df = self.past_df.append(self.df.iloc[0], ignore_index=True)\n"
     ]
    },
    {
     "name": "stdout",
     "output_type": "stream",
     "text": [
      "In Buy\n",
      "In a green candle\n",
      "In Buy\n",
      "In a green candle\n",
      "In Buy\n",
      "In a green candle\n",
      "In TRG exit condition\n",
      "In Buy\n",
      "In a green candle\n",
      "In Buy\n",
      "In red candle\n",
      "In Buy\n",
      "In a green candle\n",
      "In Buy\n",
      "In red candle\n",
      "In Buy\n",
      "In a green candle\n",
      "In Buy\n",
      "In red candle\n",
      "In Buy\n",
      "In red candle\n",
      "In Buy\n",
      "In red candle\n",
      "In SL Condition\n"
     ]
    },
    {
     "name": "stderr",
     "output_type": "stream",
     "text": [
      "C:\\Users\\hp\\AppData\\Local\\Temp\\ipykernel_2904\\365529943.py:940: FutureWarning: The frame.append method is deprecated and will be removed from pandas in a future version. Use pandas.concat instead.\n",
      "  self.df = self.df.append(row, ignore_index=True)\n",
      "C:\\Users\\hp\\AppData\\Local\\Temp\\ipykernel_2904\\365529943.py:946: FutureWarning: The frame.append method is deprecated and will be removed from pandas in a future version. Use pandas.concat instead.\n",
      "  self.past_df = self.past_df.append(self.df.iloc[0], ignore_index=True)\n"
     ]
    },
    {
     "name": "stdout",
     "output_type": "stream",
     "text": [
      "In Buy\n",
      "In red candle\n",
      "In SL Condition\n"
     ]
    },
    {
     "name": "stderr",
     "output_type": "stream",
     "text": [
      "C:\\Users\\hp\\AppData\\Local\\Temp\\ipykernel_2904\\365529943.py:940: FutureWarning: The frame.append method is deprecated and will be removed from pandas in a future version. Use pandas.concat instead.\n",
      "  self.df = self.df.append(row, ignore_index=True)\n",
      "C:\\Users\\hp\\AppData\\Local\\Temp\\ipykernel_2904\\365529943.py:946: FutureWarning: The frame.append method is deprecated and will be removed from pandas in a future version. Use pandas.concat instead.\n",
      "  self.past_df = self.past_df.append(self.df.iloc[0], ignore_index=True)\n"
     ]
    },
    {
     "name": "stdout",
     "output_type": "stream",
     "text": [
      "In Buy\n",
      "In a green candle\n",
      "In Buy\n",
      "In a green candle\n",
      "In Buy\n",
      "In red candle\n",
      "In Buy\n",
      "In red candle\n",
      "In SL Condition\n"
     ]
    },
    {
     "name": "stderr",
     "output_type": "stream",
     "text": [
      "C:\\Users\\hp\\AppData\\Local\\Temp\\ipykernel_2904\\365529943.py:940: FutureWarning: The frame.append method is deprecated and will be removed from pandas in a future version. Use pandas.concat instead.\n",
      "  self.df = self.df.append(row, ignore_index=True)\n",
      "C:\\Users\\hp\\AppData\\Local\\Temp\\ipykernel_2904\\365529943.py:946: FutureWarning: The frame.append method is deprecated and will be removed from pandas in a future version. Use pandas.concat instead.\n",
      "  self.past_df = self.past_df.append(self.df.iloc[0], ignore_index=True)\n"
     ]
    },
    {
     "name": "stdout",
     "output_type": "stream",
     "text": [
      "In Sell\n",
      "In Sell\n",
      "In Sell\n",
      "In Sell\n",
      "In Sell\n",
      "In Sell\n"
     ]
    },
    {
     "name": "stderr",
     "output_type": "stream",
     "text": [
      "C:\\Users\\hp\\AppData\\Local\\Temp\\ipykernel_2904\\365529943.py:940: FutureWarning: The frame.append method is deprecated and will be removed from pandas in a future version. Use pandas.concat instead.\n",
      "  self.df = self.df.append(row, ignore_index=True)\n",
      "C:\\Users\\hp\\AppData\\Local\\Temp\\ipykernel_2904\\365529943.py:946: FutureWarning: The frame.append method is deprecated and will be removed from pandas in a future version. Use pandas.concat instead.\n",
      "  self.past_df = self.past_df.append(self.df.iloc[0], ignore_index=True)\n"
     ]
    },
    {
     "name": "stdout",
     "output_type": "stream",
     "text": [
      "In Sell\n",
      "In Sell\n",
      "In Sell\n",
      "In Sell\n",
      "In Sell\n"
     ]
    },
    {
     "name": "stderr",
     "output_type": "stream",
     "text": [
      "C:\\Users\\hp\\AppData\\Local\\Temp\\ipykernel_2904\\365529943.py:940: FutureWarning: The frame.append method is deprecated and will be removed from pandas in a future version. Use pandas.concat instead.\n",
      "  self.df = self.df.append(row, ignore_index=True)\n",
      "C:\\Users\\hp\\AppData\\Local\\Temp\\ipykernel_2904\\365529943.py:946: FutureWarning: The frame.append method is deprecated and will be removed from pandas in a future version. Use pandas.concat instead.\n",
      "  self.past_df = self.past_df.append(self.df.iloc[0], ignore_index=True)\n",
      "C:\\Users\\hp\\AppData\\Local\\Temp\\ipykernel_2904\\365529943.py:940: FutureWarning: The frame.append method is deprecated and will be removed from pandas in a future version. Use pandas.concat instead.\n",
      "  self.df = self.df.append(row, ignore_index=True)\n",
      "C:\\Users\\hp\\AppData\\Local\\Temp\\ipykernel_2904\\365529943.py:946: FutureWarning: The frame.append method is deprecated and will be removed from pandas in a future version. Use pandas.concat instead.\n",
      "  self.past_df = self.past_df.append(self.df.iloc[0], ignore_index=True)\n"
     ]
    },
    {
     "name": "stdout",
     "output_type": "stream",
     "text": [
      "In Sell\n",
      "In Sell\n",
      "In Sell\n",
      "In Sell\n",
      "In Sell\n",
      "In Sell\n",
      "In Sell\n",
      "In Sell\n",
      "In Sell\n",
      "In Sell\n",
      "In Sell\n",
      "In Sell\n",
      "In Sell\n",
      "In Sell\n",
      "In Sell\n",
      "In Sell\n",
      "In Sell\n",
      "In Sell\n",
      "In Sell\n",
      "In Sell\n",
      "In Sell\n",
      "In Sell\n",
      "In Sell\n",
      "In Sell\n",
      "In Sell\n"
     ]
    },
    {
     "name": "stderr",
     "output_type": "stream",
     "text": [
      "C:\\Users\\hp\\AppData\\Local\\Temp\\ipykernel_2904\\365529943.py:940: FutureWarning: The frame.append method is deprecated and will be removed from pandas in a future version. Use pandas.concat instead.\n",
      "  self.df = self.df.append(row, ignore_index=True)\n",
      "C:\\Users\\hp\\AppData\\Local\\Temp\\ipykernel_2904\\365529943.py:946: FutureWarning: The frame.append method is deprecated and will be removed from pandas in a future version. Use pandas.concat instead.\n",
      "  self.past_df = self.past_df.append(self.df.iloc[0], ignore_index=True)\n"
     ]
    },
    {
     "name": "stdout",
     "output_type": "stream",
     "text": [
      "In Sell\n",
      "In Sell\n",
      "In Sell\n",
      "In Sell\n",
      "In Sell\n",
      "In Sell\n"
     ]
    },
    {
     "name": "stderr",
     "output_type": "stream",
     "text": [
      "C:\\Users\\hp\\AppData\\Local\\Temp\\ipykernel_2904\\365529943.py:940: FutureWarning: The frame.append method is deprecated and will be removed from pandas in a future version. Use pandas.concat instead.\n",
      "  self.df = self.df.append(row, ignore_index=True)\n",
      "C:\\Users\\hp\\AppData\\Local\\Temp\\ipykernel_2904\\365529943.py:946: FutureWarning: The frame.append method is deprecated and will be removed from pandas in a future version. Use pandas.concat instead.\n",
      "  self.past_df = self.past_df.append(self.df.iloc[0], ignore_index=True)\n",
      "C:\\Users\\hp\\AppData\\Local\\Temp\\ipykernel_2904\\365529943.py:940: FutureWarning: The frame.append method is deprecated and will be removed from pandas in a future version. Use pandas.concat instead.\n",
      "  self.df = self.df.append(row, ignore_index=True)\n",
      "C:\\Users\\hp\\AppData\\Local\\Temp\\ipykernel_2904\\365529943.py:946: FutureWarning: The frame.append method is deprecated and will be removed from pandas in a future version. Use pandas.concat instead.\n",
      "  self.past_df = self.past_df.append(self.df.iloc[0], ignore_index=True)\n"
     ]
    },
    {
     "name": "stdout",
     "output_type": "stream",
     "text": [
      "In Buy\n",
      "In a green candle\n",
      "In Buy\n",
      "In red candle\n",
      "In Buy\n",
      "In red candle\n",
      "In SL Condition\n",
      "In Buy\n",
      "In red candle\n",
      "In Buy\n",
      "In a green candle\n",
      "In Buy\n",
      "In a green candle\n",
      "In Buy\n",
      "In red candle\n",
      "In Buy\n",
      "In red candle\n",
      "In Buy\n",
      "In red candle\n",
      "In SL Condition\n"
     ]
    },
    {
     "name": "stderr",
     "output_type": "stream",
     "text": [
      "C:\\Users\\hp\\AppData\\Local\\Temp\\ipykernel_2904\\365529943.py:940: FutureWarning: The frame.append method is deprecated and will be removed from pandas in a future version. Use pandas.concat instead.\n",
      "  self.df = self.df.append(row, ignore_index=True)\n",
      "C:\\Users\\hp\\AppData\\Local\\Temp\\ipykernel_2904\\365529943.py:946: FutureWarning: The frame.append method is deprecated and will be removed from pandas in a future version. Use pandas.concat instead.\n",
      "  self.past_df = self.past_df.append(self.df.iloc[0], ignore_index=True)\n"
     ]
    },
    {
     "name": "stdout",
     "output_type": "stream",
     "text": [
      "In Buy\n",
      "In a green candle\n",
      "In Buy\n",
      "In red candle\n",
      "In Buy\n",
      "In a green candle\n",
      "In SL Condition\n"
     ]
    },
    {
     "name": "stderr",
     "output_type": "stream",
     "text": [
      "C:\\Users\\hp\\AppData\\Local\\Temp\\ipykernel_2904\\365529943.py:940: FutureWarning: The frame.append method is deprecated and will be removed from pandas in a future version. Use pandas.concat instead.\n",
      "  self.df = self.df.append(row, ignore_index=True)\n",
      "C:\\Users\\hp\\AppData\\Local\\Temp\\ipykernel_2904\\365529943.py:946: FutureWarning: The frame.append method is deprecated and will be removed from pandas in a future version. Use pandas.concat instead.\n",
      "  self.past_df = self.past_df.append(self.df.iloc[0], ignore_index=True)\n"
     ]
    },
    {
     "name": "stdout",
     "output_type": "stream",
     "text": [
      "In Buy\n",
      "In a green candle\n",
      "In Buy\n",
      "In red candle\n",
      "In Buy\n",
      "In red candle\n",
      "In Buy\n",
      "In a green candle\n",
      "In Buy\n",
      "In red candle\n",
      "In Buy\n",
      "In a green candle\n",
      "In Buy\n",
      "In a green candle\n",
      "In Buy\n",
      "In red candle\n",
      "In Buy\n",
      "In a green candle\n",
      "In TRG exit condition\n"
     ]
    },
    {
     "name": "stderr",
     "output_type": "stream",
     "text": [
      "C:\\Users\\hp\\AppData\\Local\\Temp\\ipykernel_2904\\365529943.py:940: FutureWarning: The frame.append method is deprecated and will be removed from pandas in a future version. Use pandas.concat instead.\n",
      "  self.df = self.df.append(row, ignore_index=True)\n",
      "C:\\Users\\hp\\AppData\\Local\\Temp\\ipykernel_2904\\365529943.py:946: FutureWarning: The frame.append method is deprecated and will be removed from pandas in a future version. Use pandas.concat instead.\n",
      "  self.past_df = self.past_df.append(self.df.iloc[0], ignore_index=True)\n"
     ]
    },
    {
     "name": "stdout",
     "output_type": "stream",
     "text": [
      "In Buy\n",
      "In red candle\n",
      "In Buy\n",
      "In red candle\n",
      "In Buy\n",
      "In a green candle\n",
      "In Buy\n",
      "In red candle\n",
      "In Buy\n",
      "In red candle\n",
      "In SL Condition\n"
     ]
    },
    {
     "name": "stderr",
     "output_type": "stream",
     "text": [
      "C:\\Users\\hp\\AppData\\Local\\Temp\\ipykernel_2904\\365529943.py:940: FutureWarning: The frame.append method is deprecated and will be removed from pandas in a future version. Use pandas.concat instead.\n",
      "  self.df = self.df.append(row, ignore_index=True)\n",
      "C:\\Users\\hp\\AppData\\Local\\Temp\\ipykernel_2904\\365529943.py:946: FutureWarning: The frame.append method is deprecated and will be removed from pandas in a future version. Use pandas.concat instead.\n",
      "  self.past_df = self.past_df.append(self.df.iloc[0], ignore_index=True)\n"
     ]
    },
    {
     "name": "stdout",
     "output_type": "stream",
     "text": [
      "In Sell\n",
      "In Sell\n"
     ]
    },
    {
     "name": "stderr",
     "output_type": "stream",
     "text": [
      "C:\\Users\\hp\\AppData\\Local\\Temp\\ipykernel_2904\\365529943.py:940: FutureWarning: The frame.append method is deprecated and will be removed from pandas in a future version. Use pandas.concat instead.\n",
      "  self.df = self.df.append(row, ignore_index=True)\n",
      "C:\\Users\\hp\\AppData\\Local\\Temp\\ipykernel_2904\\365529943.py:946: FutureWarning: The frame.append method is deprecated and will be removed from pandas in a future version. Use pandas.concat instead.\n",
      "  self.past_df = self.past_df.append(self.df.iloc[0], ignore_index=True)\n"
     ]
    },
    {
     "name": "stdout",
     "output_type": "stream",
     "text": [
      "In Sell\n",
      "In Sell\n",
      "In Sell\n",
      "In Sell\n"
     ]
    },
    {
     "name": "stderr",
     "output_type": "stream",
     "text": [
      "C:\\Users\\hp\\AppData\\Local\\Temp\\ipykernel_2904\\365529943.py:940: FutureWarning: The frame.append method is deprecated and will be removed from pandas in a future version. Use pandas.concat instead.\n",
      "  self.df = self.df.append(row, ignore_index=True)\n",
      "C:\\Users\\hp\\AppData\\Local\\Temp\\ipykernel_2904\\365529943.py:946: FutureWarning: The frame.append method is deprecated and will be removed from pandas in a future version. Use pandas.concat instead.\n",
      "  self.past_df = self.past_df.append(self.df.iloc[0], ignore_index=True)\n",
      "C:\\Users\\hp\\AppData\\Local\\Temp\\ipykernel_2904\\365529943.py:940: FutureWarning: The frame.append method is deprecated and will be removed from pandas in a future version. Use pandas.concat instead.\n",
      "  self.df = self.df.append(row, ignore_index=True)\n",
      "C:\\Users\\hp\\AppData\\Local\\Temp\\ipykernel_2904\\365529943.py:946: FutureWarning: The frame.append method is deprecated and will be removed from pandas in a future version. Use pandas.concat instead.\n",
      "  self.past_df = self.past_df.append(self.df.iloc[0], ignore_index=True)\n"
     ]
    },
    {
     "name": "stdout",
     "output_type": "stream",
     "text": [
      "In Sell\n",
      "In Sell\n",
      "In Sell\n",
      "In Sell\n",
      "In Sell\n",
      "In Sell\n",
      "In Sell\n",
      "In Sell\n"
     ]
    },
    {
     "name": "stderr",
     "output_type": "stream",
     "text": [
      "C:\\Users\\hp\\AppData\\Local\\Temp\\ipykernel_2904\\365529943.py:940: FutureWarning: The frame.append method is deprecated and will be removed from pandas in a future version. Use pandas.concat instead.\n",
      "  self.df = self.df.append(row, ignore_index=True)\n",
      "C:\\Users\\hp\\AppData\\Local\\Temp\\ipykernel_2904\\365529943.py:946: FutureWarning: The frame.append method is deprecated and will be removed from pandas in a future version. Use pandas.concat instead.\n",
      "  self.past_df = self.past_df.append(self.df.iloc[0], ignore_index=True)\n"
     ]
    },
    {
     "name": "stdout",
     "output_type": "stream",
     "text": [
      "In Buy\n",
      "In red candle\n",
      "In Buy\n",
      "In red candle\n",
      "In Buy\n",
      "In a green candle\n",
      "In Buy\n",
      "In a green candle\n",
      "In Buy\n",
      "In red candle\n",
      "In Buy\n",
      "In a green candle\n",
      "In Buy\n",
      "In red candle\n",
      "In Buy\n",
      "In a green candle\n",
      "In Buy\n",
      "In red candle\n",
      "In Buy\n",
      "In a green candle\n",
      "In Buy\n",
      "In a green candle\n",
      "In Buy\n",
      "In a green candle\n",
      "In Buy\n",
      "In red candle\n",
      "In Buy\n",
      "In red candle\n",
      "In SL Condition\n"
     ]
    },
    {
     "name": "stderr",
     "output_type": "stream",
     "text": [
      "C:\\Users\\hp\\AppData\\Local\\Temp\\ipykernel_2904\\365529943.py:940: FutureWarning: The frame.append method is deprecated and will be removed from pandas in a future version. Use pandas.concat instead.\n",
      "  self.df = self.df.append(row, ignore_index=True)\n",
      "C:\\Users\\hp\\AppData\\Local\\Temp\\ipykernel_2904\\365529943.py:946: FutureWarning: The frame.append method is deprecated and will be removed from pandas in a future version. Use pandas.concat instead.\n",
      "  self.past_df = self.past_df.append(self.df.iloc[0], ignore_index=True)\n"
     ]
    },
    {
     "name": "stdout",
     "output_type": "stream",
     "text": [
      "In Buy\n",
      "In a green candle\n",
      "In Buy\n",
      "In red candle\n",
      "In Buy\n",
      "In a green candle\n",
      "In Buy\n",
      "In red candle\n",
      "In SL Condition\n"
     ]
    },
    {
     "name": "stderr",
     "output_type": "stream",
     "text": [
      "C:\\Users\\hp\\AppData\\Local\\Temp\\ipykernel_2904\\365529943.py:940: FutureWarning: The frame.append method is deprecated and will be removed from pandas in a future version. Use pandas.concat instead.\n",
      "  self.df = self.df.append(row, ignore_index=True)\n",
      "C:\\Users\\hp\\AppData\\Local\\Temp\\ipykernel_2904\\365529943.py:946: FutureWarning: The frame.append method is deprecated and will be removed from pandas in a future version. Use pandas.concat instead.\n",
      "  self.past_df = self.past_df.append(self.df.iloc[0], ignore_index=True)\n"
     ]
    },
    {
     "name": "stdout",
     "output_type": "stream",
     "text": [
      "In Sell\n",
      "In Sell\n",
      "In Sell\n",
      "In Sell\n"
     ]
    },
    {
     "name": "stderr",
     "output_type": "stream",
     "text": [
      "C:\\Users\\hp\\AppData\\Local\\Temp\\ipykernel_2904\\365529943.py:940: FutureWarning: The frame.append method is deprecated and will be removed from pandas in a future version. Use pandas.concat instead.\n",
      "  self.df = self.df.append(row, ignore_index=True)\n",
      "C:\\Users\\hp\\AppData\\Local\\Temp\\ipykernel_2904\\365529943.py:946: FutureWarning: The frame.append method is deprecated and will be removed from pandas in a future version. Use pandas.concat instead.\n",
      "  self.past_df = self.past_df.append(self.df.iloc[0], ignore_index=True)\n",
      "C:\\Users\\hp\\AppData\\Local\\Temp\\ipykernel_2904\\365529943.py:940: FutureWarning: The frame.append method is deprecated and will be removed from pandas in a future version. Use pandas.concat instead.\n",
      "  self.df = self.df.append(row, ignore_index=True)\n",
      "C:\\Users\\hp\\AppData\\Local\\Temp\\ipykernel_2904\\365529943.py:946: FutureWarning: The frame.append method is deprecated and will be removed from pandas in a future version. Use pandas.concat instead.\n",
      "  self.past_df = self.past_df.append(self.df.iloc[0], ignore_index=True)\n"
     ]
    },
    {
     "name": "stdout",
     "output_type": "stream",
     "text": [
      "In Sell\n",
      "In Sell\n",
      "In Sell\n",
      "In Sell\n",
      "In Sell\n",
      "In Sell\n",
      "In Sell\n",
      "In Sell\n",
      "In Sell\n",
      "In Sell\n",
      "In Sell\n",
      "In Buy\n",
      "In red candle\n",
      "In Buy\n",
      "In a green candle\n"
     ]
    },
    {
     "name": "stderr",
     "output_type": "stream",
     "text": [
      "C:\\Users\\hp\\AppData\\Local\\Temp\\ipykernel_2904\\365529943.py:940: FutureWarning: The frame.append method is deprecated and will be removed from pandas in a future version. Use pandas.concat instead.\n",
      "  self.df = self.df.append(row, ignore_index=True)\n",
      "C:\\Users\\hp\\AppData\\Local\\Temp\\ipykernel_2904\\365529943.py:946: FutureWarning: The frame.append method is deprecated and will be removed from pandas in a future version. Use pandas.concat instead.\n",
      "  self.past_df = self.past_df.append(self.df.iloc[0], ignore_index=True)\n"
     ]
    },
    {
     "name": "stdout",
     "output_type": "stream",
     "text": [
      "In Buy\n",
      "In red candle\n",
      "In Buy\n",
      "In red candle\n",
      "In Buy\n",
      "In a green candle\n",
      "In Buy\n",
      "In red candle\n",
      "In Buy\n",
      "In a green candle\n",
      "In Buy\n",
      "In red candle\n",
      "In Buy\n",
      "In a green candle\n",
      "In Buy\n",
      "In a green candle\n",
      "In Buy\n",
      "In red candle\n",
      "In SL Condition\n"
     ]
    },
    {
     "name": "stderr",
     "output_type": "stream",
     "text": [
      "C:\\Users\\hp\\AppData\\Local\\Temp\\ipykernel_2904\\365529943.py:940: FutureWarning: The frame.append method is deprecated and will be removed from pandas in a future version. Use pandas.concat instead.\n",
      "  self.df = self.df.append(row, ignore_index=True)\n",
      "C:\\Users\\hp\\AppData\\Local\\Temp\\ipykernel_2904\\365529943.py:946: FutureWarning: The frame.append method is deprecated and will be removed from pandas in a future version. Use pandas.concat instead.\n",
      "  self.past_df = self.past_df.append(self.df.iloc[0], ignore_index=True)\n"
     ]
    },
    {
     "name": "stdout",
     "output_type": "stream",
     "text": [
      "In Sell\n",
      "In Sell\n"
     ]
    },
    {
     "name": "stderr",
     "output_type": "stream",
     "text": [
      "C:\\Users\\hp\\AppData\\Local\\Temp\\ipykernel_2904\\365529943.py:940: FutureWarning: The frame.append method is deprecated and will be removed from pandas in a future version. Use pandas.concat instead.\n",
      "  self.df = self.df.append(row, ignore_index=True)\n",
      "C:\\Users\\hp\\AppData\\Local\\Temp\\ipykernel_2904\\365529943.py:946: FutureWarning: The frame.append method is deprecated and will be removed from pandas in a future version. Use pandas.concat instead.\n",
      "  self.past_df = self.past_df.append(self.df.iloc[0], ignore_index=True)\n"
     ]
    },
    {
     "name": "stdout",
     "output_type": "stream",
     "text": [
      "In Buy\n",
      "In red candle\n",
      "In Buy\n",
      "In red candle\n",
      "In SL Condition\n"
     ]
    },
    {
     "name": "stderr",
     "output_type": "stream",
     "text": [
      "C:\\Users\\hp\\AppData\\Local\\Temp\\ipykernel_2904\\365529943.py:940: FutureWarning: The frame.append method is deprecated and will be removed from pandas in a future version. Use pandas.concat instead.\n",
      "  self.df = self.df.append(row, ignore_index=True)\n",
      "C:\\Users\\hp\\AppData\\Local\\Temp\\ipykernel_2904\\365529943.py:946: FutureWarning: The frame.append method is deprecated and will be removed from pandas in a future version. Use pandas.concat instead.\n",
      "  self.past_df = self.past_df.append(self.df.iloc[0], ignore_index=True)\n"
     ]
    },
    {
     "name": "stdout",
     "output_type": "stream",
     "text": [
      "In Buy\n",
      "In red candle\n",
      "In Buy\n",
      "In a green candle\n",
      "In Buy\n",
      "In red candle\n",
      "In Buy\n",
      "In red candle\n",
      "In Buy\n",
      "In a green candle\n",
      "In Buy\n",
      "In a green candle\n",
      "In Buy\n",
      "In red candle\n",
      "In Buy\n",
      "In red candle\n",
      "In SL Condition\n"
     ]
    },
    {
     "name": "stderr",
     "output_type": "stream",
     "text": [
      "C:\\Users\\hp\\AppData\\Local\\Temp\\ipykernel_2904\\365529943.py:940: FutureWarning: The frame.append method is deprecated and will be removed from pandas in a future version. Use pandas.concat instead.\n",
      "  self.df = self.df.append(row, ignore_index=True)\n",
      "C:\\Users\\hp\\AppData\\Local\\Temp\\ipykernel_2904\\365529943.py:946: FutureWarning: The frame.append method is deprecated and will be removed from pandas in a future version. Use pandas.concat instead.\n",
      "  self.past_df = self.past_df.append(self.df.iloc[0], ignore_index=True)\n",
      "C:\\Users\\hp\\AppData\\Local\\Temp\\ipykernel_2904\\365529943.py:940: FutureWarning: The frame.append method is deprecated and will be removed from pandas in a future version. Use pandas.concat instead.\n",
      "  self.df = self.df.append(row, ignore_index=True)\n",
      "C:\\Users\\hp\\AppData\\Local\\Temp\\ipykernel_2904\\365529943.py:946: FutureWarning: The frame.append method is deprecated and will be removed from pandas in a future version. Use pandas.concat instead.\n",
      "  self.past_df = self.past_df.append(self.df.iloc[0], ignore_index=True)\n"
     ]
    },
    {
     "name": "stdout",
     "output_type": "stream",
     "text": [
      "In Buy\n",
      "In a green candle\n",
      "In Buy\n",
      "In red candle\n",
      "In Buy\n",
      "In a green candle\n",
      "In Buy\n",
      "In a green candle\n",
      "In TRG exit condition\n",
      "In Buy\n",
      "In red candle\n",
      "In SL Condition\n",
      "In Buy\n",
      "In a green candle\n",
      "In Buy\n",
      "In a green candle\n",
      "In TRG exit condition\n"
     ]
    },
    {
     "name": "stderr",
     "output_type": "stream",
     "text": [
      "C:\\Users\\hp\\AppData\\Local\\Temp\\ipykernel_2904\\365529943.py:940: FutureWarning: The frame.append method is deprecated and will be removed from pandas in a future version. Use pandas.concat instead.\n",
      "  self.df = self.df.append(row, ignore_index=True)\n",
      "C:\\Users\\hp\\AppData\\Local\\Temp\\ipykernel_2904\\365529943.py:946: FutureWarning: The frame.append method is deprecated and will be removed from pandas in a future version. Use pandas.concat instead.\n",
      "  self.past_df = self.past_df.append(self.df.iloc[0], ignore_index=True)\n",
      "C:\\Users\\hp\\AppData\\Local\\Temp\\ipykernel_2904\\365529943.py:940: FutureWarning: The frame.append method is deprecated and will be removed from pandas in a future version. Use pandas.concat instead.\n",
      "  self.df = self.df.append(row, ignore_index=True)\n",
      "C:\\Users\\hp\\AppData\\Local\\Temp\\ipykernel_2904\\365529943.py:946: FutureWarning: The frame.append method is deprecated and will be removed from pandas in a future version. Use pandas.concat instead.\n",
      "  self.past_df = self.past_df.append(self.df.iloc[0], ignore_index=True)\n"
     ]
    },
    {
     "name": "stdout",
     "output_type": "stream",
     "text": [
      "In Sell\n",
      "In Sell\n",
      "In Sell\n",
      "In Sell\n",
      "In Sell\n"
     ]
    },
    {
     "name": "stderr",
     "output_type": "stream",
     "text": [
      "C:\\Users\\hp\\AppData\\Local\\Temp\\ipykernel_2904\\365529943.py:940: FutureWarning: The frame.append method is deprecated and will be removed from pandas in a future version. Use pandas.concat instead.\n",
      "  self.df = self.df.append(row, ignore_index=True)\n",
      "C:\\Users\\hp\\AppData\\Local\\Temp\\ipykernel_2904\\365529943.py:946: FutureWarning: The frame.append method is deprecated and will be removed from pandas in a future version. Use pandas.concat instead.\n",
      "  self.past_df = self.past_df.append(self.df.iloc[0], ignore_index=True)\n",
      "C:\\Users\\hp\\AppData\\Local\\Temp\\ipykernel_2904\\365529943.py:940: FutureWarning: The frame.append method is deprecated and will be removed from pandas in a future version. Use pandas.concat instead.\n",
      "  self.df = self.df.append(row, ignore_index=True)\n",
      "C:\\Users\\hp\\AppData\\Local\\Temp\\ipykernel_2904\\365529943.py:946: FutureWarning: The frame.append method is deprecated and will be removed from pandas in a future version. Use pandas.concat instead.\n",
      "  self.past_df = self.past_df.append(self.df.iloc[0], ignore_index=True)\n"
     ]
    },
    {
     "name": "stdout",
     "output_type": "stream",
     "text": [
      "In Buy\n",
      "In red candle\n",
      "In SL Condition\n",
      "In Buy\n",
      "In a green candle\n",
      "In Buy\n",
      "In a green candle\n",
      "In Buy\n",
      "In red candle\n",
      "In Buy\n",
      "In a green candle\n",
      "In TRG exit condition\n"
     ]
    },
    {
     "name": "stderr",
     "output_type": "stream",
     "text": [
      "C:\\Users\\hp\\AppData\\Local\\Temp\\ipykernel_2904\\365529943.py:940: FutureWarning: The frame.append method is deprecated and will be removed from pandas in a future version. Use pandas.concat instead.\n",
      "  self.df = self.df.append(row, ignore_index=True)\n",
      "C:\\Users\\hp\\AppData\\Local\\Temp\\ipykernel_2904\\365529943.py:946: FutureWarning: The frame.append method is deprecated and will be removed from pandas in a future version. Use pandas.concat instead.\n",
      "  self.past_df = self.past_df.append(self.df.iloc[0], ignore_index=True)\n"
     ]
    },
    {
     "name": "stdout",
     "output_type": "stream",
     "text": [
      "In Buy\n",
      "In red candle\n",
      "In Buy\n",
      "In red candle\n",
      "In Buy\n",
      "In a green candle\n",
      "In Buy\n",
      "In a green candle\n",
      "In Buy\n",
      "In red candle\n",
      "In Buy\n",
      "In red candle\n",
      "In Buy\n",
      "In red candle\n",
      "In Buy\n",
      "In red candle\n",
      "In Buy\n",
      "In red candle\n",
      "In SL Condition\n"
     ]
    },
    {
     "name": "stderr",
     "output_type": "stream",
     "text": [
      "C:\\Users\\hp\\AppData\\Local\\Temp\\ipykernel_2904\\365529943.py:940: FutureWarning: The frame.append method is deprecated and will be removed from pandas in a future version. Use pandas.concat instead.\n",
      "  self.df = self.df.append(row, ignore_index=True)\n",
      "C:\\Users\\hp\\AppData\\Local\\Temp\\ipykernel_2904\\365529943.py:946: FutureWarning: The frame.append method is deprecated and will be removed from pandas in a future version. Use pandas.concat instead.\n",
      "  self.past_df = self.past_df.append(self.df.iloc[0], ignore_index=True)\n"
     ]
    },
    {
     "name": "stdout",
     "output_type": "stream",
     "text": [
      "In Buy\n",
      "In red candle\n",
      "In Buy\n",
      "In red candle\n",
      "In Buy\n",
      "In red candle\n",
      "In SL Condition\n"
     ]
    },
    {
     "name": "stderr",
     "output_type": "stream",
     "text": [
      "C:\\Users\\hp\\AppData\\Local\\Temp\\ipykernel_2904\\365529943.py:940: FutureWarning: The frame.append method is deprecated and will be removed from pandas in a future version. Use pandas.concat instead.\n",
      "  self.df = self.df.append(row, ignore_index=True)\n",
      "C:\\Users\\hp\\AppData\\Local\\Temp\\ipykernel_2904\\365529943.py:946: FutureWarning: The frame.append method is deprecated and will be removed from pandas in a future version. Use pandas.concat instead.\n",
      "  self.past_df = self.past_df.append(self.df.iloc[0], ignore_index=True)\n",
      "C:\\Users\\hp\\AppData\\Local\\Temp\\ipykernel_2904\\365529943.py:940: FutureWarning: The frame.append method is deprecated and will be removed from pandas in a future version. Use pandas.concat instead.\n",
      "  self.df = self.df.append(row, ignore_index=True)\n",
      "C:\\Users\\hp\\AppData\\Local\\Temp\\ipykernel_2904\\365529943.py:946: FutureWarning: The frame.append method is deprecated and will be removed from pandas in a future version. Use pandas.concat instead.\n",
      "  self.past_df = self.past_df.append(self.df.iloc[0], ignore_index=True)\n"
     ]
    },
    {
     "name": "stdout",
     "output_type": "stream",
     "text": [
      "In Sell\n",
      "In Sell\n",
      "In Sell\n",
      "In Sell\n",
      "In Sell\n",
      "In Sell\n",
      "In Sell\n",
      "In Sell\n"
     ]
    },
    {
     "name": "stderr",
     "output_type": "stream",
     "text": [
      "C:\\Users\\hp\\AppData\\Local\\Temp\\ipykernel_2904\\365529943.py:940: FutureWarning: The frame.append method is deprecated and will be removed from pandas in a future version. Use pandas.concat instead.\n",
      "  self.df = self.df.append(row, ignore_index=True)\n",
      "C:\\Users\\hp\\AppData\\Local\\Temp\\ipykernel_2904\\365529943.py:946: FutureWarning: The frame.append method is deprecated and will be removed from pandas in a future version. Use pandas.concat instead.\n",
      "  self.past_df = self.past_df.append(self.df.iloc[0], ignore_index=True)\n"
     ]
    },
    {
     "name": "stdout",
     "output_type": "stream",
     "text": [
      "In Sell\n"
     ]
    },
    {
     "name": "stderr",
     "output_type": "stream",
     "text": [
      "C:\\Users\\hp\\AppData\\Local\\Temp\\ipykernel_2904\\365529943.py:940: FutureWarning: The frame.append method is deprecated and will be removed from pandas in a future version. Use pandas.concat instead.\n",
      "  self.df = self.df.append(row, ignore_index=True)\n",
      "C:\\Users\\hp\\AppData\\Local\\Temp\\ipykernel_2904\\365529943.py:946: FutureWarning: The frame.append method is deprecated and will be removed from pandas in a future version. Use pandas.concat instead.\n",
      "  self.past_df = self.past_df.append(self.df.iloc[0], ignore_index=True)\n"
     ]
    },
    {
     "name": "stdout",
     "output_type": "stream",
     "text": [
      "In Buy\n",
      "In a green candle\n",
      "In Buy\n",
      "In a green candle\n",
      "In Buy\n",
      "In a green candle\n",
      "In Buy\n",
      "In red candle\n",
      "In Buy\n",
      "In a green candle\n",
      "In Buy\n",
      "In a green candle\n",
      "In TRG exit condition\n"
     ]
    },
    {
     "name": "stderr",
     "output_type": "stream",
     "text": [
      "C:\\Users\\hp\\AppData\\Local\\Temp\\ipykernel_2904\\365529943.py:940: FutureWarning: The frame.append method is deprecated and will be removed from pandas in a future version. Use pandas.concat instead.\n",
      "  self.df = self.df.append(row, ignore_index=True)\n",
      "C:\\Users\\hp\\AppData\\Local\\Temp\\ipykernel_2904\\365529943.py:946: FutureWarning: The frame.append method is deprecated and will be removed from pandas in a future version. Use pandas.concat instead.\n",
      "  self.past_df = self.past_df.append(self.df.iloc[0], ignore_index=True)\n"
     ]
    },
    {
     "name": "stdout",
     "output_type": "stream",
     "text": [
      "In Buy\n",
      "In a green candle\n",
      "In Buy\n",
      "In a green candle\n",
      "In Buy\n",
      "In red candle\n",
      "In Buy\n",
      "In a green candle\n",
      "In Buy\n",
      "In red candle\n",
      "In Buy\n",
      "In a green candle\n",
      "In Buy\n",
      "In red candle\n",
      "In Buy\n",
      "In a green candle\n",
      "In Buy\n",
      "In red candle\n",
      "In Buy\n",
      "In red candle\n",
      "In Buy\n",
      "In red candle\n",
      "In Buy\n",
      "In red candle\n",
      "In Buy\n",
      "In a green candle\n",
      "In Buy\n",
      "In a green candle\n",
      "In Buy\n",
      "In red candle\n",
      "In Buy\n",
      "In a green candle\n",
      "In Buy\n",
      "In a green candle\n",
      "In Buy\n",
      "In red candle\n",
      "In Buy\n",
      "In a green candle\n",
      "In TRG exit condition\n"
     ]
    },
    {
     "name": "stderr",
     "output_type": "stream",
     "text": [
      "C:\\Users\\hp\\AppData\\Local\\Temp\\ipykernel_2904\\365529943.py:940: FutureWarning: The frame.append method is deprecated and will be removed from pandas in a future version. Use pandas.concat instead.\n",
      "  self.df = self.df.append(row, ignore_index=True)\n",
      "C:\\Users\\hp\\AppData\\Local\\Temp\\ipykernel_2904\\365529943.py:946: FutureWarning: The frame.append method is deprecated and will be removed from pandas in a future version. Use pandas.concat instead.\n",
      "  self.past_df = self.past_df.append(self.df.iloc[0], ignore_index=True)\n"
     ]
    },
    {
     "name": "stdout",
     "output_type": "stream",
     "text": [
      "In Buy\n",
      "In red candle\n",
      "In Buy\n",
      "In a green candle\n",
      "In Buy\n",
      "In a green candle\n",
      "In Buy\n",
      "In a green candle\n",
      "In TRG exit condition\n"
     ]
    },
    {
     "name": "stderr",
     "output_type": "stream",
     "text": [
      "C:\\Users\\hp\\AppData\\Local\\Temp\\ipykernel_2904\\365529943.py:940: FutureWarning: The frame.append method is deprecated and will be removed from pandas in a future version. Use pandas.concat instead.\n",
      "  self.df = self.df.append(row, ignore_index=True)\n",
      "C:\\Users\\hp\\AppData\\Local\\Temp\\ipykernel_2904\\365529943.py:946: FutureWarning: The frame.append method is deprecated and will be removed from pandas in a future version. Use pandas.concat instead.\n",
      "  self.past_df = self.past_df.append(self.df.iloc[0], ignore_index=True)\n"
     ]
    },
    {
     "name": "stdout",
     "output_type": "stream",
     "text": [
      "In Sell\n",
      "In Sell\n",
      "In Sell\n",
      "In Sell\n",
      "In Sell\n",
      "In Sell\n",
      "In Sell\n",
      "In Sell\n",
      "In Sell\n",
      "In Sell\n",
      "In Sell\n",
      "In Sell\n",
      "In Sell\n",
      "In Sell\n",
      "In Sell\n",
      "In Sell\n",
      "In Sell\n",
      "In Sell\n",
      "In Sell\n",
      "In Sell\n",
      "In Sell\n"
     ]
    },
    {
     "name": "stderr",
     "output_type": "stream",
     "text": [
      "C:\\Users\\hp\\AppData\\Local\\Temp\\ipykernel_2904\\365529943.py:940: FutureWarning: The frame.append method is deprecated and will be removed from pandas in a future version. Use pandas.concat instead.\n",
      "  self.df = self.df.append(row, ignore_index=True)\n",
      "C:\\Users\\hp\\AppData\\Local\\Temp\\ipykernel_2904\\365529943.py:946: FutureWarning: The frame.append method is deprecated and will be removed from pandas in a future version. Use pandas.concat instead.\n",
      "  self.past_df = self.past_df.append(self.df.iloc[0], ignore_index=True)\n"
     ]
    },
    {
     "name": "stdout",
     "output_type": "stream",
     "text": [
      "In Sell\n",
      "In Sell\n",
      "In Sell\n",
      "In Sell\n",
      "In Sell\n",
      "In Sell\n",
      "In Sell\n",
      "In Sell\n",
      "In Sell\n",
      "In Sell\n",
      "In Sell\n",
      "In Sell\n",
      "In Sell\n",
      "In Sell\n",
      "In Sell\n",
      "In Sell\n",
      "In Sell\n",
      "In Sell\n"
     ]
    },
    {
     "name": "stderr",
     "output_type": "stream",
     "text": [
      "C:\\Users\\hp\\AppData\\Local\\Temp\\ipykernel_2904\\365529943.py:940: FutureWarning: The frame.append method is deprecated and will be removed from pandas in a future version. Use pandas.concat instead.\n",
      "  self.df = self.df.append(row, ignore_index=True)\n",
      "C:\\Users\\hp\\AppData\\Local\\Temp\\ipykernel_2904\\365529943.py:946: FutureWarning: The frame.append method is deprecated and will be removed from pandas in a future version. Use pandas.concat instead.\n",
      "  self.past_df = self.past_df.append(self.df.iloc[0], ignore_index=True)\n"
     ]
    },
    {
     "name": "stdout",
     "output_type": "stream",
     "text": [
      "In Buy\n",
      "In red candle\n",
      "In Buy\n",
      "In a green candle\n",
      "In Buy\n",
      "In a green candle\n",
      "In Buy\n",
      "In a green candle\n",
      "In Buy\n",
      "In red candle\n",
      "In Buy\n",
      "In red candle\n",
      "In Buy\n",
      "In red candle\n",
      "In SL Condition\n"
     ]
    },
    {
     "name": "stderr",
     "output_type": "stream",
     "text": [
      "C:\\Users\\hp\\AppData\\Local\\Temp\\ipykernel_2904\\365529943.py:940: FutureWarning: The frame.append method is deprecated and will be removed from pandas in a future version. Use pandas.concat instead.\n",
      "  self.df = self.df.append(row, ignore_index=True)\n",
      "C:\\Users\\hp\\AppData\\Local\\Temp\\ipykernel_2904\\365529943.py:946: FutureWarning: The frame.append method is deprecated and will be removed from pandas in a future version. Use pandas.concat instead.\n",
      "  self.past_df = self.past_df.append(self.df.iloc[0], ignore_index=True)\n"
     ]
    },
    {
     "name": "stdout",
     "output_type": "stream",
     "text": [
      "In Sell\n",
      "In Sell\n",
      "In Sell\n",
      "In Sell\n",
      "In Sell\n",
      "In Sell\n",
      "In Sell\n",
      "In Sell\n",
      "In Sell\n",
      "In Sell\n"
     ]
    },
    {
     "name": "stderr",
     "output_type": "stream",
     "text": [
      "C:\\Users\\hp\\AppData\\Local\\Temp\\ipykernel_2904\\365529943.py:940: FutureWarning: The frame.append method is deprecated and will be removed from pandas in a future version. Use pandas.concat instead.\n",
      "  self.df = self.df.append(row, ignore_index=True)\n",
      "C:\\Users\\hp\\AppData\\Local\\Temp\\ipykernel_2904\\365529943.py:946: FutureWarning: The frame.append method is deprecated and will be removed from pandas in a future version. Use pandas.concat instead.\n",
      "  self.past_df = self.past_df.append(self.df.iloc[0], ignore_index=True)\n"
     ]
    },
    {
     "name": "stdout",
     "output_type": "stream",
     "text": [
      "In Sell\n",
      "In Sell\n"
     ]
    },
    {
     "name": "stderr",
     "output_type": "stream",
     "text": [
      "C:\\Users\\hp\\AppData\\Local\\Temp\\ipykernel_2904\\365529943.py:940: FutureWarning: The frame.append method is deprecated and will be removed from pandas in a future version. Use pandas.concat instead.\n",
      "  self.df = self.df.append(row, ignore_index=True)\n",
      "C:\\Users\\hp\\AppData\\Local\\Temp\\ipykernel_2904\\365529943.py:946: FutureWarning: The frame.append method is deprecated and will be removed from pandas in a future version. Use pandas.concat instead.\n",
      "  self.past_df = self.past_df.append(self.df.iloc[0], ignore_index=True)\n"
     ]
    },
    {
     "name": "stdout",
     "output_type": "stream",
     "text": [
      "In Sell\n",
      "In Sell\n",
      "In Sell\n",
      "In Sell\n",
      "In Sell\n",
      "In Sell\n"
     ]
    },
    {
     "name": "stderr",
     "output_type": "stream",
     "text": [
      "C:\\Users\\hp\\AppData\\Local\\Temp\\ipykernel_2904\\365529943.py:940: FutureWarning: The frame.append method is deprecated and will be removed from pandas in a future version. Use pandas.concat instead.\n",
      "  self.df = self.df.append(row, ignore_index=True)\n",
      "C:\\Users\\hp\\AppData\\Local\\Temp\\ipykernel_2904\\365529943.py:946: FutureWarning: The frame.append method is deprecated and will be removed from pandas in a future version. Use pandas.concat instead.\n",
      "  self.past_df = self.past_df.append(self.df.iloc[0], ignore_index=True)\n"
     ]
    },
    {
     "name": "stdout",
     "output_type": "stream",
     "text": [
      "In Sell\n",
      "In Sell\n",
      "In Sell\n"
     ]
    },
    {
     "name": "stderr",
     "output_type": "stream",
     "text": [
      "C:\\Users\\hp\\AppData\\Local\\Temp\\ipykernel_2904\\365529943.py:940: FutureWarning: The frame.append method is deprecated and will be removed from pandas in a future version. Use pandas.concat instead.\n",
      "  self.df = self.df.append(row, ignore_index=True)\n",
      "C:\\Users\\hp\\AppData\\Local\\Temp\\ipykernel_2904\\365529943.py:946: FutureWarning: The frame.append method is deprecated and will be removed from pandas in a future version. Use pandas.concat instead.\n",
      "  self.past_df = self.past_df.append(self.df.iloc[0], ignore_index=True)\n"
     ]
    },
    {
     "name": "stdout",
     "output_type": "stream",
     "text": [
      "In Sell\n"
     ]
    },
    {
     "name": "stderr",
     "output_type": "stream",
     "text": [
      "C:\\Users\\hp\\AppData\\Local\\Temp\\ipykernel_2904\\365529943.py:940: FutureWarning: The frame.append method is deprecated and will be removed from pandas in a future version. Use pandas.concat instead.\n",
      "  self.df = self.df.append(row, ignore_index=True)\n",
      "C:\\Users\\hp\\AppData\\Local\\Temp\\ipykernel_2904\\365529943.py:946: FutureWarning: The frame.append method is deprecated and will be removed from pandas in a future version. Use pandas.concat instead.\n",
      "  self.past_df = self.past_df.append(self.df.iloc[0], ignore_index=True)\n"
     ]
    },
    {
     "name": "stdout",
     "output_type": "stream",
     "text": [
      "In Sell\n",
      "In Sell\n",
      "In Sell\n"
     ]
    },
    {
     "name": "stderr",
     "output_type": "stream",
     "text": [
      "C:\\Users\\hp\\AppData\\Local\\Temp\\ipykernel_2904\\365529943.py:940: FutureWarning: The frame.append method is deprecated and will be removed from pandas in a future version. Use pandas.concat instead.\n",
      "  self.df = self.df.append(row, ignore_index=True)\n",
      "C:\\Users\\hp\\AppData\\Local\\Temp\\ipykernel_2904\\365529943.py:946: FutureWarning: The frame.append method is deprecated and will be removed from pandas in a future version. Use pandas.concat instead.\n",
      "  self.past_df = self.past_df.append(self.df.iloc[0], ignore_index=True)\n"
     ]
    },
    {
     "name": "stdout",
     "output_type": "stream",
     "text": [
      "In Sell\n",
      "In Sell\n",
      "In Sell\n",
      "In Sell\n"
     ]
    },
    {
     "name": "stderr",
     "output_type": "stream",
     "text": [
      "C:\\Users\\hp\\AppData\\Local\\Temp\\ipykernel_2904\\365529943.py:940: FutureWarning: The frame.append method is deprecated and will be removed from pandas in a future version. Use pandas.concat instead.\n",
      "  self.df = self.df.append(row, ignore_index=True)\n",
      "C:\\Users\\hp\\AppData\\Local\\Temp\\ipykernel_2904\\365529943.py:946: FutureWarning: The frame.append method is deprecated and will be removed from pandas in a future version. Use pandas.concat instead.\n",
      "  self.past_df = self.past_df.append(self.df.iloc[0], ignore_index=True)\n",
      "C:\\Users\\hp\\AppData\\Local\\Temp\\ipykernel_2904\\365529943.py:940: FutureWarning: The frame.append method is deprecated and will be removed from pandas in a future version. Use pandas.concat instead.\n",
      "  self.df = self.df.append(row, ignore_index=True)\n",
      "C:\\Users\\hp\\AppData\\Local\\Temp\\ipykernel_2904\\365529943.py:946: FutureWarning: The frame.append method is deprecated and will be removed from pandas in a future version. Use pandas.concat instead.\n",
      "  self.past_df = self.past_df.append(self.df.iloc[0], ignore_index=True)\n",
      "C:\\Users\\hp\\AppData\\Local\\Temp\\ipykernel_2904\\365529943.py:940: FutureWarning: The frame.append method is deprecated and will be removed from pandas in a future version. Use pandas.concat instead.\n",
      "  self.df = self.df.append(row, ignore_index=True)\n",
      "C:\\Users\\hp\\AppData\\Local\\Temp\\ipykernel_2904\\365529943.py:946: FutureWarning: The frame.append method is deprecated and will be removed from pandas in a future version. Use pandas.concat instead.\n",
      "  self.past_df = self.past_df.append(self.df.iloc[0], ignore_index=True)\n"
     ]
    },
    {
     "name": "stdout",
     "output_type": "stream",
     "text": [
      "In Sell\n",
      "In Sell\n",
      "In Sell\n",
      "In Sell\n",
      "In Sell\n",
      "In Sell\n",
      "In Sell\n"
     ]
    },
    {
     "name": "stderr",
     "output_type": "stream",
     "text": [
      "C:\\Users\\hp\\AppData\\Local\\Temp\\ipykernel_2904\\365529943.py:940: FutureWarning: The frame.append method is deprecated and will be removed from pandas in a future version. Use pandas.concat instead.\n",
      "  self.df = self.df.append(row, ignore_index=True)\n",
      "C:\\Users\\hp\\AppData\\Local\\Temp\\ipykernel_2904\\365529943.py:946: FutureWarning: The frame.append method is deprecated and will be removed from pandas in a future version. Use pandas.concat instead.\n",
      "  self.past_df = self.past_df.append(self.df.iloc[0], ignore_index=True)\n"
     ]
    },
    {
     "name": "stdout",
     "output_type": "stream",
     "text": [
      "In Sell\n",
      "In Sell\n",
      "In Sell\n",
      "In Sell\n",
      "In Sell\n",
      "In Sell\n",
      "In Sell\n",
      "In Sell\n",
      "In Sell\n",
      "In Sell\n",
      "In Sell\n",
      "In Sell\n",
      "In Sell\n",
      "In Sell\n",
      "In Sell\n",
      "In Sell\n",
      "In Sell\n",
      "In Sell\n",
      "In Sell\n",
      "In Sell\n"
     ]
    },
    {
     "name": "stderr",
     "output_type": "stream",
     "text": [
      "C:\\Users\\hp\\AppData\\Local\\Temp\\ipykernel_2904\\365529943.py:940: FutureWarning: The frame.append method is deprecated and will be removed from pandas in a future version. Use pandas.concat instead.\n",
      "  self.df = self.df.append(row, ignore_index=True)\n",
      "C:\\Users\\hp\\AppData\\Local\\Temp\\ipykernel_2904\\365529943.py:946: FutureWarning: The frame.append method is deprecated and will be removed from pandas in a future version. Use pandas.concat instead.\n",
      "  self.past_df = self.past_df.append(self.df.iloc[0], ignore_index=True)\n",
      "C:\\Users\\hp\\AppData\\Local\\Temp\\ipykernel_2904\\365529943.py:940: FutureWarning: The frame.append method is deprecated and will be removed from pandas in a future version. Use pandas.concat instead.\n",
      "  self.df = self.df.append(row, ignore_index=True)\n",
      "C:\\Users\\hp\\AppData\\Local\\Temp\\ipykernel_2904\\365529943.py:946: FutureWarning: The frame.append method is deprecated and will be removed from pandas in a future version. Use pandas.concat instead.\n",
      "  self.past_df = self.past_df.append(self.df.iloc[0], ignore_index=True)\n"
     ]
    },
    {
     "name": "stdout",
     "output_type": "stream",
     "text": [
      "In Sell\n",
      "In Sell\n",
      "In Sell\n",
      "In Sell\n",
      "In Sell\n",
      "In Sell\n"
     ]
    },
    {
     "name": "stderr",
     "output_type": "stream",
     "text": [
      "C:\\Users\\hp\\AppData\\Local\\Temp\\ipykernel_2904\\365529943.py:940: FutureWarning: The frame.append method is deprecated and will be removed from pandas in a future version. Use pandas.concat instead.\n",
      "  self.df = self.df.append(row, ignore_index=True)\n",
      "C:\\Users\\hp\\AppData\\Local\\Temp\\ipykernel_2904\\365529943.py:946: FutureWarning: The frame.append method is deprecated and will be removed from pandas in a future version. Use pandas.concat instead.\n",
      "  self.past_df = self.past_df.append(self.df.iloc[0], ignore_index=True)\n"
     ]
    },
    {
     "name": "stdout",
     "output_type": "stream",
     "text": [
      "In Sell\n",
      "In Sell\n",
      "In Sell\n",
      "In Sell\n",
      "In Sell\n",
      "In Sell\n",
      "In Sell\n",
      "In Sell\n"
     ]
    },
    {
     "name": "stderr",
     "output_type": "stream",
     "text": [
      "C:\\Users\\hp\\AppData\\Local\\Temp\\ipykernel_2904\\365529943.py:940: FutureWarning: The frame.append method is deprecated and will be removed from pandas in a future version. Use pandas.concat instead.\n",
      "  self.df = self.df.append(row, ignore_index=True)\n",
      "C:\\Users\\hp\\AppData\\Local\\Temp\\ipykernel_2904\\365529943.py:946: FutureWarning: The frame.append method is deprecated and will be removed from pandas in a future version. Use pandas.concat instead.\n",
      "  self.past_df = self.past_df.append(self.df.iloc[0], ignore_index=True)\n",
      "C:\\Users\\hp\\AppData\\Local\\Temp\\ipykernel_2904\\365529943.py:940: FutureWarning: The frame.append method is deprecated and will be removed from pandas in a future version. Use pandas.concat instead.\n",
      "  self.df = self.df.append(row, ignore_index=True)\n",
      "C:\\Users\\hp\\AppData\\Local\\Temp\\ipykernel_2904\\365529943.py:946: FutureWarning: The frame.append method is deprecated and will be removed from pandas in a future version. Use pandas.concat instead.\n",
      "  self.past_df = self.past_df.append(self.df.iloc[0], ignore_index=True)\n"
     ]
    },
    {
     "name": "stdout",
     "output_type": "stream",
     "text": [
      "In Buy\n",
      "In red candle\n",
      "In Buy\n",
      "In red candle\n",
      "In Buy\n",
      "In red candle\n",
      "In SL Condition\n",
      "In Buy\n",
      "In red candle\n",
      "In Buy\n",
      "In a green candle\n",
      "In Buy\n",
      "In a green candle\n",
      "In Buy\n",
      "In a green candle\n",
      "In Buy\n",
      "In red candle\n",
      "In Buy\n",
      "In a green candle\n",
      "In Buy\n",
      "In a green candle\n",
      "In Buy\n",
      "In red candle\n",
      "In Buy\n",
      "In red candle\n",
      "In Buy\n",
      "In red candle\n",
      "In SL Condition\n"
     ]
    },
    {
     "name": "stderr",
     "output_type": "stream",
     "text": [
      "C:\\Users\\hp\\AppData\\Local\\Temp\\ipykernel_2904\\365529943.py:940: FutureWarning: The frame.append method is deprecated and will be removed from pandas in a future version. Use pandas.concat instead.\n",
      "  self.df = self.df.append(row, ignore_index=True)\n",
      "C:\\Users\\hp\\AppData\\Local\\Temp\\ipykernel_2904\\365529943.py:946: FutureWarning: The frame.append method is deprecated and will be removed from pandas in a future version. Use pandas.concat instead.\n",
      "  self.past_df = self.past_df.append(self.df.iloc[0], ignore_index=True)\n"
     ]
    },
    {
     "name": "stdout",
     "output_type": "stream",
     "text": [
      "In Buy\n",
      "In red candle\n",
      "In Buy\n",
      "In red candle\n",
      "In Buy\n",
      "In a green candle\n",
      "In Buy\n",
      "In red candle\n",
      "In Buy\n",
      "In a green candle\n",
      "In Buy\n",
      "In a green candle\n",
      "In Buy\n",
      "In a green candle\n",
      "In Buy\n",
      "In red candle\n",
      "In Buy\n",
      "In red candle\n",
      "In Buy\n",
      "In a green candle\n",
      "In Buy\n",
      "In red candle\n",
      "In Buy\n",
      "In red candle\n",
      "In Buy\n",
      "In red candle\n",
      "In Buy\n",
      "In red candle\n",
      "In Buy\n",
      "In a green candle\n",
      "In Buy\n",
      "In red candle\n",
      "In Buy\n",
      "In a green candle\n",
      "In Buy\n",
      "In red candle\n",
      "In Buy\n",
      "In a green candle\n",
      "In Buy\n",
      "In red candle\n",
      "In Buy\n",
      "In red candle\n",
      "In Buy\n",
      "In red candle\n",
      "In Buy\n",
      "In a green candle\n",
      "In Buy\n",
      "In a green candle\n",
      "In Buy\n",
      "In red candle\n",
      "In Buy\n",
      "In a green candle\n",
      "In Buy\n",
      "In red candle\n",
      "In Buy\n",
      "In red candle\n",
      "In Buy\n",
      "In a green candle\n",
      "In Buy\n",
      "In a green candle\n",
      "In Buy\n",
      "In a green candle\n",
      "In Buy\n",
      "In a green candle\n",
      "In Buy\n",
      "In red candle\n",
      "In Buy\n",
      "In red candle\n",
      "In Buy\n",
      "In red candle\n",
      "In Buy\n",
      "In red candle\n",
      "In Buy\n",
      "In red candle\n",
      "In Buy\n",
      "In red candle\n",
      "In SL Condition\n"
     ]
    },
    {
     "name": "stderr",
     "output_type": "stream",
     "text": [
      "C:\\Users\\hp\\AppData\\Local\\Temp\\ipykernel_2904\\365529943.py:940: FutureWarning: The frame.append method is deprecated and will be removed from pandas in a future version. Use pandas.concat instead.\n",
      "  self.df = self.df.append(row, ignore_index=True)\n",
      "C:\\Users\\hp\\AppData\\Local\\Temp\\ipykernel_2904\\365529943.py:946: FutureWarning: The frame.append method is deprecated and will be removed from pandas in a future version. Use pandas.concat instead.\n",
      "  self.past_df = self.past_df.append(self.df.iloc[0], ignore_index=True)\n"
     ]
    },
    {
     "name": "stdout",
     "output_type": "stream",
     "text": [
      "In Sell\n",
      "In Sell\n",
      "In Sell\n",
      "In Sell\n",
      "In Sell\n",
      "In Sell\n",
      "In Sell\n",
      "In Sell\n",
      "In Sell\n",
      "In Sell\n",
      "In Sell\n",
      "In Sell\n"
     ]
    },
    {
     "name": "stderr",
     "output_type": "stream",
     "text": [
      "C:\\Users\\hp\\AppData\\Local\\Temp\\ipykernel_2904\\365529943.py:940: FutureWarning: The frame.append method is deprecated and will be removed from pandas in a future version. Use pandas.concat instead.\n",
      "  self.df = self.df.append(row, ignore_index=True)\n",
      "C:\\Users\\hp\\AppData\\Local\\Temp\\ipykernel_2904\\365529943.py:946: FutureWarning: The frame.append method is deprecated and will be removed from pandas in a future version. Use pandas.concat instead.\n",
      "  self.past_df = self.past_df.append(self.df.iloc[0], ignore_index=True)\n"
     ]
    },
    {
     "name": "stdout",
     "output_type": "stream",
     "text": [
      "In Sell\n",
      "In Sell\n",
      "In Sell\n",
      "In Sell\n",
      "In Sell\n",
      "In Sell\n"
     ]
    },
    {
     "name": "stderr",
     "output_type": "stream",
     "text": [
      "C:\\Users\\hp\\AppData\\Local\\Temp\\ipykernel_2904\\365529943.py:940: FutureWarning: The frame.append method is deprecated and will be removed from pandas in a future version. Use pandas.concat instead.\n",
      "  self.df = self.df.append(row, ignore_index=True)\n",
      "C:\\Users\\hp\\AppData\\Local\\Temp\\ipykernel_2904\\365529943.py:946: FutureWarning: The frame.append method is deprecated and will be removed from pandas in a future version. Use pandas.concat instead.\n",
      "  self.past_df = self.past_df.append(self.df.iloc[0], ignore_index=True)\n"
     ]
    },
    {
     "name": "stdout",
     "output_type": "stream",
     "text": [
      "In Sell\n",
      "In Sell\n",
      "In Sell\n",
      "In Sell\n",
      "In Sell\n"
     ]
    },
    {
     "name": "stderr",
     "output_type": "stream",
     "text": [
      "C:\\Users\\hp\\AppData\\Local\\Temp\\ipykernel_2904\\365529943.py:940: FutureWarning: The frame.append method is deprecated and will be removed from pandas in a future version. Use pandas.concat instead.\n",
      "  self.df = self.df.append(row, ignore_index=True)\n",
      "C:\\Users\\hp\\AppData\\Local\\Temp\\ipykernel_2904\\365529943.py:946: FutureWarning: The frame.append method is deprecated and will be removed from pandas in a future version. Use pandas.concat instead.\n",
      "  self.past_df = self.past_df.append(self.df.iloc[0], ignore_index=True)\n"
     ]
    },
    {
     "name": "stdout",
     "output_type": "stream",
     "text": [
      "In Sell\n",
      "In Sell\n",
      "In Sell\n"
     ]
    },
    {
     "name": "stderr",
     "output_type": "stream",
     "text": [
      "C:\\Users\\hp\\AppData\\Local\\Temp\\ipykernel_2904\\365529943.py:940: FutureWarning: The frame.append method is deprecated and will be removed from pandas in a future version. Use pandas.concat instead.\n",
      "  self.df = self.df.append(row, ignore_index=True)\n",
      "C:\\Users\\hp\\AppData\\Local\\Temp\\ipykernel_2904\\365529943.py:946: FutureWarning: The frame.append method is deprecated and will be removed from pandas in a future version. Use pandas.concat instead.\n",
      "  self.past_df = self.past_df.append(self.df.iloc[0], ignore_index=True)\n",
      "C:\\Users\\hp\\AppData\\Local\\Temp\\ipykernel_2904\\365529943.py:940: FutureWarning: The frame.append method is deprecated and will be removed from pandas in a future version. Use pandas.concat instead.\n",
      "  self.df = self.df.append(row, ignore_index=True)\n",
      "C:\\Users\\hp\\AppData\\Local\\Temp\\ipykernel_2904\\365529943.py:946: FutureWarning: The frame.append method is deprecated and will be removed from pandas in a future version. Use pandas.concat instead.\n",
      "  self.past_df = self.past_df.append(self.df.iloc[0], ignore_index=True)\n"
     ]
    },
    {
     "name": "stdout",
     "output_type": "stream",
     "text": [
      "In Sell\n",
      "In Sell\n",
      "In Sell\n",
      "In Sell\n",
      "In Sell\n",
      "In Sell\n",
      "In Sell\n",
      "In Sell\n"
     ]
    },
    {
     "name": "stderr",
     "output_type": "stream",
     "text": [
      "C:\\Users\\hp\\AppData\\Local\\Temp\\ipykernel_2904\\365529943.py:940: FutureWarning: The frame.append method is deprecated and will be removed from pandas in a future version. Use pandas.concat instead.\n",
      "  self.df = self.df.append(row, ignore_index=True)\n",
      "C:\\Users\\hp\\AppData\\Local\\Temp\\ipykernel_2904\\365529943.py:946: FutureWarning: The frame.append method is deprecated and will be removed from pandas in a future version. Use pandas.concat instead.\n",
      "  self.past_df = self.past_df.append(self.df.iloc[0], ignore_index=True)\n"
     ]
    },
    {
     "name": "stdout",
     "output_type": "stream",
     "text": [
      "In Sell\n"
     ]
    },
    {
     "name": "stderr",
     "output_type": "stream",
     "text": [
      "C:\\Users\\hp\\AppData\\Local\\Temp\\ipykernel_2904\\365529943.py:940: FutureWarning: The frame.append method is deprecated and will be removed from pandas in a future version. Use pandas.concat instead.\n",
      "  self.df = self.df.append(row, ignore_index=True)\n",
      "C:\\Users\\hp\\AppData\\Local\\Temp\\ipykernel_2904\\365529943.py:946: FutureWarning: The frame.append method is deprecated and will be removed from pandas in a future version. Use pandas.concat instead.\n",
      "  self.past_df = self.past_df.append(self.df.iloc[0], ignore_index=True)\n"
     ]
    },
    {
     "name": "stdout",
     "output_type": "stream",
     "text": [
      "In Sell\n",
      "In Sell\n"
     ]
    },
    {
     "name": "stderr",
     "output_type": "stream",
     "text": [
      "C:\\Users\\hp\\AppData\\Local\\Temp\\ipykernel_2904\\365529943.py:940: FutureWarning: The frame.append method is deprecated and will be removed from pandas in a future version. Use pandas.concat instead.\n",
      "  self.df = self.df.append(row, ignore_index=True)\n",
      "C:\\Users\\hp\\AppData\\Local\\Temp\\ipykernel_2904\\365529943.py:946: FutureWarning: The frame.append method is deprecated and will be removed from pandas in a future version. Use pandas.concat instead.\n",
      "  self.past_df = self.past_df.append(self.df.iloc[0], ignore_index=True)\n"
     ]
    },
    {
     "name": "stdout",
     "output_type": "stream",
     "text": [
      "In Sell\n"
     ]
    },
    {
     "name": "stderr",
     "output_type": "stream",
     "text": [
      "C:\\Users\\hp\\AppData\\Local\\Temp\\ipykernel_2904\\365529943.py:940: FutureWarning: The frame.append method is deprecated and will be removed from pandas in a future version. Use pandas.concat instead.\n",
      "  self.df = self.df.append(row, ignore_index=True)\n",
      "C:\\Users\\hp\\AppData\\Local\\Temp\\ipykernel_2904\\365529943.py:946: FutureWarning: The frame.append method is deprecated and will be removed from pandas in a future version. Use pandas.concat instead.\n",
      "  self.past_df = self.past_df.append(self.df.iloc[0], ignore_index=True)\n"
     ]
    },
    {
     "name": "stdout",
     "output_type": "stream",
     "text": [
      "In Sell\n",
      "In Sell\n",
      "In Sell\n",
      "In Sell\n",
      "In Sell\n",
      "In Sell\n",
      "In Sell\n",
      "In Sell\n",
      "In Sell\n",
      "In Sell\n",
      "In Sell\n",
      "In Sell\n",
      "In Sell\n",
      "In Sell\n",
      "In Sell\n",
      "In Sell\n",
      "In Sell\n",
      "In Sell\n",
      "In Sell\n",
      "In Sell\n",
      "In Sell\n",
      "In Sell\n",
      "In Sell\n",
      "In Sell\n",
      "In Sell\n",
      "In Sell\n",
      "In Sell\n",
      "In Sell\n",
      "In Sell\n",
      "In Sell\n",
      "In Sell\n",
      "In Sell\n",
      "In Sell\n",
      "In Sell\n",
      "In Sell\n",
      "In Sell\n",
      "In Sell\n",
      "In Sell\n",
      "In Sell\n",
      "In Sell\n",
      "In Sell\n",
      "In Sell\n",
      "In Sell\n",
      "In Sell\n",
      "In Sell\n",
      "In Sell\n",
      "In Sell\n",
      "In Sell\n",
      "In Sell\n"
     ]
    },
    {
     "name": "stderr",
     "output_type": "stream",
     "text": [
      "C:\\Users\\hp\\AppData\\Local\\Temp\\ipykernel_2904\\365529943.py:940: FutureWarning: The frame.append method is deprecated and will be removed from pandas in a future version. Use pandas.concat instead.\n",
      "  self.df = self.df.append(row, ignore_index=True)\n",
      "C:\\Users\\hp\\AppData\\Local\\Temp\\ipykernel_2904\\365529943.py:946: FutureWarning: The frame.append method is deprecated and will be removed from pandas in a future version. Use pandas.concat instead.\n",
      "  self.past_df = self.past_df.append(self.df.iloc[0], ignore_index=True)\n"
     ]
    },
    {
     "name": "stdout",
     "output_type": "stream",
     "text": [
      "In Sell\n",
      "In Sell\n"
     ]
    },
    {
     "name": "stderr",
     "output_type": "stream",
     "text": [
      "C:\\Users\\hp\\AppData\\Local\\Temp\\ipykernel_2904\\365529943.py:940: FutureWarning: The frame.append method is deprecated and will be removed from pandas in a future version. Use pandas.concat instead.\n",
      "  self.df = self.df.append(row, ignore_index=True)\n",
      "C:\\Users\\hp\\AppData\\Local\\Temp\\ipykernel_2904\\365529943.py:946: FutureWarning: The frame.append method is deprecated and will be removed from pandas in a future version. Use pandas.concat instead.\n",
      "  self.past_df = self.past_df.append(self.df.iloc[0], ignore_index=True)\n"
     ]
    },
    {
     "name": "stdout",
     "output_type": "stream",
     "text": [
      "In Sell\n"
     ]
    },
    {
     "name": "stderr",
     "output_type": "stream",
     "text": [
      "C:\\Users\\hp\\AppData\\Local\\Temp\\ipykernel_2904\\365529943.py:940: FutureWarning: The frame.append method is deprecated and will be removed from pandas in a future version. Use pandas.concat instead.\n",
      "  self.df = self.df.append(row, ignore_index=True)\n",
      "C:\\Users\\hp\\AppData\\Local\\Temp\\ipykernel_2904\\365529943.py:946: FutureWarning: The frame.append method is deprecated and will be removed from pandas in a future version. Use pandas.concat instead.\n",
      "  self.past_df = self.past_df.append(self.df.iloc[0], ignore_index=True)\n"
     ]
    },
    {
     "name": "stdout",
     "output_type": "stream",
     "text": [
      "In Sell\n",
      "In Sell\n",
      "In Sell\n",
      "In Sell\n",
      "In Sell\n",
      "In Sell\n"
     ]
    },
    {
     "name": "stderr",
     "output_type": "stream",
     "text": [
      "C:\\Users\\hp\\AppData\\Local\\Temp\\ipykernel_2904\\365529943.py:940: FutureWarning: The frame.append method is deprecated and will be removed from pandas in a future version. Use pandas.concat instead.\n",
      "  self.df = self.df.append(row, ignore_index=True)\n",
      "C:\\Users\\hp\\AppData\\Local\\Temp\\ipykernel_2904\\365529943.py:946: FutureWarning: The frame.append method is deprecated and will be removed from pandas in a future version. Use pandas.concat instead.\n",
      "  self.past_df = self.past_df.append(self.df.iloc[0], ignore_index=True)\n",
      "C:\\Users\\hp\\AppData\\Local\\Temp\\ipykernel_2904\\365529943.py:940: FutureWarning: The frame.append method is deprecated and will be removed from pandas in a future version. Use pandas.concat instead.\n",
      "  self.df = self.df.append(row, ignore_index=True)\n",
      "C:\\Users\\hp\\AppData\\Local\\Temp\\ipykernel_2904\\365529943.py:946: FutureWarning: The frame.append method is deprecated and will be removed from pandas in a future version. Use pandas.concat instead.\n",
      "  self.past_df = self.past_df.append(self.df.iloc[0], ignore_index=True)\n"
     ]
    },
    {
     "name": "stdout",
     "output_type": "stream",
     "text": [
      "In Sell\n",
      "In Sell\n",
      "In Buy\n",
      "In red candle\n",
      "In Buy\n",
      "In a green candle\n",
      "In Buy\n",
      "In a green candle\n",
      "In Buy\n",
      "In red candle\n",
      "In Buy\n",
      "In a green candle\n",
      "In Buy\n",
      "In a green candle\n",
      "In TRG exit condition\n"
     ]
    },
    {
     "name": "stderr",
     "output_type": "stream",
     "text": [
      "C:\\Users\\hp\\AppData\\Local\\Temp\\ipykernel_2904\\365529943.py:940: FutureWarning: The frame.append method is deprecated and will be removed from pandas in a future version. Use pandas.concat instead.\n",
      "  self.df = self.df.append(row, ignore_index=True)\n",
      "C:\\Users\\hp\\AppData\\Local\\Temp\\ipykernel_2904\\365529943.py:946: FutureWarning: The frame.append method is deprecated and will be removed from pandas in a future version. Use pandas.concat instead.\n",
      "  self.past_df = self.past_df.append(self.df.iloc[0], ignore_index=True)\n"
     ]
    },
    {
     "name": "stdout",
     "output_type": "stream",
     "text": [
      "In Sell\n",
      "In Sell\n",
      "In Sell\n",
      "In Sell\n"
     ]
    },
    {
     "name": "stderr",
     "output_type": "stream",
     "text": [
      "C:\\Users\\hp\\AppData\\Local\\Temp\\ipykernel_2904\\365529943.py:940: FutureWarning: The frame.append method is deprecated and will be removed from pandas in a future version. Use pandas.concat instead.\n",
      "  self.df = self.df.append(row, ignore_index=True)\n",
      "C:\\Users\\hp\\AppData\\Local\\Temp\\ipykernel_2904\\365529943.py:946: FutureWarning: The frame.append method is deprecated and will be removed from pandas in a future version. Use pandas.concat instead.\n",
      "  self.past_df = self.past_df.append(self.df.iloc[0], ignore_index=True)\n",
      "C:\\Users\\hp\\AppData\\Local\\Temp\\ipykernel_2904\\365529943.py:940: FutureWarning: The frame.append method is deprecated and will be removed from pandas in a future version. Use pandas.concat instead.\n",
      "  self.df = self.df.append(row, ignore_index=True)\n",
      "C:\\Users\\hp\\AppData\\Local\\Temp\\ipykernel_2904\\365529943.py:946: FutureWarning: The frame.append method is deprecated and will be removed from pandas in a future version. Use pandas.concat instead.\n",
      "  self.past_df = self.past_df.append(self.df.iloc[0], ignore_index=True)\n"
     ]
    },
    {
     "name": "stdout",
     "output_type": "stream",
     "text": [
      "In Buy\n",
      "In red candle\n",
      "In Buy\n",
      "In red candle\n",
      "In SL Condition\n",
      "In Buy\n",
      "In a green candle\n",
      "In Buy\n",
      "In a green candle\n",
      "In Buy\n",
      "In a green candle\n",
      "In Buy\n",
      "In a green candle\n",
      "In TRG exit condition\n"
     ]
    },
    {
     "name": "stderr",
     "output_type": "stream",
     "text": [
      "C:\\Users\\hp\\AppData\\Local\\Temp\\ipykernel_2904\\365529943.py:940: FutureWarning: The frame.append method is deprecated and will be removed from pandas in a future version. Use pandas.concat instead.\n",
      "  self.df = self.df.append(row, ignore_index=True)\n",
      "C:\\Users\\hp\\AppData\\Local\\Temp\\ipykernel_2904\\365529943.py:946: FutureWarning: The frame.append method is deprecated and will be removed from pandas in a future version. Use pandas.concat instead.\n",
      "  self.past_df = self.past_df.append(self.df.iloc[0], ignore_index=True)\n"
     ]
    },
    {
     "name": "stdout",
     "output_type": "stream",
     "text": [
      "In Buy\n",
      "In red candle\n",
      "In Buy\n",
      "In a green candle\n",
      "In Buy\n",
      "In a green candle\n",
      "In Buy\n",
      "In a green candle\n",
      "In Buy\n",
      "In a green candle\n",
      "In TRG exit condition\n"
     ]
    },
    {
     "name": "stderr",
     "output_type": "stream",
     "text": [
      "C:\\Users\\hp\\AppData\\Local\\Temp\\ipykernel_2904\\365529943.py:940: FutureWarning: The frame.append method is deprecated and will be removed from pandas in a future version. Use pandas.concat instead.\n",
      "  self.df = self.df.append(row, ignore_index=True)\n",
      "C:\\Users\\hp\\AppData\\Local\\Temp\\ipykernel_2904\\365529943.py:946: FutureWarning: The frame.append method is deprecated and will be removed from pandas in a future version. Use pandas.concat instead.\n",
      "  self.past_df = self.past_df.append(self.df.iloc[0], ignore_index=True)\n"
     ]
    },
    {
     "name": "stdout",
     "output_type": "stream",
     "text": [
      "In Buy\n",
      "In red candle\n",
      "In Buy\n",
      "In a green candle\n",
      "In Buy\n",
      "In red candle\n",
      "In Buy\n",
      "In red candle\n",
      "In Buy\n",
      "In red candle\n",
      "In SL Condition\n"
     ]
    },
    {
     "name": "stderr",
     "output_type": "stream",
     "text": [
      "C:\\Users\\hp\\AppData\\Local\\Temp\\ipykernel_2904\\365529943.py:940: FutureWarning: The frame.append method is deprecated and will be removed from pandas in a future version. Use pandas.concat instead.\n",
      "  self.df = self.df.append(row, ignore_index=True)\n",
      "C:\\Users\\hp\\AppData\\Local\\Temp\\ipykernel_2904\\365529943.py:946: FutureWarning: The frame.append method is deprecated and will be removed from pandas in a future version. Use pandas.concat instead.\n",
      "  self.past_df = self.past_df.append(self.df.iloc[0], ignore_index=True)\n"
     ]
    },
    {
     "name": "stdout",
     "output_type": "stream",
     "text": [
      "In Buy\n",
      "In a green candle\n",
      "In Buy\n",
      "In a green candle\n",
      "In TRG exit condition\n"
     ]
    },
    {
     "name": "stderr",
     "output_type": "stream",
     "text": [
      "C:\\Users\\hp\\AppData\\Local\\Temp\\ipykernel_2904\\365529943.py:940: FutureWarning: The frame.append method is deprecated and will be removed from pandas in a future version. Use pandas.concat instead.\n",
      "  self.df = self.df.append(row, ignore_index=True)\n",
      "C:\\Users\\hp\\AppData\\Local\\Temp\\ipykernel_2904\\365529943.py:946: FutureWarning: The frame.append method is deprecated and will be removed from pandas in a future version. Use pandas.concat instead.\n",
      "  self.past_df = self.past_df.append(self.df.iloc[0], ignore_index=True)\n"
     ]
    },
    {
     "name": "stdout",
     "output_type": "stream",
     "text": [
      "In Buy\n",
      "In a green candle\n",
      "In Buy\n",
      "In red candle\n",
      "In Buy\n",
      "In a green candle\n",
      "In Buy\n",
      "In red candle\n",
      "In Buy\n",
      "In a green candle\n",
      "In TRG exit condition\n"
     ]
    },
    {
     "name": "stderr",
     "output_type": "stream",
     "text": [
      "C:\\Users\\hp\\AppData\\Local\\Temp\\ipykernel_2904\\365529943.py:940: FutureWarning: The frame.append method is deprecated and will be removed from pandas in a future version. Use pandas.concat instead.\n",
      "  self.df = self.df.append(row, ignore_index=True)\n",
      "C:\\Users\\hp\\AppData\\Local\\Temp\\ipykernel_2904\\365529943.py:946: FutureWarning: The frame.append method is deprecated and will be removed from pandas in a future version. Use pandas.concat instead.\n",
      "  self.past_df = self.past_df.append(self.df.iloc[0], ignore_index=True)\n"
     ]
    },
    {
     "name": "stdout",
     "output_type": "stream",
     "text": [
      "In Buy\n",
      "In a green candle\n",
      "In Buy\n",
      "In red candle\n",
      "In Buy\n",
      "In red candle\n",
      "In Buy\n",
      "In red candle\n",
      "In SL Condition\n"
     ]
    },
    {
     "name": "stderr",
     "output_type": "stream",
     "text": [
      "C:\\Users\\hp\\AppData\\Local\\Temp\\ipykernel_2904\\365529943.py:940: FutureWarning: The frame.append method is deprecated and will be removed from pandas in a future version. Use pandas.concat instead.\n",
      "  self.df = self.df.append(row, ignore_index=True)\n",
      "C:\\Users\\hp\\AppData\\Local\\Temp\\ipykernel_2904\\365529943.py:946: FutureWarning: The frame.append method is deprecated and will be removed from pandas in a future version. Use pandas.concat instead.\n",
      "  self.past_df = self.past_df.append(self.df.iloc[0], ignore_index=True)\n"
     ]
    },
    {
     "name": "stdout",
     "output_type": "stream",
     "text": [
      "In Buy\n",
      "In a green candle\n",
      "In Buy\n",
      "In red candle\n",
      "In Buy\n",
      "In red candle\n",
      "In SL Condition\n"
     ]
    },
    {
     "name": "stderr",
     "output_type": "stream",
     "text": [
      "C:\\Users\\hp\\AppData\\Local\\Temp\\ipykernel_2904\\365529943.py:940: FutureWarning: The frame.append method is deprecated and will be removed from pandas in a future version. Use pandas.concat instead.\n",
      "  self.df = self.df.append(row, ignore_index=True)\n",
      "C:\\Users\\hp\\AppData\\Local\\Temp\\ipykernel_2904\\365529943.py:946: FutureWarning: The frame.append method is deprecated and will be removed from pandas in a future version. Use pandas.concat instead.\n",
      "  self.past_df = self.past_df.append(self.df.iloc[0], ignore_index=True)\n"
     ]
    },
    {
     "name": "stdout",
     "output_type": "stream",
     "text": [
      "In Sell\n",
      "In Sell\n"
     ]
    },
    {
     "name": "stderr",
     "output_type": "stream",
     "text": [
      "C:\\Users\\hp\\AppData\\Local\\Temp\\ipykernel_2904\\365529943.py:940: FutureWarning: The frame.append method is deprecated and will be removed from pandas in a future version. Use pandas.concat instead.\n",
      "  self.df = self.df.append(row, ignore_index=True)\n",
      "C:\\Users\\hp\\AppData\\Local\\Temp\\ipykernel_2904\\365529943.py:946: FutureWarning: The frame.append method is deprecated and will be removed from pandas in a future version. Use pandas.concat instead.\n",
      "  self.past_df = self.past_df.append(self.df.iloc[0], ignore_index=True)\n"
     ]
    },
    {
     "name": "stdout",
     "output_type": "stream",
     "text": [
      "In Buy\n",
      "In red candle\n",
      "In Buy\n",
      "In a green candle\n",
      "In Buy\n",
      "In red candle\n",
      "In Buy\n",
      "In red candle\n",
      "In Buy\n",
      "In a green candle\n",
      "In Buy\n",
      "In a green candle\n",
      "In Buy\n",
      "In red candle\n",
      "In Buy\n",
      "In a green candle\n",
      "In Buy\n",
      "In a green candle\n",
      "In Buy\n",
      "In a green candle\n",
      "In Buy\n",
      "In a green candle\n",
      "In Buy\n",
      "In red candle\n",
      "In Buy\n",
      "In a green candle\n",
      "In Buy\n",
      "In red candle\n",
      "In Buy\n",
      "In red candle\n",
      "In Buy\n",
      "In red candle\n",
      "In Buy\n",
      "In red candle\n",
      "In Buy\n",
      "In red candle\n",
      "In SL Condition\n"
     ]
    },
    {
     "name": "stderr",
     "output_type": "stream",
     "text": [
      "C:\\Users\\hp\\AppData\\Local\\Temp\\ipykernel_2904\\365529943.py:940: FutureWarning: The frame.append method is deprecated and will be removed from pandas in a future version. Use pandas.concat instead.\n",
      "  self.df = self.df.append(row, ignore_index=True)\n",
      "C:\\Users\\hp\\AppData\\Local\\Temp\\ipykernel_2904\\365529943.py:946: FutureWarning: The frame.append method is deprecated and will be removed from pandas in a future version. Use pandas.concat instead.\n",
      "  self.past_df = self.past_df.append(self.df.iloc[0], ignore_index=True)\n"
     ]
    },
    {
     "name": "stdout",
     "output_type": "stream",
     "text": [
      "In Sell\n",
      "In Sell\n",
      "In Sell\n",
      "In Sell\n",
      "In Sell\n",
      "In Sell\n",
      "In Sell\n",
      "In Sell\n",
      "In Sell\n"
     ]
    },
    {
     "name": "stderr",
     "output_type": "stream",
     "text": [
      "C:\\Users\\hp\\AppData\\Local\\Temp\\ipykernel_2904\\365529943.py:940: FutureWarning: The frame.append method is deprecated and will be removed from pandas in a future version. Use pandas.concat instead.\n",
      "  self.df = self.df.append(row, ignore_index=True)\n",
      "C:\\Users\\hp\\AppData\\Local\\Temp\\ipykernel_2904\\365529943.py:946: FutureWarning: The frame.append method is deprecated and will be removed from pandas in a future version. Use pandas.concat instead.\n",
      "  self.past_df = self.past_df.append(self.df.iloc[0], ignore_index=True)\n"
     ]
    },
    {
     "name": "stdout",
     "output_type": "stream",
     "text": [
      "In Buy\n",
      "In a green candle\n",
      "In Buy\n",
      "In a green candle\n",
      "In TRG exit condition\n"
     ]
    },
    {
     "name": "stderr",
     "output_type": "stream",
     "text": [
      "C:\\Users\\hp\\AppData\\Local\\Temp\\ipykernel_2904\\365529943.py:940: FutureWarning: The frame.append method is deprecated and will be removed from pandas in a future version. Use pandas.concat instead.\n",
      "  self.df = self.df.append(row, ignore_index=True)\n",
      "C:\\Users\\hp\\AppData\\Local\\Temp\\ipykernel_2904\\365529943.py:946: FutureWarning: The frame.append method is deprecated and will be removed from pandas in a future version. Use pandas.concat instead.\n",
      "  self.past_df = self.past_df.append(self.df.iloc[0], ignore_index=True)\n"
     ]
    },
    {
     "name": "stdout",
     "output_type": "stream",
     "text": [
      "In Buy\n",
      "In red candle\n",
      "In Buy\n",
      "In a green candle\n",
      "In SL Condition\n"
     ]
    },
    {
     "name": "stderr",
     "output_type": "stream",
     "text": [
      "C:\\Users\\hp\\AppData\\Local\\Temp\\ipykernel_2904\\365529943.py:940: FutureWarning: The frame.append method is deprecated and will be removed from pandas in a future version. Use pandas.concat instead.\n",
      "  self.df = self.df.append(row, ignore_index=True)\n",
      "C:\\Users\\hp\\AppData\\Local\\Temp\\ipykernel_2904\\365529943.py:946: FutureWarning: The frame.append method is deprecated and will be removed from pandas in a future version. Use pandas.concat instead.\n",
      "  self.past_df = self.past_df.append(self.df.iloc[0], ignore_index=True)\n"
     ]
    },
    {
     "name": "stdout",
     "output_type": "stream",
     "text": [
      "In Sell\n",
      "In Sell\n",
      "In Sell\n"
     ]
    },
    {
     "name": "stderr",
     "output_type": "stream",
     "text": [
      "C:\\Users\\hp\\AppData\\Local\\Temp\\ipykernel_2904\\365529943.py:940: FutureWarning: The frame.append method is deprecated and will be removed from pandas in a future version. Use pandas.concat instead.\n",
      "  self.df = self.df.append(row, ignore_index=True)\n",
      "C:\\Users\\hp\\AppData\\Local\\Temp\\ipykernel_2904\\365529943.py:946: FutureWarning: The frame.append method is deprecated and will be removed from pandas in a future version. Use pandas.concat instead.\n",
      "  self.past_df = self.past_df.append(self.df.iloc[0], ignore_index=True)\n"
     ]
    },
    {
     "name": "stdout",
     "output_type": "stream",
     "text": [
      "In Sell\n",
      "In Sell\n",
      "In Sell\n"
     ]
    },
    {
     "name": "stderr",
     "output_type": "stream",
     "text": [
      "C:\\Users\\hp\\AppData\\Local\\Temp\\ipykernel_2904\\365529943.py:940: FutureWarning: The frame.append method is deprecated and will be removed from pandas in a future version. Use pandas.concat instead.\n",
      "  self.df = self.df.append(row, ignore_index=True)\n",
      "C:\\Users\\hp\\AppData\\Local\\Temp\\ipykernel_2904\\365529943.py:946: FutureWarning: The frame.append method is deprecated and will be removed from pandas in a future version. Use pandas.concat instead.\n",
      "  self.past_df = self.past_df.append(self.df.iloc[0], ignore_index=True)\n"
     ]
    },
    {
     "name": "stdout",
     "output_type": "stream",
     "text": [
      "In Sell\n",
      "In Sell\n"
     ]
    },
    {
     "name": "stderr",
     "output_type": "stream",
     "text": [
      "C:\\Users\\hp\\AppData\\Local\\Temp\\ipykernel_2904\\365529943.py:940: FutureWarning: The frame.append method is deprecated and will be removed from pandas in a future version. Use pandas.concat instead.\n",
      "  self.df = self.df.append(row, ignore_index=True)\n",
      "C:\\Users\\hp\\AppData\\Local\\Temp\\ipykernel_2904\\365529943.py:946: FutureWarning: The frame.append method is deprecated and will be removed from pandas in a future version. Use pandas.concat instead.\n",
      "  self.past_df = self.past_df.append(self.df.iloc[0], ignore_index=True)\n"
     ]
    },
    {
     "name": "stdout",
     "output_type": "stream",
     "text": [
      "In Sell\n",
      "In Sell\n",
      "In Sell\n",
      "In Sell\n",
      "In Sell\n",
      "In Sell\n",
      "In Sell\n",
      "In Sell\n",
      "In Sell\n",
      "In Sell\n"
     ]
    },
    {
     "name": "stderr",
     "output_type": "stream",
     "text": [
      "C:\\Users\\hp\\AppData\\Local\\Temp\\ipykernel_2904\\365529943.py:940: FutureWarning: The frame.append method is deprecated and will be removed from pandas in a future version. Use pandas.concat instead.\n",
      "  self.df = self.df.append(row, ignore_index=True)\n",
      "C:\\Users\\hp\\AppData\\Local\\Temp\\ipykernel_2904\\365529943.py:946: FutureWarning: The frame.append method is deprecated and will be removed from pandas in a future version. Use pandas.concat instead.\n",
      "  self.past_df = self.past_df.append(self.df.iloc[0], ignore_index=True)\n"
     ]
    },
    {
     "name": "stdout",
     "output_type": "stream",
     "text": [
      "In Sell\n",
      "In Sell\n"
     ]
    },
    {
     "name": "stderr",
     "output_type": "stream",
     "text": [
      "C:\\Users\\hp\\AppData\\Local\\Temp\\ipykernel_2904\\365529943.py:940: FutureWarning: The frame.append method is deprecated and will be removed from pandas in a future version. Use pandas.concat instead.\n",
      "  self.df = self.df.append(row, ignore_index=True)\n",
      "C:\\Users\\hp\\AppData\\Local\\Temp\\ipykernel_2904\\365529943.py:946: FutureWarning: The frame.append method is deprecated and will be removed from pandas in a future version. Use pandas.concat instead.\n",
      "  self.past_df = self.past_df.append(self.df.iloc[0], ignore_index=True)\n"
     ]
    },
    {
     "name": "stdout",
     "output_type": "stream",
     "text": [
      "In Buy\n",
      "In red candle\n",
      "In Buy\n",
      "In a green candle\n",
      "In Buy\n",
      "In red candle\n",
      "In SL Condition\n"
     ]
    },
    {
     "name": "stderr",
     "output_type": "stream",
     "text": [
      "C:\\Users\\hp\\AppData\\Local\\Temp\\ipykernel_2904\\365529943.py:940: FutureWarning: The frame.append method is deprecated and will be removed from pandas in a future version. Use pandas.concat instead.\n",
      "  self.df = self.df.append(row, ignore_index=True)\n",
      "C:\\Users\\hp\\AppData\\Local\\Temp\\ipykernel_2904\\365529943.py:946: FutureWarning: The frame.append method is deprecated and will be removed from pandas in a future version. Use pandas.concat instead.\n",
      "  self.past_df = self.past_df.append(self.df.iloc[0], ignore_index=True)\n"
     ]
    },
    {
     "name": "stdout",
     "output_type": "stream",
     "text": [
      "In Buy\n",
      "In red candle\n",
      "In Buy\n",
      "In a green candle\n",
      "In Buy\n",
      "In a green candle\n",
      "In Buy\n",
      "In a green candle\n",
      "In Buy\n",
      "In red candle\n",
      "In Buy\n",
      "In red candle\n",
      "In Buy\n",
      "In red candle\n",
      "In Buy\n",
      "In a green candle\n",
      "In Buy\n",
      "In red candle\n",
      "In Buy\n",
      "In red candle\n",
      "In Buy\n",
      "In a green candle\n",
      "In Buy\n",
      "In a green candle\n",
      "In TRG exit condition\n"
     ]
    },
    {
     "name": "stderr",
     "output_type": "stream",
     "text": [
      "C:\\Users\\hp\\AppData\\Local\\Temp\\ipykernel_2904\\365529943.py:940: FutureWarning: The frame.append method is deprecated and will be removed from pandas in a future version. Use pandas.concat instead.\n",
      "  self.df = self.df.append(row, ignore_index=True)\n",
      "C:\\Users\\hp\\AppData\\Local\\Temp\\ipykernel_2904\\365529943.py:946: FutureWarning: The frame.append method is deprecated and will be removed from pandas in a future version. Use pandas.concat instead.\n",
      "  self.past_df = self.past_df.append(self.df.iloc[0], ignore_index=True)\n"
     ]
    },
    {
     "name": "stdout",
     "output_type": "stream",
     "text": [
      "In Buy\n",
      "In red candle\n",
      "In SL Condition\n"
     ]
    },
    {
     "name": "stderr",
     "output_type": "stream",
     "text": [
      "C:\\Users\\hp\\AppData\\Local\\Temp\\ipykernel_2904\\365529943.py:940: FutureWarning: The frame.append method is deprecated and will be removed from pandas in a future version. Use pandas.concat instead.\n",
      "  self.df = self.df.append(row, ignore_index=True)\n",
      "C:\\Users\\hp\\AppData\\Local\\Temp\\ipykernel_2904\\365529943.py:946: FutureWarning: The frame.append method is deprecated and will be removed from pandas in a future version. Use pandas.concat instead.\n",
      "  self.past_df = self.past_df.append(self.df.iloc[0], ignore_index=True)\n"
     ]
    },
    {
     "name": "stdout",
     "output_type": "stream",
     "text": [
      "In Buy\n",
      "In a green candle\n",
      "In Buy\n",
      "In red candle\n",
      "In Buy\n",
      "In red candle\n",
      "In Buy\n",
      "In a green candle\n",
      "In Buy\n",
      "In a green candle\n",
      "In Buy\n",
      "In a green candle\n",
      "In TRG exit condition\n"
     ]
    },
    {
     "name": "stderr",
     "output_type": "stream",
     "text": [
      "C:\\Users\\hp\\AppData\\Local\\Temp\\ipykernel_2904\\365529943.py:940: FutureWarning: The frame.append method is deprecated and will be removed from pandas in a future version. Use pandas.concat instead.\n",
      "  self.df = self.df.append(row, ignore_index=True)\n",
      "C:\\Users\\hp\\AppData\\Local\\Temp\\ipykernel_2904\\365529943.py:946: FutureWarning: The frame.append method is deprecated and will be removed from pandas in a future version. Use pandas.concat instead.\n",
      "  self.past_df = self.past_df.append(self.df.iloc[0], ignore_index=True)\n"
     ]
    },
    {
     "name": "stdout",
     "output_type": "stream",
     "text": [
      "In Buy\n",
      "In red candle\n",
      "In Buy\n",
      "In a green candle\n",
      "In SL Condition\n"
     ]
    },
    {
     "name": "stderr",
     "output_type": "stream",
     "text": [
      "C:\\Users\\hp\\AppData\\Local\\Temp\\ipykernel_2904\\365529943.py:940: FutureWarning: The frame.append method is deprecated and will be removed from pandas in a future version. Use pandas.concat instead.\n",
      "  self.df = self.df.append(row, ignore_index=True)\n",
      "C:\\Users\\hp\\AppData\\Local\\Temp\\ipykernel_2904\\365529943.py:946: FutureWarning: The frame.append method is deprecated and will be removed from pandas in a future version. Use pandas.concat instead.\n",
      "  self.past_df = self.past_df.append(self.df.iloc[0], ignore_index=True)\n"
     ]
    },
    {
     "name": "stdout",
     "output_type": "stream",
     "text": [
      "In Buy\n",
      "In red candle\n",
      "In Buy\n",
      "In a green candle\n",
      "In Buy\n",
      "In a green candle\n",
      "In Buy\n",
      "In red candle\n",
      "In SL Condition\n"
     ]
    },
    {
     "name": "stderr",
     "output_type": "stream",
     "text": [
      "C:\\Users\\hp\\AppData\\Local\\Temp\\ipykernel_2904\\365529943.py:940: FutureWarning: The frame.append method is deprecated and will be removed from pandas in a future version. Use pandas.concat instead.\n",
      "  self.df = self.df.append(row, ignore_index=True)\n",
      "C:\\Users\\hp\\AppData\\Local\\Temp\\ipykernel_2904\\365529943.py:946: FutureWarning: The frame.append method is deprecated and will be removed from pandas in a future version. Use pandas.concat instead.\n",
      "  self.past_df = self.past_df.append(self.df.iloc[0], ignore_index=True)\n"
     ]
    },
    {
     "name": "stdout",
     "output_type": "stream",
     "text": [
      "In Buy\n",
      "In a green candle\n",
      "In Buy\n",
      "In a green candle\n",
      "In Buy\n",
      "In a green candle\n",
      "In Buy\n",
      "In red candle\n",
      "In Buy\n",
      "In a green candle\n",
      "In SL Condition\n"
     ]
    },
    {
     "name": "stderr",
     "output_type": "stream",
     "text": [
      "C:\\Users\\hp\\AppData\\Local\\Temp\\ipykernel_2904\\365529943.py:940: FutureWarning: The frame.append method is deprecated and will be removed from pandas in a future version. Use pandas.concat instead.\n",
      "  self.df = self.df.append(row, ignore_index=True)\n",
      "C:\\Users\\hp\\AppData\\Local\\Temp\\ipykernel_2904\\365529943.py:946: FutureWarning: The frame.append method is deprecated and will be removed from pandas in a future version. Use pandas.concat instead.\n",
      "  self.past_df = self.past_df.append(self.df.iloc[0], ignore_index=True)\n"
     ]
    },
    {
     "name": "stdout",
     "output_type": "stream",
     "text": [
      "In Buy\n",
      "In red candle\n",
      "In Buy\n",
      "In red candle\n",
      "In SL Condition\n"
     ]
    },
    {
     "name": "stderr",
     "output_type": "stream",
     "text": [
      "C:\\Users\\hp\\AppData\\Local\\Temp\\ipykernel_2904\\365529943.py:940: FutureWarning: The frame.append method is deprecated and will be removed from pandas in a future version. Use pandas.concat instead.\n",
      "  self.df = self.df.append(row, ignore_index=True)\n",
      "C:\\Users\\hp\\AppData\\Local\\Temp\\ipykernel_2904\\365529943.py:946: FutureWarning: The frame.append method is deprecated and will be removed from pandas in a future version. Use pandas.concat instead.\n",
      "  self.past_df = self.past_df.append(self.df.iloc[0], ignore_index=True)\n"
     ]
    },
    {
     "name": "stdout",
     "output_type": "stream",
     "text": [
      "In Buy\n",
      "In red candle\n",
      "In Buy\n",
      "In a green candle\n",
      "In Buy\n",
      "In red candle\n",
      "In Buy\n",
      "In a green candle\n",
      "In Buy\n",
      "In a green candle\n",
      "In Buy\n",
      "In a green candle\n",
      "In Buy\n",
      "In red candle\n",
      "In Buy\n",
      "In a green candle\n",
      "In Buy\n",
      "In red candle\n",
      "In Buy\n",
      "In a green candle\n",
      "In Buy\n",
      "In a green candle\n",
      "In Buy\n",
      "In a green candle\n",
      "In TRG exit condition\n"
     ]
    },
    {
     "name": "stderr",
     "output_type": "stream",
     "text": [
      "C:\\Users\\hp\\AppData\\Local\\Temp\\ipykernel_2904\\365529943.py:940: FutureWarning: The frame.append method is deprecated and will be removed from pandas in a future version. Use pandas.concat instead.\n",
      "  self.df = self.df.append(row, ignore_index=True)\n",
      "C:\\Users\\hp\\AppData\\Local\\Temp\\ipykernel_2904\\365529943.py:946: FutureWarning: The frame.append method is deprecated and will be removed from pandas in a future version. Use pandas.concat instead.\n",
      "  self.past_df = self.past_df.append(self.df.iloc[0], ignore_index=True)\n"
     ]
    },
    {
     "name": "stdout",
     "output_type": "stream",
     "text": [
      "In Buy\n",
      "In a green candle\n",
      "In Buy\n",
      "In red candle\n",
      "In Buy\n",
      "In red candle\n",
      "In Buy\n",
      "In red candle\n",
      "In SL Condition\n"
     ]
    },
    {
     "name": "stderr",
     "output_type": "stream",
     "text": [
      "C:\\Users\\hp\\AppData\\Local\\Temp\\ipykernel_2904\\365529943.py:940: FutureWarning: The frame.append method is deprecated and will be removed from pandas in a future version. Use pandas.concat instead.\n",
      "  self.df = self.df.append(row, ignore_index=True)\n",
      "C:\\Users\\hp\\AppData\\Local\\Temp\\ipykernel_2904\\365529943.py:946: FutureWarning: The frame.append method is deprecated and will be removed from pandas in a future version. Use pandas.concat instead.\n",
      "  self.past_df = self.past_df.append(self.df.iloc[0], ignore_index=True)\n"
     ]
    },
    {
     "name": "stdout",
     "output_type": "stream",
     "text": [
      "In Buy\n",
      "In red candle\n",
      "In Buy\n",
      "In a green candle\n",
      "In Buy\n",
      "In a green candle\n",
      "In Buy\n",
      "In a green candle\n",
      "In Buy\n",
      "In red candle\n",
      "In SL Condition\n"
     ]
    },
    {
     "name": "stderr",
     "output_type": "stream",
     "text": [
      "C:\\Users\\hp\\AppData\\Local\\Temp\\ipykernel_2904\\365529943.py:940: FutureWarning: The frame.append method is deprecated and will be removed from pandas in a future version. Use pandas.concat instead.\n",
      "  self.df = self.df.append(row, ignore_index=True)\n",
      "C:\\Users\\hp\\AppData\\Local\\Temp\\ipykernel_2904\\365529943.py:946: FutureWarning: The frame.append method is deprecated and will be removed from pandas in a future version. Use pandas.concat instead.\n",
      "  self.past_df = self.past_df.append(self.df.iloc[0], ignore_index=True)\n"
     ]
    },
    {
     "name": "stdout",
     "output_type": "stream",
     "text": [
      "In Buy\n",
      "In red candle\n",
      "In Buy\n",
      "In a green candle\n",
      "In Buy\n",
      "In a green candle\n",
      "In Buy\n",
      "In red candle\n",
      "In Buy\n",
      "In a green candle\n",
      "In Buy\n",
      "In a green candle\n",
      "In Buy\n",
      "In red candle\n",
      "In Buy\n",
      "In a green candle\n",
      "In Buy\n",
      "In red candle\n",
      "In Buy\n",
      "In red candle\n",
      "In SL Condition\n",
      "In Buy\n",
      "In red candle\n",
      "In SL Condition\n"
     ]
    },
    {
     "name": "stderr",
     "output_type": "stream",
     "text": [
      "C:\\Users\\hp\\AppData\\Local\\Temp\\ipykernel_2904\\365529943.py:940: FutureWarning: The frame.append method is deprecated and will be removed from pandas in a future version. Use pandas.concat instead.\n",
      "  self.df = self.df.append(row, ignore_index=True)\n",
      "C:\\Users\\hp\\AppData\\Local\\Temp\\ipykernel_2904\\365529943.py:946: FutureWarning: The frame.append method is deprecated and will be removed from pandas in a future version. Use pandas.concat instead.\n",
      "  self.past_df = self.past_df.append(self.df.iloc[0], ignore_index=True)\n",
      "C:\\Users\\hp\\AppData\\Local\\Temp\\ipykernel_2904\\365529943.py:940: FutureWarning: The frame.append method is deprecated and will be removed from pandas in a future version. Use pandas.concat instead.\n",
      "  self.df = self.df.append(row, ignore_index=True)\n",
      "C:\\Users\\hp\\AppData\\Local\\Temp\\ipykernel_2904\\365529943.py:946: FutureWarning: The frame.append method is deprecated and will be removed from pandas in a future version. Use pandas.concat instead.\n",
      "  self.past_df = self.past_df.append(self.df.iloc[0], ignore_index=True)\n"
     ]
    },
    {
     "name": "stdout",
     "output_type": "stream",
     "text": [
      "In Buy\n",
      "In red candle\n",
      "In Buy\n",
      "In red candle\n",
      "In SL Condition\n"
     ]
    },
    {
     "name": "stderr",
     "output_type": "stream",
     "text": [
      "C:\\Users\\hp\\AppData\\Local\\Temp\\ipykernel_2904\\365529943.py:940: FutureWarning: The frame.append method is deprecated and will be removed from pandas in a future version. Use pandas.concat instead.\n",
      "  self.df = self.df.append(row, ignore_index=True)\n",
      "C:\\Users\\hp\\AppData\\Local\\Temp\\ipykernel_2904\\365529943.py:946: FutureWarning: The frame.append method is deprecated and will be removed from pandas in a future version. Use pandas.concat instead.\n",
      "  self.past_df = self.past_df.append(self.df.iloc[0], ignore_index=True)\n"
     ]
    },
    {
     "name": "stdout",
     "output_type": "stream",
     "text": [
      "In Buy\n",
      "In a green candle\n",
      "In Buy\n",
      "In red candle\n",
      "In Buy\n",
      "In a green candle\n",
      "In Buy\n",
      "In red candle\n",
      "In Buy\n",
      "In a green candle\n",
      "In Buy\n",
      "In red candle\n",
      "In Buy\n",
      "In red candle\n",
      "In Buy\n",
      "In red candle\n",
      "In Buy\n",
      "In a green candle\n",
      "In Buy\n",
      "In a green candle\n",
      "In Buy\n",
      "In red candle\n",
      "In Buy\n",
      "In a green candle\n",
      "In Buy\n",
      "In red candle\n",
      "In Buy\n",
      "In a green candle\n",
      "In Buy\n",
      "In red candle\n",
      "In Buy\n",
      "In a green candle\n",
      "In Buy\n",
      "In a green candle\n",
      "In Buy\n",
      "In a green candle\n",
      "In Buy\n",
      "In a green candle\n",
      "In Buy\n",
      "In red candle\n",
      "In Buy\n",
      "In red candle\n",
      "In SL Condition\n"
     ]
    },
    {
     "name": "stderr",
     "output_type": "stream",
     "text": [
      "C:\\Users\\hp\\AppData\\Local\\Temp\\ipykernel_2904\\365529943.py:940: FutureWarning: The frame.append method is deprecated and will be removed from pandas in a future version. Use pandas.concat instead.\n",
      "  self.df = self.df.append(row, ignore_index=True)\n",
      "C:\\Users\\hp\\AppData\\Local\\Temp\\ipykernel_2904\\365529943.py:946: FutureWarning: The frame.append method is deprecated and will be removed from pandas in a future version. Use pandas.concat instead.\n",
      "  self.past_df = self.past_df.append(self.df.iloc[0], ignore_index=True)\n"
     ]
    },
    {
     "name": "stdout",
     "output_type": "stream",
     "text": [
      "In Buy\n",
      "In red candle\n",
      "In Buy\n",
      "In a green candle\n",
      "In Buy\n",
      "In a green candle\n",
      "In Buy\n",
      "In a green candle\n",
      "In Buy\n",
      "In red candle\n",
      "In SL Condition\n"
     ]
    },
    {
     "name": "stderr",
     "output_type": "stream",
     "text": [
      "C:\\Users\\hp\\AppData\\Local\\Temp\\ipykernel_2904\\365529943.py:940: FutureWarning: The frame.append method is deprecated and will be removed from pandas in a future version. Use pandas.concat instead.\n",
      "  self.df = self.df.append(row, ignore_index=True)\n",
      "C:\\Users\\hp\\AppData\\Local\\Temp\\ipykernel_2904\\365529943.py:946: FutureWarning: The frame.append method is deprecated and will be removed from pandas in a future version. Use pandas.concat instead.\n",
      "  self.past_df = self.past_df.append(self.df.iloc[0], ignore_index=True)\n"
     ]
    },
    {
     "name": "stdout",
     "output_type": "stream",
     "text": [
      "In Buy\n",
      "In red candle\n",
      "In Buy\n",
      "In red candle\n",
      "In Buy\n",
      "In red candle\n",
      "In SL Condition\n"
     ]
    },
    {
     "name": "stderr",
     "output_type": "stream",
     "text": [
      "C:\\Users\\hp\\AppData\\Local\\Temp\\ipykernel_2904\\365529943.py:940: FutureWarning: The frame.append method is deprecated and will be removed from pandas in a future version. Use pandas.concat instead.\n",
      "  self.df = self.df.append(row, ignore_index=True)\n",
      "C:\\Users\\hp\\AppData\\Local\\Temp\\ipykernel_2904\\365529943.py:946: FutureWarning: The frame.append method is deprecated and will be removed from pandas in a future version. Use pandas.concat instead.\n",
      "  self.past_df = self.past_df.append(self.df.iloc[0], ignore_index=True)\n"
     ]
    },
    {
     "name": "stdout",
     "output_type": "stream",
     "text": [
      "In Buy\n",
      "In red candle\n",
      "In Buy\n",
      "In red candle\n",
      "In SL Condition\n"
     ]
    },
    {
     "name": "stderr",
     "output_type": "stream",
     "text": [
      "C:\\Users\\hp\\AppData\\Local\\Temp\\ipykernel_2904\\365529943.py:940: FutureWarning: The frame.append method is deprecated and will be removed from pandas in a future version. Use pandas.concat instead.\n",
      "  self.df = self.df.append(row, ignore_index=True)\n",
      "C:\\Users\\hp\\AppData\\Local\\Temp\\ipykernel_2904\\365529943.py:946: FutureWarning: The frame.append method is deprecated and will be removed from pandas in a future version. Use pandas.concat instead.\n",
      "  self.past_df = self.past_df.append(self.df.iloc[0], ignore_index=True)\n"
     ]
    },
    {
     "name": "stdout",
     "output_type": "stream",
     "text": [
      "In Sell\n",
      "In Sell\n",
      "In Sell\n",
      "In Sell\n",
      "In Sell\n"
     ]
    },
    {
     "name": "stderr",
     "output_type": "stream",
     "text": [
      "C:\\Users\\hp\\AppData\\Local\\Temp\\ipykernel_2904\\365529943.py:940: FutureWarning: The frame.append method is deprecated and will be removed from pandas in a future version. Use pandas.concat instead.\n",
      "  self.df = self.df.append(row, ignore_index=True)\n",
      "C:\\Users\\hp\\AppData\\Local\\Temp\\ipykernel_2904\\365529943.py:946: FutureWarning: The frame.append method is deprecated and will be removed from pandas in a future version. Use pandas.concat instead.\n",
      "  self.past_df = self.past_df.append(self.df.iloc[0], ignore_index=True)\n"
     ]
    },
    {
     "name": "stdout",
     "output_type": "stream",
     "text": [
      "In Sell\n",
      "In Sell\n",
      "In Sell\n",
      "In Sell\n",
      "In Sell\n",
      "In Sell\n"
     ]
    },
    {
     "name": "stderr",
     "output_type": "stream",
     "text": [
      "C:\\Users\\hp\\AppData\\Local\\Temp\\ipykernel_2904\\365529943.py:940: FutureWarning: The frame.append method is deprecated and will be removed from pandas in a future version. Use pandas.concat instead.\n",
      "  self.df = self.df.append(row, ignore_index=True)\n",
      "C:\\Users\\hp\\AppData\\Local\\Temp\\ipykernel_2904\\365529943.py:946: FutureWarning: The frame.append method is deprecated and will be removed from pandas in a future version. Use pandas.concat instead.\n",
      "  self.past_df = self.past_df.append(self.df.iloc[0], ignore_index=True)\n"
     ]
    },
    {
     "name": "stdout",
     "output_type": "stream",
     "text": [
      "In Sell\n",
      "In Sell\n",
      "In Sell\n",
      "In Sell\n"
     ]
    },
    {
     "name": "stderr",
     "output_type": "stream",
     "text": [
      "C:\\Users\\hp\\AppData\\Local\\Temp\\ipykernel_2904\\365529943.py:940: FutureWarning: The frame.append method is deprecated and will be removed from pandas in a future version. Use pandas.concat instead.\n",
      "  self.df = self.df.append(row, ignore_index=True)\n",
      "C:\\Users\\hp\\AppData\\Local\\Temp\\ipykernel_2904\\365529943.py:946: FutureWarning: The frame.append method is deprecated and will be removed from pandas in a future version. Use pandas.concat instead.\n",
      "  self.past_df = self.past_df.append(self.df.iloc[0], ignore_index=True)\n",
      "C:\\Users\\hp\\AppData\\Local\\Temp\\ipykernel_2904\\365529943.py:940: FutureWarning: The frame.append method is deprecated and will be removed from pandas in a future version. Use pandas.concat instead.\n",
      "  self.df = self.df.append(row, ignore_index=True)\n",
      "C:\\Users\\hp\\AppData\\Local\\Temp\\ipykernel_2904\\365529943.py:946: FutureWarning: The frame.append method is deprecated and will be removed from pandas in a future version. Use pandas.concat instead.\n",
      "  self.past_df = self.past_df.append(self.df.iloc[0], ignore_index=True)\n"
     ]
    },
    {
     "name": "stdout",
     "output_type": "stream",
     "text": [
      "In Sell\n",
      "In Sell\n",
      "In Sell\n",
      "In Sell\n",
      "In Sell\n",
      "In Sell\n"
     ]
    },
    {
     "name": "stderr",
     "output_type": "stream",
     "text": [
      "C:\\Users\\hp\\AppData\\Local\\Temp\\ipykernel_2904\\365529943.py:940: FutureWarning: The frame.append method is deprecated and will be removed from pandas in a future version. Use pandas.concat instead.\n",
      "  self.df = self.df.append(row, ignore_index=True)\n",
      "C:\\Users\\hp\\AppData\\Local\\Temp\\ipykernel_2904\\365529943.py:946: FutureWarning: The frame.append method is deprecated and will be removed from pandas in a future version. Use pandas.concat instead.\n",
      "  self.past_df = self.past_df.append(self.df.iloc[0], ignore_index=True)\n"
     ]
    },
    {
     "name": "stdout",
     "output_type": "stream",
     "text": [
      "In Sell\n",
      "In Sell\n",
      "In Sell\n",
      "In Sell\n",
      "In Sell\n",
      "In Sell\n",
      "In Sell\n",
      "In Sell\n",
      "In Sell\n",
      "In Sell\n",
      "In Sell\n",
      "In Sell\n"
     ]
    },
    {
     "name": "stderr",
     "output_type": "stream",
     "text": [
      "C:\\Users\\hp\\AppData\\Local\\Temp\\ipykernel_2904\\365529943.py:940: FutureWarning: The frame.append method is deprecated and will be removed from pandas in a future version. Use pandas.concat instead.\n",
      "  self.df = self.df.append(row, ignore_index=True)\n",
      "C:\\Users\\hp\\AppData\\Local\\Temp\\ipykernel_2904\\365529943.py:946: FutureWarning: The frame.append method is deprecated and will be removed from pandas in a future version. Use pandas.concat instead.\n",
      "  self.past_df = self.past_df.append(self.df.iloc[0], ignore_index=True)\n"
     ]
    },
    {
     "name": "stdout",
     "output_type": "stream",
     "text": [
      "In Sell\n",
      "In Sell\n",
      "In Sell\n",
      "In Sell\n"
     ]
    },
    {
     "name": "stderr",
     "output_type": "stream",
     "text": [
      "C:\\Users\\hp\\AppData\\Local\\Temp\\ipykernel_2904\\365529943.py:940: FutureWarning: The frame.append method is deprecated and will be removed from pandas in a future version. Use pandas.concat instead.\n",
      "  self.df = self.df.append(row, ignore_index=True)\n",
      "C:\\Users\\hp\\AppData\\Local\\Temp\\ipykernel_2904\\365529943.py:946: FutureWarning: The frame.append method is deprecated and will be removed from pandas in a future version. Use pandas.concat instead.\n",
      "  self.past_df = self.past_df.append(self.df.iloc[0], ignore_index=True)\n"
     ]
    },
    {
     "name": "stdout",
     "output_type": "stream",
     "text": [
      "In Sell\n"
     ]
    },
    {
     "name": "stderr",
     "output_type": "stream",
     "text": [
      "C:\\Users\\hp\\AppData\\Local\\Temp\\ipykernel_2904\\365529943.py:940: FutureWarning: The frame.append method is deprecated and will be removed from pandas in a future version. Use pandas.concat instead.\n",
      "  self.df = self.df.append(row, ignore_index=True)\n",
      "C:\\Users\\hp\\AppData\\Local\\Temp\\ipykernel_2904\\365529943.py:946: FutureWarning: The frame.append method is deprecated and will be removed from pandas in a future version. Use pandas.concat instead.\n",
      "  self.past_df = self.past_df.append(self.df.iloc[0], ignore_index=True)\n"
     ]
    },
    {
     "name": "stdout",
     "output_type": "stream",
     "text": [
      "In Sell\n",
      "In Sell\n",
      "In Sell\n",
      "In Sell\n",
      "In Sell\n",
      "In Sell\n",
      "In Sell\n",
      "In Sell\n",
      "In Sell\n",
      "In Sell\n",
      "In Sell\n",
      "In Sell\n"
     ]
    },
    {
     "name": "stderr",
     "output_type": "stream",
     "text": [
      "C:\\Users\\hp\\AppData\\Local\\Temp\\ipykernel_2904\\365529943.py:940: FutureWarning: The frame.append method is deprecated and will be removed from pandas in a future version. Use pandas.concat instead.\n",
      "  self.df = self.df.append(row, ignore_index=True)\n",
      "C:\\Users\\hp\\AppData\\Local\\Temp\\ipykernel_2904\\365529943.py:946: FutureWarning: The frame.append method is deprecated and will be removed from pandas in a future version. Use pandas.concat instead.\n",
      "  self.past_df = self.past_df.append(self.df.iloc[0], ignore_index=True)\n"
     ]
    },
    {
     "name": "stdout",
     "output_type": "stream",
     "text": [
      "In Sell\n",
      "In Sell\n",
      "In Sell\n",
      "In Sell\n"
     ]
    },
    {
     "name": "stderr",
     "output_type": "stream",
     "text": [
      "C:\\Users\\hp\\AppData\\Local\\Temp\\ipykernel_2904\\365529943.py:940: FutureWarning: The frame.append method is deprecated and will be removed from pandas in a future version. Use pandas.concat instead.\n",
      "  self.df = self.df.append(row, ignore_index=True)\n",
      "C:\\Users\\hp\\AppData\\Local\\Temp\\ipykernel_2904\\365529943.py:946: FutureWarning: The frame.append method is deprecated and will be removed from pandas in a future version. Use pandas.concat instead.\n",
      "  self.past_df = self.past_df.append(self.df.iloc[0], ignore_index=True)\n"
     ]
    },
    {
     "name": "stdout",
     "output_type": "stream",
     "text": [
      "In Buy\n",
      "In a green candle\n",
      "In Buy\n",
      "In red candle\n",
      "In Buy\n",
      "In red candle\n",
      "In SL Condition\n"
     ]
    },
    {
     "name": "stderr",
     "output_type": "stream",
     "text": [
      "C:\\Users\\hp\\AppData\\Local\\Temp\\ipykernel_2904\\365529943.py:940: FutureWarning: The frame.append method is deprecated and will be removed from pandas in a future version. Use pandas.concat instead.\n",
      "  self.df = self.df.append(row, ignore_index=True)\n",
      "C:\\Users\\hp\\AppData\\Local\\Temp\\ipykernel_2904\\365529943.py:946: FutureWarning: The frame.append method is deprecated and will be removed from pandas in a future version. Use pandas.concat instead.\n",
      "  self.past_df = self.past_df.append(self.df.iloc[0], ignore_index=True)\n"
     ]
    },
    {
     "name": "stdout",
     "output_type": "stream",
     "text": [
      "In Buy\n",
      "In a green candle\n",
      "In Buy\n",
      "In a green candle\n",
      "In TRG exit condition\n"
     ]
    },
    {
     "name": "stderr",
     "output_type": "stream",
     "text": [
      "C:\\Users\\hp\\AppData\\Local\\Temp\\ipykernel_2904\\365529943.py:940: FutureWarning: The frame.append method is deprecated and will be removed from pandas in a future version. Use pandas.concat instead.\n",
      "  self.df = self.df.append(row, ignore_index=True)\n",
      "C:\\Users\\hp\\AppData\\Local\\Temp\\ipykernel_2904\\365529943.py:946: FutureWarning: The frame.append method is deprecated and will be removed from pandas in a future version. Use pandas.concat instead.\n",
      "  self.past_df = self.past_df.append(self.df.iloc[0], ignore_index=True)\n"
     ]
    },
    {
     "name": "stdout",
     "output_type": "stream",
     "text": [
      "In Sell\n",
      "In Sell\n",
      "In Sell\n",
      "In Sell\n",
      "In Sell\n",
      "In Sell\n"
     ]
    },
    {
     "name": "stderr",
     "output_type": "stream",
     "text": [
      "C:\\Users\\hp\\AppData\\Local\\Temp\\ipykernel_2904\\365529943.py:940: FutureWarning: The frame.append method is deprecated and will be removed from pandas in a future version. Use pandas.concat instead.\n",
      "  self.df = self.df.append(row, ignore_index=True)\n",
      "C:\\Users\\hp\\AppData\\Local\\Temp\\ipykernel_2904\\365529943.py:946: FutureWarning: The frame.append method is deprecated and will be removed from pandas in a future version. Use pandas.concat instead.\n",
      "  self.past_df = self.past_df.append(self.df.iloc[0], ignore_index=True)\n"
     ]
    },
    {
     "name": "stdout",
     "output_type": "stream",
     "text": [
      "In Sell\n",
      "In Sell\n",
      "In Sell\n",
      "In Sell\n",
      "In Sell\n",
      "In Sell\n",
      "In Sell\n",
      "In Sell\n",
      "In Sell\n"
     ]
    },
    {
     "name": "stderr",
     "output_type": "stream",
     "text": [
      "C:\\Users\\hp\\AppData\\Local\\Temp\\ipykernel_2904\\365529943.py:940: FutureWarning: The frame.append method is deprecated and will be removed from pandas in a future version. Use pandas.concat instead.\n",
      "  self.df = self.df.append(row, ignore_index=True)\n",
      "C:\\Users\\hp\\AppData\\Local\\Temp\\ipykernel_2904\\365529943.py:946: FutureWarning: The frame.append method is deprecated and will be removed from pandas in a future version. Use pandas.concat instead.\n",
      "  self.past_df = self.past_df.append(self.df.iloc[0], ignore_index=True)\n"
     ]
    },
    {
     "name": "stdout",
     "output_type": "stream",
     "text": [
      "In Sell\n",
      "In Sell\n",
      "In Sell\n",
      "In Sell\n",
      "In Sell\n",
      "In Sell\n",
      "In Sell\n",
      "In Sell\n",
      "In Sell\n",
      "In Sell\n",
      "In Sell\n",
      "In Sell\n",
      "In Sell\n",
      "In Sell\n",
      "In Sell\n",
      "In Sell\n",
      "In Sell\n",
      "In Sell\n"
     ]
    },
    {
     "name": "stderr",
     "output_type": "stream",
     "text": [
      "C:\\Users\\hp\\AppData\\Local\\Temp\\ipykernel_2904\\365529943.py:940: FutureWarning: The frame.append method is deprecated and will be removed from pandas in a future version. Use pandas.concat instead.\n",
      "  self.df = self.df.append(row, ignore_index=True)\n",
      "C:\\Users\\hp\\AppData\\Local\\Temp\\ipykernel_2904\\365529943.py:946: FutureWarning: The frame.append method is deprecated and will be removed from pandas in a future version. Use pandas.concat instead.\n",
      "  self.past_df = self.past_df.append(self.df.iloc[0], ignore_index=True)\n"
     ]
    },
    {
     "name": "stdout",
     "output_type": "stream",
     "text": [
      "In Sell\n",
      "In Sell\n",
      "In Sell\n",
      "In Sell\n",
      "In Sell\n",
      "In Sell\n",
      "In Sell\n",
      "In Sell\n",
      "In Sell\n",
      "In Sell\n",
      "In Sell\n",
      "In Sell\n",
      "In Sell\n",
      "In Sell\n",
      "In Sell\n",
      "In Sell\n",
      "In Sell\n",
      "In Sell\n",
      "In Sell\n",
      "In Sell\n",
      "In Sell\n",
      "In Sell\n",
      "In Sell\n",
      "In Sell\n",
      "In Sell\n",
      "In Sell\n"
     ]
    },
    {
     "name": "stderr",
     "output_type": "stream",
     "text": [
      "C:\\Users\\hp\\AppData\\Local\\Temp\\ipykernel_2904\\365529943.py:940: FutureWarning: The frame.append method is deprecated and will be removed from pandas in a future version. Use pandas.concat instead.\n",
      "  self.df = self.df.append(row, ignore_index=True)\n",
      "C:\\Users\\hp\\AppData\\Local\\Temp\\ipykernel_2904\\365529943.py:946: FutureWarning: The frame.append method is deprecated and will be removed from pandas in a future version. Use pandas.concat instead.\n",
      "  self.past_df = self.past_df.append(self.df.iloc[0], ignore_index=True)\n"
     ]
    },
    {
     "name": "stdout",
     "output_type": "stream",
     "text": [
      "In Sell\n",
      "In Sell\n",
      "In Sell\n",
      "In Sell\n",
      "In Sell\n",
      "In Sell\n",
      "In Sell\n",
      "In Sell\n"
     ]
    },
    {
     "name": "stderr",
     "output_type": "stream",
     "text": [
      "C:\\Users\\hp\\AppData\\Local\\Temp\\ipykernel_2904\\365529943.py:940: FutureWarning: The frame.append method is deprecated and will be removed from pandas in a future version. Use pandas.concat instead.\n",
      "  self.df = self.df.append(row, ignore_index=True)\n",
      "C:\\Users\\hp\\AppData\\Local\\Temp\\ipykernel_2904\\365529943.py:946: FutureWarning: The frame.append method is deprecated and will be removed from pandas in a future version. Use pandas.concat instead.\n",
      "  self.past_df = self.past_df.append(self.df.iloc[0], ignore_index=True)\n"
     ]
    },
    {
     "name": "stdout",
     "output_type": "stream",
     "text": [
      "In Sell\n",
      "In Sell\n"
     ]
    },
    {
     "name": "stderr",
     "output_type": "stream",
     "text": [
      "C:\\Users\\hp\\AppData\\Local\\Temp\\ipykernel_2904\\365529943.py:940: FutureWarning: The frame.append method is deprecated and will be removed from pandas in a future version. Use pandas.concat instead.\n",
      "  self.df = self.df.append(row, ignore_index=True)\n",
      "C:\\Users\\hp\\AppData\\Local\\Temp\\ipykernel_2904\\365529943.py:946: FutureWarning: The frame.append method is deprecated and will be removed from pandas in a future version. Use pandas.concat instead.\n",
      "  self.past_df = self.past_df.append(self.df.iloc[0], ignore_index=True)\n"
     ]
    },
    {
     "name": "stdout",
     "output_type": "stream",
     "text": [
      "In Sell\n",
      "In Sell\n",
      "In Sell\n"
     ]
    },
    {
     "name": "stderr",
     "output_type": "stream",
     "text": [
      "C:\\Users\\hp\\AppData\\Local\\Temp\\ipykernel_2904\\365529943.py:940: FutureWarning: The frame.append method is deprecated and will be removed from pandas in a future version. Use pandas.concat instead.\n",
      "  self.df = self.df.append(row, ignore_index=True)\n",
      "C:\\Users\\hp\\AppData\\Local\\Temp\\ipykernel_2904\\365529943.py:946: FutureWarning: The frame.append method is deprecated and will be removed from pandas in a future version. Use pandas.concat instead.\n",
      "  self.past_df = self.past_df.append(self.df.iloc[0], ignore_index=True)\n"
     ]
    },
    {
     "name": "stdout",
     "output_type": "stream",
     "text": [
      "In Sell\n",
      "In Sell\n",
      "In Sell\n"
     ]
    },
    {
     "name": "stderr",
     "output_type": "stream",
     "text": [
      "C:\\Users\\hp\\AppData\\Local\\Temp\\ipykernel_2904\\365529943.py:940: FutureWarning: The frame.append method is deprecated and will be removed from pandas in a future version. Use pandas.concat instead.\n",
      "  self.df = self.df.append(row, ignore_index=True)\n",
      "C:\\Users\\hp\\AppData\\Local\\Temp\\ipykernel_2904\\365529943.py:946: FutureWarning: The frame.append method is deprecated and will be removed from pandas in a future version. Use pandas.concat instead.\n",
      "  self.past_df = self.past_df.append(self.df.iloc[0], ignore_index=True)\n",
      "C:\\Users\\hp\\AppData\\Local\\Temp\\ipykernel_2904\\365529943.py:940: FutureWarning: The frame.append method is deprecated and will be removed from pandas in a future version. Use pandas.concat instead.\n",
      "  self.df = self.df.append(row, ignore_index=True)\n",
      "C:\\Users\\hp\\AppData\\Local\\Temp\\ipykernel_2904\\365529943.py:946: FutureWarning: The frame.append method is deprecated and will be removed from pandas in a future version. Use pandas.concat instead.\n",
      "  self.past_df = self.past_df.append(self.df.iloc[0], ignore_index=True)\n"
     ]
    },
    {
     "name": "stdout",
     "output_type": "stream",
     "text": [
      "In Sell\n",
      "In Sell\n",
      "In Sell\n",
      "In Sell\n",
      "In Sell\n",
      "In Sell\n"
     ]
    },
    {
     "name": "stderr",
     "output_type": "stream",
     "text": [
      "C:\\Users\\hp\\AppData\\Local\\Temp\\ipykernel_2904\\365529943.py:940: FutureWarning: The frame.append method is deprecated and will be removed from pandas in a future version. Use pandas.concat instead.\n",
      "  self.df = self.df.append(row, ignore_index=True)\n",
      "C:\\Users\\hp\\AppData\\Local\\Temp\\ipykernel_2904\\365529943.py:946: FutureWarning: The frame.append method is deprecated and will be removed from pandas in a future version. Use pandas.concat instead.\n",
      "  self.past_df = self.past_df.append(self.df.iloc[0], ignore_index=True)\n"
     ]
    },
    {
     "name": "stdout",
     "output_type": "stream",
     "text": [
      "In Sell\n",
      "In Sell\n",
      "In Sell\n",
      "In Sell\n",
      "In Sell\n",
      "In Sell\n",
      "In Sell\n",
      "In Sell\n",
      "In Sell\n",
      "In Sell\n",
      "In Sell\n",
      "In Sell\n",
      "In Sell\n",
      "In Sell\n",
      "In Sell\n"
     ]
    },
    {
     "name": "stderr",
     "output_type": "stream",
     "text": [
      "C:\\Users\\hp\\AppData\\Local\\Temp\\ipykernel_2904\\365529943.py:940: FutureWarning: The frame.append method is deprecated and will be removed from pandas in a future version. Use pandas.concat instead.\n",
      "  self.df = self.df.append(row, ignore_index=True)\n",
      "C:\\Users\\hp\\AppData\\Local\\Temp\\ipykernel_2904\\365529943.py:946: FutureWarning: The frame.append method is deprecated and will be removed from pandas in a future version. Use pandas.concat instead.\n",
      "  self.past_df = self.past_df.append(self.df.iloc[0], ignore_index=True)\n"
     ]
    },
    {
     "name": "stdout",
     "output_type": "stream",
     "text": [
      "In Buy\n",
      "In a green candle\n",
      "In Buy\n",
      "In a green candle\n",
      "In Buy\n",
      "In red candle\n",
      "In Buy\n",
      "In a green candle\n",
      "In Buy\n",
      "In a green candle\n",
      "In Buy\n",
      "In red candle\n",
      "In Buy\n",
      "In red candle\n",
      "In Buy\n",
      "In a green candle\n",
      "In Buy\n",
      "In a green candle\n",
      "In Buy\n",
      "In red candle\n",
      "In Buy\n",
      "In red candle\n",
      "In Buy\n",
      "In a green candle\n",
      "In Buy\n",
      "In red candle\n",
      "In Buy\n",
      "In a green candle\n",
      "In Buy\n",
      "In a green candle\n",
      "In Buy\n",
      "In red candle\n",
      "In Buy\n",
      "In a green candle\n",
      "In Buy\n",
      "In red candle\n",
      "In Buy\n",
      "In red candle\n",
      "In Buy\n",
      "In a green candle\n",
      "In Buy\n",
      "In red candle\n",
      "In Buy\n",
      "In a green candle\n",
      "In Buy\n",
      "In red candle\n",
      "In Buy\n",
      "In a green candle\n",
      "In Buy\n",
      "In red candle\n",
      "In Buy\n",
      "In red candle\n",
      "In Buy\n",
      "In red candle\n",
      "In Buy\n",
      "In red candle\n",
      "In SL Condition\n"
     ]
    },
    {
     "name": "stderr",
     "output_type": "stream",
     "text": [
      "C:\\Users\\hp\\AppData\\Local\\Temp\\ipykernel_2904\\365529943.py:940: FutureWarning: The frame.append method is deprecated and will be removed from pandas in a future version. Use pandas.concat instead.\n",
      "  self.df = self.df.append(row, ignore_index=True)\n",
      "C:\\Users\\hp\\AppData\\Local\\Temp\\ipykernel_2904\\365529943.py:946: FutureWarning: The frame.append method is deprecated and will be removed from pandas in a future version. Use pandas.concat instead.\n",
      "  self.past_df = self.past_df.append(self.df.iloc[0], ignore_index=True)\n"
     ]
    },
    {
     "name": "stdout",
     "output_type": "stream",
     "text": [
      "In Buy\n",
      "In red candle\n",
      "In Buy\n",
      "In a green candle\n",
      "In Buy\n",
      "In a green candle\n",
      "In Buy\n",
      "In red candle\n",
      "In SL Condition\n"
     ]
    },
    {
     "name": "stderr",
     "output_type": "stream",
     "text": [
      "C:\\Users\\hp\\AppData\\Local\\Temp\\ipykernel_2904\\365529943.py:940: FutureWarning: The frame.append method is deprecated and will be removed from pandas in a future version. Use pandas.concat instead.\n",
      "  self.df = self.df.append(row, ignore_index=True)\n",
      "C:\\Users\\hp\\AppData\\Local\\Temp\\ipykernel_2904\\365529943.py:946: FutureWarning: The frame.append method is deprecated and will be removed from pandas in a future version. Use pandas.concat instead.\n",
      "  self.past_df = self.past_df.append(self.df.iloc[0], ignore_index=True)\n"
     ]
    },
    {
     "name": "stdout",
     "output_type": "stream",
     "text": [
      "In Buy\n",
      "In red candle\n",
      "In Buy\n",
      "In a green candle\n",
      "In SL Condition\n"
     ]
    },
    {
     "name": "stderr",
     "output_type": "stream",
     "text": [
      "C:\\Users\\hp\\AppData\\Local\\Temp\\ipykernel_2904\\365529943.py:940: FutureWarning: The frame.append method is deprecated and will be removed from pandas in a future version. Use pandas.concat instead.\n",
      "  self.df = self.df.append(row, ignore_index=True)\n",
      "C:\\Users\\hp\\AppData\\Local\\Temp\\ipykernel_2904\\365529943.py:946: FutureWarning: The frame.append method is deprecated and will be removed from pandas in a future version. Use pandas.concat instead.\n",
      "  self.past_df = self.past_df.append(self.df.iloc[0], ignore_index=True)\n"
     ]
    },
    {
     "name": "stdout",
     "output_type": "stream",
     "text": [
      "In Buy\n",
      "In red candle\n",
      "In Buy\n",
      "In a green candle\n",
      "In Buy\n",
      "In a green candle\n",
      "In Buy\n",
      "In red candle\n",
      "In SL Condition\n"
     ]
    },
    {
     "name": "stderr",
     "output_type": "stream",
     "text": [
      "C:\\Users\\hp\\AppData\\Local\\Temp\\ipykernel_2904\\365529943.py:940: FutureWarning: The frame.append method is deprecated and will be removed from pandas in a future version. Use pandas.concat instead.\n",
      "  self.df = self.df.append(row, ignore_index=True)\n",
      "C:\\Users\\hp\\AppData\\Local\\Temp\\ipykernel_2904\\365529943.py:946: FutureWarning: The frame.append method is deprecated and will be removed from pandas in a future version. Use pandas.concat instead.\n",
      "  self.past_df = self.past_df.append(self.df.iloc[0], ignore_index=True)\n"
     ]
    },
    {
     "name": "stdout",
     "output_type": "stream",
     "text": [
      "In Sell\n",
      "In Sell\n",
      "In Sell\n"
     ]
    },
    {
     "name": "stderr",
     "output_type": "stream",
     "text": [
      "C:\\Users\\hp\\AppData\\Local\\Temp\\ipykernel_2904\\365529943.py:940: FutureWarning: The frame.append method is deprecated and will be removed from pandas in a future version. Use pandas.concat instead.\n",
      "  self.df = self.df.append(row, ignore_index=True)\n",
      "C:\\Users\\hp\\AppData\\Local\\Temp\\ipykernel_2904\\365529943.py:946: FutureWarning: The frame.append method is deprecated and will be removed from pandas in a future version. Use pandas.concat instead.\n",
      "  self.past_df = self.past_df.append(self.df.iloc[0], ignore_index=True)\n"
     ]
    },
    {
     "name": "stdout",
     "output_type": "stream",
     "text": [
      "In Sell\n",
      "In Sell\n",
      "In Sell\n",
      "In Sell\n",
      "In Sell\n"
     ]
    },
    {
     "name": "stderr",
     "output_type": "stream",
     "text": [
      "C:\\Users\\hp\\AppData\\Local\\Temp\\ipykernel_2904\\365529943.py:940: FutureWarning: The frame.append method is deprecated and will be removed from pandas in a future version. Use pandas.concat instead.\n",
      "  self.df = self.df.append(row, ignore_index=True)\n",
      "C:\\Users\\hp\\AppData\\Local\\Temp\\ipykernel_2904\\365529943.py:946: FutureWarning: The frame.append method is deprecated and will be removed from pandas in a future version. Use pandas.concat instead.\n",
      "  self.past_df = self.past_df.append(self.df.iloc[0], ignore_index=True)\n"
     ]
    },
    {
     "name": "stdout",
     "output_type": "stream",
     "text": [
      "In Sell\n"
     ]
    },
    {
     "name": "stderr",
     "output_type": "stream",
     "text": [
      "C:\\Users\\hp\\AppData\\Local\\Temp\\ipykernel_2904\\365529943.py:940: FutureWarning: The frame.append method is deprecated and will be removed from pandas in a future version. Use pandas.concat instead.\n",
      "  self.df = self.df.append(row, ignore_index=True)\n",
      "C:\\Users\\hp\\AppData\\Local\\Temp\\ipykernel_2904\\365529943.py:946: FutureWarning: The frame.append method is deprecated and will be removed from pandas in a future version. Use pandas.concat instead.\n",
      "  self.past_df = self.past_df.append(self.df.iloc[0], ignore_index=True)\n"
     ]
    },
    {
     "name": "stdout",
     "output_type": "stream",
     "text": [
      "In Sell\n",
      "In Sell\n",
      "In Sell\n",
      "In Sell\n",
      "In Sell\n",
      "In Sell\n",
      "In Sell\n",
      "In Sell\n",
      "In Sell\n",
      "In Sell\n",
      "In Sell\n",
      "In Sell\n",
      "In Sell\n",
      "In Sell\n",
      "In Sell\n",
      "In Sell\n",
      "In Sell\n",
      "In Sell\n",
      "In Sell\n",
      "In Sell\n",
      "In Sell\n",
      "In Sell\n"
     ]
    },
    {
     "name": "stderr",
     "output_type": "stream",
     "text": [
      "C:\\Users\\hp\\AppData\\Local\\Temp\\ipykernel_2904\\365529943.py:940: FutureWarning: The frame.append method is deprecated and will be removed from pandas in a future version. Use pandas.concat instead.\n",
      "  self.df = self.df.append(row, ignore_index=True)\n",
      "C:\\Users\\hp\\AppData\\Local\\Temp\\ipykernel_2904\\365529943.py:946: FutureWarning: The frame.append method is deprecated and will be removed from pandas in a future version. Use pandas.concat instead.\n",
      "  self.past_df = self.past_df.append(self.df.iloc[0], ignore_index=True)\n"
     ]
    },
    {
     "name": "stdout",
     "output_type": "stream",
     "text": [
      "In Sell\n",
      "In Sell\n",
      "In Sell\n",
      "In Sell\n",
      "In Sell\n",
      "In Sell\n",
      "In Sell\n",
      "In Sell\n",
      "In Sell\n",
      "In Sell\n",
      "In Sell\n",
      "In Sell\n"
     ]
    },
    {
     "name": "stderr",
     "output_type": "stream",
     "text": [
      "C:\\Users\\hp\\AppData\\Local\\Temp\\ipykernel_2904\\365529943.py:940: FutureWarning: The frame.append method is deprecated and will be removed from pandas in a future version. Use pandas.concat instead.\n",
      "  self.df = self.df.append(row, ignore_index=True)\n",
      "C:\\Users\\hp\\AppData\\Local\\Temp\\ipykernel_2904\\365529943.py:946: FutureWarning: The frame.append method is deprecated and will be removed from pandas in a future version. Use pandas.concat instead.\n",
      "  self.past_df = self.past_df.append(self.df.iloc[0], ignore_index=True)\n"
     ]
    },
    {
     "name": "stdout",
     "output_type": "stream",
     "text": [
      "In Sell\n",
      "In Sell\n",
      "In Sell\n",
      "In Sell\n",
      "In Sell\n",
      "In Sell\n",
      "In Sell\n",
      "In Sell\n"
     ]
    },
    {
     "name": "stderr",
     "output_type": "stream",
     "text": [
      "C:\\Users\\hp\\AppData\\Local\\Temp\\ipykernel_2904\\365529943.py:940: FutureWarning: The frame.append method is deprecated and will be removed from pandas in a future version. Use pandas.concat instead.\n",
      "  self.df = self.df.append(row, ignore_index=True)\n",
      "C:\\Users\\hp\\AppData\\Local\\Temp\\ipykernel_2904\\365529943.py:946: FutureWarning: The frame.append method is deprecated and will be removed from pandas in a future version. Use pandas.concat instead.\n",
      "  self.past_df = self.past_df.append(self.df.iloc[0], ignore_index=True)\n"
     ]
    },
    {
     "name": "stdout",
     "output_type": "stream",
     "text": [
      "In Sell\n",
      "In Sell\n",
      "In Sell\n",
      "In Sell\n",
      "In Sell\n",
      "In Sell\n",
      "In Sell\n"
     ]
    },
    {
     "name": "stderr",
     "output_type": "stream",
     "text": [
      "C:\\Users\\hp\\AppData\\Local\\Temp\\ipykernel_2904\\365529943.py:940: FutureWarning: The frame.append method is deprecated and will be removed from pandas in a future version. Use pandas.concat instead.\n",
      "  self.df = self.df.append(row, ignore_index=True)\n",
      "C:\\Users\\hp\\AppData\\Local\\Temp\\ipykernel_2904\\365529943.py:946: FutureWarning: The frame.append method is deprecated and will be removed from pandas in a future version. Use pandas.concat instead.\n",
      "  self.past_df = self.past_df.append(self.df.iloc[0], ignore_index=True)\n"
     ]
    },
    {
     "name": "stdout",
     "output_type": "stream",
     "text": [
      "In Sell\n",
      "In Sell\n",
      "In Sell\n",
      "In Sell\n",
      "In Sell\n",
      "In Sell\n",
      "In Sell\n",
      "In Sell\n",
      "In Sell\n",
      "In Sell\n",
      "In Sell\n",
      "In Sell\n",
      "In Sell\n",
      "In Sell\n",
      "In Sell\n",
      "In Sell\n",
      "In Sell\n",
      "In Sell\n",
      "In Sell\n",
      "In Sell\n",
      "In Sell\n",
      "In Sell\n",
      "In Sell\n",
      "In Sell\n",
      "In Sell\n",
      "In Sell\n",
      "In Sell\n"
     ]
    },
    {
     "name": "stderr",
     "output_type": "stream",
     "text": [
      "C:\\Users\\hp\\AppData\\Local\\Temp\\ipykernel_2904\\365529943.py:940: FutureWarning: The frame.append method is deprecated and will be removed from pandas in a future version. Use pandas.concat instead.\n",
      "  self.df = self.df.append(row, ignore_index=True)\n",
      "C:\\Users\\hp\\AppData\\Local\\Temp\\ipykernel_2904\\365529943.py:946: FutureWarning: The frame.append method is deprecated and will be removed from pandas in a future version. Use pandas.concat instead.\n",
      "  self.past_df = self.past_df.append(self.df.iloc[0], ignore_index=True)\n"
     ]
    },
    {
     "name": "stdout",
     "output_type": "stream",
     "text": [
      "In Sell\n",
      "In Sell\n",
      "In Sell\n",
      "In Sell\n"
     ]
    },
    {
     "name": "stderr",
     "output_type": "stream",
     "text": [
      "C:\\Users\\hp\\AppData\\Local\\Temp\\ipykernel_2904\\365529943.py:940: FutureWarning: The frame.append method is deprecated and will be removed from pandas in a future version. Use pandas.concat instead.\n",
      "  self.df = self.df.append(row, ignore_index=True)\n",
      "C:\\Users\\hp\\AppData\\Local\\Temp\\ipykernel_2904\\365529943.py:946: FutureWarning: The frame.append method is deprecated and will be removed from pandas in a future version. Use pandas.concat instead.\n",
      "  self.past_df = self.past_df.append(self.df.iloc[0], ignore_index=True)\n"
     ]
    },
    {
     "name": "stdout",
     "output_type": "stream",
     "text": [
      "In Sell\n",
      "In Sell\n"
     ]
    },
    {
     "name": "stderr",
     "output_type": "stream",
     "text": [
      "C:\\Users\\hp\\AppData\\Local\\Temp\\ipykernel_2904\\365529943.py:940: FutureWarning: The frame.append method is deprecated and will be removed from pandas in a future version. Use pandas.concat instead.\n",
      "  self.df = self.df.append(row, ignore_index=True)\n",
      "C:\\Users\\hp\\AppData\\Local\\Temp\\ipykernel_2904\\365529943.py:946: FutureWarning: The frame.append method is deprecated and will be removed from pandas in a future version. Use pandas.concat instead.\n",
      "  self.past_df = self.past_df.append(self.df.iloc[0], ignore_index=True)\n"
     ]
    },
    {
     "name": "stdout",
     "output_type": "stream",
     "text": [
      "In Sell\n",
      "In Sell\n",
      "In Sell\n",
      "In Sell\n",
      "In Sell\n",
      "In Sell\n",
      "In Sell\n",
      "In Sell\n",
      "In Sell\n",
      "In Sell\n"
     ]
    },
    {
     "name": "stderr",
     "output_type": "stream",
     "text": [
      "C:\\Users\\hp\\AppData\\Local\\Temp\\ipykernel_2904\\365529943.py:940: FutureWarning: The frame.append method is deprecated and will be removed from pandas in a future version. Use pandas.concat instead.\n",
      "  self.df = self.df.append(row, ignore_index=True)\n",
      "C:\\Users\\hp\\AppData\\Local\\Temp\\ipykernel_2904\\365529943.py:946: FutureWarning: The frame.append method is deprecated and will be removed from pandas in a future version. Use pandas.concat instead.\n",
      "  self.past_df = self.past_df.append(self.df.iloc[0], ignore_index=True)\n"
     ]
    },
    {
     "name": "stdout",
     "output_type": "stream",
     "text": [
      "In Sell\n",
      "In Sell\n",
      "In Sell\n",
      "In Sell\n",
      "In Sell\n",
      "In Sell\n",
      "In Sell\n",
      "In Sell\n"
     ]
    },
    {
     "name": "stderr",
     "output_type": "stream",
     "text": [
      "C:\\Users\\hp\\AppData\\Local\\Temp\\ipykernel_2904\\365529943.py:940: FutureWarning: The frame.append method is deprecated and will be removed from pandas in a future version. Use pandas.concat instead.\n",
      "  self.df = self.df.append(row, ignore_index=True)\n",
      "C:\\Users\\hp\\AppData\\Local\\Temp\\ipykernel_2904\\365529943.py:946: FutureWarning: The frame.append method is deprecated and will be removed from pandas in a future version. Use pandas.concat instead.\n",
      "  self.past_df = self.past_df.append(self.df.iloc[0], ignore_index=True)\n"
     ]
    },
    {
     "name": "stdout",
     "output_type": "stream",
     "text": [
      "In Buy\n",
      "In a green candle\n",
      "In Buy\n",
      "In red candle\n",
      "In Buy\n",
      "In red candle\n",
      "In Buy\n",
      "In a green candle\n",
      "In Buy\n",
      "In a green candle\n",
      "In Buy\n",
      "In a green candle\n",
      "In TRG exit condition\n"
     ]
    },
    {
     "name": "stderr",
     "output_type": "stream",
     "text": [
      "C:\\Users\\hp\\AppData\\Local\\Temp\\ipykernel_2904\\365529943.py:940: FutureWarning: The frame.append method is deprecated and will be removed from pandas in a future version. Use pandas.concat instead.\n",
      "  self.df = self.df.append(row, ignore_index=True)\n",
      "C:\\Users\\hp\\AppData\\Local\\Temp\\ipykernel_2904\\365529943.py:946: FutureWarning: The frame.append method is deprecated and will be removed from pandas in a future version. Use pandas.concat instead.\n",
      "  self.past_df = self.past_df.append(self.df.iloc[0], ignore_index=True)\n"
     ]
    },
    {
     "name": "stdout",
     "output_type": "stream",
     "text": [
      "In Sell\n",
      "In Sell\n",
      "In Sell\n",
      "In Sell\n",
      "In Sell\n",
      "In Sell\n",
      "In Sell\n",
      "In Sell\n",
      "In Sell\n"
     ]
    },
    {
     "name": "stderr",
     "output_type": "stream",
     "text": [
      "C:\\Users\\hp\\AppData\\Local\\Temp\\ipykernel_2904\\365529943.py:940: FutureWarning: The frame.append method is deprecated and will be removed from pandas in a future version. Use pandas.concat instead.\n",
      "  self.df = self.df.append(row, ignore_index=True)\n",
      "C:\\Users\\hp\\AppData\\Local\\Temp\\ipykernel_2904\\365529943.py:946: FutureWarning: The frame.append method is deprecated and will be removed from pandas in a future version. Use pandas.concat instead.\n",
      "  self.past_df = self.past_df.append(self.df.iloc[0], ignore_index=True)\n"
     ]
    },
    {
     "name": "stdout",
     "output_type": "stream",
     "text": [
      "In Sell\n"
     ]
    },
    {
     "name": "stderr",
     "output_type": "stream",
     "text": [
      "C:\\Users\\hp\\AppData\\Local\\Temp\\ipykernel_2904\\365529943.py:940: FutureWarning: The frame.append method is deprecated and will be removed from pandas in a future version. Use pandas.concat instead.\n",
      "  self.df = self.df.append(row, ignore_index=True)\n",
      "C:\\Users\\hp\\AppData\\Local\\Temp\\ipykernel_2904\\365529943.py:946: FutureWarning: The frame.append method is deprecated and will be removed from pandas in a future version. Use pandas.concat instead.\n",
      "  self.past_df = self.past_df.append(self.df.iloc[0], ignore_index=True)\n"
     ]
    },
    {
     "name": "stdout",
     "output_type": "stream",
     "text": [
      "In Sell\n",
      "In Sell\n",
      "In Sell\n",
      "In Sell\n"
     ]
    },
    {
     "name": "stderr",
     "output_type": "stream",
     "text": [
      "C:\\Users\\hp\\AppData\\Local\\Temp\\ipykernel_2904\\365529943.py:940: FutureWarning: The frame.append method is deprecated and will be removed from pandas in a future version. Use pandas.concat instead.\n",
      "  self.df = self.df.append(row, ignore_index=True)\n",
      "C:\\Users\\hp\\AppData\\Local\\Temp\\ipykernel_2904\\365529943.py:946: FutureWarning: The frame.append method is deprecated and will be removed from pandas in a future version. Use pandas.concat instead.\n",
      "  self.past_df = self.past_df.append(self.df.iloc[0], ignore_index=True)\n"
     ]
    },
    {
     "name": "stdout",
     "output_type": "stream",
     "text": [
      "In Buy\n",
      "In a green candle\n",
      "In Buy\n",
      "In red candle\n",
      "In Buy\n",
      "In red candle\n",
      "In SL Condition\n"
     ]
    },
    {
     "name": "stderr",
     "output_type": "stream",
     "text": [
      "C:\\Users\\hp\\AppData\\Local\\Temp\\ipykernel_2904\\365529943.py:940: FutureWarning: The frame.append method is deprecated and will be removed from pandas in a future version. Use pandas.concat instead.\n",
      "  self.df = self.df.append(row, ignore_index=True)\n",
      "C:\\Users\\hp\\AppData\\Local\\Temp\\ipykernel_2904\\365529943.py:946: FutureWarning: The frame.append method is deprecated and will be removed from pandas in a future version. Use pandas.concat instead.\n",
      "  self.past_df = self.past_df.append(self.df.iloc[0], ignore_index=True)\n"
     ]
    },
    {
     "name": "stdout",
     "output_type": "stream",
     "text": [
      "In Buy\n",
      "In a green candle\n",
      "In Buy\n",
      "In red candle\n",
      "In Buy\n",
      "In a green candle\n",
      "In Buy\n",
      "In red candle\n",
      "In Buy\n",
      "In a green candle\n",
      "In Buy\n",
      "In a green candle\n",
      "In Buy\n",
      "In a green candle\n",
      "In Buy\n",
      "In red candle\n",
      "In Buy\n",
      "In red candle\n",
      "In Buy\n",
      "In red candle\n",
      "In Buy\n",
      "In red candle\n",
      "In Buy\n",
      "In a green candle\n",
      "In Buy\n",
      "In a green candle\n",
      "In Buy\n",
      "In a green candle\n",
      "In TRG exit condition\n"
     ]
    },
    {
     "name": "stderr",
     "output_type": "stream",
     "text": [
      "C:\\Users\\hp\\AppData\\Local\\Temp\\ipykernel_2904\\365529943.py:940: FutureWarning: The frame.append method is deprecated and will be removed from pandas in a future version. Use pandas.concat instead.\n",
      "  self.df = self.df.append(row, ignore_index=True)\n",
      "C:\\Users\\hp\\AppData\\Local\\Temp\\ipykernel_2904\\365529943.py:946: FutureWarning: The frame.append method is deprecated and will be removed from pandas in a future version. Use pandas.concat instead.\n",
      "  self.past_df = self.past_df.append(self.df.iloc[0], ignore_index=True)\n"
     ]
    },
    {
     "name": "stdout",
     "output_type": "stream",
     "text": [
      "In Sell\n",
      "In Sell\n",
      "In Sell\n",
      "In Sell\n",
      "In Sell\n",
      "In Sell\n",
      "In Sell\n",
      "In Sell\n",
      "In Sell\n",
      "In Sell\n",
      "In Sell\n",
      "In Sell\n",
      "In Sell\n",
      "In Sell\n",
      "In Sell\n",
      "In Sell\n",
      "In Sell\n",
      "In Sell\n",
      "In Sell\n",
      "In Sell\n",
      "In Sell\n",
      "In Sell\n",
      "In Sell\n",
      "In Sell\n",
      "In Sell\n",
      "In Sell\n"
     ]
    },
    {
     "name": "stderr",
     "output_type": "stream",
     "text": [
      "C:\\Users\\hp\\AppData\\Local\\Temp\\ipykernel_2904\\365529943.py:940: FutureWarning: The frame.append method is deprecated and will be removed from pandas in a future version. Use pandas.concat instead.\n",
      "  self.df = self.df.append(row, ignore_index=True)\n",
      "C:\\Users\\hp\\AppData\\Local\\Temp\\ipykernel_2904\\365529943.py:946: FutureWarning: The frame.append method is deprecated and will be removed from pandas in a future version. Use pandas.concat instead.\n",
      "  self.past_df = self.past_df.append(self.df.iloc[0], ignore_index=True)\n"
     ]
    },
    {
     "name": "stdout",
     "output_type": "stream",
     "text": [
      "In Sell\n",
      "In Sell\n",
      "In Sell\n",
      "In Sell\n"
     ]
    },
    {
     "name": "stderr",
     "output_type": "stream",
     "text": [
      "C:\\Users\\hp\\AppData\\Local\\Temp\\ipykernel_2904\\365529943.py:940: FutureWarning: The frame.append method is deprecated and will be removed from pandas in a future version. Use pandas.concat instead.\n",
      "  self.df = self.df.append(row, ignore_index=True)\n",
      "C:\\Users\\hp\\AppData\\Local\\Temp\\ipykernel_2904\\365529943.py:946: FutureWarning: The frame.append method is deprecated and will be removed from pandas in a future version. Use pandas.concat instead.\n",
      "  self.past_df = self.past_df.append(self.df.iloc[0], ignore_index=True)\n"
     ]
    },
    {
     "name": "stdout",
     "output_type": "stream",
     "text": [
      "In Sell\n",
      "In Sell\n"
     ]
    },
    {
     "name": "stderr",
     "output_type": "stream",
     "text": [
      "C:\\Users\\hp\\AppData\\Local\\Temp\\ipykernel_2904\\365529943.py:940: FutureWarning: The frame.append method is deprecated and will be removed from pandas in a future version. Use pandas.concat instead.\n",
      "  self.df = self.df.append(row, ignore_index=True)\n",
      "C:\\Users\\hp\\AppData\\Local\\Temp\\ipykernel_2904\\365529943.py:946: FutureWarning: The frame.append method is deprecated and will be removed from pandas in a future version. Use pandas.concat instead.\n",
      "  self.past_df = self.past_df.append(self.df.iloc[0], ignore_index=True)\n"
     ]
    },
    {
     "name": "stdout",
     "output_type": "stream",
     "text": [
      "In Sell\n",
      "In Sell\n",
      "In Sell\n",
      "In Sell\n"
     ]
    },
    {
     "name": "stderr",
     "output_type": "stream",
     "text": [
      "C:\\Users\\hp\\AppData\\Local\\Temp\\ipykernel_2904\\365529943.py:940: FutureWarning: The frame.append method is deprecated and will be removed from pandas in a future version. Use pandas.concat instead.\n",
      "  self.df = self.df.append(row, ignore_index=True)\n",
      "C:\\Users\\hp\\AppData\\Local\\Temp\\ipykernel_2904\\365529943.py:946: FutureWarning: The frame.append method is deprecated and will be removed from pandas in a future version. Use pandas.concat instead.\n",
      "  self.past_df = self.past_df.append(self.df.iloc[0], ignore_index=True)\n"
     ]
    },
    {
     "name": "stdout",
     "output_type": "stream",
     "text": [
      "In Sell\n",
      "In Sell\n",
      "In Sell\n"
     ]
    },
    {
     "name": "stderr",
     "output_type": "stream",
     "text": [
      "C:\\Users\\hp\\AppData\\Local\\Temp\\ipykernel_2904\\365529943.py:940: FutureWarning: The frame.append method is deprecated and will be removed from pandas in a future version. Use pandas.concat instead.\n",
      "  self.df = self.df.append(row, ignore_index=True)\n",
      "C:\\Users\\hp\\AppData\\Local\\Temp\\ipykernel_2904\\365529943.py:946: FutureWarning: The frame.append method is deprecated and will be removed from pandas in a future version. Use pandas.concat instead.\n",
      "  self.past_df = self.past_df.append(self.df.iloc[0], ignore_index=True)\n"
     ]
    },
    {
     "name": "stdout",
     "output_type": "stream",
     "text": [
      "In Sell\n",
      "In Sell\n",
      "In Sell\n"
     ]
    },
    {
     "name": "stderr",
     "output_type": "stream",
     "text": [
      "C:\\Users\\hp\\AppData\\Local\\Temp\\ipykernel_2904\\365529943.py:940: FutureWarning: The frame.append method is deprecated and will be removed from pandas in a future version. Use pandas.concat instead.\n",
      "  self.df = self.df.append(row, ignore_index=True)\n",
      "C:\\Users\\hp\\AppData\\Local\\Temp\\ipykernel_2904\\365529943.py:946: FutureWarning: The frame.append method is deprecated and will be removed from pandas in a future version. Use pandas.concat instead.\n",
      "  self.past_df = self.past_df.append(self.df.iloc[0], ignore_index=True)\n"
     ]
    },
    {
     "name": "stdout",
     "output_type": "stream",
     "text": [
      "In Sell\n",
      "In Sell\n",
      "In Sell\n"
     ]
    },
    {
     "name": "stderr",
     "output_type": "stream",
     "text": [
      "C:\\Users\\hp\\AppData\\Local\\Temp\\ipykernel_2904\\365529943.py:940: FutureWarning: The frame.append method is deprecated and will be removed from pandas in a future version. Use pandas.concat instead.\n",
      "  self.df = self.df.append(row, ignore_index=True)\n",
      "C:\\Users\\hp\\AppData\\Local\\Temp\\ipykernel_2904\\365529943.py:946: FutureWarning: The frame.append method is deprecated and will be removed from pandas in a future version. Use pandas.concat instead.\n",
      "  self.past_df = self.past_df.append(self.df.iloc[0], ignore_index=True)\n"
     ]
    },
    {
     "name": "stdout",
     "output_type": "stream",
     "text": [
      "In Sell\n",
      "In Sell\n"
     ]
    },
    {
     "name": "stderr",
     "output_type": "stream",
     "text": [
      "C:\\Users\\hp\\AppData\\Local\\Temp\\ipykernel_2904\\365529943.py:940: FutureWarning: The frame.append method is deprecated and will be removed from pandas in a future version. Use pandas.concat instead.\n",
      "  self.df = self.df.append(row, ignore_index=True)\n",
      "C:\\Users\\hp\\AppData\\Local\\Temp\\ipykernel_2904\\365529943.py:946: FutureWarning: The frame.append method is deprecated and will be removed from pandas in a future version. Use pandas.concat instead.\n",
      "  self.past_df = self.past_df.append(self.df.iloc[0], ignore_index=True)\n"
     ]
    },
    {
     "name": "stdout",
     "output_type": "stream",
     "text": [
      "In Sell\n",
      "In Sell\n",
      "In Sell\n",
      "In Sell\n",
      "In Sell\n",
      "In Sell\n",
      "In Sell\n",
      "In Sell\n",
      "In Sell\n",
      "In Sell\n",
      "In Sell\n",
      "In Sell\n",
      "In Sell\n",
      "In Sell\n"
     ]
    },
    {
     "name": "stderr",
     "output_type": "stream",
     "text": [
      "C:\\Users\\hp\\AppData\\Local\\Temp\\ipykernel_2904\\365529943.py:940: FutureWarning: The frame.append method is deprecated and will be removed from pandas in a future version. Use pandas.concat instead.\n",
      "  self.df = self.df.append(row, ignore_index=True)\n",
      "C:\\Users\\hp\\AppData\\Local\\Temp\\ipykernel_2904\\365529943.py:946: FutureWarning: The frame.append method is deprecated and will be removed from pandas in a future version. Use pandas.concat instead.\n",
      "  self.past_df = self.past_df.append(self.df.iloc[0], ignore_index=True)\n"
     ]
    },
    {
     "name": "stdout",
     "output_type": "stream",
     "text": [
      "In Buy\n",
      "In a green candle\n",
      "In Buy\n",
      "In a green candle\n",
      "In Buy\n",
      "In red candle\n",
      "In Buy\n",
      "In red candle\n",
      "In Buy\n",
      "In red candle\n",
      "In Buy\n",
      "In red candle\n",
      "In SL Condition\n"
     ]
    },
    {
     "name": "stderr",
     "output_type": "stream",
     "text": [
      "C:\\Users\\hp\\AppData\\Local\\Temp\\ipykernel_2904\\365529943.py:940: FutureWarning: The frame.append method is deprecated and will be removed from pandas in a future version. Use pandas.concat instead.\n",
      "  self.df = self.df.append(row, ignore_index=True)\n",
      "C:\\Users\\hp\\AppData\\Local\\Temp\\ipykernel_2904\\365529943.py:946: FutureWarning: The frame.append method is deprecated and will be removed from pandas in a future version. Use pandas.concat instead.\n",
      "  self.past_df = self.past_df.append(self.df.iloc[0], ignore_index=True)\n"
     ]
    },
    {
     "name": "stdout",
     "output_type": "stream",
     "text": [
      "In Buy\n",
      "In red candle\n",
      "In Buy\n",
      "In a green candle\n",
      "In Buy\n",
      "In red candle\n",
      "In Buy\n",
      "In a green candle\n",
      "In Buy\n",
      "In a green candle\n",
      "In Buy\n",
      "In a green candle\n",
      "In Buy\n",
      "In red candle\n",
      "In Buy\n",
      "In a green candle\n",
      "In Buy\n",
      "In a green candle\n",
      "In Buy\n",
      "In a green candle\n",
      "In Buy\n",
      "In red candle\n",
      "In Buy\n",
      "In a green candle\n",
      "In Buy\n",
      "In red candle\n",
      "In SL Condition\n"
     ]
    },
    {
     "name": "stderr",
     "output_type": "stream",
     "text": [
      "C:\\Users\\hp\\AppData\\Local\\Temp\\ipykernel_2904\\365529943.py:940: FutureWarning: The frame.append method is deprecated and will be removed from pandas in a future version. Use pandas.concat instead.\n",
      "  self.df = self.df.append(row, ignore_index=True)\n",
      "C:\\Users\\hp\\AppData\\Local\\Temp\\ipykernel_2904\\365529943.py:946: FutureWarning: The frame.append method is deprecated and will be removed from pandas in a future version. Use pandas.concat instead.\n",
      "  self.past_df = self.past_df.append(self.df.iloc[0], ignore_index=True)\n"
     ]
    },
    {
     "name": "stdout",
     "output_type": "stream",
     "text": [
      "In Buy\n",
      "In a green candle\n",
      "In Buy\n",
      "In red candle\n",
      "In Buy\n",
      "In a green candle\n",
      "In Buy\n",
      "In red candle\n",
      "In Buy\n",
      "In a green candle\n",
      "In Buy\n",
      "In red candle\n",
      "In Buy\n",
      "In red candle\n",
      "In Buy\n",
      "In a green candle\n",
      "In Buy\n",
      "In a green candle\n",
      "In Buy\n",
      "In red candle\n",
      "In Buy\n",
      "In red candle\n",
      "In Buy\n",
      "In a green candle\n",
      "In Buy\n",
      "In a green candle\n",
      "In Buy\n",
      "In red candle\n",
      "In Buy\n",
      "In a green candle\n",
      "In Buy\n",
      "In a green candle\n",
      "In Buy\n",
      "In a green candle\n",
      "In Buy\n",
      "In red candle\n",
      "In Buy\n",
      "In red candle\n",
      "In Buy\n",
      "In red candle\n",
      "In Buy\n",
      "In a green candle\n",
      "In Buy\n",
      "In a green candle\n",
      "In Buy\n",
      "In red candle\n",
      "In Buy\n",
      "In a green candle\n",
      "In Buy\n",
      "In red candle\n",
      "In Buy\n",
      "In a green candle\n",
      "In Buy\n",
      "In a green candle\n",
      "In Buy\n",
      "In red candle\n",
      "In Buy\n",
      "In red candle\n",
      "In Buy\n",
      "In red candle\n",
      "In Buy\n",
      "In red candle\n",
      "In Buy\n",
      "In red candle\n",
      "In Buy\n",
      "In red candle\n",
      "In Buy\n",
      "In red candle\n",
      "In SL Condition\n"
     ]
    },
    {
     "name": "stderr",
     "output_type": "stream",
     "text": [
      "C:\\Users\\hp\\AppData\\Local\\Temp\\ipykernel_2904\\365529943.py:940: FutureWarning: The frame.append method is deprecated and will be removed from pandas in a future version. Use pandas.concat instead.\n",
      "  self.df = self.df.append(row, ignore_index=True)\n",
      "C:\\Users\\hp\\AppData\\Local\\Temp\\ipykernel_2904\\365529943.py:946: FutureWarning: The frame.append method is deprecated and will be removed from pandas in a future version. Use pandas.concat instead.\n",
      "  self.past_df = self.past_df.append(self.df.iloc[0], ignore_index=True)\n"
     ]
    },
    {
     "name": "stdout",
     "output_type": "stream",
     "text": [
      "In Sell\n",
      "In Sell\n",
      "In Sell\n",
      "In Sell\n",
      "In Sell\n",
      "In Sell\n",
      "In Sell\n",
      "In Sell\n",
      "In Sell\n"
     ]
    },
    {
     "name": "stderr",
     "output_type": "stream",
     "text": [
      "C:\\Users\\hp\\AppData\\Local\\Temp\\ipykernel_2904\\365529943.py:940: FutureWarning: The frame.append method is deprecated and will be removed from pandas in a future version. Use pandas.concat instead.\n",
      "  self.df = self.df.append(row, ignore_index=True)\n",
      "C:\\Users\\hp\\AppData\\Local\\Temp\\ipykernel_2904\\365529943.py:946: FutureWarning: The frame.append method is deprecated and will be removed from pandas in a future version. Use pandas.concat instead.\n",
      "  self.past_df = self.past_df.append(self.df.iloc[0], ignore_index=True)\n"
     ]
    },
    {
     "name": "stdout",
     "output_type": "stream",
     "text": [
      "In Sell\n",
      "In Sell\n",
      "In Sell\n",
      "In Sell\n",
      "In Sell\n",
      "In Sell\n",
      "In Sell\n",
      "In Sell\n",
      "In Sell\n",
      "In Sell\n"
     ]
    }
   ],
   "source": [
    "ob = LiveTrade()\n",
    "\n",
    "ob.Caller()"
   ]
  },
  {
   "cell_type": "code",
   "execution_count": null,
   "id": "0593b3a8",
   "metadata": {},
   "outputs": [],
   "source": []
  }
 ],
 "metadata": {
  "kernelspec": {
   "display_name": "Python 3 (ipykernel)",
   "language": "python",
   "name": "python3"
  },
  "language_info": {
   "codemirror_mode": {
    "name": "ipython",
    "version": 3
   },
   "file_extension": ".py",
   "mimetype": "text/x-python",
   "name": "python",
   "nbconvert_exporter": "python",
   "pygments_lexer": "ipython3",
   "version": "3.8.1"
  }
 },
 "nbformat": 4,
 "nbformat_minor": 5
}
