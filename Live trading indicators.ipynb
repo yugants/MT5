{
 "cells": [
  {
   "cell_type": "code",
   "execution_count": 10,
   "id": "78e40894",
   "metadata": {},
   "outputs": [],
   "source": [
    "import talib\n",
    "# import yfinance as yf\n",
    "import pandas as pd\n",
    "import numpy as np\n",
    "from datetime import datetime, timedelta\n",
    "import datetime\n",
    "import MetaTrader5 as mt5"
   ]
  },
  {
   "cell_type": "code",
   "execution_count": 22,
   "id": "45dd7ef6",
   "metadata": {
    "scrolled": true
   },
   "outputs": [
    {
     "data": {
      "text/plain": [
       "True"
      ]
     },
     "execution_count": 22,
     "metadata": {},
     "output_type": "execute_result"
    }
   ],
   "source": [
    "# MT5 connection\n",
    "\n",
    "if not mt5.initialize(login=114781990, server=\"Exness-MT5Trial6\",password=\"Mypassword$1234\"):\n",
    "            print(\"initialize() failed, error code =\",mt5.last_error())\n",
    "            quit()\n",
    "        \n",
    "login = 114781990\n",
    "password = 'Mypassword$1234'\n",
    "server = 'Exness-MT5Trial6'\n",
    "\n",
    "mt5.login(login, password, server)"
   ]
  },
  {
   "cell_type": "code",
   "execution_count": 27,
   "id": "94897217",
   "metadata": {},
   "outputs": [
    {
     "name": "stderr",
     "output_type": "stream",
     "text": [
      "C:\\Users\\hp\\AppData\\Local\\Temp\\ipykernel_8680\\1789775042.py:15: SettingWithCopyWarning: \n",
      "A value is trying to be set on a copy of a slice from a DataFrame.\n",
      "Try using .loc[row_indexer,col_indexer] = value instead\n",
      "\n",
      "See the caveats in the documentation: https://pandas.pydata.org/pandas-docs/stable/user_guide/indexing.html#returning-a-view-versus-a-copy\n",
      "  df['squeeze_on'] = False\n"
     ]
    }
   ],
   "source": [
    "# Downloading data and creating two datasets\n",
    "\n",
    "rate = mt5.copy_rates_from('EURUSDm', mt5.TIMEFRAME_M15, datetime.datetime.now(), 24000)\n",
    "nf = pd.DataFrame(rate)\n",
    "        \n",
    "         \n",
    "nf['date']=pd.to_datetime(nf['time'], unit='s')\n",
    "\n",
    "nf.set_index(np.arange(len(nf)), inplace = True)\n",
    "nf = nf.drop(['spread', 'real_volume', 'tick_volume', 'time'], axis='columns')\n",
    "\n",
    "\n",
    "df = nf.iloc[:500]  # First half\n",
    "df2 = nf.iloc[500:]  # Second half\n",
    "df['squeeze_on'] = False\n",
    "\n"
   ]
  },
  {
   "cell_type": "code",
   "execution_count": 38,
   "id": "7d92ed99",
   "metadata": {},
   "outputs": [],
   "source": [
    "# Indicators\n",
    "\n",
    "# Creating indicators code, \n",
    "# I need 200 candles to create EMA_200\n",
    "# 20 candles for keltners, 21 candles for RSI\n",
    "\n",
    "# def in_squeeze(self, df):\n",
    "#     return df['lower_band'] > df['lower_keltner'] and df['upper_band'] < df['upper_keltner']\n",
    "\n",
    "\n",
    "def get_kc( high, low, close, kc_lookback, multiplier, atr_lookback):\n",
    "    tr1 = pd.DataFrame(high - low)\n",
    "    tr2 = pd.DataFrame(abs(high - close.shift()))\n",
    "    tr3 = pd.DataFrame(abs(low - close.shift()))\n",
    "\n",
    "    # Calculate True Range as the element-wise maximum of the three components\n",
    "    tr = pd.concat([tr1, tr2, tr3], axis=1).max(axis=1)\n",
    "    atr = tr.ewm(alpha=1/atr_lookback).mean()\n",
    "\n",
    "    kc_middle = close.ewm(span=kc_lookback).mean()\n",
    "    kc_upper = kc_middle + multiplier * atr\n",
    "    kc_lower = kc_middle - multiplier * atr\n",
    "\n",
    "    return kc_middle.iloc[-1], kc_upper.iloc[-1], kc_lower.iloc[-1]\n",
    "\n",
    "\n",
    "\n",
    "def calculate_indicators():\n",
    "    '''Adding EMAs, BB, Keltner Channel and RSI'''\n",
    "\n",
    "#     df['EMA_8'] = talib.EMA(df['close'], timeperiod=8)\n",
    "    \n",
    "    global df\n",
    "\n",
    "    length = len(df) - 1\n",
    "    \n",
    "    df.loc[length, 'EMA_8'] = talib.EMA(df['close'], timeperiod=8).iloc[-1]\n",
    "\n",
    "    \n",
    "    df.loc[length,'EMA_200'] = talib.EMA(df['close'], timeperiod=200).iloc[-1]\n",
    "\n",
    "    # RSI\n",
    "    df.loc[length,'RSI'] = talib.RSI(df['close'], timeperiod=21).iloc[-1]\n",
    "\n",
    "\n",
    "    # Identify trend on 21 days highs & lows\n",
    "#     df = get_trend(df)\n",
    "\n",
    "    '''Bollinger Band'''\n",
    "    \n",
    "    sma = df['close'].rolling(window=20).mean()\n",
    "    stddev = df['close'].rolling(window=20).std()\n",
    "    lower_band = sma - (2 * stddev)\n",
    "    upper_band = sma + (2 * stddev)\n",
    "    \n",
    "#     df['20sma'] = df['close'].rolling(window=20).mean()\n",
    "#     df['stddev'] = df['close'].rolling(window=20).std()\n",
    "#     df['lower_band'] = df['20sma'] - (2 * df['stddev'])\n",
    "#     df['upper_band'] = df['20sma'] + (2 * df['stddev'])\n",
    "\n",
    "#     Keltner 1.2 Multiplier for squeeze\n",
    "    \n",
    "    kc_middle, kc_upper, kc_lower = get_kc(df['high'], df['low'], df['close'], kc_lookback=20, multiplier=1.2, atr_lookback=10)\n",
    "    \n",
    "#     Write the squeeze logic here\n",
    "#     No need to add it to df\n",
    "\n",
    "#     print(lower_band.iloc[-1], upper_band.iloc[-1])\n",
    "\n",
    "    if (lower_band.iloc[-1] > kc_lower) and (upper_band.iloc[-1] < kc_upper):\n",
    "        \n",
    "        df.loc[length,'squeeze_on'] = True\n",
    "        \n",
    "    else:\n",
    "        \n",
    "        df.loc[length,'squeeze_on'] = False\n",
    "\n",
    "#     df['squeeze_on'] = df.apply(in_squeeze, axis=1)\n",
    "\n",
    "#     df.drop(['stddev', 'lower_band', 'upper_band', '20sma', 'TR', 'ATR', 'lower_keltner', 'upper_keltner'], axis=1, inplace=True)\n",
    "\n",
    "    '''Get Keltner for trading'''\n",
    "    df.loc[length,'EMA_20'], df.loc[length,'upper_keltner'], df.loc[length,'lower_keltner'] = get_kc(df['high'], df['low'], df['close'], kc_lookback=20, multiplier=2.25, atr_lookback=10)\n",
    "    \n",
    "    \n",
    "#     df.dropna(inplace=True)\n",
    "#     df.reset_index(drop=True, inplace=True)\n",
    "#     df.index.name = 'sn'\n",
    "    \n",
    "    "
   ]
  },
  {
   "cell_type": "code",
   "execution_count": 39,
   "id": "de2b1f5f",
   "metadata": {},
   "outputs": [
    {
     "name": "stderr",
     "output_type": "stream",
     "text": [
      "C:\\Users\\hp\\AppData\\Local\\Temp\\ipykernel_8680\\2309130152.py:11: FutureWarning: The frame.append method is deprecated and will be removed from pandas in a future version. Use pandas.concat instead.\n",
      "  df = df.append(row, ignore_index=True)\n",
      "C:\\Users\\hp\\AppData\\Local\\Temp\\ipykernel_8680\\2309130152.py:16: FutureWarning: The frame.append method is deprecated and will be removed from pandas in a future version. Use pandas.concat instead.\n",
      "  past_df = past_df.append(df.iloc[0], ignore_index=True)\n",
      "C:\\Users\\hp\\AppData\\Local\\Temp\\ipykernel_8680\\2309130152.py:11: FutureWarning: The frame.append method is deprecated and will be removed from pandas in a future version. Use pandas.concat instead.\n",
      "  df = df.append(row, ignore_index=True)\n",
      "C:\\Users\\hp\\AppData\\Local\\Temp\\ipykernel_8680\\2309130152.py:16: FutureWarning: The frame.append method is deprecated and will be removed from pandas in a future version. Use pandas.concat instead.\n",
      "  past_df = past_df.append(df.iloc[0], ignore_index=True)\n",
      "C:\\Users\\hp\\AppData\\Local\\Temp\\ipykernel_8680\\2309130152.py:11: FutureWarning: In a future version, object-dtype columns with all-bool values will not be included in reductions with bool_only=True. Explicitly cast to bool dtype instead.\n",
      "  df = df.append(row, ignore_index=True)\n"
     ]
    }
   ],
   "source": [
    "\n",
    "global df, df2\n",
    "# Initialize an empty DataFrame to store the results\n",
    "result_df = pd.DataFrame()\n",
    "\n",
    "# Initialize an empty DataFrame to store the past data that gets dropped\n",
    "past_df = pd.DataFrame()\n",
    "\n",
    "for index, row in df2.iterrows():\n",
    "    \n",
    "    # Add live data to the df DataFrame\n",
    "    df = df.append(row, ignore_index=True)\n",
    "#     print(len(df))\n",
    "    # Delete the first row if the DataFrame has more than 202 rows\n",
    "    if len(df) > 500:\n",
    "        # Save the dropped row in past_df\n",
    "        past_df = past_df.append(df.iloc[0], ignore_index=True)\n",
    "        df = df.iloc[1:].reset_index(drop=True)\n",
    "        \n",
    "    # Calculate indicators for the current state of df\n",
    "    calculate_indicators()\n",
    "    \n",
    "# Concatenate past_df and df to get the full dataset\n",
    "result_df = pd.concat([past_df, df], ignore_index=True)\n",
    "\n",
    "# Save the result_df to an Excel file\n",
    "result_df.to_excel('indicator_check.xlsx')\n"
   ]
  },
  {
   "cell_type": "code",
   "execution_count": null,
   "id": "0baf23b2",
   "metadata": {},
   "outputs": [],
   "source": []
  }
 ],
 "metadata": {
  "kernelspec": {
   "display_name": "Python 3 (ipykernel)",
   "language": "python",
   "name": "python3"
  },
  "language_info": {
   "codemirror_mode": {
    "name": "ipython",
    "version": 3
   },
   "file_extension": ".py",
   "mimetype": "text/x-python",
   "name": "python",
   "nbconvert_exporter": "python",
   "pygments_lexer": "ipython3",
   "version": "3.8.1"
  }
 },
 "nbformat": 4,
 "nbformat_minor": 5
}
