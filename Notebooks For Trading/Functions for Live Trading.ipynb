{
 "cells": [
  {
   "cell_type": "code",
   "execution_count": 1,
   "id": "fd9b9643",
   "metadata": {},
   "outputs": [],
   "source": [
    "import talib\n",
    "# import yfinance as yf\n",
    "import pandas as pd\n",
    "import numpy as np\n",
    "from datetime import datetime, timedelta\n",
    "import datetime\n",
    "import MetaTrader5 as mt5\n",
    "import time"
   ]
  },
  {
   "cell_type": "code",
   "execution_count": 2,
   "id": "4d83facf",
   "metadata": {},
   "outputs": [
    {
     "data": {
      "text/plain": [
       "True"
      ]
     },
     "execution_count": 2,
     "metadata": {},
     "output_type": "execute_result"
    }
   ],
   "source": [
    "if not mt5.initialize(login=114781990, server=\"Exness-MT5Trial6\",password=\"Mypassword$1234\"):\n",
    "            print(\"initialize() failed, error code =\",mt5.last_error())\n",
    "            quit()\n",
    "        \n",
    "login = 114781990\n",
    "password = 'Mypassword$1234'\n",
    "server = 'Exness-MT5Trial6'\n",
    "\n",
    "mt5.login(login, password, server)"
   ]
  },
  {
   "cell_type": "code",
   "execution_count": 27,
   "id": "2884c346",
   "metadata": {},
   "outputs": [
    {
     "name": "stdout",
     "output_type": "stream",
     "text": [
      "         time     open     high      low    close  tick_volume  spread  \\\n",
      "0  1693839600  1.07839  1.07879  1.07832  1.07867          153       8   \n",
      "\n",
      "   real_volume                date  \n",
      "0            0 2023-09-04 15:00:00  \n"
     ]
    }
   ],
   "source": [
    "# For getting price at 40th second of 15 MIN\n",
    "\n",
    "import datetime\n",
    "\n",
    "# Get the current time\n",
    "while True:\n",
    "    current_time = datetime.datetime.now()\n",
    "\n",
    "    # Check if the second value is equal to 40\n",
    "    if current_time.second == 40:\n",
    "        \n",
    "        rate = mt5.copy_rates_from('EURUSDm', mt5.TIMEFRAME_M15, datetime.datetime.now(), 1)\n",
    "\n",
    "        df = pd.DataFrame(rate)\n",
    "\n",
    "\n",
    "        df['date']=pd.to_datetime(df['time'], unit='s')\n",
    "\n",
    "        print(df.head())\n",
    "\n",
    "        break\n"
   ]
  },
  {
   "cell_type": "code",
   "execution_count": 10,
   "id": "db02d2b5",
   "metadata": {},
   "outputs": [
    {
     "name": "stdout",
     "output_type": "stream",
     "text": [
      "Current time: 23:03:05.893021\n",
      "Sleeping for 2023-10-24 23:16:00.893021\n",
      "Will wake up at 23:15:40.893021\n"
     ]
    }
   ],
   "source": [
    "current_time = datetime.datetime.now().time()\n",
    "\n",
    "# Calculate the minutes and seconds until the next 15-minute interval\n",
    "minutes_until_next_interval = (15 - current_time.minute % 15) % 15\n",
    "seconds_until_next_interval = (60 - current_time.second)\n",
    "\n",
    "# Calculate the total seconds until the next 15-minute interval\n",
    "total_seconds_until_next_interval = (minutes_until_next_interval * 60) + seconds_until_next_interval\n",
    "\n",
    "total_seconds_until_next_interval -= 20\n",
    "\n",
    "# Calculate the time at which it will awaken\n",
    "next_interval_time = datetime.datetime.now() + datetime.timedelta(minutes=minutes_until_next_interval, seconds=seconds_until_next_interval)\n",
    "awaken_time = next_interval_time - datetime.timedelta(seconds=20)\n",
    "\n",
    "print(f\"Current time: {current_time}\")\n",
    "print(f\"Sleeping for {next_interval_time}\")\n",
    "print(f'Will wake up at {awaken_time.time()}')\n"
   ]
  },
  {
   "cell_type": "code",
   "execution_count": 11,
   "id": "07a9fe6f",
   "metadata": {},
   "outputs": [
    {
     "name": "stdout",
     "output_type": "stream",
     "text": [
      "True\n"
     ]
    }
   ],
   "source": [
    "import MetaTrader5 as mt5\n",
    "\n",
    "if not mt5.initialize(\n",
    "            login=114999529, server=\"Exness-MT5Trial6\", password=\"Mypassword$1234\"\n",
    "        ):\n",
    "            print(\"initialize() failed, error code =\", mt5.last_error())\n",
    "            quit()\n",
    "\n",
    "login = 114999529\n",
    "password = \"Mypassword$1234\"\n",
    "server = \"Exness-MT5Trial6\"\n",
    "print(mt5.login(login, password, server))"
   ]
  },
  {
   "cell_type": "code",
   "execution_count": 70,
   "id": "1ad48c74",
   "metadata": {},
   "outputs": [
    {
     "name": "stdout",
     "output_type": "stream",
     "text": [
      "Current:  2023-10-24 18:30:00\n",
      "Time + 15 minutes: 2023-10-24 18:45:00\n",
      "Subtracted time: 2023-10-24 18:44:40\n",
      "Difference:  599.847919\n",
      "Will wake up at: 2023-10-24 18:44:40\n"
     ]
    }
   ],
   "source": [
    "# 20 seconds before entry\n",
    "\n",
    "import pandas as pd\n",
    "from datetime import datetime, timedelta\n",
    "\n",
    "df = pd.DataFrame(mt5.copy_rates_from(\n",
    "                'EURUSD', mt5.TIMEFRAME_M15, datetime.now(), 1\n",
    "            ))\n",
    "\n",
    "df[\"date\"] = pd.to_datetime(df[\"time\"], unit=\"s\")\n",
    "# time = df.iloc[-1]['date'].time()\n",
    "time = df.iloc[-1]['date']\n",
    "print('Current: ',time)\n",
    "\n",
    "# date_string = \"24-10-23 23:45:00\"\n",
    "# date_format = \"%y-%m-%d %H:%M:%S\"\n",
    "# dt_object  = datetime.strptime(date_string, date_format)\n",
    "# dt_object_plus_15_minutes = dt_object + timedelta(minutes=15)\n",
    "\n",
    "# print(\"Original datetime:\", dt_object)\n",
    "# print(\"Datetime after adding 15 minutes:\", dt_object_plus_15_minutes)\n",
    "# time = dt_object\n",
    "\n",
    "# # Add 15 minutes to the time\n",
    "# new_time = (datetime.combine(datetime.min, time) + timedelta(minutes=15)).time()\n",
    "new_time = (time + timedelta(minutes=15))\n",
    "print(\"Time + 15 minutes:\", new_time)\n",
    "\n",
    "# Subtract 20 seconds from the time\n",
    "new_time = (new_time - timedelta(seconds=20))\n",
    "print(\"Subtracted time:\", new_time)\n",
    "\n",
    "\n",
    "# # Calculate the time difference in seconds\n",
    "current_datetime = datetime.utcnow()\n",
    "target_datetime = datetime(new_time.year, new_time.month, new_time.day, new_time.hour, new_time.minute, new_time.second)\n",
    "time_difference = (target_datetime - current_datetime).total_seconds()\n",
    "\n",
    "print('Difference: ', time_difference)\n",
    "\n",
    "\n",
    "# # Calculate the wake-up time\n",
    "wake_up_time = current_datetime + timedelta(seconds=time_difference)\n",
    "print(f\"Will wake up at: {wake_up_time}\")"
   ]
  },
  {
   "cell_type": "code",
   "execution_count": 71,
   "id": "8d705450",
   "metadata": {},
   "outputs": [
    {
     "name": "stdout",
     "output_type": "stream",
     "text": [
      "41\n"
     ]
    }
   ],
   "source": [
    "current_datetime = datetime.utcnow()\n",
    "\n",
    "print(current_datetime.minute)"
   ]
  },
  {
   "cell_type": "code",
   "execution_count": 88,
   "id": "b6ae228d",
   "metadata": {},
   "outputs": [
    {
     "name": "stdout",
     "output_type": "stream",
     "text": [
      "2023-10-24 18:45:00\n",
      "2023-10-24 19:00:00\n",
      "19\n"
     ]
    }
   ],
   "source": [
    "new_candle = pd.DataFrame( mt5.copy_rates_from('EURUSD', mt5.TIMEFRAME_M15, datetime.now(), 1))\n",
    "new_candle['date'] = pd.to_datetime(new_candle['time'], unit='s')\n",
    "print(new_candle.iloc[-1]['date'])\n",
    "timer = new_candle.iloc[-1]['date'] + timedelta(minutes=15)\n",
    "print(timer)\n",
    "print(timer.hour)"
   ]
  },
  {
   "cell_type": "code",
   "execution_count": 58,
   "id": "603bd76f",
   "metadata": {},
   "outputs": [
    {
     "ename": "AttributeError",
     "evalue": "module 'MetaTrader5' has no attribute 'TERMINAL_LOGIN'",
     "output_type": "error",
     "traceback": [
      "\u001b[1;31m---------------------------------------------------------------------------\u001b[0m",
      "\u001b[1;31mAttributeError\u001b[0m                            Traceback (most recent call last)",
      "\u001b[1;32me:\\Techincal Analysis Program\\MT5\\Notebooks For Trading\\Functions for Live Trading.ipynb Cell 7\u001b[0m line \u001b[0;36m1\n\u001b[1;32m----> <a href='vscode-notebook-cell:/e%3A/Techincal%20Analysis%20Program/MT5/Notebooks%20For%20Trading/Functions%20for%20Live%20Trading.ipynb#X11sZmlsZQ%3D%3D?line=0'>1</a>\u001b[0m server_time \u001b[39m=\u001b[39m mt5\u001b[39m.\u001b[39mterminal_info(mt5\u001b[39m.\u001b[39;49mTERMINAL_LOGIN)\n\u001b[0;32m      <a href='vscode-notebook-cell:/e%3A/Techincal%20Analysis%20Program/MT5/Notebooks%20For%20Trading/Functions%20for%20Live%20Trading.ipynb#X11sZmlsZQ%3D%3D?line=1'>2</a>\u001b[0m current_time \u001b[39m=\u001b[39m datetime\u001b[39m.\u001b[39mfromtimestamp(server_time)\n\u001b[0;32m      <a href='vscode-notebook-cell:/e%3A/Techincal%20Analysis%20Program/MT5/Notebooks%20For%20Trading/Functions%20for%20Live%20Trading.ipynb#X11sZmlsZQ%3D%3D?line=3'>4</a>\u001b[0m \u001b[39mprint\u001b[39m(\u001b[39m\"\u001b[39m\u001b[39mCurrent server time:\u001b[39m\u001b[39m\"\u001b[39m, current_time)\n",
      "\u001b[1;31mAttributeError\u001b[0m: module 'MetaTrader5' has no attribute 'TERMINAL_LOGIN'"
     ]
    }
   ],
   "source": [
    "server_time = mt5.terminal_info(mt5.TERMINAL_LOGIN)\n",
    "current_time = datetime.fromtimestamp(server_time)\n",
    "\n",
    "print(\"Current server time:\", current_time)"
   ]
  },
  {
   "cell_type": "code",
   "execution_count": 16,
   "id": "e4d95803",
   "metadata": {},
   "outputs": [
    {
     "name": "stdout",
     "output_type": "stream",
     "text": [
      "Working on:  USDJPYm\n"
     ]
    }
   ],
   "source": [
    "currency = BackTest(['USDJPYm', 6.82682, 24000])\n",
    "\n",
    "# Record the end time\n",
    "# start_time = datetime.datetime.now()\n",
    "\n",
    "\n",
    "\n",
    "# currency.indicators()\n",
    "# currency.mark_emas()\n",
    "\n",
    "\n",
    "# # Record the end time\n",
    "# end_time = datetime.datetime.now()\n",
    "\n",
    "# # Calculate the elapsed time\n",
    "# elapsed_time = end_time - start_time\n",
    "\n",
    "# print(elapsed_time.seconds)\n",
    "\n",
    "# currency.display()"
   ]
  },
  {
   "cell_type": "code",
   "execution_count": null,
   "id": "f35cb148",
   "metadata": {},
   "outputs": [],
   "source": [
    "# For current trend calculation with each candle\n",
    "    \n",
    "#    Calculating the current candle trend\n",
    "    def test_current_trend(self, high, low, l):\n",
    "        \n",
    "        if high > self.prev_high and low > self.prev_low:\n",
    "\n",
    "            self.df.loc[l, 'trend'] = 'up'\n",
    "            \n",
    "            self.prev_low = self.df.loc[self.df.index[self.position_index : l+1], 'low'].min()\n",
    "\n",
    "        elif high < self.prev_high and low < self.prev_low:\n",
    "\n",
    "            self.df.loc[l, 'trend'] = 'down'\n",
    "            \n",
    "            self.prev_low = self.df.loc[self.df.index[self.position_index : l+1], 'high'].max()\n",
    "\n",
    "        else:\n",
    "            self.df.loc[l, 'trend'] = self.df.loc[l-1,'trend']\n",
    "        \n",
    "    \n",
    "#   Calculating the current candle trend\n",
    "    def current_trend(self, days=21):\n",
    "        l = len(self.df) - 1\n",
    "        \n",
    "#       check for trend in current candle\n",
    "#       when its smaller than next 21 days window\n",
    "        if self.position_index + days > l:\n",
    "            \n",
    "            self.test_current_trend( self.df.iloc[l]['high'], self.df.iloc[l]['low'], l)\n",
    "           \n",
    "                \n",
    "#         elif self.position_index + days < l:\n",
    "            \n",
    "#             self.prev_high = self.df.loc[self.df.index[self.position_index : l+1], 'high'].max()\n",
    "#             self.prev_low = self.df.loc[self.df.index[self.position_index : l+1], 'low'].min()\n",
    "            \n",
    "#             self.test_current_trend( self.df.iloc[l]['high'], self.df.iloc[l]['low'], l)\n",
    "            \n",
    "            \n",
    "        #         Move position_index to 21 days window\n",
    "#         For No-trend compare this high and low to prev.\n",
    "        elif self.position_index + days == l:\n",
    "            \n",
    "            self.current_high = self.df.loc[self.df.index[self.position_index : l+1], 'high'].max()\n",
    "            self.current_low = self.df.loc[self.df.index[self.position_index : l+1], 'low'].min()\n",
    "            \n",
    "            if self.current_high > self.prev_high and self.current_low > self.prev_low:\n",
    "\n",
    "                self.df.loc[l, 'trend'] = 'up'\n",
    "\n",
    "            elif self.current_high < self.prev_high and self.current_low < self.prev_low:\n",
    "\n",
    "                self.df.loc[l, 'trend'] = 'down'\n",
    "\n",
    "            else:\n",
    "                self.df.loc[l, 'trend'] ='no trend'\n",
    "\n",
    "            self.position_index = l\n",
    "            self.prev_high = self.current_high\n",
    "            self.prev_low = self.current_low"
   ]
  }
 ],
 "metadata": {
  "kernelspec": {
   "display_name": "Python 3 (ipykernel)",
   "language": "python",
   "name": "python3"
  },
  "language_info": {
   "codemirror_mode": {
    "name": "ipython",
    "version": 3
   },
   "file_extension": ".py",
   "mimetype": "text/x-python",
   "name": "python",
   "nbconvert_exporter": "python",
   "pygments_lexer": "ipython3",
   "version": "3.8.1"
  }
 },
 "nbformat": 4,
 "nbformat_minor": 5
}
