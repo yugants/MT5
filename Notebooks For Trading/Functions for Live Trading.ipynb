{
 "cells": [
  {
   "cell_type": "code",
   "execution_count": 1,
   "id": "fd9b9643",
   "metadata": {},
   "outputs": [],
   "source": [
    "import talib\n",
    "# import yfinance as yf\n",
    "import pandas as pd\n",
    "import numpy as np\n",
    "from datetime import datetime, timedelta\n",
    "import datetime\n",
    "import MetaTrader5 as mt5\n",
    "import time"
   ]
  },
  {
   "cell_type": "code",
   "execution_count": 2,
   "id": "4d83facf",
   "metadata": {},
   "outputs": [
    {
     "data": {
      "text/plain": [
       "True"
      ]
     },
     "execution_count": 2,
     "metadata": {},
     "output_type": "execute_result"
    }
   ],
   "source": [
    "if not mt5.initialize(login=114781990, server=\"Exness-MT5Trial6\",password=\"Mypassword$1234\"):\n",
    "            print(\"initialize() failed, error code =\",mt5.last_error())\n",
    "            quit()\n",
    "        \n",
    "login = 114781990\n",
    "password = 'Mypassword$1234'\n",
    "server = 'Exness-MT5Trial6'\n",
    "\n",
    "mt5.login(login, password, server)"
   ]
  },
  {
   "cell_type": "code",
   "execution_count": 27,
   "id": "2884c346",
   "metadata": {},
   "outputs": [
    {
     "name": "stdout",
     "output_type": "stream",
     "text": [
      "         time     open     high      low    close  tick_volume  spread  \\\n",
      "0  1693839600  1.07839  1.07879  1.07832  1.07867          153       8   \n",
      "\n",
      "   real_volume                date  \n",
      "0            0 2023-09-04 15:00:00  \n"
     ]
    }
   ],
   "source": [
    "# For getting price at 40th second of 15 MIN\n",
    "\n",
    "import datetime\n",
    "\n",
    "# Get the current time\n",
    "while True:\n",
    "    current_time = datetime.datetime.now()\n",
    "\n",
    "    # Check if the second value is equal to 40\n",
    "    if current_time.second == 40:\n",
    "        \n",
    "        rate = mt5.copy_rates_from('EURUSDm', mt5.TIMEFRAME_M15, datetime.datetime.now(), 1)\n",
    "\n",
    "        df = pd.DataFrame(rate)\n",
    "\n",
    "\n",
    "        df['date']=pd.to_datetime(df['time'], unit='s')\n",
    "\n",
    "        print(df.head())\n",
    "\n",
    "        break\n"
   ]
  },
  {
   "cell_type": "code",
   "execution_count": 16,
   "id": "e4d95803",
   "metadata": {},
   "outputs": [
    {
     "name": "stdout",
     "output_type": "stream",
     "text": [
      "Working on:  USDJPYm\n"
     ]
    }
   ],
   "source": [
    "currency = BackTest(['USDJPYm', 6.82682, 24000])\n",
    "\n",
    "# Record the end time\n",
    "# start_time = datetime.datetime.now()\n",
    "\n",
    "\n",
    "\n",
    "# currency.indicators()\n",
    "# currency.mark_emas()\n",
    "\n",
    "\n",
    "# # Record the end time\n",
    "# end_time = datetime.datetime.now()\n",
    "\n",
    "# # Calculate the elapsed time\n",
    "# elapsed_time = end_time - start_time\n",
    "\n",
    "# print(elapsed_time.seconds)\n",
    "\n",
    "# currency.display()"
   ]
  },
  {
   "cell_type": "code",
   "execution_count": null,
   "id": "f35cb148",
   "metadata": {},
   "outputs": [],
   "source": [
    "# For current trend calculation with each candle\n",
    "    \n",
    "#    Calculating the current candle trend\n",
    "    def test_current_trend(self, high, low, l):\n",
    "        \n",
    "        if high > self.prev_high and low > self.prev_low:\n",
    "\n",
    "            self.df.loc[l, 'trend'] = 'up'\n",
    "            \n",
    "            self.prev_low = self.df.loc[self.df.index[self.position_index : l+1], 'low'].min()\n",
    "\n",
    "        elif high < self.prev_high and low < self.prev_low:\n",
    "\n",
    "            self.df.loc[l, 'trend'] = 'down'\n",
    "            \n",
    "            self.prev_low = self.df.loc[self.df.index[self.position_index : l+1], 'high'].max()\n",
    "\n",
    "        else:\n",
    "            self.df.loc[l, 'trend'] = self.df.loc[l-1,'trend']\n",
    "        \n",
    "    \n",
    "#   Calculating the current candle trend\n",
    "    def current_trend(self, days=21):\n",
    "        l = len(self.df) - 1\n",
    "        \n",
    "#       check for trend in current candle\n",
    "#       when its smaller than next 21 days window\n",
    "        if self.position_index + days > l:\n",
    "            \n",
    "            self.test_current_trend( self.df.iloc[l]['high'], self.df.iloc[l]['low'], l)\n",
    "           \n",
    "                \n",
    "#         elif self.position_index + days < l:\n",
    "            \n",
    "#             self.prev_high = self.df.loc[self.df.index[self.position_index : l+1], 'high'].max()\n",
    "#             self.prev_low = self.df.loc[self.df.index[self.position_index : l+1], 'low'].min()\n",
    "            \n",
    "#             self.test_current_trend( self.df.iloc[l]['high'], self.df.iloc[l]['low'], l)\n",
    "            \n",
    "            \n",
    "        #         Move position_index to 21 days window\n",
    "#         For No-trend compare this high and low to prev.\n",
    "        elif self.position_index + days == l:\n",
    "            \n",
    "            self.current_high = self.df.loc[self.df.index[self.position_index : l+1], 'high'].max()\n",
    "            self.current_low = self.df.loc[self.df.index[self.position_index : l+1], 'low'].min()\n",
    "            \n",
    "            if self.current_high > self.prev_high and self.current_low > self.prev_low:\n",
    "\n",
    "                self.df.loc[l, 'trend'] = 'up'\n",
    "\n",
    "            elif self.current_high < self.prev_high and self.current_low < self.prev_low:\n",
    "\n",
    "                self.df.loc[l, 'trend'] = 'down'\n",
    "\n",
    "            else:\n",
    "                self.df.loc[l, 'trend'] ='no trend'\n",
    "\n",
    "            self.position_index = l\n",
    "            self.prev_high = self.current_high\n",
    "            self.prev_low = self.current_low"
   ]
  }
 ],
 "metadata": {
  "kernelspec": {
   "display_name": "Python 3 (ipykernel)",
   "language": "python",
   "name": "python3"
  },
  "language_info": {
   "codemirror_mode": {
    "name": "ipython",
    "version": 3
   },
   "file_extension": ".py",
   "mimetype": "text/x-python",
   "name": "python",
   "nbconvert_exporter": "python",
   "pygments_lexer": "ipython3",
   "version": "3.8.1"
  }
 },
 "nbformat": 4,
 "nbformat_minor": 5
}
