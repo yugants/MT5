{
 "cells": [
  {
   "cell_type": "code",
   "execution_count": 4,
   "metadata": {},
   "outputs": [],
   "source": [
    "import MetaTrader5 as mt5  # pip install MetaTrader5\n",
    "import pandas as pd  # pip install pandas\n",
    "import plotly.express as px  # pip install plotly\n",
    "from datetime import datetime"
   ]
  },
  {
   "cell_type": "code",
   "execution_count": 5,
   "metadata": {},
   "outputs": [
    {
     "data": {
      "text/plain": [
       "True"
      ]
     },
     "execution_count": 5,
     "metadata": {},
     "output_type": "execute_result"
    }
   ],
   "source": [
    "# start the platform with initialize()\n",
    "mt5.initialize()"
   ]
  },
  {
   "cell_type": "code",
   "execution_count": 6,
   "metadata": {},
   "outputs": [
    {
     "data": {
      "text/plain": [
       "True"
      ]
     },
     "execution_count": 6,
     "metadata": {},
     "output_type": "execute_result"
    }
   ],
   "source": [
    "login = 114781990\n",
    "password = 'Mypassword$1234'\n",
    "server = 'Exness-MT5Trial6'\n",
    "\n",
    "mt5.login(login, password, server)"
   ]
  },
  {
   "cell_type": "code",
   "execution_count": 7,
   "metadata": {},
   "outputs": [
    {
     "name": "stdout",
     "output_type": "stream",
     "text": [
      "AccountInfo(login=114781990, trade_mode=0, leverage=2000, limit_orders=1024, margin_so_mode=0, trade_allowed=True, trade_expert=True, margin_mode=2, currency_digits=2, fifo_close=False, balance=500.0, credit=0.0, profit=0.0, equity=500.0, margin=0.0, margin_free=500.0, margin_level=0.0, margin_so_call=60.0, margin_so_so=0.0, margin_initial=0.0, margin_maintenance=0.0, assets=0.0, liabilities=0.0, commission_blocked=0.0, name='Standard', server='Exness-MT5Trial6', currency='USD', company='Exness Technologies Ltd')\n",
      "\n",
      "login:  114781990\n",
      "balance:  500.0\n",
      "equity:  500.0\n"
     ]
    }
   ],
   "source": [
    "# get account info\n",
    "account_info = mt5.account_info()\n",
    "print(account_info)\n",
    "\n",
    "# getting specific account data\n",
    "login_number = account_info.login\n",
    "balance = account_info.balance\n",
    "equity = account_info.equity\n",
    "\n",
    "print()\n",
    "print('login: ', login_number)\n",
    "print('balance: ', balance)\n",
    "print('equity: ', equity)"
   ]
  },
  {
   "cell_type": "code",
   "execution_count": 9,
   "metadata": {},
   "outputs": [
    {
     "data": {
      "text/plain": [
       "{'time': 1693190950,\n",
       " 'bid': 1.08085,\n",
       " 'ask': 1.08093,\n",
       " 'last': 0.0,\n",
       " 'volume': 0,\n",
       " 'time_msc': 1693190950561,\n",
       " 'flags': 4,\n",
       " 'volume_real': 0.0}"
      ]
     },
     "execution_count": 9,
     "metadata": {},
     "output_type": "execute_result"
    }
   ],
   "source": [
    "# get current symbol price\n",
    "symbol_price = mt5.symbol_info_tick(\"EURUSDm\")._asdict()\n",
    "symbol_price"
   ]
  },
  {
   "cell_type": "code",
   "execution_count": 11,
   "metadata": {},
   "outputs": [
    {
     "data": {
      "text/plain": [
       "0"
      ]
     },
     "execution_count": 11,
     "metadata": {},
     "output_type": "execute_result"
    }
   ],
   "source": [
    "# number of history orders\n",
    "num_order_history = mt5.history_orders_total(datetime(2023, 1, 7), datetime(2023, 1, 8))\n",
    "num_order_history"
   ]
  },
  {
   "cell_type": "code",
   "execution_count": 12,
   "metadata": {},
   "outputs": [
    {
     "name": "stdout",
     "output_type": "stream",
     "text": [
      "OrderSendResult(retcode=10009, deal=215928893, order=392081052, volume=2.0, price=1.08101, bid=1.08091, ask=1.08101, comment='python script op', request_id=1620309474, retcode_external=0, request=TradeRequest(action=1, magic=234000, order=0, symbol='EURUSDm', volume=2.0, price=1.08101, stoplimit=0.0, sl=0.0, tp=0.0, deviation=20, type=0, type_filling=1, type_time=0, expiration=0, comment='python script open', position=0, position_by=0))\n"
     ]
    }
   ],
   "source": [
    "# send order to the market\n",
    "# documentation: https://www.mql5.com/en/docs/integration/python_metatrader5/mt5ordersend_py\n",
    "\n",
    "request = {\n",
    "    \"action\": mt5.TRADE_ACTION_DEAL,\n",
    "    \"symbol\": \"EURUSDm\",\n",
    "    \"volume\": 2.0, # FLOAT\n",
    "    \"type\": mt5.ORDER_TYPE_BUY,\n",
    "    \"price\": mt5.symbol_info_tick(\"EURUSDm\").ask,\n",
    "    \"sl\": 0.0, # FLOAT\n",
    "    \"tp\": 0.0, # FLOAT\n",
    "    \"deviation\": 20, # INTERGER\n",
    "    \"magic\": 234000, # INTERGER\n",
    "    \"comment\": \"python script open\",\n",
    "    \"type_time\": mt5.ORDER_TIME_GTC,\n",
    "    \"type_filling\": mt5.ORDER_FILLING_IOC,\n",
    "}\n",
    "\n",
    "order = mt5.order_send(request)\n",
    "print(order)"
   ]
  },
  {
   "cell_type": "code",
   "execution_count": 14,
   "metadata": {},
   "outputs": [
    {
     "data": {
      "text/plain": [
       "(TradePosition(ticket=392081052, time=1693191152, time_msc=1693191152552, time_update=1693191152, time_update_msc=1693191152552, type=0, magic=234000, identifier=392081052, reason=3, volume=2.0, price_open=1.08101, sl=0.0, tp=0.0, price_current=1.0808200000000001, swap=0.0, profit=-38.0, symbol='EURUSDm', comment='python script op', external_id=''),)"
      ]
     },
     "execution_count": 14,
     "metadata": {},
     "output_type": "execute_result"
    }
   ],
   "source": [
    "# list of positions\n",
    "positions = mt5.positions_get()\n",
    "positions"
   ]
  },
  {
   "cell_type": "code",
   "execution_count": 15,
   "metadata": {},
   "outputs": [
    {
     "name": "stdout",
     "output_type": "stream",
     "text": [
      "OrderSendResult(retcode=10009, deal=215930953, order=392083413, volume=2.0, price=1.08085, bid=1.08085, ask=1.08095, comment='python script cl', request_id=1620309475, retcode_external=0, request=TradeRequest(action=1, magic=234000, order=0, symbol='EURUSDm', volume=2.0, price=1.08095, stoplimit=0.0, sl=0.0, tp=0.0, deviation=20, type=1, type_filling=1, type_time=0, expiration=0, comment='python script close', position=392081052, position_by=0))\n"
     ]
    }
   ],
   "source": [
    "# close position\n",
    "\n",
    "request = {\n",
    "    \"action\": mt5.TRADE_ACTION_DEAL,\n",
    "    \"symbol\": \"EURUSDm\",\n",
    "    \"volume\": 2.0, # FLOAT\n",
    "    \"type\": mt5.ORDER_TYPE_SELL,\n",
    "    \"position\": 392081052, # select the position you want to close\n",
    "    \"price\": mt5.symbol_info_tick(\"EURUSDm\").ask,\n",
    "    \"sl\": 0.0, # FLOAT\n",
    "    \"tp\": 0.0, # FLOAT\n",
    "    \"deviation\": 20, # INTERGER\n",
    "    \"magic\": 234000, # INTERGER\n",
    "    \"comment\": \"python script close\",\n",
    "    \"type_time\": mt5.ORDER_TIME_GTC,\n",
    "    \"type_filling\": mt5.ORDER_FILLING_IOC,\n",
    "}\n",
    "\n",
    "order = mt5.order_send(request)\n",
    "print(order)"
   ]
  },
  {
   "cell_type": "code",
   "execution_count": null,
   "metadata": {},
   "outputs": [],
   "source": []
  }
 ],
 "metadata": {
  "kernelspec": {
   "display_name": "Python 3",
   "language": "python",
   "name": "python3"
  },
  "language_info": {
   "codemirror_mode": {
    "name": "ipython",
    "version": 3
   },
   "file_extension": ".py",
   "mimetype": "text/x-python",
   "name": "python",
   "nbconvert_exporter": "python",
   "pygments_lexer": "ipython3",
   "version": "3.8.1"
  },
  "orig_nbformat": 4
 },
 "nbformat": 4,
 "nbformat_minor": 2
}
