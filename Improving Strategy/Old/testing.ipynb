{
 "cells": [
  {
   "cell_type": "code",
   "execution_count": 1,
   "metadata": {},
   "outputs": [],
   "source": [
    "import talib, time\n",
    "import pandas as pd\n",
    "import numpy as np\n",
    "from datetime import datetime, timedelta\n",
    "import random\n",
    "from time import sleep\n",
    "import MetaTrader5 as mt5\n",
    "import pandas_ta as ta\n",
    "from scipy.signal import savgol_filter, find_peaks"
   ]
  },
  {
   "cell_type": "code",
   "execution_count": 2,
   "metadata": {},
   "outputs": [
    {
     "name": "stdout",
     "output_type": "stream",
     "text": [
      "True\n"
     ]
    }
   ],
   "source": [
    "try:\n",
    "    if not mt5.initialize(\n",
    "            login=114999529, server=\"Exness-MT5Trial6\", password=\"Mypassword$1234\"\n",
    "        ):\n",
    "            print(\"initialize() failed, error code =\", mt5.last_error())\n",
    "            quit()\n",
    "\n",
    "    login = 114999529\n",
    "    password = \"Mypassword$1234\"\n",
    "    server = \"Exness-MT5Trial6\"\n",
    "    print(mt5.login(login, password, server))\n",
    "\n",
    "except Exception as e:\n",
    "            print(f\"Constructor, error occurred: {e}\")\n"
   ]
  },
  {
   "cell_type": "code",
   "execution_count": 3,
   "metadata": {},
   "outputs": [
    {
     "name": "stdout",
     "output_type": "stream",
     "text": [
      "Elapsed Time: 0.39 seconds\n",
      "Order Placed:  OrderSendResult(retcode=10009, deal=342433521, order=578556360, volume=0.01, price=43886.16, bid=43886.16, ask=43904.81, comment='python script se', request_id=452205362, retcode_external=0, request=TradeRequest(action=1, magic=100000, order=0, symbol='BTCUSD', volume=0.01, price=43908.9, stoplimit=0.0, sl=0.0, tp=0.0, deviation=20, type=1, type_filling=0, type_time=0, expiration=0, comment='python script sell', position=0, position_by=0))\n"
     ]
    }
   ],
   "source": [
    "start_time = time.time()\n",
    "\n",
    "request = {\n",
    "                    \"action\": mt5.TRADE_ACTION_DEAL,\n",
    "                    \"symbol\": 'BTCUSD',\n",
    "                    \"volume\": float(0.01), \n",
    "                    \"type\": mt5.ORDER_TYPE_SELL,\n",
    "                    \"price\": float(mt5.symbol_info_tick('BTCUSD').ask),\n",
    "                    \"sl\": float(0),\n",
    "                    \"tp\": float(0), \n",
    "                    \"deviation\": 20, \n",
    "                    \"magic\": 100000, \n",
    "                    \"comment\": \"python script sell\",\n",
    "                    \"type_time\": mt5.ORDER_TIME_GTC,\n",
    "                    \"type_filling\": mt5.ORDER_FILLING_FOK,  # Change the filling mode here\n",
    "                }\n",
    "\n",
    "order = mt5.order_send(request)\n",
    "# Record the end time\n",
    "end_time = time.time()\n",
    "\n",
    "# Calculate the elapsed time\n",
    "elapsed_time = end_time - start_time\n",
    "\n",
    "print(f\"Elapsed Time: {elapsed_time:.2f} seconds\")\n",
    "\n",
    "print('Order Placed: ', order)\n",
    "           "
   ]
  },
  {
   "cell_type": "code",
   "execution_count": null,
   "metadata": {},
   "outputs": [],
   "source": []
  }
 ],
 "metadata": {
  "kernelspec": {
   "display_name": "Python 3",
   "language": "python",
   "name": "python3"
  },
  "language_info": {
   "codemirror_mode": {
    "name": "ipython",
    "version": 3
   },
   "file_extension": ".py",
   "mimetype": "text/x-python",
   "name": "python",
   "nbconvert_exporter": "python",
   "pygments_lexer": "ipython3",
   "version": "3.8.1"
  }
 },
 "nbformat": 4,
 "nbformat_minor": 2
}
