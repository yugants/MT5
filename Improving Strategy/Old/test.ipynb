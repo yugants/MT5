{
 "cells": [
  {
   "cell_type": "code",
   "execution_count": 1,
   "metadata": {},
   "outputs": [],
   "source": [
    "import MetaTrader5 as mt5\n",
    "import pandas as pd"
   ]
  },
  {
   "cell_type": "code",
   "execution_count": 2,
   "metadata": {},
   "outputs": [
    {
     "data": {
      "text/plain": [
       "True"
      ]
     },
     "execution_count": 2,
     "metadata": {},
     "output_type": "execute_result"
    }
   ],
   "source": [
    "if not mt5.initialize(\n",
    "    login=114999529, server=\"Exness-MT5Trial6\", password=\"Mypassword$1234\"\n",
    "):\n",
    "    print(\"initialize() failed, error code =\", mt5.last_error())\n",
    "    quit()\n",
    "\n",
    "login = 114999529\n",
    "password = \"Mypassword$1234\"\n",
    "server = \"Exness-MT5Trial6\"\n",
    "mt5.login(login, password, server)"
   ]
  },
  {
   "cell_type": "code",
   "execution_count": 3,
   "metadata": {},
   "outputs": [
    {
     "name": "stdout",
     "output_type": "stream",
     "text": [
      "Order Placed:  OrderSendResult(retcode=10009, deal=333039573, order=566233574, volume=0.01, price=1.10678, bid=1.1067200000000001, ask=1.10678, comment='python script bu', request_id=1928765171, retcode_external=0, request=TradeRequest(action=1, magic=10000, order=0, symbol='EURUSD', volume=0.01, price=1.10678, stoplimit=0.0, sl=0.0, tp=0.0, deviation=20, type=0, type_filling=0, type_time=0, expiration=0, comment='python script buy', position=0, position_by=0))\n"
     ]
    }
   ],
   "source": [
    "request = {\n",
    "                    \"action\": mt5.TRADE_ACTION_DEAL,\n",
    "                    \"symbol\": 'EURUSD',\n",
    "                    \"volume\": float(0.01), \n",
    "                    \"type\": mt5.ORDER_TYPE_BUY,\n",
    "                    \"price\": float(mt5.symbol_info_tick('EURUSD').ask),\n",
    "                    \"sl\": float(0), \n",
    "                    \"tp\": float(0), \n",
    "                    \"deviation\": 20, \n",
    "                    \"magic\": int(10000), \n",
    "                    \"comment\": \"python script buy\",\n",
    "                    \"type_time\": mt5.ORDER_TIME_GTC,\n",
    "                    \"type_filling\": mt5.ORDER_FILLING_FOK,  # Change the filling mode here\n",
    "                }\n",
    "\n",
    "\n",
    "order = mt5.order_send(request)\n",
    "\n",
    "print('Order Placed: ', order)"
   ]
  },
  {
   "cell_type": "code",
   "execution_count": 8,
   "metadata": {},
   "outputs": [
    {
     "name": "stdout",
     "output_type": "stream",
     "text": [
      "0\n"
     ]
    }
   ],
   "source": [
    "# To get the open positions\n",
    "trades = mt5.positions_get(\n",
    "   symbol=\"EURUSD\"     \n",
    ")\n",
    "print(len(trades))"
   ]
  },
  {
   "cell_type": "code",
   "execution_count": null,
   "metadata": {},
   "outputs": [],
   "source": []
  }
 ],
 "metadata": {
  "kernelspec": {
   "display_name": "Python 3",
   "language": "python",
   "name": "python3"
  },
  "language_info": {
   "codemirror_mode": {
    "name": "ipython",
    "version": 3
   },
   "file_extension": ".py",
   "mimetype": "text/x-python",
   "name": "python",
   "nbconvert_exporter": "python",
   "pygments_lexer": "ipython3",
   "version": "3.8.1"
  }
 },
 "nbformat": 4,
 "nbformat_minor": 2
}
