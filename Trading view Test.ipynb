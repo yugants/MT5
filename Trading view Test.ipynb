{
 "cells": [
  {
   "cell_type": "code",
   "execution_count": 1,
   "id": "9faab7b1",
   "metadata": {},
   "outputs": [
    {
     "name": "stdout",
     "output_type": "stream",
     "text": [
      "Collecting tradingview_ta\n",
      "  Downloading tradingview_ta-3.3.0-py3-none-any.whl (10 kB)\n",
      "Requirement already satisfied: requests in c:\\users\\hp\\appdata\\local\\programs\\python\\python38\\lib\\site-packages (from tradingview_ta) (2.28.1)\n",
      "Requirement already satisfied: charset-normalizer<3,>=2 in c:\\users\\hp\\appdata\\local\\programs\\python\\python38\\lib\\site-packages (from requests->tradingview_ta) (2.1.1)\n",
      "Requirement already satisfied: idna<4,>=2.5 in c:\\users\\hp\\appdata\\local\\programs\\python\\python38\\lib\\site-packages (from requests->tradingview_ta) (3.4)\n",
      "Requirement already satisfied: urllib3<1.27,>=1.21.1 in c:\\users\\hp\\appdata\\local\\programs\\python\\python38\\lib\\site-packages (from requests->tradingview_ta) (1.26.13)\n",
      "Requirement already satisfied: certifi>=2017.4.17 in c:\\users\\hp\\appdata\\local\\programs\\python\\python38\\lib\\site-packages (from requests->tradingview_ta) (2022.12.7)\n",
      "Installing collected packages: tradingview_ta\n",
      "Successfully installed tradingview_ta-3.3.0\n"
     ]
    }
   ],
   "source": [
    "!pip install tradingview_ta"
   ]
  },
  {
   "cell_type": "code",
   "execution_count": 9,
   "id": "5e4b2a3e",
   "metadata": {},
   "outputs": [
    {
     "name": "stdout",
     "output_type": "stream",
     "text": [
      "{ 'ADX': 19.93122684,\n",
      "  'ADX+DI': 11.01579345,\n",
      "  'ADX+DI[1]': 12.3319161,\n",
      "  'ADX-DI': 20.13479363,\n",
      "  'ADX-DI[1]': 20.95911805,\n",
      "  'AO': -0.00069732,\n",
      "  'AO[1]': -0.00066232,\n",
      "  'AO[2]': -0.00062071,\n",
      "  'BB.lower': 1.07825554,\n",
      "  'BB.upper': 1.07978746,\n",
      "  'BBPower': -0.00091825,\n",
      "  'CCI20': -117.94019934,\n",
      "  'CCI20[1]': -156.77127509,\n",
      "  'EMA10': 1.07872527,\n",
      "  'EMA100': 1.0794944,\n",
      "  'EMA20': 1.07892826,\n",
      "  'EMA200': 1.08070478,\n",
      "  'EMA30': 1.07904617,\n",
      "  'EMA5': 1.07858143,\n",
      "  'EMA50': 1.07917027,\n",
      "  'HullMA9': 1.07835819,\n",
      "  'Ichimoku.BLine': 1.078925,\n",
      "  'MACD.macd': -0.00022995,\n",
      "  'MACD.signal': -0.00016656,\n",
      "  'Mom': -0.00055,\n",
      "  'Mom[1]': -0.00086,\n",
      "  'P.SAR': 1.07958067,\n",
      "  'Pivot.M.Camarilla.Middle': 1.07917667,\n",
      "  'Pivot.M.Camarilla.R1': 1.079791,\n",
      "  'Pivot.M.Camarilla.R2': 1.080132,\n",
      "  'Pivot.M.Camarilla.R3': 1.080473,\n",
      "  'Pivot.M.Camarilla.S1': 1.079109,\n",
      "  'Pivot.M.Camarilla.S2': 1.078768,\n",
      "  'Pivot.M.Camarilla.S3': 1.078427,\n",
      "  'Pivot.M.Classic.Middle': 1.07917667,\n",
      "  'Pivot.M.Classic.R1': 1.08117333,\n",
      "  'Pivot.M.Classic.R2': 1.08289667,\n",
      "  'Pivot.M.Classic.R3': 1.08661667,\n",
      "  'Pivot.M.Classic.S1': 1.07745333,\n",
      "  'Pivot.M.Classic.S2': 1.07545667,\n",
      "  'Pivot.M.Classic.S3': 1.07173667,\n",
      "  'Pivot.M.Demark.Middle': 1.0796075,\n",
      "  'Pivot.M.Demark.R1': 1.082035,\n",
      "  'Pivot.M.Demark.S1': 1.078315,\n",
      "  'Pivot.M.Fibonacci.Middle': 1.07917667,\n",
      "  'Pivot.M.Fibonacci.R1': 1.08059771,\n",
      "  'Pivot.M.Fibonacci.R2': 1.08147563,\n",
      "  'Pivot.M.Fibonacci.R3': 1.08289667,\n",
      "  'Pivot.M.Fibonacci.S1': 1.07775563,\n",
      "  'Pivot.M.Fibonacci.S2': 1.07687771,\n",
      "  'Pivot.M.Fibonacci.S3': 1.07545667,\n",
      "  'Pivot.M.Woodie.Middle': 1.079195,\n",
      "  'Pivot.M.Woodie.R1': 1.08121,\n",
      "  'Pivot.M.Woodie.R2': 1.082915,\n",
      "  'Pivot.M.Woodie.R3': 1.08493,\n",
      "  'Pivot.M.Woodie.S1': 1.07749,\n",
      "  'Pivot.M.Woodie.S2': 1.075475,\n",
      "  'Pivot.M.Woodie.S3': 1.07377,\n",
      "  'RSI': 44.55309492,\n",
      "  'RSI[1]': 34.75156385,\n",
      "  'Rec.BBPower': 0,\n",
      "  'Rec.HullMA9': 1,\n",
      "  'Rec.Ichimoku': 0,\n",
      "  'Rec.Stoch.RSI': 0,\n",
      "  'Rec.UO': 0,\n",
      "  'Rec.VWMA': -1,\n",
      "  'Rec.WR': 0,\n",
      "  'Recommend.All': -0.35454545,\n",
      "  'Recommend.MA': -0.8,\n",
      "  'Recommend.Other': 0.09090909,\n",
      "  'SMA10': 1.078801,\n",
      "  'SMA100': 1.0793133,\n",
      "  'SMA20': 1.0790215,\n",
      "  'SMA200': 1.0805027,\n",
      "  'SMA30': 1.07916333,\n",
      "  'SMA5': 1.078516,\n",
      "  'SMA50': 1.0792538,\n",
      "  'Stoch.D': 17.71716191,\n",
      "  'Stoch.D[1]': 13.35708082,\n",
      "  'Stoch.K': 23.72325206,\n",
      "  'Stoch.K[1]': 14.01877051,\n",
      "  'Stoch.RSI.K': 27.6377471,\n",
      "  'UO': 53.27666093,\n",
      "  'VWMA': 1.07894554,\n",
      "  'W.R': -63.24324324,\n",
      "  'change': 0.04637445,\n",
      "  'close': 1.07868,\n",
      "  'high': 1.07868,\n",
      "  'low': 1.078,\n",
      "  'open': 1.07819,\n",
      "  'volume': 7258}\n"
     ]
    }
   ],
   "source": [
    "from tradingview_ta import TA_Handler, Interval, Exchange\n",
    "\n",
    "from pprint import pprint\n",
    "\n",
    "tesla = TA_Handler(\n",
    "    symbol=\"EURUSD\",\n",
    "    screener=\"Forex\",\n",
    "    exchange=\"FX_IDC\",\n",
    "    interval=Interval.INTERVAL_15_MINUTES,\n",
    "    # proxies={'http': 'http://example.com:8080'} # Uncomment to enable proxy (replace the URL).\n",
    ")\n",
    "pprint(tesla.get_analysis().indicators, indent=2)"
   ]
  },
  {
   "cell_type": "code",
   "execution_count": null,
   "id": "3374e506",
   "metadata": {},
   "outputs": [],
   "source": []
  }
 ],
 "metadata": {
  "kernelspec": {
   "display_name": "Python 3 (ipykernel)",
   "language": "python",
   "name": "python3"
  },
  "language_info": {
   "codemirror_mode": {
    "name": "ipython",
    "version": 3
   },
   "file_extension": ".py",
   "mimetype": "text/x-python",
   "name": "python",
   "nbconvert_exporter": "python",
   "pygments_lexer": "ipython3",
   "version": "3.8.1"
  }
 },
 "nbformat": 4,
 "nbformat_minor": 5
}
